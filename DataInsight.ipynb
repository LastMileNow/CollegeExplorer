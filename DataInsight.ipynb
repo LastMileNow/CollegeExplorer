{
 "cells": [
  {
   "cell_type": "code",
   "execution_count": null,
   "id": "c4d0d822-68af-42d6-9388-330bc71c02b4",
   "metadata": {},
   "outputs": [],
   "source": [
    "!pip install itables"
   ]
  },
  {
   "cell_type": "code",
   "execution_count": null,
   "id": "f362a875-9dae-40d7-a7b5-720801657432",
   "metadata": {},
   "outputs": [],
   "source": [
    "from itables import init_notebook_mode\n",
    "init_notebook_mode(all_interactive=True)"
   ]
  },
  {
   "cell_type": "code",
   "execution_count": 2,
   "id": "3781294f-e1fd-4da7-b939-2e4b54108806",
   "metadata": {},
   "outputs": [],
   "source": [
    "import numpy as np\n",
    "import pandas as pd\n",
    "pd.set_option('display.max_colwidth', 200)"
   ]
  },
  {
   "cell_type": "code",
   "execution_count": 3,
   "id": "b1931e88-b2fa-4b9d-af94-f50063d0bb53",
   "metadata": {},
   "outputs": [],
   "source": [
    "def load_data():\n",
    "    try:\n",
    "        print(\"Load colleges from local\")\n",
    "        df = pd.read_csv(\"reportcard.csv\",index_col=0)\n",
    "    except FileNotFoundError:\n",
    "        print(\"Load colleges from github\")\n",
    "        df = pd.read_csv(\"https://raw.githubusercontent.com/LastMileNow/opendata/main/reportcard.csv\",index_col=0)\n",
    "    try:\n",
    "        print(\"Load majors from local\")\n",
    "        df_majors = pd.read_csv(\"reportcard_major.csv\",index_col=0)\n",
    "    except FileNotFoundError:\n",
    "        print(\"Load majors from github\")\n",
    "        df_majors = pd.read_csv(\"https://raw.githubusercontent.com/LastMileNow/opendata/main/reportcard_major.csv\",index_col=0)\n",
    "\n",
    "    majors = list(df_majors['cip.title'].unique())\n",
    "    titles = list(df_majors['cip.credential.title'].unique())\n",
    "    return df,df_majors,titles,majors"
   ]
  },
  {
   "cell_type": "code",
   "execution_count": 4,
   "id": "b2d3d9fe-ab00-4377-baaf-4f2dcce449e5",
   "metadata": {},
   "outputs": [
    {
     "name": "stdout",
     "output_type": "stream",
     "text": [
      "Load colleges from local\n"
     ]
    },
    {
     "name": "stderr",
     "output_type": "stream",
     "text": [
      "C:\\Users\\wengc\\AppData\\Local\\Temp\\ipykernel_19304\\1140780859.py:4: DtypeWarning: Columns (1544,1545,1546,1547,1548,1549,1996) have mixed types. Specify dtype option on import or set low_memory=False.\n",
      "  df = pd.read_csv(\"reportcard.csv\",index_col=0)\n"
     ]
    },
    {
     "name": "stdout",
     "output_type": "stream",
     "text": [
      "Load majors from local\n"
     ]
    }
   ],
   "source": [
    "df_college,df_majors,titles,majors = load_data()"
   ]
  },
  {
   "cell_type": "code",
   "execution_count": 7,
   "id": "495aedf5-81c8-40a7-8a36-ecada6dfe9c5",
   "metadata": {},
   "outputs": [
    {
     "name": "stdout",
     "output_type": "stream",
     "text": [
      "{'cip.code': 'CIP', 'cip.title': 'College'}\n"
     ]
    }
   ],
   "source": [
    "def csv_to_dict(file_path):\n",
    "    result_dict = {}\n",
    "    try:\n",
    "        df = pd.read_csv(file_path)\n",
    "        result_dict = dict(zip(df[\"code\"], df[\"display\"]))\n",
    "    except FileNotFoundError:\n",
    "        print(f\"File not found: {file_path}\")\n",
    "    \n",
    "    return result_dict\n",
    "    \n",
    "def rename_and_keep_columns(dataframe, column_mapping):\n",
    "    # Rename columns using the provided dictionary\n",
    "    dataframe.rename(columns=column_mapping, inplace=True)\n",
    "    \n",
    "    # Keep only the columns specified in the dictionary\n",
    "    columns_to_keep = list(column_mapping.values())\n",
    "    dataframe = dataframe[columns_to_keep]\n",
    "    \n",
    "    return dataframe\n",
    "\n",
    "# Example usage:\n",
    "file_path = 'show_col.csv'\n",
    "data_dict = csv_to_dict(file_path)\n",
    "print(data_dict)"
   ]
  },
  {
   "cell_type": "code",
   "execution_count": 8,
   "id": "1bbbd754-07df-4030-a3e9-709729559f6c",
   "metadata": {},
   "outputs": [
    {
     "data": {
      "text/html": [
       "<div>\n",
       "<style scoped>\n",
       "    .dataframe tbody tr th:only-of-type {\n",
       "        vertical-align: middle;\n",
       "    }\n",
       "\n",
       "    .dataframe tbody tr th {\n",
       "        vertical-align: top;\n",
       "    }\n",
       "\n",
       "    .dataframe thead th {\n",
       "        text-align: right;\n",
       "    }\n",
       "</style>\n",
       "<table border=\"1\" class=\"dataframe\">\n",
       "  <thead>\n",
       "    <tr style=\"text-align: right;\">\n",
       "      <th></th>\n",
       "      <th>CIP</th>\n",
       "      <th>College</th>\n",
       "    </tr>\n",
       "    <tr>\n",
       "      <th>cip.unit_id</th>\n",
       "      <th></th>\n",
       "      <th></th>\n",
       "    </tr>\n",
       "  </thead>\n",
       "  <tbody>\n",
       "    <tr>\n",
       "      <th>100654.0</th>\n",
       "      <td>1002</td>\n",
       "      <td>Audiovisual Communications Technologies/Technicians.</td>\n",
       "    </tr>\n",
       "    <tr>\n",
       "      <th>100654.0</th>\n",
       "      <td>1101</td>\n",
       "      <td>Computer and Information Sciences, General.</td>\n",
       "    </tr>\n",
       "    <tr>\n",
       "      <th>100654.0</th>\n",
       "      <td>1312</td>\n",
       "      <td>Teacher Education and Professional Development, Specific Levels and Methods.</td>\n",
       "    </tr>\n",
       "    <tr>\n",
       "      <th>100654.0</th>\n",
       "      <td>1313</td>\n",
       "      <td>Teacher Education and Professional Development, Specific Subject Areas.</td>\n",
       "    </tr>\n",
       "    <tr>\n",
       "      <th>100654.0</th>\n",
       "      <td>1410</td>\n",
       "      <td>Electrical, Electronics and Communications Engineering.</td>\n",
       "    </tr>\n",
       "    <tr>\n",
       "      <th>...</th>\n",
       "      <td>...</td>\n",
       "      <td>...</td>\n",
       "    </tr>\n",
       "    <tr>\n",
       "      <th>NaN</th>\n",
       "      <td>3105</td>\n",
       "      <td>Health and Physical Education/Fitness.</td>\n",
       "    </tr>\n",
       "    <tr>\n",
       "      <th>NaN</th>\n",
       "      <td>1204</td>\n",
       "      <td>Cosmetology and Related Personal Grooming Services.</td>\n",
       "    </tr>\n",
       "    <tr>\n",
       "      <th>NaN</th>\n",
       "      <td>1204</td>\n",
       "      <td>Cosmetology and Related Personal Grooming Services.</td>\n",
       "    </tr>\n",
       "    <tr>\n",
       "      <th>NaN</th>\n",
       "      <td>1204</td>\n",
       "      <td>Cosmetology and Related Personal Grooming Services.</td>\n",
       "    </tr>\n",
       "    <tr>\n",
       "      <th>NaN</th>\n",
       "      <td>5112</td>\n",
       "      <td>Medicine.</td>\n",
       "    </tr>\n",
       "  </tbody>\n",
       "</table>\n",
       "<p>47847 rows × 2 columns</p>\n",
       "</div>"
      ],
      "text/plain": [
       "              CIP  \\\n",
       "cip.unit_id         \n",
       "100654.0     1002   \n",
       "100654.0     1101   \n",
       "100654.0     1312   \n",
       "100654.0     1313   \n",
       "100654.0     1410   \n",
       "...           ...   \n",
       "NaN          3105   \n",
       "NaN          1204   \n",
       "NaN          1204   \n",
       "NaN          1204   \n",
       "NaN          5112   \n",
       "\n",
       "                                                                                  College  \n",
       "cip.unit_id                                                                                \n",
       "100654.0                             Audiovisual Communications Technologies/Technicians.  \n",
       "100654.0                                      Computer and Information Sciences, General.  \n",
       "100654.0     Teacher Education and Professional Development, Specific Levels and Methods.  \n",
       "100654.0          Teacher Education and Professional Development, Specific Subject Areas.  \n",
       "100654.0                          Electrical, Electronics and Communications Engineering.  \n",
       "...                                                                                   ...  \n",
       "NaN                                                Health and Physical Education/Fitness.  \n",
       "NaN                                   Cosmetology and Related Personal Grooming Services.  \n",
       "NaN                                   Cosmetology and Related Personal Grooming Services.  \n",
       "NaN                                   Cosmetology and Related Personal Grooming Services.  \n",
       "NaN                                                                             Medicine.  \n",
       "\n",
       "[47847 rows x 2 columns]"
      ]
     },
     "execution_count": 8,
     "metadata": {},
     "output_type": "execute_result"
    }
   ],
   "source": [
    "rename_and_keep_columns(df_majors, data_dict)"
   ]
  },
  {
   "cell_type": "code",
   "execution_count": 5,
   "id": "10d1c139-0747-41cc-9db0-db4572b3f61b",
   "metadata": {},
   "outputs": [
    {
     "data": {
      "text/html": [
       "<div>\n",
       "<style scoped>\n",
       "    .dataframe tbody tr th:only-of-type {\n",
       "        vertical-align: middle;\n",
       "    }\n",
       "\n",
       "    .dataframe tbody tr th {\n",
       "        vertical-align: top;\n",
       "    }\n",
       "\n",
       "    .dataframe thead th {\n",
       "        text-align: right;\n",
       "    }\n",
       "</style>\n",
       "<table border=\"1\" class=\"dataframe\">\n",
       "  <thead>\n",
       "    <tr style=\"text-align: right;\">\n",
       "      <th></th>\n",
       "      <th>cip.code</th>\n",
       "      <th>cip.title</th>\n",
       "      <th>cip.credential.level</th>\n",
       "      <th>cip.credential.title</th>\n",
       "      <th>cip.counts.ipeds_awards1</th>\n",
       "      <th>cip.counts.ipeds_awards2</th>\n",
       "      <th>cip.debt.staff_grad_plus.all.all_inst.count</th>\n",
       "      <th>cip.debt.staff_grad_plus.all.all_inst.average</th>\n",
       "      <th>cip.debt.staff_grad_plus.all.all_inst.median</th>\n",
       "      <th>cip.debt.staff_grad_plus.all.eval_inst.count</th>\n",
       "      <th>...</th>\n",
       "      <th>cip.earnings.highest.3_yr.working_not_enrolled.overall_count</th>\n",
       "      <th>cip.earnings.highest.3_yr.overall_count_over_poverty_line</th>\n",
       "      <th>cip.earnings.highest.3_yr.not_enrolled.pell_count</th>\n",
       "      <th>cip.earnings.highest.3_yr.pell_median_earnings</th>\n",
       "      <th>cip.earnings.highest.3_yr.not_enrolled.nonpell_count</th>\n",
       "      <th>cip.earnings.highest.3_yr.nonpell_median_earnings</th>\n",
       "      <th>cip.earnings.highest.3_yr.not_enrolled.male_count</th>\n",
       "      <th>cip.earnings.highest.3_yr.male_median_earnings</th>\n",
       "      <th>cip.earnings.highest.3_yr.not_enrolled.nonmale_count</th>\n",
       "      <th>cip.earnings.highest.3_yr.nonmale_median_earnings</th>\n",
       "    </tr>\n",
       "    <tr>\n",
       "      <th>cip.unit_id</th>\n",
       "      <th></th>\n",
       "      <th></th>\n",
       "      <th></th>\n",
       "      <th></th>\n",
       "      <th></th>\n",
       "      <th></th>\n",
       "      <th></th>\n",
       "      <th></th>\n",
       "      <th></th>\n",
       "      <th></th>\n",
       "      <th></th>\n",
       "      <th></th>\n",
       "      <th></th>\n",
       "      <th></th>\n",
       "      <th></th>\n",
       "      <th></th>\n",
       "      <th></th>\n",
       "      <th></th>\n",
       "      <th></th>\n",
       "      <th></th>\n",
       "      <th></th>\n",
       "    </tr>\n",
       "  </thead>\n",
       "  <tbody>\n",
       "    <tr>\n",
       "      <th>100654.0</th>\n",
       "      <td>1002</td>\n",
       "      <td>Audiovisual Communications Technologies/Technicians.</td>\n",
       "      <td>3</td>\n",
       "      <td>Bachelor’s Degree</td>\n",
       "      <td>20</td>\n",
       "      <td>35</td>\n",
       "      <td>42</td>\n",
       "      <td>NaN</td>\n",
       "      <td>43213.0</td>\n",
       "      <td>42</td>\n",
       "      <td>...</td>\n",
       "      <td>0</td>\n",
       "      <td>0</td>\n",
       "      <td>0</td>\n",
       "      <td>NaN</td>\n",
       "      <td>0</td>\n",
       "      <td>NaN</td>\n",
       "      <td>0</td>\n",
       "      <td>NaN</td>\n",
       "      <td>0</td>\n",
       "      <td>NaN</td>\n",
       "    </tr>\n",
       "    <tr>\n",
       "      <th>100654.0</th>\n",
       "      <td>1101</td>\n",
       "      <td>Computer and Information Sciences, General.</td>\n",
       "      <td>3</td>\n",
       "      <td>Bachelor’s Degree</td>\n",
       "      <td>30</td>\n",
       "      <td>31</td>\n",
       "      <td>48</td>\n",
       "      <td>NaN</td>\n",
       "      <td>31000.0</td>\n",
       "      <td>48</td>\n",
       "      <td>...</td>\n",
       "      <td>29</td>\n",
       "      <td>27</td>\n",
       "      <td>0</td>\n",
       "      <td>NaN</td>\n",
       "      <td>0</td>\n",
       "      <td>NaN</td>\n",
       "      <td>17</td>\n",
       "      <td>76558.0</td>\n",
       "      <td>0</td>\n",
       "      <td>NaN</td>\n",
       "    </tr>\n",
       "    <tr>\n",
       "      <th>100654.0</th>\n",
       "      <td>1312</td>\n",
       "      <td>Teacher Education and Professional Development, Specific Levels and Methods.</td>\n",
       "      <td>5</td>\n",
       "      <td>Master's Degree</td>\n",
       "      <td>24</td>\n",
       "      <td>19</td>\n",
       "      <td>0</td>\n",
       "      <td>NaN</td>\n",
       "      <td>NaN</td>\n",
       "      <td>28</td>\n",
       "      <td>...</td>\n",
       "      <td>17</td>\n",
       "      <td>17</td>\n",
       "      <td>0</td>\n",
       "      <td>NaN</td>\n",
       "      <td>0</td>\n",
       "      <td>NaN</td>\n",
       "      <td>0</td>\n",
       "      <td>NaN</td>\n",
       "      <td>0</td>\n",
       "      <td>NaN</td>\n",
       "    </tr>\n",
       "    <tr>\n",
       "      <th>100654.0</th>\n",
       "      <td>1313</td>\n",
       "      <td>Teacher Education and Professional Development, Specific Subject Areas.</td>\n",
       "      <td>3</td>\n",
       "      <td>Bachelor’s Degree</td>\n",
       "      <td>18</td>\n",
       "      <td>2</td>\n",
       "      <td>0</td>\n",
       "      <td>NaN</td>\n",
       "      <td>NaN</td>\n",
       "      <td>0</td>\n",
       "      <td>...</td>\n",
       "      <td>28</td>\n",
       "      <td>24</td>\n",
       "      <td>24</td>\n",
       "      <td>32231.0</td>\n",
       "      <td>0</td>\n",
       "      <td>NaN</td>\n",
       "      <td>24</td>\n",
       "      <td>36210.0</td>\n",
       "      <td>0</td>\n",
       "      <td>NaN</td>\n",
       "    </tr>\n",
       "    <tr>\n",
       "      <th>100654.0</th>\n",
       "      <td>1410</td>\n",
       "      <td>Electrical, Electronics and Communications Engineering.</td>\n",
       "      <td>3</td>\n",
       "      <td>Bachelor’s Degree</td>\n",
       "      <td>28</td>\n",
       "      <td>34</td>\n",
       "      <td>51</td>\n",
       "      <td>NaN</td>\n",
       "      <td>31000.0</td>\n",
       "      <td>51</td>\n",
       "      <td>...</td>\n",
       "      <td>26</td>\n",
       "      <td>26</td>\n",
       "      <td>31</td>\n",
       "      <td>70764.0</td>\n",
       "      <td>0</td>\n",
       "      <td>NaN</td>\n",
       "      <td>27</td>\n",
       "      <td>69927.0</td>\n",
       "      <td>0</td>\n",
       "      <td>NaN</td>\n",
       "    </tr>\n",
       "    <tr>\n",
       "      <th>...</th>\n",
       "      <td>...</td>\n",
       "      <td>...</td>\n",
       "      <td>...</td>\n",
       "      <td>...</td>\n",
       "      <td>...</td>\n",
       "      <td>...</td>\n",
       "      <td>...</td>\n",
       "      <td>...</td>\n",
       "      <td>...</td>\n",
       "      <td>...</td>\n",
       "      <td>...</td>\n",
       "      <td>...</td>\n",
       "      <td>...</td>\n",
       "      <td>...</td>\n",
       "      <td>...</td>\n",
       "      <td>...</td>\n",
       "      <td>...</td>\n",
       "      <td>...</td>\n",
       "      <td>...</td>\n",
       "      <td>...</td>\n",
       "      <td>...</td>\n",
       "    </tr>\n",
       "    <tr>\n",
       "      <th>NaN</th>\n",
       "      <td>3105</td>\n",
       "      <td>Health and Physical Education/Fitness.</td>\n",
       "      <td>1</td>\n",
       "      <td>Undergraduate Certificate or Diploma</td>\n",
       "      <td>0</td>\n",
       "      <td>0</td>\n",
       "      <td>0</td>\n",
       "      <td>10815.0</td>\n",
       "      <td>5448.0</td>\n",
       "      <td>0</td>\n",
       "      <td>...</td>\n",
       "      <td>151</td>\n",
       "      <td>113</td>\n",
       "      <td>81</td>\n",
       "      <td>30863.0</td>\n",
       "      <td>94</td>\n",
       "      <td>34791.0</td>\n",
       "      <td>110</td>\n",
       "      <td>34848.0</td>\n",
       "      <td>66</td>\n",
       "      <td>29980.0</td>\n",
       "    </tr>\n",
       "    <tr>\n",
       "      <th>NaN</th>\n",
       "      <td>1204</td>\n",
       "      <td>Cosmetology and Related Personal Grooming Services.</td>\n",
       "      <td>1</td>\n",
       "      <td>Undergraduate Certificate or Diploma</td>\n",
       "      <td>0</td>\n",
       "      <td>0</td>\n",
       "      <td>0</td>\n",
       "      <td>NaN</td>\n",
       "      <td>NaN</td>\n",
       "      <td>0</td>\n",
       "      <td>...</td>\n",
       "      <td>63</td>\n",
       "      <td>39</td>\n",
       "      <td>58</td>\n",
       "      <td>20406.0</td>\n",
       "      <td>17</td>\n",
       "      <td>13962.0</td>\n",
       "      <td>0</td>\n",
       "      <td>NaN</td>\n",
       "      <td>74</td>\n",
       "      <td>18779.0</td>\n",
       "    </tr>\n",
       "    <tr>\n",
       "      <th>NaN</th>\n",
       "      <td>1204</td>\n",
       "      <td>Cosmetology and Related Personal Grooming Services.</td>\n",
       "      <td>1</td>\n",
       "      <td>Undergraduate Certificate or Diploma</td>\n",
       "      <td>0</td>\n",
       "      <td>0</td>\n",
       "      <td>0</td>\n",
       "      <td>NaN</td>\n",
       "      <td>NaN</td>\n",
       "      <td>0</td>\n",
       "      <td>...</td>\n",
       "      <td>91</td>\n",
       "      <td>50</td>\n",
       "      <td>78</td>\n",
       "      <td>17748.0</td>\n",
       "      <td>29</td>\n",
       "      <td>17238.0</td>\n",
       "      <td>0</td>\n",
       "      <td>NaN</td>\n",
       "      <td>102</td>\n",
       "      <td>17808.0</td>\n",
       "    </tr>\n",
       "    <tr>\n",
       "      <th>NaN</th>\n",
       "      <td>1204</td>\n",
       "      <td>Cosmetology and Related Personal Grooming Services.</td>\n",
       "      <td>1</td>\n",
       "      <td>Undergraduate Certificate or Diploma</td>\n",
       "      <td>0</td>\n",
       "      <td>0</td>\n",
       "      <td>0</td>\n",
       "      <td>NaN</td>\n",
       "      <td>NaN</td>\n",
       "      <td>0</td>\n",
       "      <td>...</td>\n",
       "      <td>59</td>\n",
       "      <td>38</td>\n",
       "      <td>30</td>\n",
       "      <td>24526.0</td>\n",
       "      <td>41</td>\n",
       "      <td>23985.0</td>\n",
       "      <td>0</td>\n",
       "      <td>NaN</td>\n",
       "      <td>67</td>\n",
       "      <td>22515.0</td>\n",
       "    </tr>\n",
       "    <tr>\n",
       "      <th>NaN</th>\n",
       "      <td>5112</td>\n",
       "      <td>Medicine.</td>\n",
       "      <td>7</td>\n",
       "      <td>First Professional Degree</td>\n",
       "      <td>0</td>\n",
       "      <td>0</td>\n",
       "      <td>0</td>\n",
       "      <td>NaN</td>\n",
       "      <td>NaN</td>\n",
       "      <td>0</td>\n",
       "      <td>...</td>\n",
       "      <td>0</td>\n",
       "      <td>0</td>\n",
       "      <td>0</td>\n",
       "      <td>NaN</td>\n",
       "      <td>0</td>\n",
       "      <td>NaN</td>\n",
       "      <td>0</td>\n",
       "      <td>NaN</td>\n",
       "      <td>0</td>\n",
       "      <td>NaN</td>\n",
       "    </tr>\n",
       "  </tbody>\n",
       "</table>\n",
       "<p>47847 rows × 116 columns</p>\n",
       "</div>"
      ],
      "text/plain": [
       "             cip.code  \\\n",
       "cip.unit_id             \n",
       "100654.0         1002   \n",
       "100654.0         1101   \n",
       "100654.0         1312   \n",
       "100654.0         1313   \n",
       "100654.0         1410   \n",
       "...               ...   \n",
       "NaN              3105   \n",
       "NaN              1204   \n",
       "NaN              1204   \n",
       "NaN              1204   \n",
       "NaN              5112   \n",
       "\n",
       "                                                                                cip.title  \\\n",
       "cip.unit_id                                                                                 \n",
       "100654.0                             Audiovisual Communications Technologies/Technicians.   \n",
       "100654.0                                      Computer and Information Sciences, General.   \n",
       "100654.0     Teacher Education and Professional Development, Specific Levels and Methods.   \n",
       "100654.0          Teacher Education and Professional Development, Specific Subject Areas.   \n",
       "100654.0                          Electrical, Electronics and Communications Engineering.   \n",
       "...                                                                                   ...   \n",
       "NaN                                                Health and Physical Education/Fitness.   \n",
       "NaN                                   Cosmetology and Related Personal Grooming Services.   \n",
       "NaN                                   Cosmetology and Related Personal Grooming Services.   \n",
       "NaN                                   Cosmetology and Related Personal Grooming Services.   \n",
       "NaN                                                                             Medicine.   \n",
       "\n",
       "             cip.credential.level                  cip.credential.title  \\\n",
       "cip.unit_id                                                               \n",
       "100654.0                        3                     Bachelor’s Degree   \n",
       "100654.0                        3                     Bachelor’s Degree   \n",
       "100654.0                        5                       Master's Degree   \n",
       "100654.0                        3                     Bachelor’s Degree   \n",
       "100654.0                        3                     Bachelor’s Degree   \n",
       "...                           ...                                   ...   \n",
       "NaN                             1  Undergraduate Certificate or Diploma   \n",
       "NaN                             1  Undergraduate Certificate or Diploma   \n",
       "NaN                             1  Undergraduate Certificate or Diploma   \n",
       "NaN                             1  Undergraduate Certificate or Diploma   \n",
       "NaN                             7             First Professional Degree   \n",
       "\n",
       "             cip.counts.ipeds_awards1  cip.counts.ipeds_awards2  \\\n",
       "cip.unit_id                                                       \n",
       "100654.0                           20                        35   \n",
       "100654.0                           30                        31   \n",
       "100654.0                           24                        19   \n",
       "100654.0                           18                         2   \n",
       "100654.0                           28                        34   \n",
       "...                               ...                       ...   \n",
       "NaN                                 0                         0   \n",
       "NaN                                 0                         0   \n",
       "NaN                                 0                         0   \n",
       "NaN                                 0                         0   \n",
       "NaN                                 0                         0   \n",
       "\n",
       "             cip.debt.staff_grad_plus.all.all_inst.count  \\\n",
       "cip.unit_id                                                \n",
       "100654.0                                              42   \n",
       "100654.0                                              48   \n",
       "100654.0                                               0   \n",
       "100654.0                                               0   \n",
       "100654.0                                              51   \n",
       "...                                                  ...   \n",
       "NaN                                                    0   \n",
       "NaN                                                    0   \n",
       "NaN                                                    0   \n",
       "NaN                                                    0   \n",
       "NaN                                                    0   \n",
       "\n",
       "             cip.debt.staff_grad_plus.all.all_inst.average  \\\n",
       "cip.unit_id                                                  \n",
       "100654.0                                               NaN   \n",
       "100654.0                                               NaN   \n",
       "100654.0                                               NaN   \n",
       "100654.0                                               NaN   \n",
       "100654.0                                               NaN   \n",
       "...                                                    ...   \n",
       "NaN                                                10815.0   \n",
       "NaN                                                    NaN   \n",
       "NaN                                                    NaN   \n",
       "NaN                                                    NaN   \n",
       "NaN                                                    NaN   \n",
       "\n",
       "             cip.debt.staff_grad_plus.all.all_inst.median  \\\n",
       "cip.unit_id                                                 \n",
       "100654.0                                          43213.0   \n",
       "100654.0                                          31000.0   \n",
       "100654.0                                              NaN   \n",
       "100654.0                                              NaN   \n",
       "100654.0                                          31000.0   \n",
       "...                                                   ...   \n",
       "NaN                                                5448.0   \n",
       "NaN                                                   NaN   \n",
       "NaN                                                   NaN   \n",
       "NaN                                                   NaN   \n",
       "NaN                                                   NaN   \n",
       "\n",
       "             cip.debt.staff_grad_plus.all.eval_inst.count  ...  \\\n",
       "cip.unit_id                                                ...   \n",
       "100654.0                                               42  ...   \n",
       "100654.0                                               48  ...   \n",
       "100654.0                                               28  ...   \n",
       "100654.0                                                0  ...   \n",
       "100654.0                                               51  ...   \n",
       "...                                                   ...  ...   \n",
       "NaN                                                     0  ...   \n",
       "NaN                                                     0  ...   \n",
       "NaN                                                     0  ...   \n",
       "NaN                                                     0  ...   \n",
       "NaN                                                     0  ...   \n",
       "\n",
       "             cip.earnings.highest.3_yr.working_not_enrolled.overall_count  \\\n",
       "cip.unit_id                                                                 \n",
       "100654.0                                                                0   \n",
       "100654.0                                                               29   \n",
       "100654.0                                                               17   \n",
       "100654.0                                                               28   \n",
       "100654.0                                                               26   \n",
       "...                                                                   ...   \n",
       "NaN                                                                   151   \n",
       "NaN                                                                    63   \n",
       "NaN                                                                    91   \n",
       "NaN                                                                    59   \n",
       "NaN                                                                     0   \n",
       "\n",
       "             cip.earnings.highest.3_yr.overall_count_over_poverty_line  \\\n",
       "cip.unit_id                                                              \n",
       "100654.0                                                             0   \n",
       "100654.0                                                            27   \n",
       "100654.0                                                            17   \n",
       "100654.0                                                            24   \n",
       "100654.0                                                            26   \n",
       "...                                                                ...   \n",
       "NaN                                                                113   \n",
       "NaN                                                                 39   \n",
       "NaN                                                                 50   \n",
       "NaN                                                                 38   \n",
       "NaN                                                                  0   \n",
       "\n",
       "             cip.earnings.highest.3_yr.not_enrolled.pell_count  \\\n",
       "cip.unit_id                                                      \n",
       "100654.0                                                     0   \n",
       "100654.0                                                     0   \n",
       "100654.0                                                     0   \n",
       "100654.0                                                    24   \n",
       "100654.0                                                    31   \n",
       "...                                                        ...   \n",
       "NaN                                                         81   \n",
       "NaN                                                         58   \n",
       "NaN                                                         78   \n",
       "NaN                                                         30   \n",
       "NaN                                                          0   \n",
       "\n",
       "             cip.earnings.highest.3_yr.pell_median_earnings  \\\n",
       "cip.unit_id                                                   \n",
       "100654.0                                                NaN   \n",
       "100654.0                                                NaN   \n",
       "100654.0                                                NaN   \n",
       "100654.0                                            32231.0   \n",
       "100654.0                                            70764.0   \n",
       "...                                                     ...   \n",
       "NaN                                                 30863.0   \n",
       "NaN                                                 20406.0   \n",
       "NaN                                                 17748.0   \n",
       "NaN                                                 24526.0   \n",
       "NaN                                                     NaN   \n",
       "\n",
       "             cip.earnings.highest.3_yr.not_enrolled.nonpell_count  \\\n",
       "cip.unit_id                                                         \n",
       "100654.0                                                        0   \n",
       "100654.0                                                        0   \n",
       "100654.0                                                        0   \n",
       "100654.0                                                        0   \n",
       "100654.0                                                        0   \n",
       "...                                                           ...   \n",
       "NaN                                                            94   \n",
       "NaN                                                            17   \n",
       "NaN                                                            29   \n",
       "NaN                                                            41   \n",
       "NaN                                                             0   \n",
       "\n",
       "             cip.earnings.highest.3_yr.nonpell_median_earnings  \\\n",
       "cip.unit_id                                                      \n",
       "100654.0                                                   NaN   \n",
       "100654.0                                                   NaN   \n",
       "100654.0                                                   NaN   \n",
       "100654.0                                                   NaN   \n",
       "100654.0                                                   NaN   \n",
       "...                                                        ...   \n",
       "NaN                                                    34791.0   \n",
       "NaN                                                    13962.0   \n",
       "NaN                                                    17238.0   \n",
       "NaN                                                    23985.0   \n",
       "NaN                                                        NaN   \n",
       "\n",
       "             cip.earnings.highest.3_yr.not_enrolled.male_count  \\\n",
       "cip.unit_id                                                      \n",
       "100654.0                                                     0   \n",
       "100654.0                                                    17   \n",
       "100654.0                                                     0   \n",
       "100654.0                                                    24   \n",
       "100654.0                                                    27   \n",
       "...                                                        ...   \n",
       "NaN                                                        110   \n",
       "NaN                                                          0   \n",
       "NaN                                                          0   \n",
       "NaN                                                          0   \n",
       "NaN                                                          0   \n",
       "\n",
       "             cip.earnings.highest.3_yr.male_median_earnings  \\\n",
       "cip.unit_id                                                   \n",
       "100654.0                                                NaN   \n",
       "100654.0                                            76558.0   \n",
       "100654.0                                                NaN   \n",
       "100654.0                                            36210.0   \n",
       "100654.0                                            69927.0   \n",
       "...                                                     ...   \n",
       "NaN                                                 34848.0   \n",
       "NaN                                                     NaN   \n",
       "NaN                                                     NaN   \n",
       "NaN                                                     NaN   \n",
       "NaN                                                     NaN   \n",
       "\n",
       "             cip.earnings.highest.3_yr.not_enrolled.nonmale_count  \\\n",
       "cip.unit_id                                                         \n",
       "100654.0                                                        0   \n",
       "100654.0                                                        0   \n",
       "100654.0                                                        0   \n",
       "100654.0                                                        0   \n",
       "100654.0                                                        0   \n",
       "...                                                           ...   \n",
       "NaN                                                            66   \n",
       "NaN                                                            74   \n",
       "NaN                                                           102   \n",
       "NaN                                                            67   \n",
       "NaN                                                             0   \n",
       "\n",
       "             cip.earnings.highest.3_yr.nonmale_median_earnings  \n",
       "cip.unit_id                                                     \n",
       "100654.0                                                   NaN  \n",
       "100654.0                                                   NaN  \n",
       "100654.0                                                   NaN  \n",
       "100654.0                                                   NaN  \n",
       "100654.0                                                   NaN  \n",
       "...                                                        ...  \n",
       "NaN                                                    29980.0  \n",
       "NaN                                                    18779.0  \n",
       "NaN                                                    17808.0  \n",
       "NaN                                                    22515.0  \n",
       "NaN                                                        NaN  \n",
       "\n",
       "[47847 rows x 116 columns]"
      ]
     },
     "execution_count": 5,
     "metadata": {},
     "output_type": "execute_result"
    }
   ],
   "source": [
    "df_majors"
   ]
  },
  {
   "cell_type": "code",
   "execution_count": 7,
   "id": "d9249f36-a4fd-4495-b5b2-6c4b2e9e6818",
   "metadata": {},
   "outputs": [],
   "source": [
    "df = df_college.merge(df_majors[(df_majors['cip.title'].isin(['Computer Science.'])) & (df_majors['cip.credential.title']=='Bachelor’s Degree')], left_on='id', right_on='cip.unit_id')"
   ]
  },
  {
   "cell_type": "code",
   "execution_count": 9,
   "id": "f67a8493-8832-4926-b4d9-590cda610ffc",
   "metadata": {},
   "outputs": [
    {
     "data": {
      "text/html": [
       "<style>.itables table td {\n",
       "    text-overflow: ellipsis;\n",
       "    overflow: hidden;\n",
       "}\n",
       "\n",
       ".itables table th {\n",
       "    text-overflow: ellipsis;\n",
       "    overflow: hidden;\n",
       "}\n",
       "\n",
       ".itables thead input {\n",
       "    width: 100%;\n",
       "    padding: 3px;\n",
       "    box-sizing: border-box;\n",
       "}\n",
       "\n",
       ".itables tfoot input {\n",
       "    width: 100%;\n",
       "    padding: 3px;\n",
       "    box-sizing: border-box;\n",
       "}\n",
       "</style>\n",
       "<div class=\"itables\">\n",
       "<table id=\"5a1d043d-018e-443a-a9c6-78e5f3374a43\" class=\"display nowrap\"style=\"table-layout:auto;width:auto;margin:auto;caption-side:bottom\"><thead>\n",
       "    <tr style=\"text-align: right;\">\n",
       "      <th></th>\n",
       "      <th>cip.counts.ipeds_awards1</th>\n",
       "      <th>size</th>\n",
       "    </tr>\n",
       "  </thead><tbody><tr><td>Loading... (need <a href=https://mwouts.github.io/itables/troubleshooting.html>help</a>?)</td></tr></tbody></table>\n",
       "<script>\n",
       "    // We use a namespace per table (= the next curly bracket)\n",
       "    // to avoid conflicts between the various tables' data & dt_args\n",
       "    {\n",
       "        // Define the table data\n",
       "        const data = [[0, 26, 8787], [1, 324, 62633], [2, 211, 34659], [3, 48, 24880], [4, 33, 3492], [5, 21, 3683], [6, 17, 2800], [7, 169, 21451], [8, 62, 9855], [9, 69, 17037], [10, 207, 27862], [11, 50, 15689], [12, 33, 16013], [13, 49, 22334], [14, 195, 36874], [15, 122, 13041], [16, 180, 34188], [17, 101, 22820], [18, 141, 34881], [19, 156, 29228], [20, 606, 30796], [21, 526, 29627], [22, 133, 22609], [23, 542, 31827], [24, 138, 23166], [25, 475, 17207], [26, 32, 7231], [27, 45, 827], [28, 34, 5991], [29, 33, 7864], [30, 33, 3493], [31, 141, 31293], [32, 157, 23411], [33, 35, 5810], [34, 206, 27614], [35, 56, 7231], [36, 202, 19521], [37, 52, 9839], [38, 274, 29779], [39, 83, 5173], [40, 44, 5683], [41, 63, 17255], [42, 71, 3071], [43, 73, 18658], [44, 40, 11106], [45, 36, 7119], [46, 35, 3188], [47, 42, 11221], [48, 64, 6978], [49, 22, 5549], [50, 214, 28085], [51, 189, 29705], [52, 48, 12864], [53, 28, 2652], [54, 98, 16973], [55, 32, 6837], [56, 19, 43660], [57, 18, 2374], [58, 25, 4570], [59, 78, 7010], [60, 26, 3000], [61, 162, 21702], [62, 345, 33001], [63, 57, 2974], [64, 41, 17955], [65, 88, 4099], [66, 17, 2453], [67, 133, 12247], [68, 86, 8401], [69, 85, 5170], [70, 30, 2978], [71, 15, 2155], [72, 131, 2580], [73, 43, 8115], [74, 54, 9892], [75, 36, 1731], [76, 44, 6304], [77, 77, 20441], [78, 32, 6680], [79, 25, 4260], [80, 133, 32621], [81, 19, 3293], [82, 70, 1969], [83, 14, 1755], [84, 47, 1490], [85, 94, 26566], [86, 21, 1794], [87, 38, 8204], [88, 20, 6981], [89, 94, 25203], [90, 30, 2290], [91, 39, 7923], [92, 21, 5825], [93, 48, 5985], [94, 45, 11084], [95, 56, 12972], [96, 182, 10838], [97, 0, 30214], [98, 127, 18629], [99, 70, 9681], [100, 170, 16359], [101, 103, 3481], [102, 30, 8760], [103, 23, 2205], [104, 238, 6099], [105, 111, 13364], [106, 227, 23884], [107, 375, 4360], [108, 32, 2183], [109, 156, 6053], [110, 73, 4143], [111, 32, 2551], [112, 47, 1917], [113, 149, 4804], [114, 20, 5009], [115, 26, 3096], [116, 53, 12909], [117, 6, 900], [118, 25, 4508], [119, 26, 1639], [120, 18, 1879], [121, 51, 5574], [122, 27, 4725], [123, 41, 15706], [124, 24, 2487], [125, 58, 1918], [126, 76, 6155], [127, 349, 30907], [128, 60, 8351], [129, 22, 1243], [130, 24, 7210], [131, 16, 1564], [132, 22, 2928], [133, 31, 6276], [134, 52, 6249], [135, 54, 6877], [136, 50, 7077], [137, 66, 6387], [138, 29, 7304], [139, 53, 15343], [140, 148, 7366], [141, 42, 2535], [142, 60, 14132], [143, 66, 12535], [144, 96, 25477], [145, 96, 4146], [146, 16, 3693], [147, 77, 3787], [148, 31, 2867], [149, 255, 8148], [150, 353, 14741], [151, 83, 11345], [152, 49, 11967], [153, 112, 16921], [154, 68, 12087], [155, 118, 15735], [156, 49, 6283], [157, 26, 6065], [158, 12, 4934], [159, 64, 5210], [160, 30, 7710], [161, 208, 6265], [162, 128, 12489], [163, 92, 6299], [164, 93, 14300], [165, 176, 22059], [166, 63, 17990], [167, 252, 6650], [168, 47, 21766], [169, 26, 5061], [170, 41, 10798], [171, 25, 3206], [172, 233, 19261], [173, 381, 23852], [174, 60, 15696], [175, 200, 24671], [176, 66, 14326], [177, 15, 6347], [178, 52, 5438], [179, 14, 10387], [180, 75, 10311], [181, 81, 5360], [182, 14, 3566], [183, 20, 3738], [184, 15, 2737], [185, 84, 20694], [186, 38, 18752], [187, 13, 5250], [188, 17, 9112], [189, 43, 5646], [190, 56, 21087], [191, 537, 26048], [192, 112, 16596], [193, 44, 3536], [194, 16, 7346], [195, 207, 6539], [196, 82, 14492], [197, 98, 5191], [198, 29, 2353], [199, 162, 19154], [200, 17, 3686], [201, 184, 6632], [202, 21, 5892], [203, 32, 15444], [204, 69, 18005], [205, 21, 1801], [206, 41, 10256], [207, 83, 24146], [208, 17, 5151], [209, 48, 5707], [210, 68, 8564], [211, 101, 7052], [212, 48, 14329], [213, 31, 6559], [214, 37, 26754], [215, 46, 6793], [216, 191, 33193], [217, 195, 54942], [218, 99, 34726], [219, 13, 7326], [220, 140, 33376], [221, 59, 28120], [222, 148, 23645], [223, 31, 3389], [224, 70, 10585], [225, 81, 6217], [226, 56, 4745], [227, 18, 26514], [228, 53, 7267], [229, 22, 1698], [230, 40, 10264], [231, 37, 4836], [232, 28, 1896], [233, 52, 4230], [234, 134, 25084], [235, 289, 31145], [236, 30, 2359], [237, 40, 19669], [238, 16, 2744], [239, 27, 6657], [240, 0, 3612], [241, 48, 18910], [242, 32, 9140], [243, 24, 3359], [244, 320, 6366], [245, 312, 35517], [246, 125, 15016], [247, 150, 5618], [248, 131, 6456], [249, 43, 6938], [250, 216, 36284]];\n",
       "        // Display the table\n",
       "        $(document).ready(function () {\n",
       "            window.initializeDataTable().then(() => {\n",
       "\n",
       "                // Define the dt_args\n",
       "                let dt_args = {\"order\": []};\n",
       "                dt_args[\"data\"] = data;\n",
       "\n",
       "                \n",
       "                $('#5a1d043d-018e-443a-a9c6-78e5f3374a43').DataTable(dt_args);\n",
       "            });\n",
       "        })\n",
       "    }\n",
       "</script>\n",
       "</div>\n"
      ],
      "text/plain": [
       "     cip.counts.ipeds_awards1   size\n",
       "0                          26   8787\n",
       "1                         324  62633\n",
       "2                         211  34659\n",
       "3                          48  24880\n",
       "4                          33   3492\n",
       "..                        ...    ...\n",
       "246                       125  15016\n",
       "247                       150   5618\n",
       "248                       131   6456\n",
       "249                        43   6938\n",
       "250                       216  36284\n",
       "\n",
       "[251 rows x 2 columns]"
      ]
     },
     "execution_count": 9,
     "metadata": {},
     "output_type": "execute_result"
    }
   ],
   "source": [
    "df[['cip.counts.ipeds_awards1','size']]"
   ]
  },
  {
   "cell_type": "code",
   "execution_count": 54,
   "id": "bc0e3944-7df5-49f0-b8f5-511d9c558fce",
   "metadata": {},
   "outputs": [
    {
     "data": {
      "text/html": [
       "<style>.itables table td {\n",
       "    text-overflow: ellipsis;\n",
       "    overflow: hidden;\n",
       "}\n",
       "\n",
       ".itables table th {\n",
       "    text-overflow: ellipsis;\n",
       "    overflow: hidden;\n",
       "}\n",
       "\n",
       ".itables thead input {\n",
       "    width: 100%;\n",
       "    padding: 3px;\n",
       "    box-sizing: border-box;\n",
       "}\n",
       "\n",
       ".itables tfoot input {\n",
       "    width: 100%;\n",
       "    padding: 3px;\n",
       "    box-sizing: border-box;\n",
       "}\n",
       "</style>\n",
       "<div class=\"itables\">\n",
       "<table id=\"abcaac87-1315-46b1-b2a1-a5b324acb632\" class=\"display nowrap\"style=\"table-layout:auto;width:auto;margin:auto;caption-side:bottom\"><thead>\n",
       "    <tr style=\"text-align: right;\">\n",
       "      <th></th>\n",
       "      <th>name</th>\n",
       "      <th>admission_rate.overall</th>\n",
       "      <th>pell_grant_rate</th>\n",
       "      <th>ftft_pell_grant_rate</th>\n",
       "      <th>ftft_federal_loan_rate</th>\n",
       "      <th>avg_net_price.public</th>\n",
       "      <th>avg_net_price.public</th>\n",
       "      <th>net_price.public.by_income_level.110001-plus</th>\n",
       "      <th>net_price.private.by_income_level.110001-plus</th>\n",
       "      <th>tuition_revenue_per_fte</th>\n",
       "      <th>tuition.out_of_state</th>\n",
       "      <th>attendance.academic_year</th>\n",
       "      <th>size</th>\n",
       "    </tr>\n",
       "  </thead><tbody><tr><td>Loading... (need <a href=https://mwouts.github.io/itables/troubleshooting.html>help</a>?)</td></tr></tbody></table>\n",
       "<script>\n",
       "    // We use a namespace per table (= the next curly bracket)\n",
       "    // to avoid conflicts between the various tables' data & dt_args\n",
       "    {\n",
       "        // Define the table data\n",
       "        const data = [[56, \"California Institute of Technology\", 0.0669, 0.1141, 0.1149, 0.0426, NaN, NaN, NaN, 44926.0, 18206.0, 56862.0, 74763.0, 901], [72, \"University of California-Berkeley\", 0.1748, 0.2594, 0.2077, 0.2026, 16032.0, 16032.0, 33896.0, NaN, 22895.0, 44066.0, 39016.0, 30796], [75, \"University of California-Los Angeles\", 0.1433, 0.305, 0.2512, 0.2493, 15023.0, 15023.0, 30321.0, NaN, 19581.0, 43003.0, 35497.0, 31636], [84, \"Claremont McKenna College\", 0.1334, 0.1772, 0.1982, 0.1982, NaN, NaN, NaN, 43248.0, 36203.0, 56475.0, 76475.0, 1262], [89, \"Harvey Mudd College\", 0.1796, 0.1294, 0.1384, 0.3348, NaN, NaN, NaN, 50919.0, 31911.0, 58660.0, 79539.0, 827], [109, \"Pitzer College\", 0.1657, 0.1426, 0.1196, 0.2138, NaN, NaN, NaN, 46272.0, 49266.0, 55878.0, 75850.0, 922], [111, \"Pomona College\", 0.0862, 0.2095, 0.1947, 0.1106, NaN, NaN, NaN, 46130.0, 23866.0, 54774.0, 74438.0, 1462], [126, \"University of Southern California\", 0.1611, 0.1964, 0.1705, 0.2769, NaN, NaN, NaN, 52917.0, 37261.0, 60275.0, 77362.0, 19521], [135, \"Colorado College\", 0.136, 0.1134, 0.1439, 0.243, NaN, NaN, NaN, 42500.0, 39971.0, 60864.0, 74760.0, 2023], [164, \"Yale University\", 0.0653, 0.184, 0.1981, 0.0568, NaN, NaN, NaN, 39675.0, 18409.0, 57700.0, 76645.0, 4701], [175, \"Georgetown University\", 0.1681, 0.1291, 0.1305, 0.2622, NaN, NaN, NaN, 50627.0, 39866.0, 57928.0, 76280.0, 7119], [223, \"Emory University\", 0.1917, 0.1888, 0.2125, 0.2365, NaN, NaN, NaN, 45706.0, 27767.0, 53868.0, 72604.0, 6978], [267, \"University of Chicago\", 0.0731, 0.1144, 0.1328, 0.0643, NaN, NaN, NaN, 46267.0, 30889.0, 60552.0, 81531.0, 7010], [298, \"Northwestern University\", 0.0931, 0.1838, 0.2039, 0.2268, NaN, NaN, NaN, 41660.0, 32209.0, 58701.0, 78654.0, 8401], [343, \"University of Notre Dame\", 0.1899, 0.1028, 0.1126, 0.2672, NaN, NaN, NaN, 44972.0, 25903.0, 57699.0, 74172.0, 8854], [364, \"Grinnell College\", 0.1925, 0.1875, 0.1808, 0.3682, NaN, NaN, NaN, 38039.0, 21271.0, 56680.0, 70346.0, 1490], [450, \"Tulane University of Louisiana\", 0.1111, 0.1014, 0.0769, 0.2592, NaN, NaN, NaN, 50469.0, 32234.0, 58852.0, 75628.0, 8537], [452, \"Bates College\", 0.141, 0.1121, 0.0942, 0.1503, NaN, NaN, NaN, 39923.0, 48159.0, 57353.0, 73538.0, 1876], [453, \"Bowdoin College\", 0.0916, 0.1559, 0.1526, 0.1446, NaN, NaN, NaN, 40166.0, 33145.0, 56350.0, 73800.0, 1776], [454, \"Colby College\", 0.1027, 0.1583, 0.1799, 0.118, NaN, NaN, NaN, 49197.0, 28158.0, 59430.0, 73600.0, 2155], [473, \"Johns Hopkins University\", 0.1106, 0.1541, 0.1959, 0.1464, NaN, NaN, NaN, 40792.0, 26099.0, 54160.0, 74001.0, 5752], [492, \"Amherst College\", 0.1183, 0.2376, 0.2383, 0.1043, NaN, NaN, NaN, 50268.0, 28449.0, 60890.0, 76750.0, 1745], [517, \"Harvard University\", 0.0501, 0.1133, 0.1713, 0.0261, NaN, NaN, NaN, 42312.0, 32505.0, 54002.0, 75914.0, 6099], [526, \"Massachusetts Institute of Technology\", 0.0726, 0.1896, 0.1969, 0.0735, NaN, NaN, NaN, 41635.0, 32820.0, 53450.0, 73160.0, 4360], [542, \"Tufts University\", 0.163, 0.1138, 0.0986, 0.2145, NaN, NaN, NaN, 55083.0, 38212.0, 60862.0, 76151.0, 6053], [548, \"Williams College\", 0.1512, 0.2051, 0.1868, 0.2106, NaN, NaN, NaN, 43967.0, 33026.0, 50450.0, 75520.0, 1917], [666, \"College of the Ozarks\", 0.1428, 0.4961, 0.5296, 0.0, NaN, NaN, NaN, 11564.0, 4408.0, 19960.0, 30764.0, 1486], [673, \"Washington University in St Louis\", 0.1602, 0.1347, 0.1532, 0.185, NaN, NaN, NaN, 46759.0, 27432.0, 57386.0, 76910.0, 7366], [709, \"Dartmouth College\", 0.0922, 0.1646, 0.1479, 0.1815, NaN, NaN, NaN, 52251.0, 33005.0, 60117.0, 77152.0, 4146], [735, \"Princeton University\", 0.0563, 0.2136, 0.2472, 0.021, NaN, NaN, NaN, 41011.0, 15790.0, 48502.0, 74150.0, 4688], [760, \"Barnard College\", 0.136, 0.1403, 0.125, 0.2179, NaN, NaN, NaN, 52392.0, 41997.0, 57479.0, 77758.0, 2744], [768, \"Columbia University in the City of New York\", 0.0666, 0.2272, 0.1953, 0.0711, NaN, NaN, NaN, 44438.0, 40491.0, 61671.0, 79750.0, 8148], [770, \"Cooper Union for the Advancement of Science and Art\", 0.1751, 0.2602, 0.303, 0.2172, NaN, NaN, NaN, 29034.0, 12638.0, 46820.0, 61775.0, 806], [771, \"Cornell University\", 0.1071, 0.1622, 0.153, 0.3666, NaN, NaN, NaN, 52887.0, 31549.0, 59282.0, 75204.0, 14741], [789, \"Hamilton College\", 0.1841, 0.1789, 0.2156, 0.4419, NaN, NaN, NaN, 41317.0, 36593.0, 58510.0, 72190.0, 1901], [877, \"Duke University\", 0.0774, 0.1388, 0.1213, 0.1883, NaN, NaN, NaN, 49939.0, 30356.0, 57633.0, 77846.0, 6650], [1037, \"Carnegie Mellon University\", 0.1727, 0.1455, 0.1407, 0.4019, NaN, NaN, NaN, 52564.0, 42921.0, 58810.0, 74489.0, 6539], [1056, \"Haverford College\", 0.1823, 0.1526, 0.146, 0.1322, NaN, NaN, NaN, 48841.0, 33035.0, 59162.0, 76384.0, 1306], [1084, \"University of Pennsylvania\", 0.0898, 0.1258, 0.1487, 0.1141, NaN, NaN, NaN, 43447.0, 43358.0, 60042.0, 78186.0, 10507], [1102, \"Swarthmore College\", 0.0906, 0.2034, 0.2014, 0.1079, NaN, NaN, NaN, 43586.0, 30499.0, 54456.0, 73932.0, 1435], [1116, \"Brown University\", 0.0767, 0.1313, 0.1337, 0.1145, NaN, NaN, NaN, 44033.0, 41658.0, 60696.0, 77490.0, 6632], [1200, \"Vanderbilt University\", 0.1162, 0.1589, 0.1684, 0.1085, NaN, NaN, NaN, 40509.0, 28919.0, 54158.0, 73148.0, 7052], [1234, \"Rice University\", 0.1089, 0.1582, 0.1623, 0.0916, NaN, NaN, NaN, 42730.0, 25832.0, 51107.0, 67102.0, 4052], [1427, \"Stanford University\", 0.0519, 0.1762, 0.1837, 0.0612, NaN, NaN, NaN, 46746.0, 27396.0, 56169.0, 74570.0, 6366]];\n",
       "        // Display the table\n",
       "        $(document).ready(function () {\n",
       "            window.initializeDataTable().then(() => {\n",
       "\n",
       "                // Define the dt_args\n",
       "                let dt_args = {\"order\": []};\n",
       "                dt_args[\"data\"] = data;\n",
       "\n",
       "                \n",
       "                $('#abcaac87-1315-46b1-b2a1-a5b324acb632').DataTable(dt_args);\n",
       "            });\n",
       "        })\n",
       "    }\n",
       "</script>\n",
       "</div>\n"
      ],
      "text/plain": [
       "                                                     name  \\\n",
       "56                     California Institute of Technology   \n",
       "72                      University of California-Berkeley   \n",
       "75                   University of California-Los Angeles   \n",
       "84                              Claremont McKenna College   \n",
       "89                                    Harvey Mudd College   \n",
       "109                                        Pitzer College   \n",
       "111                                        Pomona College   \n",
       "126                     University of Southern California   \n",
       "135                                      Colorado College   \n",
       "164                                       Yale University   \n",
       "175                                 Georgetown University   \n",
       "223                                      Emory University   \n",
       "267                                 University of Chicago   \n",
       "298                               Northwestern University   \n",
       "343                              University of Notre Dame   \n",
       "364                                      Grinnell College   \n",
       "450                        Tulane University of Louisiana   \n",
       "452                                         Bates College   \n",
       "453                                       Bowdoin College   \n",
       "454                                         Colby College   \n",
       "473                              Johns Hopkins University   \n",
       "492                                       Amherst College   \n",
       "517                                    Harvard University   \n",
       "526                 Massachusetts Institute of Technology   \n",
       "542                                      Tufts University   \n",
       "548                                      Williams College   \n",
       "666                                 College of the Ozarks   \n",
       "673                     Washington University in St Louis   \n",
       "709                                     Dartmouth College   \n",
       "735                                  Princeton University   \n",
       "760                                       Barnard College   \n",
       "768           Columbia University in the City of New York   \n",
       "770   Cooper Union for the Advancement of Science and Art   \n",
       "771                                    Cornell University   \n",
       "789                                      Hamilton College   \n",
       "877                                       Duke University   \n",
       "1037                           Carnegie Mellon University   \n",
       "1056                                    Haverford College   \n",
       "1084                           University of Pennsylvania   \n",
       "1102                                   Swarthmore College   \n",
       "1116                                     Brown University   \n",
       "1200                                Vanderbilt University   \n",
       "1234                                      Rice University   \n",
       "1427                                  Stanford University   \n",
       "\n",
       "      admission_rate.overall  pell_grant_rate  ftft_pell_grant_rate  \\\n",
       "56                    0.0669           0.1141                0.1149   \n",
       "72                    0.1748           0.2594                0.2077   \n",
       "75                    0.1433           0.3050                0.2512   \n",
       "84                    0.1334           0.1772                0.1982   \n",
       "89                    0.1796           0.1294                0.1384   \n",
       "109                   0.1657           0.1426                0.1196   \n",
       "111                   0.0862           0.2095                0.1947   \n",
       "126                   0.1611           0.1964                0.1705   \n",
       "135                   0.1360           0.1134                0.1439   \n",
       "164                   0.0653           0.1840                0.1981   \n",
       "175                   0.1681           0.1291                0.1305   \n",
       "223                   0.1917           0.1888                0.2125   \n",
       "267                   0.0731           0.1144                0.1328   \n",
       "298                   0.0931           0.1838                0.2039   \n",
       "343                   0.1899           0.1028                0.1126   \n",
       "364                   0.1925           0.1875                0.1808   \n",
       "450                   0.1111           0.1014                0.0769   \n",
       "452                   0.1410           0.1121                0.0942   \n",
       "453                   0.0916           0.1559                0.1526   \n",
       "454                   0.1027           0.1583                0.1799   \n",
       "473                   0.1106           0.1541                0.1959   \n",
       "492                   0.1183           0.2376                0.2383   \n",
       "517                   0.0501           0.1133                0.1713   \n",
       "526                   0.0726           0.1896                0.1969   \n",
       "542                   0.1630           0.1138                0.0986   \n",
       "548                   0.1512           0.2051                0.1868   \n",
       "666                   0.1428           0.4961                0.5296   \n",
       "673                   0.1602           0.1347                0.1532   \n",
       "709                   0.0922           0.1646                0.1479   \n",
       "735                   0.0563           0.2136                0.2472   \n",
       "760                   0.1360           0.1403                0.1250   \n",
       "768                   0.0666           0.2272                0.1953   \n",
       "770                   0.1751           0.2602                0.3030   \n",
       "771                   0.1071           0.1622                0.1530   \n",
       "789                   0.1841           0.1789                0.2156   \n",
       "877                   0.0774           0.1388                0.1213   \n",
       "1037                  0.1727           0.1455                0.1407   \n",
       "1056                  0.1823           0.1526                0.1460   \n",
       "1084                  0.0898           0.1258                0.1487   \n",
       "1102                  0.0906           0.2034                0.2014   \n",
       "1116                  0.0767           0.1313                0.1337   \n",
       "1200                  0.1162           0.1589                0.1684   \n",
       "1234                  0.1089           0.1582                0.1623   \n",
       "1427                  0.0519           0.1762                0.1837   \n",
       "\n",
       "      ftft_federal_loan_rate  avg_net_price.public  avg_net_price.public  \\\n",
       "56                    0.0426                   NaN                   NaN   \n",
       "72                    0.2026               16032.0               16032.0   \n",
       "75                    0.2493               15023.0               15023.0   \n",
       "84                    0.1982                   NaN                   NaN   \n",
       "89                    0.3348                   NaN                   NaN   \n",
       "109                   0.2138                   NaN                   NaN   \n",
       "111                   0.1106                   NaN                   NaN   \n",
       "126                   0.2769                   NaN                   NaN   \n",
       "135                   0.2430                   NaN                   NaN   \n",
       "164                   0.0568                   NaN                   NaN   \n",
       "175                   0.2622                   NaN                   NaN   \n",
       "223                   0.2365                   NaN                   NaN   \n",
       "267                   0.0643                   NaN                   NaN   \n",
       "298                   0.2268                   NaN                   NaN   \n",
       "343                   0.2672                   NaN                   NaN   \n",
       "364                   0.3682                   NaN                   NaN   \n",
       "450                   0.2592                   NaN                   NaN   \n",
       "452                   0.1503                   NaN                   NaN   \n",
       "453                   0.1446                   NaN                   NaN   \n",
       "454                   0.1180                   NaN                   NaN   \n",
       "473                   0.1464                   NaN                   NaN   \n",
       "492                   0.1043                   NaN                   NaN   \n",
       "517                   0.0261                   NaN                   NaN   \n",
       "526                   0.0735                   NaN                   NaN   \n",
       "542                   0.2145                   NaN                   NaN   \n",
       "548                   0.2106                   NaN                   NaN   \n",
       "666                   0.0000                   NaN                   NaN   \n",
       "673                   0.1850                   NaN                   NaN   \n",
       "709                   0.1815                   NaN                   NaN   \n",
       "735                   0.0210                   NaN                   NaN   \n",
       "760                   0.2179                   NaN                   NaN   \n",
       "768                   0.0711                   NaN                   NaN   \n",
       "770                   0.2172                   NaN                   NaN   \n",
       "771                   0.3666                   NaN                   NaN   \n",
       "789                   0.4419                   NaN                   NaN   \n",
       "877                   0.1883                   NaN                   NaN   \n",
       "1037                  0.4019                   NaN                   NaN   \n",
       "1056                  0.1322                   NaN                   NaN   \n",
       "1084                  0.1141                   NaN                   NaN   \n",
       "1102                  0.1079                   NaN                   NaN   \n",
       "1116                  0.1145                   NaN                   NaN   \n",
       "1200                  0.1085                   NaN                   NaN   \n",
       "1234                  0.0916                   NaN                   NaN   \n",
       "1427                  0.0612                   NaN                   NaN   \n",
       "\n",
       "      net_price.public.by_income_level.110001-plus  \\\n",
       "56                                             NaN   \n",
       "72                                         33896.0   \n",
       "75                                         30321.0   \n",
       "84                                             NaN   \n",
       "89                                             NaN   \n",
       "109                                            NaN   \n",
       "111                                            NaN   \n",
       "126                                            NaN   \n",
       "135                                            NaN   \n",
       "164                                            NaN   \n",
       "175                                            NaN   \n",
       "223                                            NaN   \n",
       "267                                            NaN   \n",
       "298                                            NaN   \n",
       "343                                            NaN   \n",
       "364                                            NaN   \n",
       "450                                            NaN   \n",
       "452                                            NaN   \n",
       "453                                            NaN   \n",
       "454                                            NaN   \n",
       "473                                            NaN   \n",
       "492                                            NaN   \n",
       "517                                            NaN   \n",
       "526                                            NaN   \n",
       "542                                            NaN   \n",
       "548                                            NaN   \n",
       "666                                            NaN   \n",
       "673                                            NaN   \n",
       "709                                            NaN   \n",
       "735                                            NaN   \n",
       "760                                            NaN   \n",
       "768                                            NaN   \n",
       "770                                            NaN   \n",
       "771                                            NaN   \n",
       "789                                            NaN   \n",
       "877                                            NaN   \n",
       "1037                                           NaN   \n",
       "1056                                           NaN   \n",
       "1084                                           NaN   \n",
       "1102                                           NaN   \n",
       "1116                                           NaN   \n",
       "1200                                           NaN   \n",
       "1234                                           NaN   \n",
       "1427                                           NaN   \n",
       "\n",
       "      net_price.private.by_income_level.110001-plus  tuition_revenue_per_fte  \\\n",
       "56                                          44926.0                  18206.0   \n",
       "72                                              NaN                  22895.0   \n",
       "75                                              NaN                  19581.0   \n",
       "84                                          43248.0                  36203.0   \n",
       "89                                          50919.0                  31911.0   \n",
       "109                                         46272.0                  49266.0   \n",
       "111                                         46130.0                  23866.0   \n",
       "126                                         52917.0                  37261.0   \n",
       "135                                         42500.0                  39971.0   \n",
       "164                                         39675.0                  18409.0   \n",
       "175                                         50627.0                  39866.0   \n",
       "223                                         45706.0                  27767.0   \n",
       "267                                         46267.0                  30889.0   \n",
       "298                                         41660.0                  32209.0   \n",
       "343                                         44972.0                  25903.0   \n",
       "364                                         38039.0                  21271.0   \n",
       "450                                         50469.0                  32234.0   \n",
       "452                                         39923.0                  48159.0   \n",
       "453                                         40166.0                  33145.0   \n",
       "454                                         49197.0                  28158.0   \n",
       "473                                         40792.0                  26099.0   \n",
       "492                                         50268.0                  28449.0   \n",
       "517                                         42312.0                  32505.0   \n",
       "526                                         41635.0                  32820.0   \n",
       "542                                         55083.0                  38212.0   \n",
       "548                                         43967.0                  33026.0   \n",
       "666                                         11564.0                   4408.0   \n",
       "673                                         46759.0                  27432.0   \n",
       "709                                         52251.0                  33005.0   \n",
       "735                                         41011.0                  15790.0   \n",
       "760                                         52392.0                  41997.0   \n",
       "768                                         44438.0                  40491.0   \n",
       "770                                         29034.0                  12638.0   \n",
       "771                                         52887.0                  31549.0   \n",
       "789                                         41317.0                  36593.0   \n",
       "877                                         49939.0                  30356.0   \n",
       "1037                                        52564.0                  42921.0   \n",
       "1056                                        48841.0                  33035.0   \n",
       "1084                                        43447.0                  43358.0   \n",
       "1102                                        43586.0                  30499.0   \n",
       "1116                                        44033.0                  41658.0   \n",
       "1200                                        40509.0                  28919.0   \n",
       "1234                                        42730.0                  25832.0   \n",
       "1427                                        46746.0                  27396.0   \n",
       "\n",
       "      tuition.out_of_state  attendance.academic_year   size  \n",
       "56                 56862.0                   74763.0    901  \n",
       "72                 44066.0                   39016.0  30796  \n",
       "75                 43003.0                   35497.0  31636  \n",
       "84                 56475.0                   76475.0   1262  \n",
       "89                 58660.0                   79539.0    827  \n",
       "109                55878.0                   75850.0    922  \n",
       "111                54774.0                   74438.0   1462  \n",
       "126                60275.0                   77362.0  19521  \n",
       "135                60864.0                   74760.0   2023  \n",
       "164                57700.0                   76645.0   4701  \n",
       "175                57928.0                   76280.0   7119  \n",
       "223                53868.0                   72604.0   6978  \n",
       "267                60552.0                   81531.0   7010  \n",
       "298                58701.0                   78654.0   8401  \n",
       "343                57699.0                   74172.0   8854  \n",
       "364                56680.0                   70346.0   1490  \n",
       "450                58852.0                   75628.0   8537  \n",
       "452                57353.0                   73538.0   1876  \n",
       "453                56350.0                   73800.0   1776  \n",
       "454                59430.0                   73600.0   2155  \n",
       "473                54160.0                   74001.0   5752  \n",
       "492                60890.0                   76750.0   1745  \n",
       "517                54002.0                   75914.0   6099  \n",
       "526                53450.0                   73160.0   4360  \n",
       "542                60862.0                   76151.0   6053  \n",
       "548                50450.0                   75520.0   1917  \n",
       "666                19960.0                   30764.0   1486  \n",
       "673                57386.0                   76910.0   7366  \n",
       "709                60117.0                   77152.0   4146  \n",
       "735                48502.0                   74150.0   4688  \n",
       "760                57479.0                   77758.0   2744  \n",
       "768                61671.0                   79750.0   8148  \n",
       "770                46820.0                   61775.0    806  \n",
       "771                59282.0                   75204.0  14741  \n",
       "789                58510.0                   72190.0   1901  \n",
       "877                57633.0                   77846.0   6650  \n",
       "1037               58810.0                   74489.0   6539  \n",
       "1056               59162.0                   76384.0   1306  \n",
       "1084               60042.0                   78186.0  10507  \n",
       "1102               54456.0                   73932.0   1435  \n",
       "1116               60696.0                   77490.0   6632  \n",
       "1200               54158.0                   73148.0   7052  \n",
       "1234               51107.0                   67102.0   4052  \n",
       "1427               56169.0                   74570.0   6366  "
      ]
     },
     "execution_count": 54,
     "metadata": {},
     "output_type": "execute_result"
    }
   ],
   "source": [
    "# df[df['ADM_RATE']<0.2][['INSTNM','ADM_RATE','DEP_INC_AVG','DEP_INC_PCT_H2']] # .isnull()\n",
    "df[df['admission_rate.overall']<0.2][\n",
    "    ['name','admission_rate.overall','pell_grant_rate','ftft_pell_grant_rate','ftft_federal_loan_rate',\n",
    "    'avg_net_price.public','avg_net_price.public',\n",
    "    'net_price.public.by_income_level.110001-plus',\n",
    "    'net_price.private.by_income_level.110001-plus','tuition_revenue_per_fte','tuition.out_of_state',\n",
    "    'attendance.academic_year','size']]"
   ]
  },
  {
   "cell_type": "code",
   "execution_count": 13,
   "id": "0d722b2a-6699-4566-956a-121b9b16364b",
   "metadata": {},
   "outputs": [],
   "source": [
    "topschools = df[df['admission_rate.overall']<0.3]"
   ]
  },
  {
   "cell_type": "code",
   "execution_count": 14,
   "id": "b0b27166-0ad5-4b9a-869e-03c53a6011f3",
   "metadata": {},
   "outputs": [],
   "source": [
    "df['net_price.by_income_level.110001-plus']=df[['net_price.public.by_income_level.110001-plus','net_price.private.by_income_level.110001-plus']].max(axis=1)"
   ]
  },
  {
   "cell_type": "code",
   "execution_count": 16,
   "id": "b0539faa-50f5-414c-83cb-094090367a36",
   "metadata": {},
   "outputs": [
    {
     "data": {
      "text/html": [
       "<style>.itables table td {\n",
       "    text-overflow: ellipsis;\n",
       "    overflow: hidden;\n",
       "}\n",
       "\n",
       ".itables table th {\n",
       "    text-overflow: ellipsis;\n",
       "    overflow: hidden;\n",
       "}\n",
       "\n",
       ".itables thead input {\n",
       "    width: 100%;\n",
       "    padding: 3px;\n",
       "    box-sizing: border-box;\n",
       "}\n",
       "\n",
       ".itables tfoot input {\n",
       "    width: 100%;\n",
       "    padding: 3px;\n",
       "    box-sizing: border-box;\n",
       "}\n",
       "</style>\n",
       "<div class=\"itables\">\n",
       "<table id=\"c941aeef-821d-48f1-8800-0f8ba938e060\" class=\"display nowrap\"style=\"table-layout:auto;width:auto;margin:auto;caption-side:bottom\"><thead>\n",
       "    <tr style=\"text-align: right;\">\n",
       "      \n",
       "      <th>name</th>\n",
       "      <th>admission_rate.overall</th>\n",
       "      <th>net_price.by_income_level.110001-plus</th>\n",
       "      <th>10_yrs_after_entry.working_not_enrolled.mean_earnings</th>\n",
       "    </tr>\n",
       "  </thead><tbody><tr><td>Loading... (need <a href=https://mwouts.github.io/itables/troubleshooting.html>help</a>?)</td></tr></tbody></table>\n",
       "<script>\n",
       "    // We use a namespace per table (= the next curly bracket)\n",
       "    // to avoid conflicts between the various tables' data & dt_args\n",
       "    {\n",
       "        // Define the table data\n",
       "        const data = [[\"Alabama A & M University\", 0.8965, 20483.0, 35500], [\"University of Alabama at Birmingham\", 0.806, 19717.0, 48400], [\"University of Alabama in Huntsville\", 0.7711, 19862.0, 52000], [\"Alabama State University\", 0.9888, 17559.0, 30600], [\"The University of Alabama\", 0.8039, 23605.0, 51600], [\"Athens State University\", NaN, NaN, 42400], [\"Auburn University at Montgomery\", 0.9555, 16341.0, 38000], [\"Auburn University\", 0.8507, 26300.0, 56300], [\"Birmingham-Southern College\", 0.6045, 22268.0, 53100], [\"Faulkner University\", 0.7576, 23168.0, 40700], [\"Huntingdon College\", 0.5439, 24097.0, 43600], [\"Jacksonville State University\", 0.6369, 21277.0, 38100], [\"University of West Alabama\", 0.9313, 17763.0, 40400], [\"Miles College\", NaN, 19444.0, 29500], [\"University of Mobile\", 0.6657, 26549.0, 38700], [\"University of Montevallo\", 0.6052, 21208.0, 36100], [\"University of North Alabama\", 0.8266, 15952.0, 42800], [\"Oakwood University\", 0.8881, 26240.0, 37400], [\"Samford University\", 0.8399, 32820.0, 59800], [\"University of South Alabama\", 0.7303, 21591.0, 46800], [\"Spring Hill College\", 0.5416, NaN, 51300], [\"Stillman College\", 0.5553, 22390.0, 33700], [\"Talladega College\", NaN, NaN, 23900], [\"Troy University\", 0.9243, 16141.0, 41100], [\"Tuskegee University\", 0.6113, NaN, 42200], [\"University of Alaska Anchorage\", 0.7683, 15605.0, 51200], [\"University of Alaska Fairbanks\", 0.6701, 12552.0, 45100], [\"Arizona State University Campus Immersion\", 0.8837, 20774.0, 55500], [\"University of Arizona\", 0.8513, 20187.0, 56000], [\"Embry-Riddle Aeronautical University-Prescott\", 0.6685, 37389.0, 70300], [\"Northern Arizona University\", 0.8164, 19585.0, 44600], [\"Arizona Christian University\", 0.7147, 32189.0, 34900], [\"University of Arkansas at Little Rock\", 0.5604, 20416.0, 39500], [\"University of Arkansas for Medical Sciences\", NaN, NaN, 69000], [\"Lyon College\", 0.5015, 24791.0, 44800], [\"University of Arkansas\", 0.7767, 19897.0, 52700], [\"University of Arkansas at Pine Bluff\", 0.5966, 16017.0, 30600], [\"Arkansas State University\", 0.6719, 17614.0, 36600], [\"Arkansas Tech University\", 0.9766, 14374.0, 38600], [\"University of Central Arkansas\", 0.9378, 19270.0, 42500], [\"Central Baptist College\", 0.4981, 19856.0, 43000], [\"Harding University\", 0.5507, 22080.0, 47000], [\"Henderson State University\", 0.749, 15954.0, 40400], [\"Hendrix College\", 0.7054, 27119.0, 44500], [\"John Brown University\", 0.5886, 25561.0, 55400], [\"Ouachita Baptist University\", 0.6177, 22430.0, 46000], [\"University of the Ozarks\", 0.559, 20237.0, 38600], [\"Philander Smith College\", NaN, 14936.0, 27300], [\"Williams Baptist University\", 0.693, 18827.0, 36400], [\"Southern Arkansas University Main Campus\", 0.6853, 18434.0, 39000], [\"University of Arkansas-Fort Smith\", NaN, 10330.0, 35000], [\"Art Center College of Design\", 0.7609, 54154.0, 62300], [\"Azusa Pacific University\", 0.936, 37078.0, 55900], [\"Biola University\", 0.6438, 38781.0, 50700], [\"California Baptist University\", 0.8018, 34536.0, 47500], [\"California College of the Arts\", 0.8545, 43404.0, 48000], [\"California Institute of Technology\", 0.0669, 44926.0, 106300], [\"California Lutheran University\", 0.7439, 37476.0, 60200], [\"California Polytechnic State University-San Luis Obispo\", 0.3843, 27740.0, 74300], [\"California State University-Bakersfield\", 0.7838, 17301.0, 50100], [\"California State University-Stanislaus\", 0.8932, 15834.0, 48500], [\"California State University-San Bernardino\", 0.7812, 17818.0, 48800], [\"California State Polytechnic University-Pomona\", 0.6481, 21205.0, 58000], [\"California State University-Chico\", 0.9017, 24220.0, 55400], [\"California State University-Dominguez Hills\", 0.812, 13579.0, 48500], [\"California State University-Fresno\", 0.9011, 16254.0, 48500], [\"California State University-Fullerton\", 0.6762, 16556.0, 51800], [\"California State University-East Bay\", 0.7328, 22007.0, 58200], [\"California State University-Long Beach\", 0.4212, 18602.0, 53000], [\"California State University-Los Angeles\", 0.7648, 13191.0, 49900], [\"California State University-Northridge\", 0.6581, 18714.0, 49700], [\"California State University-Sacramento\", 0.8309, 20499.0, 54200], [\"University of California-Berkeley\", 0.1748, 33896.0, 79000], [\"University of California-Davis\", 0.4635, 30357.0, 68100], [\"University of California-Irvine\", 0.2992, 29802.0, 65800], [\"University of California-Los Angeles\", 0.1433, 30321.0, 73200], [\"University of California-Riverside\", 0.6578, 26234.0, 55300], [\"University of California-San Diego\", 0.3661, 29132.0, 69600], [\"University of California-Santa Barbara\", 0.367, 31486.0, 62400], [\"University of California-Santa Cruz\", 0.6473, 31701.0, 53800], [\"California Institute of the Arts\", 0.2742, 62385.0, 50600], [\"California State University Maritime Academy\", 0.8249, 26554.0, 87800], [\"Chapman University\", 0.5826, 50348.0, 56600], [\"Concordia University-Irvine\", 0.7818, 34595.0, 50800], [\"Claremont McKenna College\", 0.1334, 43248.0, 93200], [\"Columbia College Hollywood\", NaN, 34253.0, 39500], [\"Dominican University of California\", 0.8574, 41499.0, 63600], [\"Fresno Pacific University\", 0.6694, 24660.0, 45600], [\"Golden Gate University\", NaN, NaN, 82300], [\"Harvey Mudd College\", 0.1796, 50919.0, 104200], [\"Holy Names University\", 0.8912, 33563.0, 57600], [\"Humboldt State University\", 0.8514, 23400.0, 40100], [\"University of La Verne\", 0.7625, NaN, 52700], [\"Laguna College of Art and Design\", 0.8292, 39340.0, 41400], [\"La Sierra University\", 0.5697, 29970.0, 54600], [\"Loma Linda University\", NaN, NaN, 93600], [\"The Master's University and Seminary\", 0.5988, 34702.0, 52100], [\"Loyola Marymount University\", 0.5014, 50830.0, 71600], [\"Marymount California University\", NaN, 38929.0, 42000], [\"Menlo College\", 0.6451, 33313.0, 59700], [\"Mills College\", 0.9114, 37997.0, 49500], [\"Mount Saint Mary's University\", 0.8933, 32174.0, 63500], [\"National University\", 0.8936, NaN, 59000], [\"Occidental College\", 0.409, 49854.0, 59400], [\"Otis College of Art and Design\", 0.8032, 51374.0, 52400], [\"Hope International University\", 0.3829, 28643.0, 40700], [\"Pacific Union College\", 0.5917, 28066.0, 61700], [\"University of the Pacific\", 0.7075, 39420.0, 84200], [\"Pepperdine University\", 0.4185, 44598.0, 77600], [\"Pitzer College\", 0.1657, 46272.0, 51500], [\"Point Loma Nazarene University\", 0.8355, 39300.0, 54400], [\"Pomona College\", 0.0862, 46130.0, 77300], [\"University of Redlands\", 0.6865, 36166.0, 57700], [\"Samuel Merritt University\", NaN, NaN, 111200], [\"San Diego State University\", 0.367, 22318.0, 55900], [\"University of San Diego\", 0.587, 43907.0, 71100], [\"San Francisco State University\", 0.8409, 23493.0, 54700], [\"University of San Francisco\", 0.703, 49199.0, 74000], [\"William Jessup University\", 0.6521, 29664.0, 45100], [\"San Jose State University\", 0.6737, 24588.0, 63800], [\"Santa Clara University\", 0.5072, 53699.0, 85300], [\"Scripps College\", 0.3513, 50873.0, 61800], [\"Simpson University\", 0.5972, 28565.0, 39900], [\"Saint Mary's College of California\", 0.7731, 44250.0, 63600], [\"Sonoma State University\", 0.8912, 25623.0, 53200], [\"Vanguard University of Southern California\", 0.4999, 27742.0, 48800], [\"University of Southern California\", 0.1611, 52917.0, 88800], [\"Westmont College\", 0.7016, 36076.0, 58000], [\"Whittier College\", 0.7233, 33931.0, 50900], [\"Woodbury University\", 0.704, 38714.0, 52100], [\"Adams State University\", 0.9988, 19693.0, 38100], [\"University of Colorado Denver/Anschutz Medical Campus\", 0.663, 21504.0, 71200], [\"University of Colorado Colorado Springs\", 0.8961, 20640.0, 49300], [\"University of Colorado Boulder\", 0.842, 28622.0, 59700], [\"Colorado Christian University\", NaN, 28030.0, 44600], [\"Colorado College\", 0.136, 42500.0, 49900], [\"Colorado School of Mines\", 0.5497, 33480.0, 95600], [\"Colorado State University-Fort Collins\", 0.8352, 26666.0, 53400], [\"University of Denver\", 0.6067, 43344.0, 65400], [\"Fort Lewis College\", 0.9151, 20650.0, 39400], [\"Colorado Mesa University\", 0.7544, 20086.0, 42300], [\"Metropolitan State University of Denver\", 0.8333, 19709.0, 44200], [\"University of Northern Colorado\", 0.877, 20022.0, 47100], [\"Regis University\", 0.782, 31199.0, 62700], [\"Colorado State University Pueblo\", 0.9431, 19182.0, 41600], [\"Western Colorado University\", 0.885, 21481.0, 43400], [\"Albertus Magnus College\", 0.8126, 29120.0, 56000], [\"University of Bridgeport\", 0.7095, 31980.0, 47100], [\"Central Connecticut State University\", 0.6485, 21066.0, 51600], [\"Charter Oak State College\", NaN, NaN, 43700], [\"Connecticut College\", 0.3772, 45734.0, 62900], [\"University of Connecticut\", 0.5609, 30060.0, 66000], [\"Eastern Connecticut State University\", 0.697, 23988.0, 49000], [\"Fairfield University\", 0.5613, 40878.0, 80100], [\"University of Hartford\", 0.7741, 31697.0, 51700], [\"Mitchell College\", 0.7422, 23699.0, 34000], [\"University of New Haven\", 0.911, 37867.0, 54600], [\"Quinnipiac University\", 0.8239, 44432.0, 67700], [\"Sacred Heart University\", 0.6553, 44236.0, 61800], [\"University of Saint Joseph\", 0.7802, 27431.0, 52900], [\"Southern Connecticut State University\", 0.7968, 24689.0, 48100], [\"Trinity College\", 0.3604, 46100.0, 74300], [\"Wesleyan University\", 0.209, 49134.0, 63400], [\"Western Connecticut State University\", 0.8072, 21587.0, 50400], [\"Yale University\", 0.0653, 39675.0, 124400], [\"Delaware State University\", 0.3934, 14897.0, 38400], [\"University of Delaware\", 0.6599, 25409.0, 64000], [\"Goldey-Beacom College\", 0.5521, 20906.0, 48800], [\"Wesley College\", 0.5859, 29958.0, 45700], [\"Wilmington University\", NaN, 18524.0, 46600], [\"American University\", 0.3865, 52924.0, 67700], [\"The Catholic University of America\", 0.8223, 38300.0, 60500], [\"University of the District of Columbia\", NaN, 16288.0, 39400], [\"Gallaudet University\", 0.6262, 30626.0, 34300], [\"George Washington University\", 0.4304, 47056.0, 82400], [\"Georgetown University\", 0.1681, 50627.0, 125200], [\"Howard University\", 0.3864, 45955.0, 54500], [\"Trinity Washington University\", 0.9579, 22139.0, 43100], [\"Barry University\", 0.653, 29709.0, 50900], [\"Bethune-Cookman University\", 0.9773, 24398.0, 32300], [\"Lynn University\", 0.7868, 39263.0, 46500], [\"University of Central Florida\", 0.4517, 15399.0, 51200], [\"Eckerd College\", 0.6858, 39513.0, 46700], [\"Edward Waters University\", 0.5703, 14584.0, 28700], [\"Embry-Riddle Aeronautical University-Daytona Beach\", 0.606, 38689.0, 70300], [\"Florida Agricultural and Mechanical University\", 0.3298, 20039.0, 44700], [\"Florida Atlantic University\", 0.7478, 17971.0, 48300], [\"Flagler College\", 0.5649, 29183.0, 42200], [\"AdventHealth University\", 0.9087, 28569.0, 58200], [\"Florida Institute of Technology\", 0.7037, 35709.0, 61200], [\"Florida International University\", 0.5788, 14410.0, 52000], [\"Florida Memorial University\", 0.3841, 25324.0, 29600], [\"Florida Southern College\", 0.5037, 29626.0, 44400], [\"Florida State University\", 0.3245, 16126.0, 53900], [\"University of Florida\", 0.3113, 13561.0, 65700], [\"Jacksonville University\", 0.7774, 30718.0, 57100], [\"University of Miami\", 0.3309, 53640.0, 72900], [\"University of North Florida\", 0.7992, 15287.0, 49200], [\"Nova Southeastern University\", 0.7624, 30370.0, 55600], [\"Palm Beach Atlantic University\", 0.9171, 31871.0, 48000], [\"Ringling College of Art and Design\", 0.6851, 55227.0, 43100], [\"Rollins College\", 0.6081, 35608.0, 53100], [\"Saint Leo University\", 0.73, 22866.0, 50500], [\"University of South Florida\", 0.4924, 15524.0, 48500], [\"St. Thomas University\", 0.5962, 26466.0, 60500], [\"Stetson University\", 0.8149, 27498.0, 51800], [\"Southeastern University\", 0.4266, 29552.0, 37900], [\"The University of Tampa\", 0.5551, 34158.0, 55100], [\"Warner University\", 0.5412, 20191.0, 42500], [\"Webber International University\", 0.3778, 28113.0, 40100], [\"The University of West Florida\", 0.5756, 13085.0, 43400], [\"Agnes Scott College\", 0.6752, 25899.0, 46300], [\"Point University\", 0.3487, 27180.0, 34700], [\"Clark Atlanta University\", 0.5905, 39194.0, 38200], [\"Berry College\", 0.7722, 27383.0, 43900], [\"Brenau University\", 0.9219, 20616.0, 45400], [\"Brewton-Parker College\", 0.9814, 21602.0, 35100], [\"College of Coastal Georgia\", 0.9594, 16175.0, 32800], [\"Clayton  State University\", 0.6854, 15003.0, 42300], [\"Columbus State University\", 0.7832, 15313.0, 38800], [\"Covenant College\", 0.9755, 28897.0, 46700], [\"Dalton State College\", NaN, 9955.0, 34700], [\"Emmanuel College\", 0.5275, 25329.0, 35400], [\"Emory University\", 0.1917, 45706.0, 84400], [\"Fort Valley State University\", 0.7232, 17913.0, 34700], [\"Georgia Institute of Technology-Main Campus\", 0.2134, 18916.0, 85900], [\"Georgia Southwestern State University\", 0.734, 15221.0, 40100], [\"Georgia College & State University\", 0.8594, 22221.0, 45200], [\"Georgia Southern University\", 0.9117, 18472.0, 46100], [\"Georgia State University\", 0.8239, 20927.0, 48200], [\"University of Georgia\", 0.4838, 17971.0, 59100], [\"LaGrange College\", 0.5967, 26673.0, 45700], [\"Life University\", 0.9681, 33085.0, 47200], [\"Herzing University-Atlanta\", 0.9247, NaN, 41600], [\"Mercer University\", 0.7816, 24894.0, 58200], [\"Morehouse College\", 0.7707, 39751.0, 49000], [\"Oglethorpe University\", 0.6693, 24756.0, 49400], [\"Piedmont University\", 0.7008, 22748.0, 43400], [\"Reinhardt University\", 0.9869, 22990.0, 40500], [\"Savannah College of Art and Design\", 0.7792, 47010.0, 41400], [\"Savannah State University\", 0.4614, 14509.0, 35000], [\"Shorter University\", 0.7093, 19212.0, 50100], [\"Spelman College\", 0.5258, 47588.0, 50700], [\"Thomas University\", 0.3452, NaN, 37400], [\"Toccoa Falls College\", 0.5773, 25313.0, 32200], [\"Truett McConnell University\", 0.9729, 21080.0, 37100], [\"Valdosta State University\", 0.7845, 17151.0, 41600], [\"Wesleyan College\", 0.5981, 16625.0, 37600], [\"University of West Georgia\", 0.7762, 20069.0, 41700], [\"Young Harris College\", 0.6503, 22764.0, 41300], [\"Chaminade University of Honolulu\", 0.8897, 23472.0, 41000], [\"University of Hawaii at Hilo\", 0.7383, 18769.0, 41800], [\"University of Hawaii at Manoa\", 0.8369, 20581.0, 51800], [\"Hawaii Pacific University\", 0.814, 32988.0, 56400], [\"University of Hawaii-West Oahu\", 0.9523, 19498.0, 41100], [\"Boise State University\", 0.7749, 20304.0, 43100], [\"Idaho State University\", NaN, 20652.0, 43900], [\"University of Idaho\", 0.7444, 18861.0, 47000], [\"The College of Idaho\", 0.4835, 24434.0, 47300], [\"Lewis-Clark State College\", 0.9975, 15338.0, 38200], [\"Northwest Nazarene University\", 0.7683, 24569.0, 46300], [\"Brigham Young University-Idaho\", 0.9701, 11713.0, 49400], [\"School of the Art Institute of Chicago\", 0.7778, 50829.0, 40800], [\"Augustana College\", 0.5735, 27627.0, 56400], [\"Aurora University\", 0.8395, 21803.0, 46200], [\"Bradley University\", 0.7328, 32074.0, 58300], [\"Chicago State University\", 0.4642, NaN, 38200], [\"University of Chicago\", 0.0731, 46267.0, 103000], [\"Columbia College Chicago\", 0.8953, 32511.0, 39200], [\"Concordia University-Chicago\", 0.7854, 21268.0, 42700], [\"DePaul University\", 0.7024, 36445.0, 60200], [\"Eastern Illinois University\", 0.5554, 20021.0, 46000], [\"Elmhurst University\", 0.6553, 27519.0, 51600], [\"Eureka College\", 0.6136, 24617.0, 40500], [\"Governors State University\", 0.4784, 18907.0, 44000], [\"Greenville University\", 0.5921, 23466.0, 39900], [\"University of Illinois Chicago\", 0.7263, 23320.0, 61300], [\"Benedictine University\", 0.6099, 30275.0, 56400], [\"University of Illinois Urbana-Champaign\", 0.633, 27285.0, 70900], [\"Illinois Wesleyan University\", 0.5693, 41079.0, 67300], [\"Illinois College\", 0.7524, 23317.0, 49100], [\"Illinois Institute of Technology\", 0.6066, 29783.0, 78000], [\"Illinois State University\", 0.8131, 26767.0, 51600], [\"Judson University\", 0.5701, 21602.0, 47200], [\"Knox College\", 0.7084, 29084.0, 43500], [\"Lake Forest College\", 0.5761, 30907.0, 55600], [\"Lewis University\", 0.6606, 24454.0, 53600], [\"Lincoln College\", 0.6985, 25606.0, 34700], [\"Loyola University Chicago\", 0.7054, 40835.0, 63500], [\"McKendree University\", 0.7008, 23377.0, 50200], [\"Methodist College\", 0.875, 29504.0, 0], [\"Millikin University\", 0.7115, 24230.0, 47200], [\"Monmouth College\", 0.6943, 21995.0, 46500], [\"Moody Bible Institute\", 0.9751, 20334.0, 0], [\"National Louis University\", 0.9746, 20956.0, 50800], [\"North Central College\", 0.5329, 28343.0, 52300], [\"North Park University\", 0.4396, 22023.0, 45600], [\"Northern Illinois University\", 0.5925, 20068.0, 49800], [\"Northwestern University\", 0.0931, 41660.0, 93400], [\"Northeastern Illinois University\", 0.607, NaN, 41900], [\"Olivet Nazarene University\", 0.6657, 23493.0, 44000], [\"Quincy University\", 0.6713, 18412.0, 46000], [\"Rockford University\", 0.5082, 27611.0, 47800], [\"Roosevelt University\", 0.7652, 25997.0, 47700], [\"Dominican University\", 0.7646, 23060.0, 49900], [\"University of St Francis\", 0.6009, 20776.0, 56500], [\"Saint Xavier University\", 0.79, 18818.0, 50600], [\"University of Illinois Springfield\", 0.7733, 18762.0, 49900], [\"Southern Illinois University-Carbondale\", 0.9178, 21449.0, 49500], [\"Southern Illinois University-Edwardsville\", 0.8505, 20589.0, 50800], [\"Trinity Christian College\", 0.6366, 24908.0, 44600], [\"Trinity International University-Illinois\", 0.8592, 23151.0, 45400], [\"Oak Point University\", NaN, NaN, 72900], [\"Western Illinois University\", 0.6696, 21051.0, 47500], [\"Wheaton College\", 0.8695, 34916.0, 60500], [\"Anderson University\", 0.665, 28782.0, 41300], [\"Ball State University\", 0.8705, 21875.0, 44600], [\"Bethel University\", 0.9279, 21904.0, 42800], [\"Butler University\", 0.7569, 43211.0, 68900], [\"Calumet College of Saint Joseph\", NaN, 16886.0, 47800], [\"DePauw University\", 0.6849, 32624.0, 66100], [\"Earlham College\", 0.591, 19376.0, 39200], [\"University of Evansville\", 0.643, 25431.0, 48800], [\"Franklin College\", 0.7607, 27699.0, 46300], [\"Goshen College\", 0.9238, 22418.0, 42400], [\"Grace College and Theological Seminary\", 0.7465, 25791.0, 37500], [\"Hanover College\", 0.6932, 27375.0, 51600], [\"Huntington University\", 0.7767, 23473.0, 39000], [\"Purdue University Fort Wayne\", 0.8278, 16381.0, 39800], [\"Indiana University-Purdue University-Indianapolis\", 0.7854, 19108.0, 50700], [\"University of Indianapolis\", 0.8448, 26813.0, 46100], [\"Indiana Institute of Technology\", 0.6307, 22610.0, 49400], [\"University of Southern Indiana\", 0.9387, 17776.0, 40200], [\"Indiana State University\", 0.9229, 20062.0, 42600], [\"Indiana University-Kokomo\", 0.8271, 15919.0, 40500], [\"Indiana University-South Bend\", 0.8687, 15876.0, 38100], [\"Indiana University-Bloomington\", 0.8038, 22806.0, 57800], [\"Indiana University-Northwest\", 0.8168, 12031.0, 40400], [\"Indiana University-Southeast\", 0.8541, 16845.0, 41800], [\"Indiana University-East\", 0.6732, 15544.0, 34800], [\"Manchester University\", 0.7038, 23742.0, 43600], [\"Marian University\", 0.6424, 24360.0, 46600], [\"Indiana Wesleyan University-Marion\", 0.9147, 26403.0, 56200], [\"University of Notre Dame\", 0.1899, 44972.0, 98400], [\"Oakland City University\", 0.6331, 15814.0, 37200], [\"Rose-Hulman Institute of Technology\", 0.7662, 43001.0, 88500], [\"University of Saint Francis-Fort Wayne\", 0.9905, 23859.0, 43600], [\"Saint Mary-of-the-Woods College\", 0.7123, 20962.0, 31900], [\"Saint Mary's College\", 0.8151, 34127.0, 51300], [\"Taylor University\", 0.701, 30172.0, 42600], [\"Trine University\", 0.7894, 29208.0, 49600], [\"Valparaiso University\", 0.8663, 25676.0, 54400], [\"Wabash College\", 0.6321, 29059.0, 64000], [\"Briar Cliff University\", NaN, 27381.0, 44400], [\"Buena Vista University\", 0.5568, 25217.0, 42600], [\"Central College\", 0.6368, 23782.0, 48400], [\"Clarke University\", 0.892, 27557.0, 44800], [\"Coe College\", 0.7986, 26944.0, 50000], [\"Cornell College\", 0.8241, 27002.0, 45400], [\"Dordt University\", 0.7184, 28244.0, 45300], [\"Drake University\", 0.6792, 33118.0, 68700], [\"University of Dubuque\", 0.7863, 35136.0, 42500], [\"Graceland University-Lamoni\", 0.6807, 19849.0, 40200], [\"Grand View University\", 0.9702, 23446.0, 45200], [\"Grinnell College\", 0.1925, 38039.0, 61000], [\"Iowa State University\", 0.8842, 19491.0, 56000], [\"Iowa Wesleyan University\", 0.7119, 33915.0, 39900], [\"University of Iowa\", 0.8428, 22516.0, 62000], [\"Loras College\", 0.5838, 26065.0, 50200], [\"Luther College\", 0.6429, 28747.0, 53200], [\"Maharishi International University\", 1.0, 20730.0, 30400], [\"Mercy College of Health Sciences\", 0.9167, 28768.0, 48000], [\"Morningside University\", 0.686, 24824.0, 47900], [\"Mount Mercy University\", 0.7621, 27015.0, 48400], [\"University of Northern Iowa\", 0.7888, 19089.0, 49700], [\"Northwestern College\", 0.7377, 24613.0, 40200], [\"Saint Ambrose University\", 0.7384, 28322.0, 50500], [\"Simpson College\", 0.8662, 27485.0, 51200], [\"Upper Iowa University\", 0.653, 24627.0, 45500], [\"Wartburg College\", 0.7172, 26082.0, 50600], [\"William Penn University\", 0.5503, 23257.0, 46400], [\"Baker University\", 0.9341, 25117.0, 59500], [\"Benedictine College\", 0.9678, 28918.0, 45000], [\"Bethany College\", 0.6832, 30798.0, 45100], [\"Central Christian College of Kansas\", NaN, 13814.0, 34800], [\"Emporia State University\", 0.8608, 16967.0, 40300], [\"Fort Hays State University\", 0.9135, 16083.0, 42700], [\"Friends University\", 0.5754, 25121.0, 46900], [\"University of Kansas\", 0.9093, 24161.0, 59300], [\"Newman University\", 0.8308, 21863.0, 47900], [\"Kansas State University\", 0.9415, 21390.0, 51900], [\"Kansas Wesleyan University\", 0.6179, 25523.0, 43300], [\"McPherson College\", 0.5216, 39585.0, 43500], [\"MidAmerica Nazarene University\", 0.6376, 32706.0, 49600], [\"Ottawa University-Ottawa\", 0.703, 31634.0, 48100], [\"Pittsburg State University\", 0.9068, 17477.0, 44400], [\"University of Saint Mary\", 0.5956, 24980.0, 42500], [\"Southwestern College\", 0.5624, 29732.0, 54000], [\"Sterling College\", 0.3688, 28381.0, 40500], [\"Tabor College\", 0.4639, 28788.0, 45500], [\"Washburn University\", NaN, 16740.0, 43500], [\"Wichita State University\", 0.7963, 18129.0, 45400], [\"Alice Lloyd College\", 0.2115, 18054.0, 41600], [\"Asbury University\", 0.7515, 26216.0, 40700], [\"Bellarmine University\", 0.8237, 26527.0, 50600], [\"Berea College\", 0.3296, NaN, 36300], [\"Brescia University\", 0.4783, 16150.0, 48000], [\"Campbellsville University\", 0.7764, 19446.0, 35400], [\"Centre College\", 0.7208, 28780.0, 53800], [\"University of the Cumberlands\", 0.8144, 17694.0, 38200], [\"Eastern Kentucky University\", 0.9795, 17342.0, 39300], [\"Georgetown College\", 0.7216, 21979.0, 50500], [\"Kentucky State University\", 0.8398, 12740.0, 31300], [\"Kentucky Wesleyan College\", 0.6019, 39655.0, 41700], [\"University of Kentucky\", 0.9636, 23946.0, 54000], [\"Kentucky Christian University\", 0.2829, 23955.0, 36500], [\"Lindsey Wilson College\", NaN, 19158.0, 31300], [\"University of Louisville\", 0.6512, 22004.0, 48600], [\"Midway University\", 0.7306, 27879.0, 37400], [\"Morehead State University\", 0.767, 16191.0, 37000], [\"Murray State University\", 0.7703, 15509.0, 42300], [\"Northern Kentucky University\", 0.8703, 13235.0, 41800], [\"University of Pikeville\", NaN, 18574.0, 39000], [\"The Southern Baptist Theological Seminary\", 0.7726, NaN, 0], [\"Spalding University\", 0.9343, 26419.0, 48300], [\"Thomas More University\", 0.9191, 23197.0, 58900], [\"Transylvania University\", 0.9212, 29037.0, 50100], [\"Union College\", 0.5733, 39439.0, 36400], [\"Western Kentucky University\", 0.9775, 15338.0, 38600], [\"Centenary College of Louisiana\", 0.6369, 24312.0, 52500], [\"Dillard University\", 0.6531, 22450.0, 37900], [\"Grambling State University\", 0.9322, 22134.0, 32800], [\"Louisiana State University Health Sciences Center-New Orleans\", NaN, NaN, 99800], [\"Louisiana State University-Alexandria\", 0.6354, 8731.0, 36300], [\"Louisiana State University and Agricultural & Mechanical College\", 0.7338, 24316.0, 60100], [\"Louisiana State University-Shreveport\", 0.8268, 12039.0, 41000], [\"Louisiana College\", 0.7116, 17242.0, 48300], [\"Louisiana Tech University\", 0.6357, 14306.0, 49200], [\"Loyola University New Orleans\", 0.7239, 27355.0, 52300], [\"McNeese State University\", 0.633, 13890.0, 45000], [\"University of New Orleans\", 0.8291, 16209.0, 43500], [\"Nicholls State University\", 0.9329, 15856.0, 43800], [\"University of Louisiana at Monroe\", 0.7798, 13918.0, 46300], [\"Northwestern State University of Louisiana\", 0.9485, 15754.0, 39600], [\"University of Holy Cross\", 0.5273, 20146.0, 40700], [\"Franciscan Missionaries of Our Lady University\", 0.4665, 21863.0, 49400], [\"Southeastern Louisiana University\", 0.9737, 15560.0, 42800], [\"Southern University and A & M College\", 0.4345, 21800.0, 39600], [\"Southern University at New Orleans\", 0.72, NaN, 32100], [\"University of Louisiana at Lafayette\", 0.6728, 16618.0, 46400], [\"Tulane University of Louisiana\", 0.1111, 50469.0, 86300], [\"Xavier University of Louisiana\", 0.8062, 22893.0, 64500], [\"Bates College\", 0.141, 39923.0, 74300], [\"Bowdoin College\", 0.0916, 40166.0, 83300], [\"Colby College\", 0.1027, 49197.0, 71000], [\"University of Maine at Augusta\", NaN, 15297.0, 30600], [\"University of Maine at Farmington\", 0.9461, 19571.0, 37500], [\"University of Maine at Fort Kent\", 0.9983, 17039.0, 37700], [\"University of Maine\", 0.9221, 19971.0, 48300], [\"Maine Maritime Academy\", 0.5214, 21462.0, 107200], [\"University of Maine at Presque Isle\", 0.99, 16920.0, 35300], [\"University of New England\", 0.8726, 39828.0, 51000], [\"Saint Joseph's College of Maine\", 0.8673, 31113.0, 47000], [\"University of Southern Maine\", 0.8793, 16470.0, 44400], [\"Thomas College\", NaN, 26305.0, 43400], [\"Unity College\", 0.9977, 30173.0, 37400], [\"University of Baltimore\", 0.7993, 24521.0, 63400], [\"Bowie State University\", 0.8121, 21633.0, 48700], [\"Washington Adventist University\", 0.9395, 22429.0, 46300], [\"Coppin State University\", 0.402, 13637.0, 41800], [\"Frostburg State University\", 0.7361, 22339.0, 47200], [\"Goucher College\", 0.7941, 34469.0, 55100], [\"Hood College\", 0.7133, 31485.0, 49400], [\"Johns Hopkins University\", 0.1106, 40792.0, 89300], [\"Loyola University Maryland\", 0.8024, 39009.0, 78300], [\"University of Maryland Global Campus\", NaN, NaN, 55900], [\"University of Maryland Baltimore\", NaN, NaN, 114200], [\"University of Maryland-Baltimore County\", 0.6948, 25451.0, 59600], [\"University of Maryland-College Park\", 0.5096, 26001.0, 70800], [\"Maryland Institute College of Art\", 0.8983, 42907.0, 41200], [\"University of Maryland Eastern Shore\", 0.6203, 21557.0, 40400], [\"Morgan State University\", 0.7359, 21767.0, 42600], [\"Mount St. Mary's University\", 0.8045, 29641.0, 56600], [\"Notre Dame of Maryland University\", 0.6229, 32276.0, 56400], [\"Salisbury University\", 0.7762, 23211.0, 54200], [\"St. Mary's College of Maryland\", 0.7903, 24557.0, 55200], [\"Towson University\", 0.788, 24434.0, 55100], [\"Stevenson University\", 0.8918, 40309.0, 54600], [\"Washington College\", 0.8028, 36079.0, 56500], [\"McDaniel College\", 0.8113, 28084.0, 54000], [\"Hult International Business School\", 0.4515, 39604.0, 0], [\"American International College\", 0.6938, 31696.0, 50000], [\"Amherst College\", 0.1183, 50268.0, 83300], [\"Anna Maria College\", 0.8607, 28960.0, 48100], [\"Assumption University\", 0.8092, 31932.0, 61300], [\"Babson College\", 0.2697, 51309.0, 113300], [\"Bay Path University\", 0.7831, 30421.0, 44800], [\"Becker College\", 0.8296, 35674.0, 49400], [\"Bentley University\", 0.5782, 50161.0, 95400], [\"Berklee College of Music\", 0.516, 59365.0, 38300], [\"Boston College\", 0.2638, 50368.0, 92500], [\"Boston University\", 0.2009, 50125.0, 75900], [\"Brandeis University\", 0.334, 51870.0, 69000], [\"Bridgewater State University\", 0.8231, 23059.0, 47900], [\"Cambridge College\", NaN, NaN, 40000], [\"Clark University\", 0.4713, 35695.0, 54700], [\"Curry College\", 0.9271, 32958.0, 51100], [\"Dean College\", 0.7052, 35812.0, 38100], [\"Eastern Nazarene College\", 0.6438, 26769.0, 46100], [\"Emerson College\", 0.4105, 50810.0, 51200], [\"Emmanuel College\", 0.7552, 32838.0, 54400], [\"Endicott College\", 0.704, 39607.0, 56200], [\"Fisher College\", 0.7772, 31921.0, 39600], [\"Fitchburg State University\", 0.8799, 21660.0, 47400], [\"Framingham State University\", 0.7853, 24987.0, 49000], [\"Gordon College\", 0.6827, 28656.0, 47700], [\"Hampshire College\", 0.5882, 46655.0, 39900], [\"Harvard University\", 0.0501, 42312.0, 139100], [\"College of the Holy Cross\", 0.3794, 51523.0, 88600], [\"Lasell University\", 0.8454, 30082.0, 45700], [\"Lesley University\", 0.8381, 37362.0, 40500], [\"University of Massachusetts-Lowell\", 0.752, 26598.0, 57200], [\"University of Massachusetts-Amherst\", 0.6532, 29311.0, 57700], [\"University of Massachusetts-Boston\", 0.7968, 24842.0, 53700], [\"MCPHS University\", 0.9112, 40978.0, 106500], [\"Massachusetts College of Art and Design\", 0.7027, 27324.0, 40700], [\"Massachusetts Institute of Technology\", 0.0726, 41635.0, 153600], [\"Massachusetts Maritime Academy\", 0.9248, 24835.0, 96000], [\"Merrimack College\", 0.8164, 37194.0, 62200], [\"Mount Holyoke College\", 0.5247, 39400.0, 53900], [\"Nichols College\", 0.8037, 32235.0, 53500], [\"Massachusetts College of Liberal Arts\", 0.8768, 19391.0, 38300], [\"Northeastern University\", 0.2048, 43276.0, 74200], [\"College of Our Lady of the Elms\", 0.6978, 30697.0, 49600], [\"Regis College\", 0.8408, 39056.0, 56800], [\"Salem State University\", 0.8675, 24305.0, 47100], [\"Simmons University\", 0.8255, 30584.0, 58400], [\"Smith College\", 0.3652, 46873.0, 51100], [\"Springfield College\", 0.6341, 33501.0, 48500], [\"University of Massachusetts-Dartmouth\", 0.7618, 24834.0, 51500], [\"Stonehill College\", 0.6896, 38060.0, 66800], [\"Suffolk University\", 0.859, 34508.0, 59900], [\"Tufts University\", 0.163, 55083.0, 103300], [\"Wellesley College\", 0.2041, 48540.0, 71800], [\"Wentworth Institute of Technology\", 0.9354, 39178.0, 67300], [\"Western New England University\", 0.8943, 33757.0, 61300], [\"Westfield State University\", 0.9244, 23687.0, 48900], [\"Wheaton College (Massachusetts)\", 0.7709, 31982.0, 55500], [\"Williams College\", 0.1512, 43967.0, 89800], [\"Worcester Polytechnic Institute\", 0.5905, 46023.0, 84600], [\"Worcester State University\", 0.8103, 20181.0, 52400], [\"Adrian College\", 0.6121, 28367.0, 42800], [\"Albion College\", 0.7444, 27565.0, 55700], [\"Alma College\", 0.6673, 26198.0, 46500], [\"Andrews University\", 0.4878, 26483.0, 47800], [\"Aquinas College\", 0.7091, 22510.0, 42400], [\"Baker College\", 0.5376, 16503.0, 31800], [\"Calvin University\", 0.7321, 29486.0, 48700], [\"Central Michigan University\", 0.6867, 18725.0, 46200], [\"Cleary University\", 0.6526, 21033.0, 59500], [\"Concordia University Ann Arbor\", 0.6096, 27740.0, 40600], [\"College for Creative Studies\", 0.5538, 39273.0, 50700], [\"Davenport University\", 0.9256, 24991.0, 35400], [\"University of Detroit Mercy\", 0.795, 21422.0, 53700], [\"Eastern Michigan University\", 0.7518, 19673.0, 43900], [\"Ferris State University\", 0.8246, 18975.0, 49600], [\"Kettering University\", 0.7413, 37590.0, 78500], [\"Cornerstone University\", 0.8697, 23329.0, 40800], [\"Grand Valley State University\", 0.8752, 21248.0, 47200], [\"Hope College\", 0.7783, 33816.0, 50700], [\"Kalamazoo College\", 0.7433, 29905.0, 54400], [\"Lake Superior State University\", 0.695, 19000.0, 42000], [\"Lawrence Technological University\", 0.8246, 34285.0, 60500], [\"Madonna University\", 0.6837, 21946.0, 44400], [\"Rochester University\", 0.9943, 18834.0, 39000], [\"University of Michigan-Ann Arbor\", 0.2611, 26491.0, 79000], [\"Michigan State University\", 0.7631, 27534.0, 63200], [\"Michigan Technological University\", 0.7036, 22086.0, 66800], [\"University of Michigan-Dearborn\", 0.6751, 18226.0, 56200], [\"University of Michigan-Flint\", 0.7742, 17180.0, 44500], [\"Northern Michigan University\", 0.6689, 21644.0, 39800], [\"Northwood University\", 0.768, 24003.0, 54900], [\"Oakland University\", 0.811, 20162.0, 48100], [\"Olivet College\", 0.6031, 16301.0, 42200], [\"Saginaw Valley State University\", 0.8946, 17896.0, 42700], [\"Siena Heights University\", 0.7443, 23194.0, 45300], [\"Spring Arbor University\", 0.633, 23847.0, 45000], [\"Walsh College\", NaN, NaN, 62700], [\"Wayne State University\", 0.6901, 19796.0, 52300], [\"Western Michigan University\", 0.8494, 25176.0, 50500], [\"Augsburg University\", 0.7312, 30107.0, 53200], [\"Bemidji State University\", 0.6944, 19860.0, 44000], [\"Bethany Lutheran College\", 0.6451, 21590.0, 37600], [\"Bethel University\", 0.8663, 33052.0, 52600], [\"Carleton College\", 0.2118, 39882.0, 67900], [\"Concordia College at Moorhead\", 0.5808, 27602.0, 49000], [\"Concordia University-Saint Paul\", 0.686, 19543.0, 57100], [\"Martin Luther College\", 0.8731, 25070.0, 37400], [\"Gustavus Adolphus College\", 0.7061, 30859.0, 58900], [\"Hamline University\", 0.6895, 27729.0, 55500], [\"Macalester College\", 0.3869, 43202.0, 55800], [\"Minnesota State University-Mankato\", 0.6726, 20386.0, 48400], [\"Metropolitan State University\", 0.6189, 22739.0, 51700], [\"University of Minnesota-Twin Cities\", 0.6964, 25369.0, 61200], [\"University of Minnesota-Crookston\", 0.7215, 18962.0, 49100], [\"Minneapolis College of Art and Design\", 0.5468, 34338.0, 43200], [\"Herzing University-Minneapolis\", 0.9206, NaN, 41600], [\"University of Minnesota-Duluth\", 0.7855, 23970.0, 56300], [\"University of Minnesota-Morris\", 0.6465, 18267.0, 44400], [\"Minnesota State University Moorhead\", 0.6605, 21064.0, 44900], [\"North Central University\", 0.9299, 27396.0, 35800], [\"University of Northwestern-St Paul\", 0.9222, 27205.0, 43400], [\"College of Saint Benedict\", 0.8401, 31620.0, 57000], [\"Saint Cloud State University\", 0.7322, 18761.0, 48600], [\"Saint Johns University\", 0.8138, 30928.0, 67100], [\"Saint Mary's University of Minnesota\", 0.841, 24841.0, 50400], [\"St Olaf College\", 0.5081, 35383.0, 57300], [\"Crown College\", 0.4689, 29417.0, 40100], [\"The College of Saint Scholastica\", 0.7331, 26903.0, 56000], [\"University of St Thomas\", 0.874, 32282.0, 62900], [\"St Catherine University\", 0.7615, 23382.0, 51100], [\"Southwest Minnesota State University\", 0.806, 18155.0, 41400], [\"Winona State University\", 0.7518, 20853.0, 48600], [\"Alcorn State University\", 0.3772, 12830.0, 35000], [\"Belhaven University\", 0.4954, 20681.0, 42900], [\"Blue Mountain College\", 0.9912, 13325.0, 29200], [\"Delta State University\", 0.9961, 17343.0, 37600], [\"Jackson State University\", 0.8998, 24570.0, 33700], [\"Millsaps College\", 0.6981, 28955.0, 54500], [\"University of Mississippi\", 0.8802, 19846.0, 56600], [\"Mississippi University for Women\", 0.9903, 18180.0, 38900], [\"Mississippi Valley State University\", 0.8272, 6652.0, 27200], [\"Mississippi College\", 0.2876, 22080.0, 44900], [\"Mississippi State University\", 0.8004, 20445.0, 47400], [\"Rust College\", 0.2947, 10781.0, 26600], [\"University of Southern Mississippi\", 0.9633, 18602.0, 42700], [\"Tougaloo College\", 0.712, 21784.0, 32400], [\"William Carey University\", 0.5528, 16034.0, 40500], [\"Avila University\", 0.4198, 22907.0, 49700], [\"Cox College\", 1.0, NaN, 42700], [\"Central Methodist University-College of Liberal Arts and Sciences\", 0.9534, 28812.0, 39500], [\"University of Central Missouri\", 0.6359, 16967.0, 42600], [\"Columbia College\", NaN, 23500.0, 43000], [\"Culver-Stockton College\", 0.9833, 23322.0, 40100], [\"Drury University\", 0.7068, 24089.0, 36200], [\"Evangel University\", 0.9542, 23960.0, 40900], [\"Fontbonne University\", 0.8536, 26980.0, 46300], [\"Hannibal-LaGrange University\", 0.6463, 21881.0, 38200], [\"Harris-Stowe State University\", NaN, 16242.0, 30900], [\"Barnes-Jewish College Goldfarb School of Nursing\", NaN, NaN, 59500], [\"Kansas City Art Institute\", 0.591, 31894.0, 33200], [\"Lincoln University\", NaN, 17501.0, 34600], [\"Lindenwood University\", 0.9213, 21012.0, 47000], [\"Maryville University of Saint Louis\", 0.9489, 30999.0, 51100], [\"Midwestern Baptist Theological Seminary\", 0.97, 24661.0, 0], [\"Missouri Baptist University\", 0.6484, 24360.0, 39200], [\"Missouri Southern State University\", 0.9833, 13523.0, 38100], [\"Missouri Valley College\", 0.6218, 20441.0, 38100], [\"Missouri Western State University\", NaN, 15706.0, 38200], [\"University of Missouri-Columbia\", 0.8178, 22791.0, 56600], [\"University of Missouri-Kansas City\", 0.6301, 19932.0, 57200], [\"Missouri University of Science and Technology\", 0.8146, 15983.0, 72400], [\"University of Missouri-St Louis\", 0.5759, 16373.0, 49200], [\"Truman State University\", 0.721, 15966.0, 50500], [\"Northwest Missouri State University\", 0.8011, 17030.0, 43700], [\"Ozark Christian College\", 0.9818, 19395.0, 33900], [\"College of the Ozarks\", 0.1428, 11564.0, 35300], [\"Park University\", NaN, 16601.0, 50800], [\"Rockhurst University\", 0.7289, 23554.0, 57300], [\"Saint Louis University\", 0.5554, 31815.0, 64900], [\"Southwest Baptist University\", 0.7335, 20870.0, 37400], [\"Southeast Missouri State University\", 0.9333, 17862.0, 41400], [\"Missouri State University-Springfield\", 0.8657, 19206.0, 44500], [\"Washington University in St Louis\", 0.1602, 46759.0, 87900], [\"Webster University\", 0.5312, 27658.0, 47900], [\"Westminster College\", 0.9743, 28205.0, 49800], [\"William Jewell College\", 0.364, 25933.0, 51300], [\"William Woods University\", 0.6254, 28626.0, 40300], [\"Carroll College\", 0.7302, 26629.0, 49200], [\"Montana State University Billings\", NaN, 16755.0, 38700], [\"University of Providence\", 0.9853, 25657.0, 38600], [\"Montana Technological University\", 0.9727, 18214.0, 52100], [\"Montana State University\", 0.8077, 22073.0, 48900], [\"The University of Montana\", 0.9578, 18481.0, 43300], [\"Montana State University-Northern\", NaN, 15933.0, 40400], [\"Rocky Mountain College\", 0.7117, 23838.0, 47100], [\"The University of Montana-Western\", 0.5186, 15925.0, 36700], [\"Bellevue University\", NaN, 14705.0, 60500], [\"Clarkson College\", 0.5686, 24917.0, 52900], [\"Bryan College of Health Sciences\", 0.5777, 30132.0, 53500], [\"Chadron State College\", NaN, 17671.0, 43000], [\"Concordia University-Nebraska\", 0.7583, 24423.0, 44100], [\"Creighton University\", 0.6402, 34110.0, 70100], [\"Doane University\", 0.688, 25835.0, 48200], [\"Hastings College\", 0.6595, 24129.0, 47500], [\"University of Nebraska at Kearney\", 0.8841, 20741.0, 45800], [\"Nebraska Methodist College of Nursing & Allied Health\", 0.9186, 25715.0, 50600], [\"Midland University\", 0.5079, 23880.0, 44400], [\"University of Nebraska at Omaha\", 0.8229, 18468.0, 49300], [\"University of Nebraska Medical Center\", NaN, NaN, 108500], [\"Nebraska Wesleyan University\", 0.6953, 28816.0, 52500], [\"University of Nebraska-Lincoln\", 0.7774, 21462.0, 52700], [\"Peru State College\", NaN, 16380.0, 39600], [\"College of Saint Mary\", 0.5, 20400.0, 43000], [\"Union College\", 0.976, 26298.0, 47700], [\"Wayne State College\", NaN, 16451.0, 40300], [\"University of Nevada-Las Vegas\", 0.8102, 16207.0, 49600], [\"University of Nevada-Reno\", 0.873, 19631.0, 56300], [\"Colby-Sawyer College\", 0.91, 32230.0, 47700], [\"Dartmouth College\", 0.0922, 52251.0, 110200], [\"Franklin Pierce University\", 0.8468, 27837.0, 45000], [\"New England College\", 0.9625, 42285.0, 44700], [\"Southern New Hampshire University\", 0.9354, 35819.0, 50200], [\"University of New Hampshire-Main Campus\", 0.8481, 30023.0, 57700], [\"Keene State College\", 0.9066, 24112.0, 45800], [\"University of New Hampshire at Manchester\", 0.8528, 22444.0, 57700], [\"Plymouth State University\", 0.8937, 24003.0, 45600], [\"Rivier University\", 0.7571, 25558.0, 49400], [\"Saint Anselm College\", 0.7615, 36946.0, 63200], [\"Granite State College\", NaN, 18834.0, 39300], [\"Beth Medrash Govoha\", NaN, NaN, 43700], [\"Bloomfield College\", 0.8465, 21989.0, 42700], [\"Caldwell University\", 0.9152, 32650.0, 48700], [\"Centenary University\", 0.93, 25257.0, 49700], [\"Drew University\", 0.7315, 36385.0, 58500], [\"Fairleigh Dickinson University-Metropolitan Campus\", 0.8887, 23997.0, 54400], [\"Felician University\", 0.9355, 27268.0, 52800], [\"Fairleigh Dickinson University-Florham Campus\", 0.8632, 31266.0, 54400], [\"Georgian Court University\", 0.809, 27166.0, 43600], [\"Rowan University\", 0.7801, 32162.0, 55400], [\"New Jersey City University\", 0.9633, 18837.0, 46000], [\"Kean University\", 0.7805, 24577.0, 48400], [\"Monmouth University\", 0.7893, 37538.0, 55900], [\"Montclair State University\", 0.8266, 25010.0, 52400], [\"New Jersey Institute of Technology\", 0.6603, 24952.0, 70300], [\"Princeton University\", 0.0563, 41011.0, 116300], [\"Ramapo College of New Jersey\", 0.6684, 27713.0, 56300], [\"Rider University\", 0.7566, 34591.0, 54100], [\"Rutgers University-Camden\", 0.7628, 25229.0, 68100], [\"Rutgers University-New Brunswick\", 0.6693, 30616.0, 68100], [\"Rutgers University-Newark\", 0.7409, 26810.0, 68100], [\"Saint Peter's University\", 0.8464, 24693.0, 50900], [\"Seton Hall University\", 0.7823, 39128.0, 63700], [\"Saint Elizabeth University\", 0.7538, 29382.0, 49200], [\"Stevens Institute of Technology\", 0.5306, 44590.0, 91900], [\"Stockton University\", 0.7731, 27657.0, 50700], [\"Thomas Edison State University\", NaN, NaN, 57300], [\"The College of New Jersey\", 0.5125, 33697.0, 64900], [\"William Paterson University of New Jersey\", 0.8062, 22502.0, 49100], [\"Eastern New Mexico University-Main Campus\", 0.506, 12819.0, 34800], [\"New Mexico Highlands University\", NaN, 14860.0, 37800], [\"New Mexico Institute of Mining and Technology\", 0.9658, 17705.0, 58500], [\"University of New Mexico-Main Campus\", 0.9634, 19351.0, 43900], [\"New Mexico State University-Main Campus\", 0.6267, 14399.0, 40300], [\"Western New Mexico University\", NaN, 14150.0, 35800], [\"Vaughn College of Aeronautics and Technology\", NaN, 41184.0, 59000], [\"Adelphi University\", 0.7461, 33219.0, 63000], [\"Albany College of Pharmacy and Health Sciences\", 0.7519, 34166.0, 114200], [\"Alfred University\", 0.6411, 31821.0, 47300], [\"Bard College\", 0.5695, 37172.0, 43700], [\"Barnard College\", 0.136, 52392.0, 69700], [\"Boricua College\", NaN, NaN, 35000], [\"Canisius College\", 0.7602, 23757.0, 51100], [\"Cazenovia College\", 0.7218, 26025.0, 38800], [\"Central Yeshiva Tomchei Tmimim Lubavitz\", 0.9524, 18478.0, 37100], [\"Clarkson University\", 0.7799, 35746.0, 74200], [\"Colgate University\", 0.2747, 45682.0, 81100], [\"Metropolitan College of New York\", 0.4041, NaN, 40100], [\"Columbia University in the City of New York\", 0.0666, 44438.0, 115600], [\"Concordia College\", 0.9529, 41275.0, 53100], [\"Cooper Union for the Advancement of Science and Art\", 0.1751, 29034.0, 68600], [\"Cornell University\", 0.1071, 52887.0, 101200], [\"CUNY Bernard M Baruch College\", 0.4071, 12274.0, 63600], [\"CUNY Brooklyn College\", 0.4974, 12618.0, 48800], [\"College of Staten Island CUNY\", NaN, 14528.0, 47500], [\"CUNY City College\", 0.5054, 11458.0, 50900], [\"CUNY Graduate School and University Center\", NaN, NaN, 61600], [\"CUNY Hunter College\", 0.4048, 12093.0, 51800], [\"CUNY John Jay College of Criminal Justice\", 0.3743, 12676.0, 50000], [\"CUNY Lehman College\", 0.4701, 13494.0, 47500], [\"CUNY Medgar Evers College\", 0.7848, 15360.0, 39400], [\"CUNY New York City College of Technology\", 0.7907, 12748.0, 44700], [\"CUNY Queens College\", 0.5349, 12377.0, 52900], [\"CUNY York College\", 0.5276, 13600.0, 45300], [\"D'Youville College\", 0.8307, 25341.0, 51700], [\"Daemen College\", 0.6178, 24606.0, 48200], [\"Dominican College of Blauvelt\", 0.7462, 25154.0, 52500], [\"Elmira College\", 0.8313, 24614.0, 48500], [\"Fordham University\", 0.5253, 45933.0, 67000], [\"Hamilton College\", 0.1841, 41317.0, 74300], [\"Hartwick College\", 0.931, 26559.0, 49500], [\"Hilbert College\", 0.9171, 22470.0, 47700], [\"Hobart William Smith Colleges\", 0.6184, 45782.0, 62700], [\"Hofstra University\", 0.6911, 35479.0, 59900], [\"Houghton College\", 0.7998, 24896.0, 42400], [\"Iona College\", 0.8595, 32132.0, 60900], [\"Ithaca College\", 0.7568, 40751.0, 57600], [\"Keuka College\", 0.9091, 30930.0, 46700], [\"Le Moyne College\", 0.7474, 26182.0, 55600], [\"Long Island University\", 0.8501, 25965.0, 58400], [\"Manhattan College\", 0.7765, 32596.0, 70800], [\"Manhattanville College\", 0.8981, 26576.0, 50700], [\"Marist College\", 0.5505, 42411.0, 62600], [\"Marymount Manhattan College\", 0.8818, 44630.0, 45500], [\"Medaille College\", 0.718, 16354.0, 44200], [\"Mercy College\", 0.8196, 23732.0, 44600], [\"Molloy College\", 0.7414, 31423.0, 64100], [\"Mount Saint Mary College\", 0.9017, 29381.0, 51700], [\"College of Mount Saint Vincent\", 0.9268, 24716.0, 61000], [\"Nazareth College\", 0.7568, 34285.0, 45800], [\"The New School\", 0.691, 52120.0, 55200], [\"New York University\", 0.2109, 55245.0, 78600], [\"Niagara University\", 0.9241, 25134.0, 45300], [\"New York Institute of Technology\", 0.7468, 27064.0, 68100], [\"Nyack College\", 0.9732, 25783.0, 46700], [\"Pace University\", 0.8287, 34671.0, 66800], [\"Paul Smiths College of Arts and Science\", 0.6742, 29341.0, 38400], [\"Pratt Institute-Main\", 0.6594, 50582.0, 48900], [\"Rensselaer Polytechnic Institute\", 0.5726, 43003.0, 86000], [\"Roberts Wesleyan College\", 0.7581, 28012.0, 45700], [\"Rochester Institute of Technology\", 0.7386, 41755.0, 67800], [\"University of Rochester\", 0.3543, 45827.0, 74300], [\"Russell Sage College\", 0.7431, 27753.0, 47100], [\"St Bonaventure University\", 0.7631, 28986.0, 52700], [\"St Francis College\", 0.8452, 19834.0, 50300], [\"St Lawrence University\", 0.4726, 39183.0, 60100], [\"The College of Saint Rose\", 0.8188, 25595.0, 44800], [\"St. Thomas Aquinas College\", 0.8684, 25816.0, 50500], [\"Sarah Lawrence College\", 0.5463, 41475.0, 48000], [\"Siena College\", 0.8066, 33940.0, 62300], [\"Skidmore College\", 0.3217, 44862.0, 57000], [\"St. Joseph's College-New York\", 0.7067, 19951.0, 53900], [\"Saint John Fisher College\", 0.6841, 32998.0, 52500], [\"St. John's University-New York\", 0.7507, 31022.0, 62400], [\"SUNY College of Technology at Canton\", 0.8301, 20755.0, 39600], [\"SUNY College of Agriculture and Technology at Cobleskill\", 0.8, 23401.0, 39500], [\"Farmingdale State College\", 0.6016, 16316.0, 55800], [\"SUNY at Albany\", 0.5715, 24733.0, 57600], [\"Binghamton University\", 0.4303, 26047.0, 68100], [\"University at Buffalo\", 0.6695, 24474.0, 62100], [\"Stony Brook University\", 0.4891, 23730.0, 62600], [\"SUNY College of Environmental Science and Forestry\", 0.6017, 27218.0, 49800], [\"SUNY Polytechnic Institute\", 0.733, 19408.0, 55900], [\"SUNY Brockport\", 0.5811, 22075.0, 45500], [\"SUNY Buffalo State\", 0.8007, 21387.0, 42200], [\"SUNY Cortland\", 0.522, 23213.0, 49200], [\"SUNY at Fredonia\", 0.7225, 19721.0, 44700], [\"SUNY College at Geneseo\", 0.6136, 24033.0, 53400], [\"State University of New York at New Paltz\", 0.6202, 24143.0, 48700], [\"SUNY Oneonta\", 0.6295, 23604.0, 46700], [\"SUNY College at Oswego\", 0.689, 22169.0, 47100], [\"SUNY College at Potsdam\", 0.7166, 19605.0, 41300], [\"SUNY at Purchase College\", 0.737, 24176.0, 41300], [\"SUNY College at Old Westbury\", 0.5308, 18666.0, 47500], [\"SUNY College at Plattsburgh\", 0.6103, 21697.0, 46200], [\"SUNY Empire State College\", NaN, NaN, 46800], [\"SUNY Maritime College\", 0.7271, 24524.0, 86200], [\"Syracuse University\", 0.6872, 47284.0, 69200], [\"Touro College\", 0.7598, 28359.0, 41400], [\"Excelsior College\", NaN, NaN, 0], [\"Union College\", 0.4126, 41200.0, 80200], [\"United Talmudical Seminary\", NaN, NaN, 26100], [\"United States Merchant Marine Academy\", 0.2411, 9565.0, 98600], [\"Utica College\", 0.8641, 28764.0, 48600], [\"Vassar College\", 0.2454, 43674.0, 61500], [\"Villa Maria College\", 0.7874, 20098.0, 30000], [\"Wagner College\", 0.7043, 36100.0, 64700], [\"Yeshiva University\", 0.6741, 52585.0, 78800], [\"Yeshivath Viznitz\", 0.8736, NaN, 19600], [\"Appalachian State University\", 0.7951, 19368.0, 43600], [\"Barton College\", 0.4244, 26157.0, 39400], [\"Belmont Abbey College\", 0.801, 24629.0, 44400], [\"Brevard College\", 0.4524, 28536.0, 35300], [\"Campbell University\", 0.8129, 31468.0, 58000], [\"Catawba College\", 0.5212, 23792.0, 42700], [\"Chowan University\", 0.6736, 25664.0, 36200], [\"Davidson College\", 0.2, 40636.0, 71100], [\"Duke University\", 0.0774, 49939.0, 114500], [\"East Carolina University\", 0.8792, 21665.0, 45800], [\"Elizabeth City State University\", 0.7483, 12042.0, 32200], [\"Elon University\", 0.717, 44112.0, 58700], [\"Fayetteville State University\", 0.7938, 14264.0, 34600], [\"Gardner-Webb University\", 0.7795, 26174.0, 41600], [\"Greensboro College\", 0.7761, 23362.0, 41000], [\"Guilford College\", 0.7801, 30723.0, 39500], [\"High Point University\", 0.7705, 42696.0, 42900], [\"Johnson C Smith University\", 0.492, 26829.0, 31400], [\"Lees-McRae College\", 0.7329, 28806.0, 34400], [\"Lenoir-Rhyne University\", 0.7662, 24047.0, 43600], [\"Livingstone College\", 0.6895, 23602.0, 26100], [\"Mars Hill University\", 0.6729, 24281.0, 33800], [\"Meredith College\", 0.7162, 30653.0, 43500], [\"Methodist University\", 0.7588, 36534.0, 43700], [\"Montreat College\", 0.712, 26927.0, 42500], [\"University of Mount Olive\", 0.6191, 20346.0, 43700], [\"North Carolina A & T State University\", 0.5671, 16158.0, 39300], [\"University of North Carolina at Asheville\", 0.7942, 17631.0, 38800], [\"University of North Carolina at Chapel Hill\", 0.25, 22881.0, 68800], [\"University of North Carolina at Charlotte\", 0.7953, 22783.0, 50300], [\"University of North Carolina at Greensboro\", 0.8754, 18763.0, 40900], [\"North Carolina Central University\", 0.8742, 22517.0, 35300], [\"University of North Carolina School of the Arts\", 0.3634, 20994.0, 46700], [\"North Carolina State University at Raleigh\", 0.4622, 23050.0, 59500], [\"North Carolina Wesleyan College\", 0.4759, 15926.0, 41900], [\"University of North Carolina Wilmington\", 0.6797, 23876.0, 46600], [\"William Peace University\", 0.6139, 31151.0, 36900], [\"University of North Carolina at Pembroke\", 0.9138, 15119.0, 36400], [\"Pfeiffer University\", 0.7584, 34731.0, 45000], [\"Queens University of Charlotte\", 0.6843, 31271.0, 49400], [\"Saint Augustine's University\", 0.6733, 25255.0, 30000], [\"Shaw University\", 0.7056, 29686.0, 30500], [\"St. Andrews University\", 0.6086, 28688.0, 40100], [\"Southeastern Baptist Theological Seminary\", 0.8243, 17126.0, 0], [\"Wake Forest University\", 0.3198, 52236.0, 79600], [\"Warren Wilson College\", 0.8484, 33253.0, 29500], [\"Wingate University\", 0.7327, 25214.0, 55700], [\"Winston-Salem State University\", 0.7252, 19534.0, 37200], [\"Western Carolina University\", 0.4848, 17857.0, 41300], [\"Dickinson State University\", 0.9862, 14923.0, 49300], [\"University of Jamestown\", 0.719, 21625.0, 49600], [\"University of Mary\", 0.7168, 20597.0, 53000], [\"Mayville State University\", 0.5303, 15998.0, 43300], [\"Minot State University\", 0.7733, 14662.0, 46900], [\"University of North Dakota\", 0.8675, 19054.0, 57800], [\"North Dakota State University-Main Campus\", 0.941, 19055.0, 55500], [\"Valley City State University\", 0.806, 14021.0, 41700], [\"University of Akron Main Campus\", 0.7304, 20842.0, 41800], [\"Ashland University\", 0.7435, 23527.0, 42900], [\"Baldwin Wallace University\", 0.6982, 29643.0, 49200], [\"Bluffton University\", 0.6051, 27462.0, 41700], [\"Bowling Green State University-Main Campus\", 0.753, 21360.0, 45300], [\"Capital University\", 0.7406, 19920.0, 48400], [\"Case Western Reserve University\", 0.3027, 43692.0, 89300], [\"Cedarville University\", 0.5933, 26982.0, 46800], [\"Central State University\", 0.5804, 19769.0, 28600], [\"The Christ College of Nursing and Health Sciences\", 0.7084, 19681.0, 56100], [\"University of Cincinnati-Main Campus\", 0.764, 25253.0, 49700], [\"Ohio Christian University\", NaN, 23551.0, 33000], [\"Cleveland Institute of Art\", 0.6718, 41432.0, 41600], [\"Cleveland State University\", 0.936, 20621.0, 46400], [\"Columbus College of Art and Design\", 0.9169, 31208.0, 39800], [\"University of Dayton\", 0.8111, 36375.0, 61400], [\"Defiance College\", 0.5492, 27240.0, 46500], [\"Denison University\", 0.2817, 39576.0, 57600], [\"The University of Findlay\", 0.7959, 28452.0, 49100], [\"Franklin University\", NaN, 7854.0, 53800], [\"Heidelberg University\", 0.8106, 25710.0, 45700], [\"Hiram College\", 0.9277, 29041.0, 46900], [\"John Carroll University\", 0.8784, 28540.0, 61100], [\"Kent State University at Kent\", 0.8443, 22520.0, 42400], [\"Kenyon College\", 0.3689, 48306.0, 54500], [\"Kettering College\", 0.213, 24187.0, 60200], [\"Lake Erie College\", 0.6395, 25734.0, 40600], [\"Lourdes University\", 0.7782, 22480.0, 41300], [\"Malone University\", 0.7427, 24282.0, 48100], [\"Marietta College\", 0.7391, 25298.0, 57700], [\"Mercy College of Ohio\", 0.3951, 22784.0, 49500], [\"Miami University-Hamilton\", NaN, 15592.0, 55400], [\"Miami University-Middletown\", NaN, 14406.0, 55400], [\"Miami University-Oxford\", 0.9195, 27948.0, 55400], [\"Mount Carmel College of Nursing\", 0.8082, 21615.0, 58100], [\"University of Mount Union\", 0.7741, 26506.0, 48600], [\"Mount Vernon Nazarene University\", 0.7248, 24118.0, 50000], [\"Mount Saint Joseph University\", 0.6015, 21815.0, 44600], [\"Muskingum University\", 0.7966, 23110.0, 43500], [\"Notre Dame College\", 0.8743, 21809.0, 43900], [\"Oberlin College\", 0.3536, 44465.0, 45500], [\"Ohio Dominican University\", 0.495, 22807.0, 47100], [\"Ohio Northern University\", 0.652, 29509.0, 72600], [\"Ohio State University-Lima Campus\", NaN, 16728.0, 53600], [\"Ohio State University-Main Campus\", 0.6849, 24870.0, 53600], [\"Ohio University-Main Campus\", 0.8749, 26687.0, 45800], [\"Ohio Wesleyan University\", 0.684, 29411.0, 51600], [\"Otterbein University\", 0.7606, 26676.0, 46900], [\"Shawnee State University\", NaN, 13306.0, 37500], [\"Franciscan University of Steubenville\", 0.73, 25470.0, 42700], [\"Tiffin University\", 0.6247, 27280.0, 47900], [\"University of Toledo\", 0.9468, 20514.0, 52800], [\"Union Institute & University\", NaN, NaN, 55000], [\"Ursuline College\", 0.8079, 19499.0, 50400], [\"Walsh University\", 0.7656, 22068.0, 48300], [\"Wilmington College\", 0.7272, 23751.0, 41900], [\"Wittenberg University\", 0.9743, 25677.0, 49000], [\"The College of Wooster\", 0.653, 32223.0, 53000], [\"Wright State University-Main Campus\", 0.9564, 19951.0, 46100], [\"Wright State University-Lake Campus\", 0.9961, 14835.0, 46100], [\"Xavier University\", 0.8122, 35737.0, 58200], [\"Youngstown State University\", 0.6993, 16529.0, 40200], [\"Oklahoma Wesleyan University\", 0.8266, 29298.0, 53500], [\"Southern Nazarene University\", NaN, 26633.0, 54000], [\"Cameron University\", NaN, 14284.0, 38200], [\"University of Central Oklahoma\", 0.8049, 22837.0, 44900], [\"East Central University\", 0.9645, 16585.0, 42200], [\"Langston University\", NaN, 18225.0, 31100], [\"Northeastern State University\", 0.9949, 14079.0, 41000], [\"Northwestern Oklahoma State University\", 0.7026, 15545.0, 41700], [\"Oklahoma Christian University\", 0.6121, 16960.0, 43300], [\"University of Oklahoma-Health Sciences Center\", NaN, NaN, 61900], [\"Oklahoma Panhandle State University\", NaN, 12259.0, 40800], [\"Oklahoma State University-Main Campus\", 0.6709, 20939.0, 55300], [\"Oklahoma Baptist University\", 0.5821, 26466.0, 45000], [\"Oklahoma City University\", 0.731, 30278.0, 51100], [\"University of Oklahoma-Norman Campus\", 0.8338, 26061.0, 61900], [\"Oral Roberts University\", 0.7839, 24445.0, 43100], [\"Rogers State University\", NaN, 18686.0, 39300], [\"University of Science and Arts of Oklahoma\", 0.3575, 11472.0, 36400], [\"Southeastern Oklahoma State University\", 0.7859, 13367.0, 41000], [\"Southwestern Oklahoma State University\", 0.932, 17499.0, 48200], [\"University of Tulsa\", 0.6922, 29385.0, 60500], [\"Eastern Oregon University\", 0.9425, 18733.0, 44100], [\"George Fox University\", 0.9091, 36557.0, 51000], [\"Lewis & Clark College\", 0.7982, 43640.0, 55000], [\"Linfield University-McMinnville Campus\", 0.8018, 32466.0, 60300], [\"Bushnell University\", 0.6819, 24073.0, 45700], [\"Oregon Health & Science University\", NaN, NaN, 114900], [\"Oregon Institute of Technology\", 0.9513, 19655.0, 57800], [\"Oregon State University\", 0.8221, 25384.0, 56700], [\"University of Oregon\", 0.8381, 24459.0, 51300], [\"Pacific University\", 0.893, 38265.0, 51400], [\"Portland State University\", 0.9519, 19523.0, 50800], [\"University of Portland\", 0.7722, 39393.0, 62500], [\"Reed College\", 0.4234, 43187.0, 52700], [\"Southern Oregon University\", 0.9043, 14528.0, 43400], [\"Corban University\", 0.4834, 17286.0, 40200], [\"Willamette University\", 0.8017, 42298.0, 57900], [\"Western Oregon University\", 0.7914, 18235.0, 43400], [\"Albright College\", 0.821, 30013.0, 51400], [\"Allegheny College\", 0.7315, 30854.0, 56800], [\"DeSales University\", 0.8177, 31598.0, 54700], [\"Alvernia University\", 0.7002, 37358.0, 47300], [\"Arcadia University\", 0.7363, 33396.0, 48000], [\"Bloomsburg University of Pennsylvania\", 0.8903, 24283.0, 48100], [\"Bryn Mawr College\", 0.3836, 48081.0, 61000], [\"Bucknell University\", 0.3753, 55823.0, 82400], [\"Cabrini University\", 0.6167, 27074.0, 49600], [\"California University of Pennsylvania\", 0.9432, 23144.0, 44800], [\"Carlow University\", 0.9446, 27148.0, 44200], [\"Carnegie Mellon University\", 0.1727, 52564.0, 103000], [\"Cedar Crest College\", 0.5246, 24804.0, 48700], [\"Chatham University\", 0.6619, 31977.0, 43400], [\"Chestnut Hill College\", 0.7114, 33087.0, 46800], [\"Cheyney University of Pennsylvania\", NaN, 24513.0, 31600], [\"Clarion University of Pennsylvania\", 0.9423, 23518.0, 40600], [\"Delaware Valley University\", 0.9158, 32116.0, 44700], [\"Dickinson College\", 0.5165, 41387.0, 64100], [\"Drexel University\", 0.7719, 43949.0, 78000], [\"Duquesne University\", 0.7719, 35603.0, 68200], [\"East Stroudsburg University of Pennsylvania\", 0.905, 24605.0, 47200], [\"Eastern University\", 0.6425, 28413.0, 48100], [\"Edinboro University of Pennsylvania\", 0.8503, 20994.0, 38100], [\"Elizabethtown College\", 0.8573, 28909.0, 55000], [\"Franklin and Marshall College\", 0.365, 48675.0, 69200], [\"Gannon University\", 0.7924, 25304.0, 55100], [\"Geneva College\", 0.7314, 22755.0, 43300], [\"Gettysburg College\", 0.4824, 40337.0, 66300], [\"Gwynedd Mercy University\", 0.8803, 29343.0, 56500], [\"Haverford College\", 0.1823, 48841.0, 75100], [\"Holy Family University\", 0.777, 18956.0, 54300], [\"Immaculata University\", 0.8243, 31747.0, 54700], [\"Indiana University of Pennsylvania-Main Campus\", 0.931, 27368.0, 44200], [\"Juniata College\", 0.6746, 29241.0, 56800], [\"Keystone College\", 0.7874, 36700.0, 36800], [\"King's College\", 0.8661, 30828.0, 57500], [\"Kutztown University of Pennsylvania\", 0.9319, 27404.0, 43900], [\"La Roche University\", 0.6891, 27377.0, 42800], [\"La Salle University\", 0.7635, 30451.0, 61100], [\"Lafayette College\", 0.3557, 49560.0, 80500], [\"Lancaster Bible College\", 0.9668, 26193.0, 37900], [\"Lebanon Valley College\", 0.778, 30745.0, 48500], [\"Lehigh University\", 0.4954, 61351.0, 94100], [\"Lincoln University\", 0.9034, 23427.0, 36200], [\"Lock Haven University\", 0.9308, 24957.0, 43400], [\"Lycoming College\", 0.6548, 26457.0, 49400], [\"Mansfield University of Pennsylvania\", 0.9602, 18701.0, 41300], [\"Marywood University\", 0.8203, 23253.0, 43200], [\"Mercyhurst University\", 0.8802, 30991.0, 44200], [\"Messiah University\", 0.7752, 31843.0, 50500], [\"Millersville University of Pennsylvania\", 0.8455, 26482.0, 46000], [\"Misericordia University\", 0.8329, 29751.0, 54400], [\"Moravian University\", 0.801, 31367.0, 55100], [\"Mount Aloysius College\", 0.9524, 28344.0, 43200], [\"Muhlenberg College\", 0.6218, 39530.0, 65300], [\"Neumann University\", 0.8034, 32359.0, 47200], [\"Peirce College\", NaN, NaN, 50300], [\"University of Pennsylvania\", 0.0898, 43447.0, 131600], [\"The University of the Arts\", 0.7582, 43465.0, 39100], [\"Cairn University-Langhorne\", 0.8145, 30632.0, 38700], [\"University of the Sciences\", 0.714, 35166.0, 92400], [\"University of Pittsburgh-Bradford\", 0.7919, 23635.0, 61200], [\"University of Pittsburgh-Greensburg\", 0.9002, 22756.0, 61200], [\"University of Pittsburgh-Johnstown\", 0.8662, 22081.0, 61200], [\"University of Pittsburgh-Pittsburgh Campus\", 0.6388, 32165.0, 61200], [\"Point Park University\", 0.6951, 26812.0, 42400], [\"Robert Morris University\", 0.8563, 32340.0, 53100], [\"Saint Francis University\", 0.5935, 33384.0, 57400], [\"Saint Joseph's University\", 0.8007, 37803.0, 65900], [\"Saint Vincent College\", 0.7212, 26022.0, 52100], [\"University of Scranton\", 0.7873, 39833.0, 62300], [\"Seton Hill University\", 0.7867, 26802.0, 44500], [\"Shippensburg University of Pennsylvania\", 0.9392, 27982.0, 48200], [\"Slippery Rock University of Pennsylvania\", 0.7398, 23473.0, 44800], [\"Susquehanna University\", 0.7304, 30159.0, 60900], [\"Swarthmore College\", 0.0906, 43586.0, 70000], [\"Temple University\", 0.7142, 28374.0, 59000], [\"Thiel College\", 0.8351, 26198.0, 41700], [\"Thomas Jefferson University\", 0.6984, 32470.0, 99300], [\"Ursinus College\", 0.8044, 33333.0, 61800], [\"Villanova University\", 0.3066, 53419.0, 87600], [\"Washington & Jefferson College\", 0.9018, 35134.0, 60100], [\"Waynesburg University\", 0.8996, 23834.0, 51200], [\"West Chester University of Pennsylvania\", 0.8625, 25353.0, 51200], [\"Westminster College\", 0.7651, 25232.0, 47200], [\"Widener University\", 0.7458, 33305.0, 59100], [\"Wilkes University\", 0.9177, 34459.0, 58600], [\"Wilson College\", 0.922, 27038.0, 34000], [\"York College of Pennsylvania\", 0.7077, 24898.0, 52200], [\"Brown University\", 0.0767, 44033.0, 89100], [\"Bryant University\", 0.7579, 42547.0, 77600], [\"Johnson & Wales University-Providence\", 0.8651, 30858.0, 42200], [\"Providence College\", 0.5386, 48172.0, 73400], [\"Rhode Island College\", 0.8127, 17066.0, 43900], [\"University of Rhode Island\", 0.7551, 26551.0, 58400], [\"Rhode Island School of Design\", 0.2712, 59438.0, 56400], [\"Roger Williams University\", 0.8601, 38029.0, 56000], [\"Salve Regina University\", 0.7462, 36861.0, 57700], [\"Allen University\", 0.6458, 15081.0, 26400], [\"Anderson University\", 0.592, 24837.0, 38400], [\"Charleston Southern University\", 0.5379, 19775.0, 40600], [\"Benedict College\", 0.7259, 13292.0, 27300], [\"Bob Jones University\", NaN, 20296.0, 0], [\"Southern Wesleyan University\", 0.5575, 21634.0, 46200], [\"College of Charleston\", 0.7432, 23397.0, 48700], [\"Citadel Military College of South Carolina\", 0.7995, 23308.0, 59600], [\"Claflin University\", 0.6513, 26587.0, 30700], [\"Clemson University\", 0.6194, 24808.0, 58900], [\"Coker University\", 0.9306, 20125.0, 37100], [\"Columbia International University\", 0.5067, 23351.0, 31400], [\"Columbia College\", 0.9707, 23175.0, 36200], [\"Converse University\", 0.8244, 19858.0, 34800], [\"Erskine College\", 0.6, 39170.0, 41500], [\"Francis Marion University\", 0.7525, 16989.0, 36900], [\"Furman University\", 0.6525, 41195.0, 59700], [\"Lander University\", 0.5703, 17247.0, 38100], [\"Limestone University\", 0.6829, 28677.0, 41600], [\"Newberry College\", 0.5659, 23777.0, 37600], [\"North Greenville University\", 0.6533, 23886.0, 36200], [\"Presbyterian College\", 0.7083, 27928.0, 50800], [\"University of South Carolina Aiken\", 0.5588, 16500.0, 40800], [\"University of South Carolina Beaufort\", 0.6694, 20320.0, 40400], [\"University of South Carolina-Columbia\", 0.6835, 24733.0, 53900], [\"Coastal Carolina University\", 0.7045, 18628.0, 44500], [\"South Carolina State University\", 0.9409, 22164.0, 32500], [\"University of South Carolina-Upstate\", 0.5954, 19238.0, 41300], [\"Winthrop University\", 0.6394, 21651.0, 39800], [\"Wofford College\", 0.53, 32611.0, 59800], [\"Augustana University\", 0.7138, 26997.0, 49500], [\"Black Hills State University\", 0.9714, 19151.0, 40500], [\"Dakota State University\", 0.8357, 20186.0, 43100], [\"Dakota Wesleyan University\", 0.642, 20795.0, 40900], [\"Mount Marty University\", 0.7843, 21015.0, 39400], [\"Northern State University\", 0.7871, 19301.0, 37300], [\"Presentation College\", 0.9321, 23665.0, 38100], [\"South Dakota School of Mines and Technology\", 0.8555, 21141.0, 62400], [\"South Dakota State University\", 0.8894, 20110.0, 50200], [\"University of Sioux Falls\", 0.9229, 24181.0, 44800], [\"University of South Dakota\", 0.9095, 21079.0, 49500], [\"Austin Peay State University\", 0.9115, 19300.0, 38800], [\"Baptist Health Sciences University\", 0.693, 14617.0, 56000], [\"Belmont University\", 0.8323, 40240.0, 51500], [\"Bethel University\", 0.7612, 17860.0, 43100], [\"Bryan College-Dayton\", NaN, 16993.0, 44500], [\"Carson-Newman University\", 0.7932, 23584.0, 41300], [\"Christian Brothers University\", 0.4994, 13696.0, 50000], [\"Cumberland University\", 0.5376, 23265.0, 43000], [\"Lipscomb University\", 0.615, 28522.0, 51500], [\"East Tennessee State University\", 0.7838, 17852.0, 40600], [\"Fisk University\", 0.6646, 35524.0, 36300], [\"Freed-Hardeman University\", 0.8085, 20557.0, 41100], [\"Johnson University\", 0.5497, 23175.0, 31700], [\"King University\", 0.6018, 24867.0, 50300], [\"Lane College\", NaN, NaN, 27500], [\"Le Moyne-Owen College\", 0.638, NaN, 30200], [\"Lee University\", 0.8301, 19820.0, 37800], [\"Lincoln Memorial University\", 0.6853, 34651.0, 41600], [\"The University of Tennessee Southern\", 0.9834, 24635.0, 36300], [\"Maryville College\", 0.6211, 25161.0, 44000], [\"University of Memphis\", 0.852, 18634.0, 43200], [\"Middle Tennessee State University\", 0.942, 17222.0, 44400], [\"Rhodes College\", 0.5136, 33652.0, 64800], [\"The University of the South\", 0.5607, 39437.0, 51700], [\"Southern Adventist University\", 0.7396, 28363.0, 46300], [\"Tennessee Wesleyan University\", 0.6092, 15619.0, 43700], [\"The University of Tennessee-Chattanooga\", 0.8311, 17740.0, 42600], [\"The University of Tennessee-Knoxville\", 0.7815, 25256.0, 56700], [\"The University of Tennessee-Martin\", 0.6495, 15811.0, 40100], [\"Tennessee State University\", NaN, 17852.0, 39800], [\"Tennessee Technological University\", 0.7963, 19950.0, 46700], [\"Trevecca Nazarene University\", 0.6283, 18942.0, 49000], [\"Tusculum University\", 0.6715, 18263.0, 42500], [\"Union University\", 0.5753, 26749.0, 49600], [\"Vanderbilt University\", 0.1162, 40509.0, 86200], [\"Abilene Christian University\", 0.634, 32006.0, 48900], [\"Angelo State University\", 0.7816, 19541.0, 46300], [\"Austin College\", 0.4928, 28618.0, 52800], [\"Baylor University\", 0.6847, 43975.0, 58400], [\"Concordia University Texas\", 0.9295, 29423.0, 51300], [\"Texas A & M University-Corpus Christi\", 0.9013, NaN, 48600], [\"Dallas Baptist University\", 0.9858, 28591.0, 49200], [\"University of Dallas\", 0.5378, 29550.0, 51400], [\"East Texas Baptist University\", 0.9207, 24535.0, 43600], [\"Texas A&M University-Texarkana\", 0.9646, 17719.0, 39200], [\"Texas A & M University-Commerce\", 0.6006, 20820.0, 41900], [\"Hallmark University\", 0.4051, 14941.0, 37500], [\"Hardin-Simmons University\", 0.9051, 26584.0, 48300], [\"Houston Baptist University\", 0.7151, 24033.0, 52300], [\"University of Houston-Clear Lake\", 0.8073, 23789.0, 52900], [\"University of Houston-Downtown\", 0.9282, 19307.0, 49300], [\"University of Houston-Victoria\", 0.6706, 17248.0, 46200], [\"University of Houston\", 0.6279, 21028.0, 60600], [\"Howard Payne University\", 0.4853, 29533.0, 40500], [\"Huston-Tillotson University\", 0.5596, 24148.0, 34200], [\"University of the Incarnate Word\", 0.9656, 26610.0, 52500], [\"Jarvis Christian College\", NaN, 19182.0, 27500], [\"Lamar University\", 0.8268, 18853.0, 46000], [\"Texas A & M International University\", 0.5893, 9851.0, 46700], [\"LeTourneau University\", 0.5611, 27387.0, 56800], [\"Lubbock Christian University\", 0.9651, 28939.0, 50500], [\"University of Mary Hardin-Baylor\", 0.903, 32286.0, 48700], [\"McMurry University\", 0.4739, 27259.0, 46400], [\"Midwestern State University\", 0.7096, 17564.0, 47000], [\"University of North Texas\", 0.8398, 20660.0, 49300], [\"Our Lady of the Lake University\", 0.7397, 21518.0, 42500], [\"The University of Texas Rio Grande Valley\", 0.8239, 12432.0, 44200], [\"Prairie View A & M University\", 0.7637, 23268.0, 40700], [\"Rice University\", 0.1089, 42730.0, 91600], [\"Saint Edward's University\", 0.9131, 35038.0, 55700], [\"University of St Thomas\", 0.9609, 26501.0, 59600], [\"Sam Houston State University\", 0.925, 21338.0, 49700], [\"Schreiner University\", 0.9615, 27896.0, 44300], [\"St. Mary's University\", 0.8543, 22706.0, 52000], [\"Southern Methodist University\", 0.5267, 47781.0, 77900], [\"Southwestern Assemblies of God University\", 0.8876, 27375.0, 38700], [\"Southwestern University\", 0.4937, 33335.0, 63400], [\"Stephen F Austin State University\", 0.7611, 20586.0, 46400], [\"Texas State University\", 0.8454, 21669.0, 51100], [\"Southwestern Adventist University\", 0.623, 26907.0, 47100], [\"Sul Ross State University\", 0.8083, 17508.0, 41400], [\"Tarleton State University\", 0.5775, 22730.0, 47700], [\"The University of Texas Health Science Center at San Antonio\", NaN, NaN, 111500], [\"The University of Texas Medical Branch at Galveston\", NaN, NaN, 76800], [\"Texas A & M University-Kingsville\", 0.8792, 19886.0, 49300], [\"Texas A & M University-College Station\", 0.6327, 27994.0, 67800], [\"The University of Texas at Arlington\", 0.8775, 21031.0, 54000], [\"The University of Texas at Austin\", 0.3195, 25888.0, 73900], [\"The University of Texas at Dallas\", 0.7936, 21656.0, 61400], [\"The University of Texas at El Paso\", 0.9997, 15754.0, 43300], [\"The University of Texas at Tyler\", 0.9163, 18435.0, 50500], [\"Texas Christian University\", 0.4803, 49666.0, 62600], [\"Texas College\", NaN, 17970.0, 28000], [\"Texas Lutheran University\", 0.593, 24433.0, 51100], [\"The University of Texas Permian Basin\", 0.879, 14545.0, 52300], [\"The University of Texas at San Antonio\", 0.8354, 17722.0, 49600], [\"Texas Southern University\", 0.6637, 23173.0, 37600], [\"Texas Tech University\", 0.7003, 21164.0, 61600], [\"Texas Wesleyan University\", 0.4679, 24152.0, 44400], [\"Texas Woman's University\", 0.9368, 17017.0, 49100], [\"Trinity University\", 0.3362, 33870.0, 68000], [\"The University of Texas Health Science Center at Houston\", NaN, NaN, 138400], [\"Texas Tech University Health Sciences Center\", NaN, NaN, 100600], [\"Wayland Baptist University\", 0.8144, 27697.0, 47200], [\"West Texas A & M University\", 0.5825, 20456.0, 46700], [\"Wiley College\", NaN, 16728.0, 30700], [\"Brigham Young University\", 0.6925, 17864.0, 71500], [\"Brigham Young University-Hawaii\", 0.7502, 17619.0, 49100], [\"Dixie State University\", NaN, 17751.0, 41400], [\"Southern Utah University\", 0.7556, 14974.0, 45500], [\"Utah State University\", 0.9104, 17905.0, 49600], [\"Utah Valley University\", NaN, 13248.0, 50700], [\"University of Utah\", 0.794, 17289.0, 63500], [\"Westminster College\", 0.8745, 28129.0, 58100], [\"Bennington College\", 0.5999, 39888.0, 38400], [\"Castleton University\", 0.8831, 22133.0, 40800], [\"Champlain College\", 0.8515, 38516.0, 54400], [\"Northern Vermont University\", 0.7577, 21755.0, 35600], [\"Middlebury College\", 0.2204, 42583.0, 71900], [\"Norwich University\", 0.7417, 29989.0, 57100], [\"Saint Michael's College\", 0.8781, 33747.0, 57800], [\"University of Vermont\", 0.7132, 26502.0, 55200], [\"Averett University\", 0.6938, 29942.0, 49000], [\"Bluefield University\", 0.7602, 24310.0, 46000], [\"Bridgewater College\", 0.7614, 23279.0, 46600], [\"William & Mary\", 0.4216, 34020.0, 74500], [\"Regent University\", 0.5044, 30136.0, 45600], [\"Christopher Newport University\", 0.7642, 30067.0, 52000], [\"Emory & Henry College\", 0.7541, 27000.0, 45000], [\"Eastern Mennonite University\", 0.7182, 26851.0, 44700], [\"Ferrum College\", 0.7583, 28442.0, 41100], [\"George Mason University\", 0.892, 24730.0, 63900], [\"Hampden-Sydney College\", 0.4701, 35794.0, 59000], [\"Hampton University\", 0.36, 36916.0, 50100], [\"Hollins University\", 0.8079, 24375.0, 37900], [\"James Madison University\", 0.8049, 27196.0, 63300], [\"Liberty University\", 0.5013, 31193.0, 41400], [\"Longwood University\", 0.8734, 24602.0, 45300], [\"University of Lynchburg\", 0.9727, 26516.0, 48800], [\"Mary Baldwin University\", 0.871, 21704.0, 39500], [\"University of Mary Washington\", 0.7549, 28327.0, 56200], [\"Marymount University\", 0.8526, 25638.0, 57000], [\"Norfolk State University\", 0.9107, 26439.0, 38800], [\"Old Dominion University\", 0.9541, 22857.0, 48700], [\"Radford University\", 0.7868, 22180.0, 48000], [\"Randolph-Macon College\", 0.7131, 28789.0, 54800], [\"University of Richmond\", 0.309, 45094.0, 78900], [\"Roanoke College\", 0.7813, 32099.0, 52000], [\"Shenandoah University\", 0.7438, 33883.0, 52300], [\"Southern Virginia University\", 0.9903, 24927.0, 39100], [\"University of Virginia's College at Wise\", 0.8257, 16589.0, 43800], [\"Virginia Polytechnic Institute and State University\", 0.6577, 26368.0, 67100], [\"Virginia Commonwealth University\", 0.906, 27769.0, 49700], [\"University of Virginia-Main Campus\", 0.2258, 31495.0, 79400], [\"Virginia Military Institute\", 0.5988, 27394.0, 65200], [\"Virginia State University\", 0.9626, 22478.0, 38400], [\"Virginia Union University\", 0.7535, 21041.0, 34200], [\"Virginia Wesleyan University\", 0.7399, 25456.0, 44100], [\"Washington and Lee University\", 0.2451, 42003.0, 93300], [\"Central Washington University\", 0.8599, 22466.0, 50100], [\"City University of Seattle\", NaN, NaN, 53400], [\"Eastern Washington University\", 0.7894, 18760.0, 46700], [\"The Evergreen State College\", 0.9838, 21781.0, 36900], [\"Gonzaga University\", 0.7289, 39730.0, 63800], [\"Heritage University\", NaN, NaN, 36800], [\"Northwest University\", 0.9277, 27838.0, 46300], [\"Pacific Lutheran University\", 0.863, 28832.0, 53500], [\"University of Puget Sound\", 0.8685, 41005.0, 59100], [\"Saint Martin's University\", 0.9419, 27884.0, 51600], [\"Seattle Pacific University\", 0.9062, 35993.0, 54200], [\"Seattle University\", 0.8323, 40015.0, 63200], [\"Walla Walla University\", NaN, 26717.0, 50900], [\"Washington State University\", 0.7995, 23684.0, 56600], [\"University of Washington-Seattle Campus\", 0.5586, 25264.0, 69600], [\"Western Washington University\", 0.9351, 23101.0, 50600], [\"Whitman College\", 0.5413, 47231.0, 59400], [\"Whitworth University\", 0.9101, 33240.0, 48000], [\"Alderson Broaddus University\", 0.5276, 26485.0, 47000], [\"Bethany College\", 0.9184, 10247.0, 44200], [\"Bluefield State College\", 0.9003, 15707.0, 31900], [\"University of Charleston\", 0.6148, 31978.0, 46800], [\"Concord University\", 0.914, 12954.0, 35700], [\"Davis & Elkins College\", 0.6905, 21312.0, 40200], [\"Fairmont State University\", 0.9434, 16177.0, 38400], [\"Glenville State College\", NaN, 21552.0, 38400], [\"Marshall University\", 0.8925, 13981.0, 41700], [\"Shepherd University\", 0.977, 14684.0, 43000], [\"West Virginia State University\", 0.885, 19077.0, 33800], [\"West Liberty University\", 0.6844, 18460.0, 39500], [\"West Virginia University Institute of Technology\", 0.5512, 14688.0, 52700], [\"West Virginia Wesleyan College\", 0.6572, 27647.0, 48800], [\"West Virginia University\", 0.8389, 16972.0, 52700], [\"Wheeling University\", 0.7682, 31851.0, 49600], [\"Alverno College\", 0.7823, 26132.0, 40900], [\"Beloit College\", 0.5834, 18666.0, 47700], [\"Cardinal Stritch University\", 0.769, 21320.0, 55400], [\"Carroll University\", 0.7177, 25164.0, 47000], [\"Carthage College\", 0.7663, 29677.0, 50100], [\"Concordia University-Wisconsin\", 0.7053, 26027.0, 47300], [\"Edgewood College\", 0.912, 28589.0, 47600], [\"Lakeland University\", 0.9247, 27129.0, 45100], [\"Lawrence University\", 0.6892, 30682.0, 48700], [\"Maranatha Baptist University\", 0.805, 24738.0, 38700], [\"Marian University\", 0.6767, 28212.0, 46700], [\"Marquette University\", 0.8249, 37735.0, 70700], [\"Milwaukee Institute of Art & Design\", 0.6195, 29678.0, 37500], [\"Milwaukee School of Engineering\", 0.6009, 30042.0, 71100], [\"Mount Mary University\", 0.5301, 28270.0, 43000], [\"Northland College\", 0.643, 24341.0, 35500], [\"Ripon College\", 0.7406, 26820.0, 51300], [\"Saint Norbert College\", 0.8425, 30484.0, 51300], [\"Viterbo University\", 0.7925, 25553.0, 47400], [\"University of Wisconsin-Whitewater\", 0.7992, 17815.0, 45800], [\"University of Wisconsin-Eau Claire\", 0.8436, 19798.0, 50300], [\"University of Wisconsin-Green Bay\", 0.8982, 16985.0, 44500], [\"University of Wisconsin-La Crosse\", 0.7515, 17059.0, 52500], [\"Wisconsin Lutheran College\", 0.9562, 26243.0, 45300], [\"University of Wisconsin-Oshkosh\", 0.7858, 18003.0, 45600], [\"University of Wisconsin-Parkside\", 0.6631, 15945.0, 42600], [\"Herzing University-Madison\", 0.9191, 22744.0, 41600], [\"University of Wisconsin-Stout\", 0.901, 18753.0, 48700], [\"University of Wisconsin-Superior\", 0.8613, 18085.0, 39800], [\"University of Wisconsin-Madison\", 0.5725, 25436.0, 68000], [\"University of Wisconsin-Milwaukee\", 0.7869, 21499.0, 48200], [\"University of Wisconsin-Platteville\", 0.8148, 17555.0, 51200], [\"University of Wisconsin-River Falls\", 0.7685, 16996.0, 44900], [\"University of Wisconsin-Stevens Point\", 0.8654, 17225.0, 43600], [\"University of Wyoming\", 0.9423, 15858.0, 54200], [\"University of Guam\", NaN, NaN, 33300], [\"Universidad Adventista de las Antillas\", 1.0, 9027.0, 27300], [\"Atlantic University College\", NaN, NaN, 25600], [\"Universidad Central de Bayamon\", 0.8797, NaN, 21600], [\"Albizu University-San Juan\", 0.8, NaN, 34000], [\"Caribbean University-Bayamon\", NaN, NaN, 21400], [\"Pontifical Catholic University of Puerto Rico-Ponce\", 0.912, 15770.0, 21400], [\"Colegio Universitario de San Juan\", 0.875, NaN, 28100], [\"Universidad Ana G. Mendez-Cupey Campus\", NaN, NaN, 22700], [\"Inter American University of Puerto Rico-San German\", 0.4458, NaN, 23500], [\"Inter American University of Puerto Rico-Aguadilla\", 0.4271, 11431.0, 23500], [\"Inter American University of Puerto Rico-Arecibo\", 0.3899, NaN, 23500], [\"Inter American University of Puerto Rico-Barranquitas\", 0.4083, NaN, 23500], [\"Inter American University of Puerto Rico-Metro\", 0.6163, 16095.0, 23500], [\"Inter American University of Puerto Rico-Ponce\", 0.3542, 11350.0, 23500], [\"Inter American University of Puerto Rico-Fajardo\", 0.4949, NaN, 23500], [\"Inter American University of Puerto Rico-Guayama\", 0.4204, NaN, 23500], [\"Inter American University of Puerto Rico-Bayamon\", 0.4804, 13100.0, 23500], [\"University of Puerto Rico-Aguadilla\", 0.8823, NaN, 0], [\"University of Puerto Rico-Arecibo\", 0.6102, 9821.0, 0], [\"University of Puerto Rico-Bayamon\", 0.9107, NaN, 0], [\"University of Puerto Rico-Carolina\", 0.429, NaN, 0], [\"University of Puerto Rico-Cayey\", 0.8936, 11107.0, 0], [\"University of Puerto Rico-Humacao\", 0.532, NaN, 0], [\"University of Puerto Rico-Mayaguez\", 0.674, 15659.0, 0], [\"University of Puerto Rico at Ponce\", 0.5029, NaN, 0], [\"University of Puerto Rico-Rio Piedras\", 0.4865, NaN, 0], [\"Universidad Ana G. Mendez-Carolina Campus\", NaN, 7092.0, 22700], [\"Universidad del Sagrado Corazon\", 0.4331, 18515.0, 23400], [\"Universidad Politecnica de Puerto Rico\", NaN, 20565.0, 36300], [\"Pontifical Catholic University of Puerto Rico-Mayaguez\", 0.9656, 12759.0, 21400], [\"Universidad Ana G. Mendez-Gurabo Campus\", NaN, 8271.0, 24000], [\"University of the Virgin Islands\", 0.9969, 13035.0, 35500], [\"Stanford University\", 0.0519, 46746.0, 141300], [\"Purdue University-Main Campus\", 0.6715, 20859.0, 62200], [\"Mid-America Christian University\", NaN, 18963.0, 44700], [\"UMass Global\", 0.9498, NaN, 0], [\"New College of Florida\", 0.6997, 13862.0, 0], [\"California State University-San Marcos\", 0.7942, 21551.0, 51100], [\"Hodges University\", NaN, 24217.0, 43600], [\"University of Washington-Bothell Campus\", 0.8793, 22404.0, 69600], [\"University of Washington-Tacoma Campus\", 0.8605, 20078.0, 69600], [\"Everglades University\", 0.7519, 34671.0, 49600], [\"California State University-Monterey Bay\", 0.8562, 21728.0, 47000], [\"Johnson & Wales University-North Miami\", NaN, NaN, 42200], [\"Embry-Riddle Aeronautical University-Worldwide\", 0.6272, 22574.0, 70300], [\"Western Governors University\", NaN, NaN, 48100], [\"Florida Gulf Coast University\", 0.7749, 16804.0, 45800], [\"Nevada State College\", 0.8993, 19245.0, 0], [\"California State University-Channel Islands\", 0.7943, 24116.0, 51900], [\"University of California-Merced\", 0.848, 30123.0, 0], [\"Central Methodist University-College of Graduate and Extended Studies\", 1.0, NaN, 39500], [\"Johnson & Wales University-Charlotte\", 0.8227, 30296.0, 42200], [\"Roseman University of Health Sciences\", NaN, NaN, 0], [\"Ave Maria University\", 0.9179, 20335.0, 33700], [\"Uta Mesivta of Kiryas Joel\", NaN, NaN, 32600], [\"Harrisburg University of Science and Technology\", NaN, 13704.0, 0], [\"Georgia Gwinnett College\", 0.9451, 16922.0, 0], [\"University of Minnesota-Rochester\", 0.7375, 23472.0, 61200], [\"Herzing University-Kenosha\", 0.914, 28529.0, 41600], [\"Texas A&M University-San Antonio\", 0.5985, 20174.0, 0], [\"Johnson & Wales University-Online\", 0.3649, NaN, 42200], [\"Los Angeles Pacific University\", NaN, NaN, 55900], [\"Be'er Yaakov Talmudic Seminary\", NaN, NaN, 0], [\"Colorado State University-Global Campus\", 0.9826, NaN, 0], [\"Florida Institute of Technology-Online\", 1.0, NaN, 61200], [\"Augusta University\", 0.8288, 15414.0, 70600], [\"Middle Georgia State University\", 0.9932, 14357.0, 35000], [\"University of North Georgia\", 0.8145, 13392.0, 46200], [\"Northeastern University Professional Programs\", NaN, NaN, 74200], [\"Florida Polytechnic University\", 0.5844, 17732.0, 0], [\"Texas A&M University-Central Texas\", 0.9245, NaN, 0], [\"Arizona State University Digital Immersion\", 0.7258, NaN, 55500], [\"Ana G. Mendez University\", NaN, NaN, 0], [\"University of Florida-Online\", 0.6239, 12428.0, 65700], [\"University of North Texas at Dallas\", 0.9299, 11196.0, 49300], [\"Kennesaw State University\", 0.8311, 21279.0, 0], [\"Milligan University\", 0.9923, 24563.0, 0], [\"Husson University\", 0.8466, 25672.0, 0], [\"Northwest University-Center for Online and Extended Education\", NaN, 27663.0, 0], [\"Indiana Wesleyan University-National & Global\", NaN, 23078.0, 0], [\"Purdue University Global\", NaN, NaN, 0], [\"Purdue University Northwest\", 0.3028, 17408.0, 0], [\"University of Wisconsin-Milwaukee Flex\", 1.0, NaN, 0]];\n",
       "        // Display the table\n",
       "        $(document).ready(function () {\n",
       "            window.initializeDataTable().then(() => {\n",
       "\n",
       "                // Define the dt_args\n",
       "                let dt_args = {\"order\": []};\n",
       "                dt_args[\"data\"] = data;\n",
       "\n",
       "                \n",
       "                $('#c941aeef-821d-48f1-8800-0f8ba938e060').DataTable(dt_args);\n",
       "            });\n",
       "        })\n",
       "    }\n",
       "</script>\n",
       "</div>\n"
      ],
      "text/plain": [
       "                                                               name  \\\n",
       "0                                          Alabama A & M University   \n",
       "1                               University of Alabama at Birmingham   \n",
       "2                               University of Alabama in Huntsville   \n",
       "3                                          Alabama State University   \n",
       "4                                         The University of Alabama   \n",
       "...                                                             ...   \n",
       "1473  Northwest University-Center for Online and Extended Education   \n",
       "1474                  Indiana Wesleyan University-National & Global   \n",
       "1475                                       Purdue University Global   \n",
       "1476                                    Purdue University Northwest   \n",
       "1477                         University of Wisconsin-Milwaukee Flex   \n",
       "\n",
       "      admission_rate.overall  net_price.by_income_level.110001-plus  \\\n",
       "0                     0.8965                                20483.0   \n",
       "1                     0.8060                                19717.0   \n",
       "2                     0.7711                                19862.0   \n",
       "3                     0.9888                                17559.0   \n",
       "4                     0.8039                                23605.0   \n",
       "...                      ...                                    ...   \n",
       "1473                     NaN                                27663.0   \n",
       "1474                     NaN                                23078.0   \n",
       "1475                     NaN                                    NaN   \n",
       "1476                  0.3028                                17408.0   \n",
       "1477                  1.0000                                    NaN   \n",
       "\n",
       "      10_yrs_after_entry.working_not_enrolled.mean_earnings  \n",
       "0                                                     35500  \n",
       "1                                                     48400  \n",
       "2                                                     52000  \n",
       "3                                                     30600  \n",
       "4                                                     51600  \n",
       "...                                                     ...  \n",
       "1473                                                      0  \n",
       "1474                                                      0  \n",
       "1475                                                      0  \n",
       "1476                                                      0  \n",
       "1477                                                      0  \n",
       "\n",
       "[1478 rows x 4 columns]"
      ]
     },
     "execution_count": 16,
     "metadata": {},
     "output_type": "execute_result"
    }
   ],
   "source": [
    "df[['name','admission_rate.overall','net_price.by_income_level.110001-plus','10_yrs_after_entry.working_not_enrolled.mean_earnings']]"
   ]
  },
  {
   "cell_type": "code",
   "execution_count": 59,
   "id": "b10d7c75-89e2-4971-b501-f67d57585afd",
   "metadata": {},
   "outputs": [
    {
     "data": {
      "application/vnd.plotly.v1+json": {
       "config": {
        "plotlyServerURL": "https://plot.ly"
       },
       "data": [
        {
         "customdata": [
          [
           23445
          ],
          [
           25542
          ],
          [
           24861
          ],
          [
           21892
          ],
          [
           30016
          ],
          [
           null
          ],
          [
           20225
          ],
          [
           32196
          ],
          [
           32514
          ],
          [
           34835
          ],
          [
           37483
          ],
          [
           21560
          ],
          [
           22645
          ],
          [
           22684
          ],
          [
           36890
          ],
          [
           26018
          ],
          [
           21502
          ],
          [
           37764
          ],
          [
           49634
          ],
          [
           21694
          ],
          [
           55844
          ],
          [
           27665
          ],
          [
           24220
          ],
          [
           21251
          ],
          [
           40750
          ],
          [
           18946
          ],
          [
           19135
          ],
          [
           27056
          ],
          [
           27461
          ],
          [
           54536
          ],
          [
           27969
          ],
          [
           44585
          ],
          [
           20416
          ],
          [
           null
          ],
          [
           41396
          ],
          [
           23997
          ],
          [
           19541
          ],
          [
           23009
          ],
          [
           19361
          ],
          [
           23185
          ],
          [
           26390
          ],
          [
           31647
          ],
          [
           23005
          ],
          [
           64046
          ],
          [
           40774
          ],
          [
           40200
          ],
          [
           34832
          ],
          [
           26178
          ],
          [
           30063
          ],
          [
           23044
          ],
          [
           17288
          ],
          [
           66046
          ],
          [
           56802
          ],
          [
           58012
          ],
          [
           48731
          ],
          [
           68956
          ],
          [
           74763
          ],
          [
           60668
          ],
          [
           28927
          ],
          [
           18661
          ],
          [
           17424
          ],
          [
           19114
          ],
          [
           22365
          ],
          [
           25073
          ],
          [
           15019
          ],
          [
           17683
          ],
          [
           17791
          ],
          [
           23357
          ],
          [
           19846
          ],
          [
           15307
          ],
          [
           19794
          ],
          [
           21576
          ],
          [
           39016
          ],
          [
           35532
          ],
          [
           34355
          ],
          [
           35497
          ],
          [
           30561
          ],
          [
           33240
          ],
          [
           36492
          ],
          [
           35925
          ],
          [
           74111
          ],
          [
           28149
          ],
          [
           74336
          ],
          [
           53235
          ],
          [
           76475
          ],
          [
           35331
          ],
          [
           67366
          ],
          [
           43317
          ],
          [
           null
          ],
          [
           79539
          ],
          [
           57486
          ],
          [
           24991
          ],
          [
           60759
          ],
          [
           50805
          ],
          [
           45629
          ],
          [
           null
          ],
          [
           40783
          ],
          [
           70235
          ],
          [
           51791
          ],
          [
           62162
          ],
          [
           48360
          ],
          [
           57689
          ],
          [
           26208
          ],
          [
           76600
          ],
          [
           66695
          ],
          [
           46231
          ],
          [
           44714
          ],
          [
           64784
          ],
          [
           75312
          ],
          [
           75850
          ],
          [
           53045
          ],
          [
           74438
          ],
          [
           68156
          ],
          [
           null
          ],
          [
           23367
          ],
          [
           70440
          ],
          [
           24513
          ],
          [
           69987
          ],
          [
           50819
          ],
          [
           25747
          ],
          [
           74297
          ],
          [
           77588
          ],
          [
           46394
          ],
          [
           69071
          ],
          [
           26537
          ],
          [
           48086
          ],
          [
           77362
          ],
          [
           64240
          ],
          [
           61052
          ],
          [
           55032
          ],
          [
           22317
          ],
          [
           22702
          ],
          [
           22169
          ],
          [
           31034
          ],
          [
           46894
          ],
          [
           74760
          ],
          [
           36107
          ],
          [
           27513
          ],
          [
           69469
          ],
          [
           23881
          ],
          [
           22143
          ],
          [
           19975
          ],
          [
           23864
          ],
          [
           51593
          ],
          [
           21950
          ],
          [
           24194
          ],
          [
           49375
          ],
          [
           53853
          ],
          [
           22518
          ],
          [
           16369
          ],
          [
           74590
          ],
          [
           33896
          ],
          [
           27425
          ],
          [
           67080
          ],
          [
           57475
          ],
          [
           48699
          ],
          [
           58438
          ],
          [
           66237
          ],
          [
           61591
          ],
          [
           50959
          ],
          [
           25413
          ],
          [
           76850
          ],
          [
           75693
          ],
          [
           23110
          ],
          [
           76645
          ],
          [
           23888
          ],
          [
           28708
          ],
          [
           39197
          ],
          [
           40704
          ],
          [
           18524
          ],
          [
           66416
          ],
          [
           65857
          ],
          [
           22638
          ],
          [
           38892
          ],
          [
           74023
          ],
          [
           76280
          ],
          [
           45971
          ],
          [
           32710
          ],
          [
           47118
          ],
          [
           30219
          ],
          [
           55651
          ],
          [
           21309
          ],
          [
           63342
          ],
          [
           26503
          ],
          [
           54724
          ],
          [
           23312
          ],
          [
           21761
          ],
          [
           35809
          ],
          [
           33648
          ],
          [
           59433
          ],
          [
           19384
          ],
          [
           28157
          ],
          [
           52794
          ],
          [
           22278
          ],
          [
           21151
          ],
          [
           54991
          ],
          [
           69563
          ],
          [
           19469
          ],
          [
           50429
          ],
          [
           49839
          ],
          [
           69060
          ],
          [
           66805
          ],
          [
           38890
          ],
          [
           21134
          ],
          [
           46539
          ],
          [
           63006
          ],
          [
           39276
          ],
          [
           46341
          ],
          [
           34297
          ],
          [
           42702
          ],
          [
           17716
          ],
          [
           55403
          ],
          [
           34160
          ],
          [
           39194
          ],
          [
           52966
          ],
          [
           44094
          ],
          [
           31902
          ],
          [
           18200
          ],
          [
           18374
          ],
          [
           19807
          ],
          [
           49420
          ],
          [
           11526
          ],
          [
           31589
          ],
          [
           72604
          ],
          [
           20264
          ],
          [
           29291
          ],
          [
           19125
          ],
          [
           28707
          ],
          [
           22608
          ],
          [
           27206
          ],
          [
           27329
          ],
          [
           46034
          ],
          [
           37684
          ],
          [
           29587
          ],
          [
           52940
          ],
          [
           48802
          ],
          [
           55451
          ],
          [
           40949
          ],
          [
           39983
          ],
          [
           58367
          ],
          [
           16819
          ],
          [
           34403
          ],
          [
           54163
          ],
          [
           27354
          ],
          [
           37297
          ],
          [
           33299
          ],
          [
           20998
          ],
          [
           34952
          ],
          [
           23684
          ],
          [
           44203
          ],
          [
           38649
          ],
          [
           20440
          ],
          [
           23405
          ],
          [
           47698
          ],
          [
           19914
          ],
          [
           21621
          ],
          [
           20652
          ],
          [
           21525
          ],
          [
           45607
          ],
          [
           16922
          ],
          [
           42068
          ],
          [
           12381
          ],
          [
           68575
          ],
          [
           55924
          ],
          [
           35658
          ],
          [
           48295
          ],
          [
           21867
          ],
          [
           81531
          ],
          [
           45103
          ],
          [
           42750
          ],
          [
           57122
          ],
          [
           24125
          ],
          [
           48429
          ],
          [
           37986
          ],
          [
           21549
          ],
          [
           40959
          ],
          [
           25831
          ],
          [
           46006
          ],
          [
           30302
          ],
          [
           63174
          ],
          [
           44465
          ],
          [
           64710
          ],
          [
           31124
          ],
          [
           40737
          ],
          [
           60393
          ],
          [
           62405
          ],
          [
           43255
          ],
          [
           31844
          ],
          [
           60717
          ],
          [
           44383
          ],
          [
           30504
          ],
          [
           49304
          ],
          [
           51176
          ],
          [
           29460
          ],
          [
           23675
          ],
          [
           52405
          ],
          [
           39373
          ],
          [
           26312
          ],
          [
           78654
          ],
          [
           24295
          ],
          [
           48119
          ],
          [
           41831
          ],
          [
           43866
          ],
          [
           44322
          ],
          [
           43228
          ],
          [
           42819
          ],
          [
           41360
          ],
          [
           24309
          ],
          [
           29023
          ],
          [
           24244
          ],
          [
           42996
          ],
          [
           47226
          ],
          [
           null
          ],
          [
           26287
          ],
          [
           50923
          ],
          [
           44342
          ],
          [
           24439
          ],
          [
           40149
          ],
          [
           61623
          ],
          [
           26540
          ],
          [
           66946
          ],
          [
           61156
          ],
          [
           50986
          ],
          [
           46533
          ],
          [
           44994
          ],
          [
           36725
          ],
          [
           52998
          ],
          [
           38461
          ],
          [
           19224
          ],
          [
           21127
          ],
          [
           44681
          ],
          [
           40161
          ],
          [
           20146
          ],
          [
           22718
          ],
          [
           16738
          ],
          [
           16667
          ],
          [
           25587
          ],
          [
           13054
          ],
          [
           17421
          ],
          [
           16144
          ],
          [
           45489
          ],
          [
           49112
          ],
          [
           39347
          ],
          [
           74172
          ],
          [
           37683
          ],
          [
           70401
          ],
          [
           40759
          ],
          [
           42591
          ],
          [
           58956
          ],
          [
           48656
          ],
          [
           47142
          ],
          [
           53847
          ],
          [
           58770
          ],
          [
           45452
          ],
          [
           48297
          ],
          [
           53402
          ],
          [
           48724
          ],
          [
           58857
          ],
          [
           58201
          ],
          [
           46028
          ],
          [
           57643
          ],
          [
           47188
          ],
          [
           43960
          ],
          [
           39864
          ],
          [
           70346
          ],
          [
           21740
          ],
          [
           45994
          ],
          [
           24806
          ],
          [
           46290
          ],
          [
           57885
          ],
          [
           28730
          ],
          [
           29813
          ],
          [
           45927
          ],
          [
           48189
          ],
          [
           21047
          ],
          [
           45760
          ],
          [
           46894
          ],
          [
           53845
          ],
          [
           45237
          ],
          [
           55508
          ],
          [
           38337
          ],
          [
           44473
          ],
          [
           46309
          ],
          [
           49294
          ],
          [
           30742
          ],
          [
           19526
          ],
          [
           18111
          ],
          [
           39879
          ],
          [
           26204
          ],
          [
           41633
          ],
          [
           24626
          ],
          [
           44254
          ],
          [
           44154
          ],
          [
           48863
          ],
          [
           47369
          ],
          [
           18657
          ],
          [
           42175
          ],
          [
           46869
          ],
          [
           40406
          ],
          [
           44240
          ],
          [
           20011
          ],
          [
           20418
          ],
          [
           25490
          ],
          [
           42462
          ],
          [
           56319
          ],
          [
           54866
          ],
          [
           36939
          ],
          [
           38502
          ],
          [
           56645
          ],
          [
           23624
          ],
          [
           23384
          ],
          [
           53196
          ],
          [
           16885
          ],
          [
           40177
          ],
          [
           30178
          ],
          [
           34496
          ],
          [
           38208
          ],
          [
           28247
          ],
          [
           41077
          ],
          [
           22059
          ],
          [
           21349
          ],
          [
           17869
          ],
          [
           33068
          ],
          [
           null
          ],
          [
           38163
          ],
          [
           42003
          ],
          [
           53097
          ],
          [
           39439
          ],
          [
           21084
          ],
          [
           55300
          ],
          [
           33421
          ],
          [
           24332
          ],
          [
           null
          ],
          [
           14207
          ],
          [
           32724
          ],
          [
           19065
          ],
          [
           27669
          ],
          [
           21927
          ],
          [
           54417
          ],
          [
           19489
          ],
          [
           20864
          ],
          [
           21275
          ],
          [
           20851
          ],
          [
           22940
          ],
          [
           23715
          ],
          [
           26751
          ],
          [
           21073
          ],
          [
           23592
          ],
          [
           16762
          ],
          [
           22948
          ],
          [
           75628
          ],
          [
           36391
          ],
          [
           73538
          ],
          [
           73800
          ],
          [
           73600
          ],
          [
           16948
          ],
          [
           22802
          ],
          [
           18521
          ],
          [
           24581
          ],
          [
           28208
          ],
          [
           17586
          ],
          [
           56844
          ],
          [
           52614
          ],
          [
           19582
          ],
          [
           40911
          ],
          [
           42474
          ],
          [
           24521
          ],
          [
           22891
          ],
          [
           33721
          ],
          [
           17787
          ],
          [
           24650
          ],
          [
           62979
          ],
          [
           56168
          ],
          [
           74001
          ],
          [
           67196
          ],
          [
           19764
          ],
          [
           null
          ],
          [
           25997
          ],
          [
           27343
          ],
          [
           66413
          ],
          [
           24348
          ],
          [
           23254
          ],
          [
           57867
          ],
          [
           52667
          ],
          [
           25057
          ],
          [
           30610
          ],
          [
           25697
          ],
          [
           53066
          ],
          [
           65405
          ],
          [
           58638
          ],
          [
           62875
          ],
          [
           51505
          ],
          [
           76750
          ],
          [
           52919
          ],
          [
           57238
          ],
          [
           72378
          ],
          [
           48102
          ],
          [
           55633
          ],
          [
           71094
          ],
          [
           66342
          ],
          [
           75872
          ],
          [
           74911
          ],
          [
           76044
          ],
          [
           23845
          ],
          [
           null
          ],
          [
           58153
          ],
          [
           57260
          ],
          [
           59018
          ],
          [
           41194
          ],
          [
           72119
          ],
          [
           58787
          ],
          [
           52642
          ],
          [
           48411
          ],
          [
           22881
          ],
          [
           25810
          ],
          [
           51869
          ],
          [
           67079
          ],
          [
           75914
          ],
          [
           71448
          ],
          [
           54730
          ],
          [
           47620
          ],
          [
           29174
          ],
          [
           31749
          ],
          [
           28910
          ],
          [
           54955
          ],
          [
           29569
          ],
          [
           73160
          ],
          [
           28602
          ],
          [
           59617
          ],
          [
           69578
          ],
          [
           52520
          ],
          [
           24458
          ],
          [
           73196
          ],
          [
           50266
          ],
          [
           61605
          ],
          [
           26423
          ],
          [
           60221
          ],
          [
           75169
          ],
          [
           55078
          ],
          [
           28948
          ],
          [
           62253
          ],
          [
           57850
          ],
          [
           76151
          ],
          [
           75198
          ],
          [
           52232
          ],
          [
           52924
          ],
          [
           24844
          ],
          [
           70453
          ],
          [
           75520
          ],
          [
           69233
          ],
          [
           21870
          ],
          [
           54621
          ],
          [
           62041
          ],
          [
           55662
          ],
          [
           40948
          ],
          [
           43921
          ],
          [
           19593
          ],
          [
           50191
          ],
          [
           25078
          ],
          [
           35998
          ],
          [
           45348
          ],
          [
           57085
          ],
          [
           31321
          ],
          [
           38440
          ],
          [
           24994
          ],
          [
           23106
          ],
          [
           58080
          ],
          [
           35814
          ],
          [
           24280
          ],
          [
           48607
          ],
          [
           63808
          ],
          [
           23239
          ],
          [
           49729
          ],
          [
           35736
          ],
          [
           33013
          ],
          [
           30926
          ],
          [
           28626
          ],
          [
           29765
          ],
          [
           21509
          ],
          [
           21376
          ],
          [
           23578
          ],
          [
           41997
          ],
          [
           23778
          ],
          [
           42758
          ],
          [
           22353
          ],
          [
           39539
          ],
          [
           41548
          ],
          [
           null
          ],
          [
           24541
          ],
          [
           26567
          ],
          [
           54069
          ],
          [
           20919
          ],
          [
           38528
          ],
          [
           52723
          ],
          [
           74275
          ],
          [
           53819
          ],
          [
           32686
          ],
          [
           27230
          ],
          [
           59205
          ],
          [
           51984
          ],
          [
           71053
          ],
          [
           20858
          ],
          [
           22819
          ],
          [
           27654
          ],
          [
           23804
          ],
          [
           53010
          ],
          [
           28018
          ],
          [
           25326
          ],
          [
           24636
          ],
          [
           22525
          ],
          [
           37644
          ],
          [
           43817
          ],
          [
           60788
          ],
          [
           19635
          ],
          [
           59972
          ],
          [
           49200
          ],
          [
           62880
          ],
          [
           41227
          ],
          [
           50923
          ],
          [
           57785
          ],
          [
           50794
          ],
          [
           20481
          ],
          [
           22003
          ],
          [
           24285
          ],
          [
           35975
          ],
          [
           25475
          ],
          [
           20678
          ],
          [
           24570
          ],
          [
           57996
          ],
          [
           25562
          ],
          [
           20684
          ],
          [
           20315
          ],
          [
           34918
          ],
          [
           25778
          ],
          [
           16700
          ],
          [
           24047
          ],
          [
           22784
          ],
          [
           23334
          ],
          [
           30366
          ],
          [
           null
          ],
          [
           42630
          ],
          [
           19802
          ],
          [
           37709
          ],
          [
           40296
          ],
          [
           40913
          ],
          [
           37127
          ],
          [
           40906
          ],
          [
           36128
          ],
          [
           17740
          ],
          [
           null
          ],
          [
           54227
          ],
          [
           18374
          ],
          [
           30609
          ],
          [
           46850
          ],
          [
           24811
          ],
          [
           40548
          ],
          [
           15867
          ],
          [
           35425
          ],
          [
           18632
          ],
          [
           26902
          ],
          [
           22897
          ],
          [
           23123
          ],
          [
           24481
          ],
          [
           21640
          ],
          [
           20235
          ],
          [
           22811
          ],
          [
           30764
          ],
          [
           21146
          ],
          [
           53221
          ],
          [
           61975
          ],
          [
           35243
          ],
          [
           20872
          ],
          [
           21859
          ],
          [
           76910
          ],
          [
           44260
          ],
          [
           44500
          ],
          [
           49150
          ],
          [
           41310
          ],
          [
           50675
          ],
          [
           16755
          ],
          [
           40556
          ],
          [
           21124
          ],
          [
           22073
          ],
          [
           19958
          ],
          [
           15933
          ],
          [
           40804
          ],
          [
           17790
          ],
          [
           22961
          ],
          [
           24917
          ],
          [
           30615
          ],
          [
           22030
          ],
          [
           45672
          ],
          [
           56120
          ],
          [
           50470
          ],
          [
           44893
          ],
          [
           23319
          ],
          [
           31690
          ],
          [
           45689
          ],
          [
           19797
          ],
          [
           null
          ],
          [
           48718
          ],
          [
           24400
          ],
          [
           20321
          ],
          [
           31250
          ],
          [
           36243
          ],
          [
           19521
          ],
          [
           18756
          ],
          [
           23256
          ],
          [
           61418
          ],
          [
           77152
          ],
          [
           56500
          ],
          [
           57285
          ],
          [
           50505
          ],
          [
           33940
          ],
          [
           28880
          ],
          [
           25244
          ],
          [
           28222
          ],
          [
           46498
          ],
          [
           61163
          ],
          [
           18834
          ],
          [
           null
          ],
          [
           43493
          ],
          [
           50245
          ],
          [
           44856
          ],
          [
           58116
          ],
          [
           51758
          ],
          [
           49240
          ],
          [
           59190
          ],
          [
           45458
          ],
          [
           34987
          ],
          [
           25328
          ],
          [
           25863
          ],
          [
           55898
          ],
          [
           26067
          ],
          [
           31511
          ],
          [
           74150
          ],
          [
           29130
          ],
          [
           61693
          ],
          [
           29130
          ],
          [
           32022
          ],
          [
           27960
          ],
          [
           47570
          ],
          [
           60646
          ],
          [
           51068
          ],
          [
           70591
          ],
          [
           30721
          ],
          [
           null
          ],
          [
           35502
          ],
          [
           25327
          ],
          [
           17897
          ],
          [
           18299
          ],
          [
           22878
          ],
          [
           19351
          ],
          [
           19760
          ],
          [
           17772
          ],
          [
           46339
          ],
          [
           53535
          ],
          [
           50326
          ],
          [
           50643
          ],
          [
           74464
          ],
          [
           77758
          ],
          [
           22086
          ],
          [
           39217
          ],
          [
           51761
          ],
          [
           23867
          ],
          [
           69456
          ],
          [
           75000
          ],
          [
           34022
          ],
          [
           79750
          ],
          [
           44662
          ],
          [
           61775
          ],
          [
           75204
          ],
          [
           13569
          ],
          [
           13802
          ],
          [
           15176
          ],
          [
           13667
          ],
          [
           null
          ],
          [
           13219
          ],
          [
           13549
          ],
          [
           13704
          ],
          [
           15448
          ],
          [
           13563
          ],
          [
           13768
          ],
          [
           13948
          ],
          [
           38790
          ],
          [
           40900
          ],
          [
           43424
          ],
          [
           48133
          ],
          [
           71388
          ],
          [
           72190
          ],
          [
           60479
          ],
          [
           31358
          ],
          [
           74375
          ],
          [
           62917
          ],
          [
           44952
          ],
          [
           54052
          ],
          [
           64006
          ],
          [
           50240
          ],
          [
           49194
          ],
          [
           50591
          ],
          [
           57992
          ],
          [
           51214
          ],
          [
           60670
          ],
          [
           59167
          ],
          [
           36840
          ],
          [
           29754
          ],
          [
           46531
          ],
          [
           47103
          ],
          [
           51240
          ],
          [
           51405
          ],
          [
           71907
          ],
          [
           73759
          ],
          [
           47384
          ],
          [
           49465
          ],
          [
           38589
          ],
          [
           63709
          ],
          [
           47001
          ],
          [
           69497
          ],
          [
           73816
          ],
          [
           45599
          ],
          [
           61063
          ],
          [
           75190
          ],
          [
           46287
          ],
          [
           50646
          ],
          [
           32776
          ],
          [
           73045
          ],
          [
           48125
          ],
          [
           47572
          ],
          [
           74123
          ],
          [
           58200
          ],
          [
           74140
          ],
          [
           35122
          ],
          [
           49242
          ],
          [
           55877
          ],
          [
           23026
          ],
          [
           25633
          ],
          [
           16856
          ],
          [
           26563
          ],
          [
           28010
          ],
          [
           26958
          ],
          [
           26270
          ],
          [
           29680
          ],
          [
           23194
          ],
          [
           24340
          ],
          [
           23111
          ],
          [
           25585
          ],
          [
           23327
          ],
          [
           26266
          ],
          [
           25615
          ],
          [
           25628
          ],
          [
           24970
          ],
          [
           23964
          ],
          [
           27991
          ],
          [
           19786
          ],
          [
           25786
          ],
          [
           19726
          ],
          [
           26864
          ],
          [
           72780
          ],
          [
           33523
          ],
          [
           null
          ],
          [
           69879
          ],
          [
           23926
          ],
          [
           9565
          ],
          [
           34427
          ],
          [
           75203
          ],
          [
           30460
          ],
          [
           61877
          ],
          [
           64050
          ],
          [
           18476
          ],
          [
           19661
          ],
          [
           46539
          ],
          [
           31943
          ],
          [
           43036
          ],
          [
           51131
          ],
          [
           44235
          ],
          [
           37161
          ],
          [
           70744
          ],
          [
           77846
          ],
          [
           22301
          ],
          [
           12754
          ],
          [
           52587
          ],
          [
           16623
          ],
          [
           45333
          ],
          [
           30302
          ],
          [
           53479
          ],
          [
           54296
          ],
          [
           33444
          ],
          [
           43437
          ],
          [
           50232
          ],
          [
           28312
          ],
          [
           45406
          ],
          [
           50390
          ],
          [
           55751
          ],
          [
           40841
          ],
          [
           32055
          ],
          [
           18348
          ],
          [
           20127
          ],
          [
           24220
          ],
          [
           23478
          ],
          [
           19179
          ],
          [
           24075
          ],
          [
           21755
          ],
          [
           24202
          ],
          [
           44530
          ],
          [
           24837
          ],
          [
           47624
          ],
          [
           15952
          ],
          [
           44387
          ],
          [
           49480
          ],
          [
           32073
          ],
          [
           29686
          ],
          [
           44686
          ],
          [
           18955
          ],
          [
           74135
          ],
          [
           52526
          ],
          [
           49769
          ],
          [
           20382
          ],
          [
           18462
          ],
          [
           17708
          ],
          [
           34565
          ],
          [
           30194
          ],
          [
           18727
          ],
          [
           16896
          ],
          [
           23119
          ],
          [
           22201
          ],
          [
           18712
          ],
          [
           24604
          ],
          [
           33775
          ],
          [
           48655
          ],
          [
           48205
          ],
          [
           24529
          ],
          [
           47719
          ],
          [
           69526
          ],
          [
           42318
          ],
          [
           19769
          ],
          [
           24950
          ],
          [
           26892
          ],
          [
           32568
          ],
          [
           59708
          ],
          [
           24010
          ],
          [
           49217
          ],
          [
           60900
          ],
          [
           46420
          ],
          [
           69128
          ],
          [
           47032
          ],
          [
           23956
          ],
          [
           44381
          ],
          [
           50555
          ],
          [
           57651
          ],
          [
           25836
          ],
          [
           74550
          ],
          [
           25698
          ],
          [
           45740
          ],
          [
           37498
          ],
          [
           44743
          ],
          [
           49601
          ],
          [
           22784
          ],
          [
           16237
          ],
          [
           15072
          ],
          [
           33805
          ],
          [
           21615
          ],
          [
           44497
          ],
          [
           43341
          ],
          [
           39248
          ],
          [
           41716
          ],
          [
           43425
          ],
          [
           77124
          ],
          [
           42524
          ],
          [
           49392
          ],
          [
           17747
          ],
          [
           27202
          ],
          [
           29534
          ],
          [
           62161
          ],
          [
           45773
          ],
          [
           16327
          ],
          [
           39788
          ],
          [
           41055
          ],
          [
           25118
          ],
          [
           31656
          ],
          [
           44600
          ],
          [
           42869
          ],
          [
           38642
          ],
          [
           53219
          ],
          [
           66108
          ],
          [
           23009
          ],
          [
           15648
          ],
          [
           58260
          ],
          [
           18929
          ],
          [
           40883
          ],
          [
           38327
          ],
          [
           15685
          ],
          [
           24185
          ],
          [
           16681
          ],
          [
           20447
          ],
          [
           17889
          ],
          [
           17928
          ],
          [
           37015
          ],
          [
           null
          ],
          [
           15443
          ],
          [
           23906
          ],
          [
           42983
          ],
          [
           44942
          ],
          [
           29577
          ],
          [
           44006
          ],
          [
           20029
          ],
          [
           18540
          ],
          [
           16367
          ],
          [
           21147
          ],
          [
           58637
          ],
          [
           22408
          ],
          [
           51439
          ],
          [
           68735
          ],
          [
           58485
          ],
          [
           43464
          ],
          [
           null
          ],
          [
           23366
          ],
          [
           27595
          ],
          [
           27717
          ],
          [
           62157
          ],
          [
           20571
          ],
          [
           64049
          ],
          [
           75586
          ],
          [
           17755
          ],
          [
           45919
          ],
          [
           66416
          ],
          [
           22810
          ],
          [
           40300
          ],
          [
           64901
          ],
          [
           54300
          ],
          [
           49990
          ],
          [
           59684
          ],
          [
           25058
          ],
          [
           73540
          ],
          [
           75400
          ],
          [
           46293
          ],
          [
           25716
          ],
          [
           44201
          ],
          [
           74489
          ],
          [
           52279
          ],
          [
           52968
          ],
          [
           54599
          ],
          [
           24513
          ],
          [
           26294
          ],
          [
           56828
          ],
          [
           73650
          ],
          [
           69397
          ],
          [
           56199
          ],
          [
           24870
          ],
          [
           48828
          ],
          [
           22036
          ],
          [
           44978
          ],
          [
           75720
          ],
          [
           46867
          ],
          [
           38941
          ],
          [
           71850
          ],
          [
           47646
          ],
          [
           76384
          ],
          [
           37020
          ],
          [
           44036
          ],
          [
           28442
          ],
          [
           61807
          ],
          [
           39200
          ],
          [
           52647
          ],
          [
           28414
          ],
          [
           43073
          ],
          [
           45298
          ],
          [
           74016
          ],
          [
           36544
          ],
          [
           59255
          ],
          [
           71310
          ],
          [
           26008
          ],
          [
           25916
          ],
          [
           57132
          ],
          [
           24278
          ],
          [
           49609
          ],
          [
           56266
          ],
          [
           49864
          ],
          [
           27526
          ],
          [
           48844
          ],
          [
           59553
          ],
          [
           36886
          ],
          [
           69413
          ],
          [
           50640
          ],
          [
           18260
          ],
          [
           78186
          ],
          [
           65881
          ],
          [
           41762
          ],
          [
           43968
          ],
          [
           28132
          ],
          [
           27461
          ],
          [
           27031
          ],
          [
           33964
          ],
          [
           45350
          ],
          [
           47724
          ],
          [
           54101
          ],
          [
           63223
          ],
          [
           50140
          ],
          [
           62380
          ],
          [
           50395
          ],
          [
           29182
          ],
          [
           24600
          ],
          [
           64760
          ],
          [
           73932
          ],
          [
           33226
          ],
          [
           48566
          ],
          [
           60290
          ],
          [
           69604
          ],
          [
           73042
          ],
          [
           62814
          ],
          [
           37431
          ],
          [
           26114
          ],
          [
           49932
          ],
          [
           62831
          ],
          [
           54085
          ],
          [
           37019
          ],
          [
           32801
          ],
          [
           77490
          ],
          [
           62855
          ],
          [
           51167
          ],
          [
           69407
          ],
          [
           17761
          ],
          [
           30339
          ],
          [
           72571
          ],
          [
           54865
          ],
          [
           61072
          ],
          [
           24695
          ],
          [
           44481
          ],
          [
           40177
          ],
          [
           28000
          ],
          [
           28498
          ],
          [
           35949
          ],
          [
           29545
          ],
          [
           30022
          ],
          [
           33777
          ],
          [
           32254
          ],
          [
           42395
          ],
          [
           36979
          ],
          [
           33178
          ],
          [
           33858
          ],
          [
           52411
          ],
          [
           21888
          ],
          [
           67299
          ],
          [
           24474
          ],
          [
           42137
          ],
          [
           42320
          ],
          [
           37771
          ],
          [
           53720
          ],
          [
           20735
          ],
          [
           24235
          ],
          [
           28602
          ],
          [
           24313
          ],
          [
           30015
          ],
          [
           23660
          ],
          [
           29266
          ],
          [
           62262
          ],
          [
           47710
          ],
          [
           20937
          ],
          [
           22365
          ],
          [
           38617
          ],
          [
           41044
          ],
          [
           21388
          ],
          [
           35087
          ],
          [
           25078
          ],
          [
           22230
          ],
          [
           30472
          ],
          [
           23016
          ],
          [
           23931
          ],
          [
           20485
          ],
          [
           54595
          ],
          [
           30992
          ],
          [
           38061
          ],
          [
           40422
          ],
          [
           43939
          ],
          [
           38392
          ],
          [
           49074
          ],
          [
           22323
          ],
          [
           37482
          ],
          [
           35099
          ],
          [
           27168
          ],
          [
           42662
          ],
          [
           23551
          ],
          [
           18056
          ],
          [
           31522
          ],
          [
           36365
          ],
          [
           40576
          ],
          [
           49603
          ],
          [
           24139
          ],
          [
           21241
          ],
          [
           64249
          ],
          [
           62647
          ],
          [
           35820
          ],
          [
           33219
          ],
          [
           23436
          ],
          [
           32010
          ],
          [
           21200
          ],
          [
           22509
          ],
          [
           24458
          ],
          [
           34473
          ],
          [
           39440
          ],
          [
           54324
          ],
          [
           73148
          ],
          [
           51577
          ],
          [
           19810
          ],
          [
           56377
          ],
          [
           65222
          ],
          [
           47251
          ],
          [
           22459
          ],
          [
           42855
          ],
          [
           58050
          ],
          [
           38749
          ],
          [
           19447
          ],
          [
           22575
          ],
          [
           null
          ],
          [
           42530
          ],
          [
           43638
          ],
          [
           25567
          ],
          [
           20995
          ],
          [
           19441
          ],
          [
           23361
          ],
          [
           41336
          ],
          [
           24148
          ],
          [
           45532
          ],
          [
           25082
          ],
          [
           20362
          ],
          [
           13408
          ],
          [
           44629
          ],
          [
           37198
          ],
          [
           42812
          ],
          [
           41764
          ],
          [
           19972
          ],
          [
           23770
          ],
          [
           40753
          ],
          [
           14250
          ],
          [
           25164
          ],
          [
           67102
          ],
          [
           61707
          ],
          [
           42652
          ],
          [
           22885
          ],
          [
           41896
          ],
          [
           42354
          ],
          [
           76346
          ],
          [
           34268
          ],
          [
           57825
          ],
          [
           22178
          ],
          [
           23453
          ],
          [
           31865
          ],
          [
           20332
          ],
          [
           22730
          ],
          [
           null
          ],
          [
           null
          ],
          [
           22645
          ],
          [
           29920
          ],
          [
           23902
          ],
          [
           27397
          ],
          [
           27120
          ],
          [
           18291
          ],
          [
           20730
          ],
          [
           68072
          ],
          [
           21620
          ],
          [
           42208
          ],
          [
           17323
          ],
          [
           18923
          ],
          [
           23173
          ],
          [
           23191
          ],
          [
           47135
          ],
          [
           19418
          ],
          [
           60664
          ],
          [
           null
          ],
          [
           null
          ],
          [
           35240
          ],
          [
           20456
          ],
          [
           23938
          ],
          [
           18936
          ],
          [
           19641
          ],
          [
           17802
          ],
          [
           19854
          ],
          [
           19886
          ],
          [
           13597
          ],
          [
           20303
          ],
          [
           49060
          ],
          [
           75972
          ],
          [
           24841
          ],
          [
           60478
          ],
          [
           25051
          ],
          [
           74248
          ],
          [
           59627
          ],
          [
           61892
          ],
          [
           34707
          ],
          [
           47321
          ],
          [
           39307
          ],
          [
           51725
          ],
          [
           39595
          ],
          [
           30136
          ],
          [
           31733
          ],
          [
           50310
          ],
          [
           51275
          ],
          [
           50084
          ],
          [
           25717
          ],
          [
           63310
          ],
          [
           44252
          ],
          [
           55893
          ],
          [
           27996
          ],
          [
           40567
          ],
          [
           28821
          ],
          [
           54119
          ],
          [
           43427
          ],
          [
           28327
          ],
          [
           47495
          ],
          [
           26439
          ],
          [
           25722
          ],
          [
           24234
          ],
          [
           56509
          ],
          [
           69606
          ],
          [
           61545
          ],
          [
           47850
          ],
          [
           29875
          ],
          [
           22795
          ],
          [
           27283
          ],
          [
           31983
          ],
          [
           34094
          ],
          [
           32420
          ],
          [
           23673
          ],
          [
           32082
          ],
          [
           50408
          ],
          [
           73900
          ],
          [
           24008
          ],
          [
           null
          ],
          [
           20480
          ],
          [
           24371
          ],
          [
           61761
          ],
          [
           25478
          ],
          [
           45095
          ],
          [
           56830
          ],
          [
           68072
          ],
          [
           52603
          ],
          [
           60834
          ],
          [
           63439
          ],
          [
           39354
          ],
          [
           26068
          ],
          [
           26825
          ],
          [
           24465
          ],
          [
           69532
          ],
          [
           60359
          ],
          [
           42676
          ],
          [
           45570
          ],
          [
           18685
          ],
          [
           43829
          ],
          [
           16824
          ],
          [
           42233
          ],
          [
           17639
          ],
          [
           22507
          ],
          [
           19586
          ],
          [
           17759
          ],
          [
           19144
          ],
          [
           22361
          ],
          [
           17464
          ],
          [
           46187
          ],
          [
           22680
          ],
          [
           41651
          ],
          [
           40724
          ],
          [
           63398
          ],
          [
           44172
          ],
          [
           45227
          ],
          [
           59175
          ],
          [
           45936
          ],
          [
           44826
          ],
          [
           43694
          ],
          [
           62166
          ],
          [
           27793
          ],
          [
           38372
          ],
          [
           59725
          ],
          [
           49204
          ],
          [
           53885
          ],
          [
           44284
          ],
          [
           50029
          ],
          [
           56059
          ],
          [
           51383
          ],
          [
           40825
          ],
          [
           18252
          ],
          [
           20174
          ],
          [
           17509
          ],
          [
           17514
          ],
          [
           43118
          ],
          [
           18125
          ],
          [
           16320
          ],
          [
           29140
          ],
          [
           19704
          ],
          [
           18731
          ],
          [
           26393
          ],
          [
           21984
          ],
          [
           18670
          ],
          [
           17971
          ],
          [
           18217
          ],
          [
           20258
          ],
          [
           13661
          ],
          [
           14166
          ],
          [
           9708
          ],
          [
           12314
          ],
          [
           19215
          ],
          [
           9136
          ],
          [
           15895
          ],
          [
           5663
          ],
          [
           13286
          ],
          [
           14069
          ],
          [
           13424
          ],
          [
           13419
          ],
          [
           13560
          ],
          [
           16965
          ],
          [
           13488
          ],
          [
           13992
          ],
          [
           13925
          ],
          [
           13670
          ],
          [
           11704
          ],
          [
           16016
          ],
          [
           9732
          ],
          [
           14816
          ],
          [
           12618
          ],
          [
           14817
          ],
          [
           16727
          ],
          [
           13272
          ],
          [
           14035
          ],
          [
           13136
          ],
          [
           19185
          ],
          [
           20820
          ],
          [
           14135
          ],
          [
           13136
          ],
          [
           16381
          ],
          [
           74570
          ],
          [
           22645
          ],
          [
           28755
          ],
          [
           32504
          ],
          [
           20563
          ],
          [
           22531
          ],
          [
           25637
          ],
          [
           23189
          ],
          [
           21705
          ],
          [
           35979
          ],
          [
           23389
          ],
          [
           null
          ],
          [
           24124
          ],
          [
           13790
          ],
          [
           18151
          ],
          [
           20132
          ],
          [
           25150
          ],
          [
           35005
          ],
          [
           18200
          ],
          [
           50200
          ],
          [
           null
          ],
          [
           37423
          ],
          [
           20447
          ],
          [
           33717
          ],
          [
           18387
          ],
          [
           25495
          ],
          [
           28529
          ],
          [
           21104
          ],
          [
           25224
          ],
          [
           26995
          ],
          [
           17120
          ],
          [
           18869
          ],
          [
           29005
          ],
          [
           20115
          ],
          [
           15822
          ],
          [
           16816
          ],
          [
           null
          ],
          [
           21119
          ],
          [
           11669
          ],
          [
           null
          ],
          [
           19627
          ],
          [
           17148
          ],
          [
           18930
          ],
          [
           25059
          ],
          [
           46072
          ],
          [
           31303
          ],
          [
           29793
          ],
          [
           23591
          ],
          [
           null
          ],
          [
           17408
          ],
          [
           23560
          ]
         ],
         "hovertemplate": "<b>%{hovertext}</b><br><br>admission_rate.overall=%{x}<br>net_price.by_income_level.110001-plus=%{y}<br>attendance.academic_year=%{customdata[0]}<extra></extra>",
         "hovertext": [
          "Alabama A & M University",
          "University of Alabama at Birmingham",
          "University of Alabama in Huntsville",
          "Alabama State University",
          "The University of Alabama",
          "Athens State University",
          "Auburn University at Montgomery",
          "Auburn University",
          "Birmingham-Southern College",
          "Faulkner University",
          "Huntingdon College",
          "Jacksonville State University",
          "University of West Alabama",
          "Miles College",
          "University of Mobile",
          "University of Montevallo",
          "University of North Alabama",
          "Oakwood University",
          "Samford University",
          "University of South Alabama",
          "Spring Hill College",
          "Stillman College",
          "Talladega College",
          "Troy University",
          "Tuskegee University",
          "University of Alaska Anchorage",
          "University of Alaska Fairbanks",
          "Arizona State University Campus Immersion",
          "University of Arizona",
          "Embry-Riddle Aeronautical University-Prescott",
          "Northern Arizona University",
          "Arizona Christian University",
          "University of Arkansas at Little Rock",
          "University of Arkansas for Medical Sciences",
          "Lyon College",
          "University of Arkansas",
          "University of Arkansas at Pine Bluff",
          "Arkansas State University",
          "Arkansas Tech University",
          "University of Central Arkansas",
          "Central Baptist College",
          "Harding University",
          "Henderson State University",
          "Hendrix College",
          "John Brown University",
          "Ouachita Baptist University",
          "University of the Ozarks",
          "Philander Smith College",
          "Williams Baptist University",
          "Southern Arkansas University Main Campus",
          "University of Arkansas-Fort Smith",
          "Art Center College of Design",
          "Azusa Pacific University",
          "Biola University",
          "California Baptist University",
          "California College of the Arts",
          "California Institute of Technology",
          "California Lutheran University",
          "California Polytechnic State University-San Luis Obispo",
          "California State University-Bakersfield",
          "California State University-Stanislaus",
          "California State University-San Bernardino",
          "California State Polytechnic University-Pomona",
          "California State University-Chico",
          "California State University-Dominguez Hills",
          "California State University-Fresno",
          "California State University-Fullerton",
          "California State University-East Bay",
          "California State University-Long Beach",
          "California State University-Los Angeles",
          "California State University-Northridge",
          "California State University-Sacramento",
          "University of California-Berkeley",
          "University of California-Davis",
          "University of California-Irvine",
          "University of California-Los Angeles",
          "University of California-Riverside",
          "University of California-San Diego",
          "University of California-Santa Barbara",
          "University of California-Santa Cruz",
          "California Institute of the Arts",
          "California State University Maritime Academy",
          "Chapman University",
          "Concordia University-Irvine",
          "Claremont McKenna College",
          "Columbia College Hollywood",
          "Dominican University of California",
          "Fresno Pacific University",
          "Golden Gate University",
          "Harvey Mudd College",
          "Holy Names University",
          "Humboldt State University",
          "University of La Verne",
          "Laguna College of Art and Design",
          "La Sierra University",
          "Loma Linda University",
          "The Master's University and Seminary",
          "Loyola Marymount University",
          "Marymount California University",
          "Menlo College",
          "Mills College",
          "Mount Saint Mary's University",
          "National University",
          "Occidental College",
          "Otis College of Art and Design",
          "Hope International University",
          "Pacific Union College",
          "University of the Pacific",
          "Pepperdine University",
          "Pitzer College",
          "Point Loma Nazarene University",
          "Pomona College",
          "University of Redlands",
          "Samuel Merritt University",
          "San Diego State University",
          "University of San Diego",
          "San Francisco State University",
          "University of San Francisco",
          "William Jessup University",
          "San Jose State University",
          "Santa Clara University",
          "Scripps College",
          "Simpson University",
          "Saint Mary's College of California",
          "Sonoma State University",
          "Vanguard University of Southern California",
          "University of Southern California",
          "Westmont College",
          "Whittier College",
          "Woodbury University",
          "Adams State University",
          "University of Colorado Denver/Anschutz Medical Campus",
          "University of Colorado Colorado Springs",
          "University of Colorado Boulder",
          "Colorado Christian University",
          "Colorado College",
          "Colorado School of Mines",
          "Colorado State University-Fort Collins",
          "University of Denver",
          "Fort Lewis College",
          "Colorado Mesa University",
          "Metropolitan State University of Denver",
          "University of Northern Colorado",
          "Regis University",
          "Colorado State University Pueblo",
          "Western Colorado University",
          "Albertus Magnus College",
          "University of Bridgeport",
          "Central Connecticut State University",
          "Charter Oak State College",
          "Connecticut College",
          "University of Connecticut",
          "Eastern Connecticut State University",
          "Fairfield University",
          "University of Hartford",
          "Mitchell College",
          "University of New Haven",
          "Quinnipiac University",
          "Sacred Heart University",
          "University of Saint Joseph",
          "Southern Connecticut State University",
          "Trinity College",
          "Wesleyan University",
          "Western Connecticut State University",
          "Yale University",
          "Delaware State University",
          "University of Delaware",
          "Goldey-Beacom College",
          "Wesley College",
          "Wilmington University",
          "American University",
          "The Catholic University of America",
          "University of the District of Columbia",
          "Gallaudet University",
          "George Washington University",
          "Georgetown University",
          "Howard University",
          "Trinity Washington University",
          "Barry University",
          "Bethune-Cookman University",
          "Lynn University",
          "University of Central Florida",
          "Eckerd College",
          "Edward Waters University",
          "Embry-Riddle Aeronautical University-Daytona Beach",
          "Florida Agricultural and Mechanical University",
          "Florida Atlantic University",
          "Flagler College",
          "AdventHealth University",
          "Florida Institute of Technology",
          "Florida International University",
          "Florida Memorial University",
          "Florida Southern College",
          "Florida State University",
          "University of Florida",
          "Jacksonville University",
          "University of Miami",
          "University of North Florida",
          "Nova Southeastern University",
          "Palm Beach Atlantic University",
          "Ringling College of Art and Design",
          "Rollins College",
          "Saint Leo University",
          "University of South Florida",
          "St. Thomas University",
          "Stetson University",
          "Southeastern University",
          "The University of Tampa",
          "Warner University",
          "Webber International University",
          "The University of West Florida",
          "Agnes Scott College",
          "Point University",
          "Clark Atlanta University",
          "Berry College",
          "Brenau University",
          "Brewton-Parker College",
          "College of Coastal Georgia",
          "Clayton  State University",
          "Columbus State University",
          "Covenant College",
          "Dalton State College",
          "Emmanuel College",
          "Emory University",
          "Fort Valley State University",
          "Georgia Institute of Technology-Main Campus",
          "Georgia Southwestern State University",
          "Georgia College & State University",
          "Georgia Southern University",
          "Georgia State University",
          "University of Georgia",
          "LaGrange College",
          "Life University",
          "Herzing University-Atlanta",
          "Mercer University",
          "Morehouse College",
          "Oglethorpe University",
          "Piedmont University",
          "Reinhardt University",
          "Savannah College of Art and Design",
          "Savannah State University",
          "Shorter University",
          "Spelman College",
          "Thomas University",
          "Toccoa Falls College",
          "Truett McConnell University",
          "Valdosta State University",
          "Wesleyan College",
          "University of West Georgia",
          "Young Harris College",
          "Chaminade University of Honolulu",
          "University of Hawaii at Hilo",
          "University of Hawaii at Manoa",
          "Hawaii Pacific University",
          "University of Hawaii-West Oahu",
          "Boise State University",
          "Idaho State University",
          "University of Idaho",
          "The College of Idaho",
          "Lewis-Clark State College",
          "Northwest Nazarene University",
          "Brigham Young University-Idaho",
          "School of the Art Institute of Chicago",
          "Augustana College",
          "Aurora University",
          "Bradley University",
          "Chicago State University",
          "University of Chicago",
          "Columbia College Chicago",
          "Concordia University-Chicago",
          "DePaul University",
          "Eastern Illinois University",
          "Elmhurst University",
          "Eureka College",
          "Governors State University",
          "Greenville University",
          "University of Illinois Chicago",
          "Benedictine University",
          "University of Illinois Urbana-Champaign",
          "Illinois Wesleyan University",
          "Illinois College",
          "Illinois Institute of Technology",
          "Illinois State University",
          "Judson University",
          "Knox College",
          "Lake Forest College",
          "Lewis University",
          "Lincoln College",
          "Loyola University Chicago",
          "McKendree University",
          "Methodist College",
          "Millikin University",
          "Monmouth College",
          "Moody Bible Institute",
          "National Louis University",
          "North Central College",
          "North Park University",
          "Northern Illinois University",
          "Northwestern University",
          "Northeastern Illinois University",
          "Olivet Nazarene University",
          "Quincy University",
          "Rockford University",
          "Roosevelt University",
          "Dominican University",
          "University of St Francis",
          "Saint Xavier University",
          "University of Illinois Springfield",
          "Southern Illinois University-Carbondale",
          "Southern Illinois University-Edwardsville",
          "Trinity Christian College",
          "Trinity International University-Illinois",
          "Oak Point University",
          "Western Illinois University",
          "Wheaton College",
          "Anderson University",
          "Ball State University",
          "Bethel University",
          "Butler University",
          "Calumet College of Saint Joseph",
          "DePauw University",
          "Earlham College",
          "University of Evansville",
          "Franklin College",
          "Goshen College",
          "Grace College and Theological Seminary",
          "Hanover College",
          "Huntington University",
          "Purdue University Fort Wayne",
          "Indiana University-Purdue University-Indianapolis",
          "University of Indianapolis",
          "Indiana Institute of Technology",
          "University of Southern Indiana",
          "Indiana State University",
          "Indiana University-Kokomo",
          "Indiana University-South Bend",
          "Indiana University-Bloomington",
          "Indiana University-Northwest",
          "Indiana University-Southeast",
          "Indiana University-East",
          "Manchester University",
          "Marian University",
          "Indiana Wesleyan University-Marion",
          "University of Notre Dame",
          "Oakland City University",
          "Rose-Hulman Institute of Technology",
          "University of Saint Francis-Fort Wayne",
          "Saint Mary-of-the-Woods College",
          "Saint Mary's College",
          "Taylor University",
          "Trine University",
          "Valparaiso University",
          "Wabash College",
          "Briar Cliff University",
          "Buena Vista University",
          "Central College",
          "Clarke University",
          "Coe College",
          "Cornell College",
          "Dordt University",
          "Drake University",
          "University of Dubuque",
          "Graceland University-Lamoni",
          "Grand View University",
          "Grinnell College",
          "Iowa State University",
          "Iowa Wesleyan University",
          "University of Iowa",
          "Loras College",
          "Luther College",
          "Maharishi International University",
          "Mercy College of Health Sciences",
          "Morningside University",
          "Mount Mercy University",
          "University of Northern Iowa",
          "Northwestern College",
          "Saint Ambrose University",
          "Simpson College",
          "Upper Iowa University",
          "Wartburg College",
          "William Penn University",
          "Baker University",
          "Benedictine College",
          "Bethany College",
          "Central Christian College of Kansas",
          "Emporia State University",
          "Fort Hays State University",
          "Friends University",
          "University of Kansas",
          "Newman University",
          "Kansas State University",
          "Kansas Wesleyan University",
          "McPherson College",
          "MidAmerica Nazarene University",
          "Ottawa University-Ottawa",
          "Pittsburg State University",
          "University of Saint Mary",
          "Southwestern College",
          "Sterling College",
          "Tabor College",
          "Washburn University",
          "Wichita State University",
          "Alice Lloyd College",
          "Asbury University",
          "Bellarmine University",
          "Berea College",
          "Brescia University",
          "Campbellsville University",
          "Centre College",
          "University of the Cumberlands",
          "Eastern Kentucky University",
          "Georgetown College",
          "Kentucky State University",
          "Kentucky Wesleyan College",
          "University of Kentucky",
          "Kentucky Christian University",
          "Lindsey Wilson College",
          "University of Louisville",
          "Midway University",
          "Morehead State University",
          "Murray State University",
          "Northern Kentucky University",
          "University of Pikeville",
          "The Southern Baptist Theological Seminary",
          "Spalding University",
          "Thomas More University",
          "Transylvania University",
          "Union College",
          "Western Kentucky University",
          "Centenary College of Louisiana",
          "Dillard University",
          "Grambling State University",
          "Louisiana State University Health Sciences Center-New Orleans",
          "Louisiana State University-Alexandria",
          "Louisiana State University and Agricultural & Mechanical College",
          "Louisiana State University-Shreveport",
          "Louisiana College",
          "Louisiana Tech University",
          "Loyola University New Orleans",
          "McNeese State University",
          "University of New Orleans",
          "Nicholls State University",
          "University of Louisiana at Monroe",
          "Northwestern State University of Louisiana",
          "University of Holy Cross",
          "Franciscan Missionaries of Our Lady University",
          "Southeastern Louisiana University",
          "Southern University and A & M College",
          "Southern University at New Orleans",
          "University of Louisiana at Lafayette",
          "Tulane University of Louisiana",
          "Xavier University of Louisiana",
          "Bates College",
          "Bowdoin College",
          "Colby College",
          "University of Maine at Augusta",
          "University of Maine at Farmington",
          "University of Maine at Fort Kent",
          "University of Maine",
          "Maine Maritime Academy",
          "University of Maine at Presque Isle",
          "University of New England",
          "Saint Joseph's College of Maine",
          "University of Southern Maine",
          "Thomas College",
          "Unity College",
          "University of Baltimore",
          "Bowie State University",
          "Washington Adventist University",
          "Coppin State University",
          "Frostburg State University",
          "Goucher College",
          "Hood College",
          "Johns Hopkins University",
          "Loyola University Maryland",
          "University of Maryland Global Campus",
          "University of Maryland Baltimore",
          "University of Maryland-Baltimore County",
          "University of Maryland-College Park",
          "Maryland Institute College of Art",
          "University of Maryland Eastern Shore",
          "Morgan State University",
          "Mount St. Mary's University",
          "Notre Dame of Maryland University",
          "Salisbury University",
          "St. Mary's College of Maryland",
          "Towson University",
          "Stevenson University",
          "Washington College",
          "McDaniel College",
          "Hult International Business School",
          "American International College",
          "Amherst College",
          "Anna Maria College",
          "Assumption University",
          "Babson College",
          "Bay Path University",
          "Becker College",
          "Bentley University",
          "Berklee College of Music",
          "Boston College",
          "Boston University",
          "Brandeis University",
          "Bridgewater State University",
          "Cambridge College",
          "Clark University",
          "Curry College",
          "Dean College",
          "Eastern Nazarene College",
          "Emerson College",
          "Emmanuel College",
          "Endicott College",
          "Fisher College",
          "Fitchburg State University",
          "Framingham State University",
          "Gordon College",
          "Hampshire College",
          "Harvard University",
          "College of the Holy Cross",
          "Lasell University",
          "Lesley University",
          "University of Massachusetts-Lowell",
          "University of Massachusetts-Amherst",
          "University of Massachusetts-Boston",
          "MCPHS University",
          "Massachusetts College of Art and Design",
          "Massachusetts Institute of Technology",
          "Massachusetts Maritime Academy",
          "Merrimack College",
          "Mount Holyoke College",
          "Nichols College",
          "Massachusetts College of Liberal Arts",
          "Northeastern University",
          "College of Our Lady of the Elms",
          "Regis College",
          "Salem State University",
          "Simmons University",
          "Smith College",
          "Springfield College",
          "University of Massachusetts-Dartmouth",
          "Stonehill College",
          "Suffolk University",
          "Tufts University",
          "Wellesley College",
          "Wentworth Institute of Technology",
          "Western New England University",
          "Westfield State University",
          "Wheaton College (Massachusetts)",
          "Williams College",
          "Worcester Polytechnic Institute",
          "Worcester State University",
          "Adrian College",
          "Albion College",
          "Alma College",
          "Andrews University",
          "Aquinas College",
          "Baker College",
          "Calvin University",
          "Central Michigan University",
          "Cleary University",
          "Concordia University Ann Arbor",
          "College for Creative Studies",
          "Davenport University",
          "University of Detroit Mercy",
          "Eastern Michigan University",
          "Ferris State University",
          "Kettering University",
          "Cornerstone University",
          "Grand Valley State University",
          "Hope College",
          "Kalamazoo College",
          "Lake Superior State University",
          "Lawrence Technological University",
          "Madonna University",
          "Rochester University",
          "University of Michigan-Ann Arbor",
          "Michigan State University",
          "Michigan Technological University",
          "University of Michigan-Dearborn",
          "University of Michigan-Flint",
          "Northern Michigan University",
          "Northwood University",
          "Oakland University",
          "Olivet College",
          "Saginaw Valley State University",
          "Siena Heights University",
          "Spring Arbor University",
          "Walsh College",
          "Wayne State University",
          "Western Michigan University",
          "Augsburg University",
          "Bemidji State University",
          "Bethany Lutheran College",
          "Bethel University",
          "Carleton College",
          "Concordia College at Moorhead",
          "Concordia University-Saint Paul",
          "Martin Luther College",
          "Gustavus Adolphus College",
          "Hamline University",
          "Macalester College",
          "Minnesota State University-Mankato",
          "Metropolitan State University",
          "University of Minnesota-Twin Cities",
          "University of Minnesota-Crookston",
          "Minneapolis College of Art and Design",
          "Herzing University-Minneapolis",
          "University of Minnesota-Duluth",
          "University of Minnesota-Morris",
          "Minnesota State University Moorhead",
          "North Central University",
          "University of Northwestern-St Paul",
          "College of Saint Benedict",
          "Saint Cloud State University",
          "Saint Johns University",
          "Saint Mary's University of Minnesota",
          "St Olaf College",
          "Crown College",
          "The College of Saint Scholastica",
          "University of St Thomas",
          "St Catherine University",
          "Southwest Minnesota State University",
          "Winona State University",
          "Alcorn State University",
          "Belhaven University",
          "Blue Mountain College",
          "Delta State University",
          "Jackson State University",
          "Millsaps College",
          "University of Mississippi",
          "Mississippi University for Women",
          "Mississippi Valley State University",
          "Mississippi College",
          "Mississippi State University",
          "Rust College",
          "University of Southern Mississippi",
          "Tougaloo College",
          "William Carey University",
          "Avila University",
          "Cox College",
          "Central Methodist University-College of Liberal Arts and Sciences",
          "University of Central Missouri",
          "Columbia College",
          "Culver-Stockton College",
          "Drury University",
          "Evangel University",
          "Fontbonne University",
          "Hannibal-LaGrange University",
          "Harris-Stowe State University",
          "Barnes-Jewish College Goldfarb School of Nursing",
          "Kansas City Art Institute",
          "Lincoln University",
          "Lindenwood University",
          "Maryville University of Saint Louis",
          "Midwestern Baptist Theological Seminary",
          "Missouri Baptist University",
          "Missouri Southern State University",
          "Missouri Valley College",
          "Missouri Western State University",
          "University of Missouri-Columbia",
          "University of Missouri-Kansas City",
          "Missouri University of Science and Technology",
          "University of Missouri-St Louis",
          "Truman State University",
          "Northwest Missouri State University",
          "Ozark Christian College",
          "College of the Ozarks",
          "Park University",
          "Rockhurst University",
          "Saint Louis University",
          "Southwest Baptist University",
          "Southeast Missouri State University",
          "Missouri State University-Springfield",
          "Washington University in St Louis",
          "Webster University",
          "Westminster College",
          "William Jewell College",
          "William Woods University",
          "Carroll College",
          "Montana State University Billings",
          "University of Providence",
          "Montana Technological University",
          "Montana State University",
          "The University of Montana",
          "Montana State University-Northern",
          "Rocky Mountain College",
          "The University of Montana-Western",
          "Bellevue University",
          "Clarkson College",
          "Bryan College of Health Sciences",
          "Chadron State College",
          "Concordia University-Nebraska",
          "Creighton University",
          "Doane University",
          "Hastings College",
          "University of Nebraska at Kearney",
          "Nebraska Methodist College of Nursing & Allied Health",
          "Midland University",
          "University of Nebraska at Omaha",
          "University of Nebraska Medical Center",
          "Nebraska Wesleyan University",
          "University of Nebraska-Lincoln",
          "Peru State College",
          "College of Saint Mary",
          "Union College",
          "Wayne State College",
          "University of Nevada-Las Vegas",
          "University of Nevada-Reno",
          "Colby-Sawyer College",
          "Dartmouth College",
          "Franklin Pierce University",
          "New England College",
          "Southern New Hampshire University",
          "University of New Hampshire-Main Campus",
          "Keene State College",
          "University of New Hampshire at Manchester",
          "Plymouth State University",
          "Rivier University",
          "Saint Anselm College",
          "Granite State College",
          "Beth Medrash Govoha",
          "Bloomfield College",
          "Caldwell University",
          "Centenary University",
          "Drew University",
          "Fairleigh Dickinson University-Metropolitan Campus",
          "Felician University",
          "Fairleigh Dickinson University-Florham Campus",
          "Georgian Court University",
          "Rowan University",
          "New Jersey City University",
          "Kean University",
          "Monmouth University",
          "Montclair State University",
          "New Jersey Institute of Technology",
          "Princeton University",
          "Ramapo College of New Jersey",
          "Rider University",
          "Rutgers University-Camden",
          "Rutgers University-New Brunswick",
          "Rutgers University-Newark",
          "Saint Peter's University",
          "Seton Hall University",
          "Saint Elizabeth University",
          "Stevens Institute of Technology",
          "Stockton University",
          "Thomas Edison State University",
          "The College of New Jersey",
          "William Paterson University of New Jersey",
          "Eastern New Mexico University-Main Campus",
          "New Mexico Highlands University",
          "New Mexico Institute of Mining and Technology",
          "University of New Mexico-Main Campus",
          "New Mexico State University-Main Campus",
          "Western New Mexico University",
          "Vaughn College of Aeronautics and Technology",
          "Adelphi University",
          "Albany College of Pharmacy and Health Sciences",
          "Alfred University",
          "Bard College",
          "Barnard College",
          "Boricua College",
          "Canisius College",
          "Cazenovia College",
          "Central Yeshiva Tomchei Tmimim Lubavitz",
          "Clarkson University",
          "Colgate University",
          "Metropolitan College of New York",
          "Columbia University in the City of New York",
          "Concordia College",
          "Cooper Union for the Advancement of Science and Art",
          "Cornell University",
          "CUNY Bernard M Baruch College",
          "CUNY Brooklyn College",
          "College of Staten Island CUNY",
          "CUNY City College",
          "CUNY Graduate School and University Center",
          "CUNY Hunter College",
          "CUNY John Jay College of Criminal Justice",
          "CUNY Lehman College",
          "CUNY Medgar Evers College",
          "CUNY New York City College of Technology",
          "CUNY Queens College",
          "CUNY York College",
          "D'Youville College",
          "Daemen College",
          "Dominican College of Blauvelt",
          "Elmira College",
          "Fordham University",
          "Hamilton College",
          "Hartwick College",
          "Hilbert College",
          "Hobart William Smith Colleges",
          "Hofstra University",
          "Houghton College",
          "Iona College",
          "Ithaca College",
          "Keuka College",
          "Le Moyne College",
          "Long Island University",
          "Manhattan College",
          "Manhattanville College",
          "Marist College",
          "Marymount Manhattan College",
          "Medaille College",
          "Mercy College",
          "Molloy College",
          "Mount Saint Mary College",
          "College of Mount Saint Vincent",
          "Nazareth College",
          "The New School",
          "New York University",
          "Niagara University",
          "New York Institute of Technology",
          "Nyack College",
          "Pace University",
          "Paul Smiths College of Arts and Science",
          "Pratt Institute-Main",
          "Rensselaer Polytechnic Institute",
          "Roberts Wesleyan College",
          "Rochester Institute of Technology",
          "University of Rochester",
          "Russell Sage College",
          "St Bonaventure University",
          "St Francis College",
          "St Lawrence University",
          "The College of Saint Rose",
          "St. Thomas Aquinas College",
          "Sarah Lawrence College",
          "Siena College",
          "Skidmore College",
          "St. Joseph's College-New York",
          "Saint John Fisher College",
          "St. John's University-New York",
          "SUNY College of Technology at Canton",
          "SUNY College of Agriculture and Technology at Cobleskill",
          "Farmingdale State College",
          "SUNY at Albany",
          "Binghamton University",
          "University at Buffalo",
          "Stony Brook University",
          "SUNY College of Environmental Science and Forestry",
          "SUNY Polytechnic Institute",
          "SUNY Brockport",
          "SUNY Buffalo State",
          "SUNY Cortland",
          "SUNY at Fredonia",
          "SUNY College at Geneseo",
          "State University of New York at New Paltz",
          "SUNY Oneonta",
          "SUNY College at Oswego",
          "SUNY College at Potsdam",
          "SUNY at Purchase College",
          "SUNY College at Old Westbury",
          "SUNY College at Plattsburgh",
          "SUNY Empire State College",
          "SUNY Maritime College",
          "Syracuse University",
          "Touro College",
          "Excelsior College",
          "Union College",
          "United Talmudical Seminary",
          "United States Merchant Marine Academy",
          "Utica College",
          "Vassar College",
          "Villa Maria College",
          "Wagner College",
          "Yeshiva University",
          "Yeshivath Viznitz",
          "Appalachian State University",
          "Barton College",
          "Belmont Abbey College",
          "Brevard College",
          "Campbell University",
          "Catawba College",
          "Chowan University",
          "Davidson College",
          "Duke University",
          "East Carolina University",
          "Elizabeth City State University",
          "Elon University",
          "Fayetteville State University",
          "Gardner-Webb University",
          "Greensboro College",
          "Guilford College",
          "High Point University",
          "Johnson C Smith University",
          "Lees-McRae College",
          "Lenoir-Rhyne University",
          "Livingstone College",
          "Mars Hill University",
          "Meredith College",
          "Methodist University",
          "Montreat College",
          "University of Mount Olive",
          "North Carolina A & T State University",
          "University of North Carolina at Asheville",
          "University of North Carolina at Chapel Hill",
          "University of North Carolina at Charlotte",
          "University of North Carolina at Greensboro",
          "North Carolina Central University",
          "University of North Carolina School of the Arts",
          "North Carolina State University at Raleigh",
          "North Carolina Wesleyan College",
          "University of North Carolina Wilmington",
          "William Peace University",
          "University of North Carolina at Pembroke",
          "Pfeiffer University",
          "Queens University of Charlotte",
          "Saint Augustine's University",
          "Shaw University",
          "St. Andrews University",
          "Southeastern Baptist Theological Seminary",
          "Wake Forest University",
          "Warren Wilson College",
          "Wingate University",
          "Winston-Salem State University",
          "Western Carolina University",
          "Dickinson State University",
          "University of Jamestown",
          "University of Mary",
          "Mayville State University",
          "Minot State University",
          "University of North Dakota",
          "North Dakota State University-Main Campus",
          "Valley City State University",
          "University of Akron Main Campus",
          "Ashland University",
          "Baldwin Wallace University",
          "Bluffton University",
          "Bowling Green State University-Main Campus",
          "Capital University",
          "Case Western Reserve University",
          "Cedarville University",
          "Central State University",
          "The Christ College of Nursing and Health Sciences",
          "University of Cincinnati-Main Campus",
          "Ohio Christian University",
          "Cleveland Institute of Art",
          "Cleveland State University",
          "Columbus College of Art and Design",
          "University of Dayton",
          "Defiance College",
          "Denison University",
          "The University of Findlay",
          "Franklin University",
          "Heidelberg University",
          "Hiram College",
          "John Carroll University",
          "Kent State University at Kent",
          "Kenyon College",
          "Kettering College",
          "Lake Erie College",
          "Lourdes University",
          "Malone University",
          "Marietta College",
          "Mercy College of Ohio",
          "Miami University-Hamilton",
          "Miami University-Middletown",
          "Miami University-Oxford",
          "Mount Carmel College of Nursing",
          "University of Mount Union",
          "Mount Vernon Nazarene University",
          "Mount Saint Joseph University",
          "Muskingum University",
          "Notre Dame College",
          "Oberlin College",
          "Ohio Dominican University",
          "Ohio Northern University",
          "Ohio State University-Lima Campus",
          "Ohio State University-Main Campus",
          "Ohio University-Main Campus",
          "Ohio Wesleyan University",
          "Otterbein University",
          "Shawnee State University",
          "Franciscan University of Steubenville",
          "Tiffin University",
          "University of Toledo",
          "Union Institute & University",
          "Ursuline College",
          "Walsh University",
          "Wilmington College",
          "Wittenberg University",
          "The College of Wooster",
          "Wright State University-Main Campus",
          "Wright State University-Lake Campus",
          "Xavier University",
          "Youngstown State University",
          "Oklahoma Wesleyan University",
          "Southern Nazarene University",
          "Cameron University",
          "University of Central Oklahoma",
          "East Central University",
          "Langston University",
          "Northeastern State University",
          "Northwestern Oklahoma State University",
          "Oklahoma Christian University",
          "University of Oklahoma-Health Sciences Center",
          "Oklahoma Panhandle State University",
          "Oklahoma State University-Main Campus",
          "Oklahoma Baptist University",
          "Oklahoma City University",
          "University of Oklahoma-Norman Campus",
          "Oral Roberts University",
          "Rogers State University",
          "University of Science and Arts of Oklahoma",
          "Southeastern Oklahoma State University",
          "Southwestern Oklahoma State University",
          "University of Tulsa",
          "Eastern Oregon University",
          "George Fox University",
          "Lewis & Clark College",
          "Linfield University-McMinnville Campus",
          "Bushnell University",
          "Oregon Health & Science University",
          "Oregon Institute of Technology",
          "Oregon State University",
          "University of Oregon",
          "Pacific University",
          "Portland State University",
          "University of Portland",
          "Reed College",
          "Southern Oregon University",
          "Corban University",
          "Willamette University",
          "Western Oregon University",
          "Albright College",
          "Allegheny College",
          "DeSales University",
          "Alvernia University",
          "Arcadia University",
          "Bloomsburg University of Pennsylvania",
          "Bryn Mawr College",
          "Bucknell University",
          "Cabrini University",
          "California University of Pennsylvania",
          "Carlow University",
          "Carnegie Mellon University",
          "Cedar Crest College",
          "Chatham University",
          "Chestnut Hill College",
          "Cheyney University of Pennsylvania",
          "Clarion University of Pennsylvania",
          "Delaware Valley University",
          "Dickinson College",
          "Drexel University",
          "Duquesne University",
          "East Stroudsburg University of Pennsylvania",
          "Eastern University",
          "Edinboro University of Pennsylvania",
          "Elizabethtown College",
          "Franklin and Marshall College",
          "Gannon University",
          "Geneva College",
          "Gettysburg College",
          "Gwynedd Mercy University",
          "Haverford College",
          "Holy Family University",
          "Immaculata University",
          "Indiana University of Pennsylvania-Main Campus",
          "Juniata College",
          "Keystone College",
          "King's College",
          "Kutztown University of Pennsylvania",
          "La Roche University",
          "La Salle University",
          "Lafayette College",
          "Lancaster Bible College",
          "Lebanon Valley College",
          "Lehigh University",
          "Lincoln University",
          "Lock Haven University",
          "Lycoming College",
          "Mansfield University of Pennsylvania",
          "Marywood University",
          "Mercyhurst University",
          "Messiah University",
          "Millersville University of Pennsylvania",
          "Misericordia University",
          "Moravian University",
          "Mount Aloysius College",
          "Muhlenberg College",
          "Neumann University",
          "Peirce College",
          "University of Pennsylvania",
          "The University of the Arts",
          "Cairn University-Langhorne",
          "University of the Sciences",
          "University of Pittsburgh-Bradford",
          "University of Pittsburgh-Greensburg",
          "University of Pittsburgh-Johnstown",
          "University of Pittsburgh-Pittsburgh Campus",
          "Point Park University",
          "Robert Morris University",
          "Saint Francis University",
          "Saint Joseph's University",
          "Saint Vincent College",
          "University of Scranton",
          "Seton Hill University",
          "Shippensburg University of Pennsylvania",
          "Slippery Rock University of Pennsylvania",
          "Susquehanna University",
          "Swarthmore College",
          "Temple University",
          "Thiel College",
          "Thomas Jefferson University",
          "Ursinus College",
          "Villanova University",
          "Washington & Jefferson College",
          "Waynesburg University",
          "West Chester University of Pennsylvania",
          "Westminster College",
          "Widener University",
          "Wilkes University",
          "Wilson College",
          "York College of Pennsylvania",
          "Brown University",
          "Bryant University",
          "Johnson & Wales University-Providence",
          "Providence College",
          "Rhode Island College",
          "University of Rhode Island",
          "Rhode Island School of Design",
          "Roger Williams University",
          "Salve Regina University",
          "Allen University",
          "Anderson University",
          "Charleston Southern University",
          "Benedict College",
          "Bob Jones University",
          "Southern Wesleyan University",
          "College of Charleston",
          "Citadel Military College of South Carolina",
          "Claflin University",
          "Clemson University",
          "Coker University",
          "Columbia International University",
          "Columbia College",
          "Converse University",
          "Erskine College",
          "Francis Marion University",
          "Furman University",
          "Lander University",
          "Limestone University",
          "Newberry College",
          "North Greenville University",
          "Presbyterian College",
          "University of South Carolina Aiken",
          "University of South Carolina Beaufort",
          "University of South Carolina-Columbia",
          "Coastal Carolina University",
          "South Carolina State University",
          "University of South Carolina-Upstate",
          "Winthrop University",
          "Wofford College",
          "Augustana University",
          "Black Hills State University",
          "Dakota State University",
          "Dakota Wesleyan University",
          "Mount Marty University",
          "Northern State University",
          "Presentation College",
          "South Dakota School of Mines and Technology",
          "South Dakota State University",
          "University of Sioux Falls",
          "University of South Dakota",
          "Austin Peay State University",
          "Baptist Health Sciences University",
          "Belmont University",
          "Bethel University",
          "Bryan College-Dayton",
          "Carson-Newman University",
          "Christian Brothers University",
          "Cumberland University",
          "Lipscomb University",
          "East Tennessee State University",
          "Fisk University",
          "Freed-Hardeman University",
          "Johnson University",
          "King University",
          "Lane College",
          "Le Moyne-Owen College",
          "Lee University",
          "Lincoln Memorial University",
          "The University of Tennessee Southern",
          "Maryville College",
          "University of Memphis",
          "Middle Tennessee State University",
          "Rhodes College",
          "The University of the South",
          "Southern Adventist University",
          "Tennessee Wesleyan University",
          "The University of Tennessee-Chattanooga",
          "The University of Tennessee-Knoxville",
          "The University of Tennessee-Martin",
          "Tennessee State University",
          "Tennessee Technological University",
          "Trevecca Nazarene University",
          "Tusculum University",
          "Union University",
          "Vanderbilt University",
          "Abilene Christian University",
          "Angelo State University",
          "Austin College",
          "Baylor University",
          "Concordia University Texas",
          "Texas A & M University-Corpus Christi",
          "Dallas Baptist University",
          "University of Dallas",
          "East Texas Baptist University",
          "Texas A&M University-Texarkana",
          "Texas A & M University-Commerce",
          "Hallmark University",
          "Hardin-Simmons University",
          "Houston Baptist University",
          "University of Houston-Clear Lake",
          "University of Houston-Downtown",
          "University of Houston-Victoria",
          "University of Houston",
          "Howard Payne University",
          "Huston-Tillotson University",
          "University of the Incarnate Word",
          "Jarvis Christian College",
          "Lamar University",
          "Texas A & M International University",
          "LeTourneau University",
          "Lubbock Christian University",
          "University of Mary Hardin-Baylor",
          "McMurry University",
          "Midwestern State University",
          "University of North Texas",
          "Our Lady of the Lake University",
          "The University of Texas Rio Grande Valley",
          "Prairie View A & M University",
          "Rice University",
          "Saint Edward's University",
          "University of St Thomas",
          "Sam Houston State University",
          "Schreiner University",
          "St. Mary's University",
          "Southern Methodist University",
          "Southwestern Assemblies of God University",
          "Southwestern University",
          "Stephen F Austin State University",
          "Texas State University",
          "Southwestern Adventist University",
          "Sul Ross State University",
          "Tarleton State University",
          "The University of Texas Health Science Center at San Antonio",
          "The University of Texas Medical Branch at Galveston",
          "Texas A & M University-Kingsville",
          "Texas A & M University-College Station",
          "The University of Texas at Arlington",
          "The University of Texas at Austin",
          "The University of Texas at Dallas",
          "The University of Texas at El Paso",
          "The University of Texas at Tyler",
          "Texas Christian University",
          "Texas College",
          "Texas Lutheran University",
          "The University of Texas Permian Basin",
          "The University of Texas at San Antonio",
          "Texas Southern University",
          "Texas Tech University",
          "Texas Wesleyan University",
          "Texas Woman's University",
          "Trinity University",
          "The University of Texas Health Science Center at Houston",
          "Texas Tech University Health Sciences Center",
          "Wayland Baptist University",
          "West Texas A & M University",
          "Wiley College",
          "Brigham Young University",
          "Brigham Young University-Hawaii",
          "Dixie State University",
          "Southern Utah University",
          "Utah State University",
          "Utah Valley University",
          "University of Utah",
          "Westminster College",
          "Bennington College",
          "Castleton University",
          "Champlain College",
          "Northern Vermont University",
          "Middlebury College",
          "Norwich University",
          "Saint Michael's College",
          "University of Vermont",
          "Averett University",
          "Bluefield University",
          "Bridgewater College",
          "William & Mary",
          "Regent University",
          "Christopher Newport University",
          "Emory & Henry College",
          "Eastern Mennonite University",
          "Ferrum College",
          "George Mason University",
          "Hampden-Sydney College",
          "Hampton University",
          "Hollins University",
          "James Madison University",
          "Liberty University",
          "Longwood University",
          "University of Lynchburg",
          "Mary Baldwin University",
          "University of Mary Washington",
          "Marymount University",
          "Norfolk State University",
          "Old Dominion University",
          "Radford University",
          "Randolph-Macon College",
          "University of Richmond",
          "Roanoke College",
          "Shenandoah University",
          "Southern Virginia University",
          "University of Virginia's College at Wise",
          "Virginia Polytechnic Institute and State University",
          "Virginia Commonwealth University",
          "University of Virginia-Main Campus",
          "Virginia Military Institute",
          "Virginia State University",
          "Virginia Union University",
          "Virginia Wesleyan University",
          "Washington and Lee University",
          "Central Washington University",
          "City University of Seattle",
          "Eastern Washington University",
          "The Evergreen State College",
          "Gonzaga University",
          "Heritage University",
          "Northwest University",
          "Pacific Lutheran University",
          "University of Puget Sound",
          "Saint Martin's University",
          "Seattle Pacific University",
          "Seattle University",
          "Walla Walla University",
          "Washington State University",
          "University of Washington-Seattle Campus",
          "Western Washington University",
          "Whitman College",
          "Whitworth University",
          "Alderson Broaddus University",
          "Bethany College",
          "Bluefield State College",
          "University of Charleston",
          "Concord University",
          "Davis & Elkins College",
          "Fairmont State University",
          "Glenville State College",
          "Marshall University",
          "Shepherd University",
          "West Virginia State University",
          "West Liberty University",
          "West Virginia University Institute of Technology",
          "West Virginia Wesleyan College",
          "West Virginia University",
          "Wheeling University",
          "Alverno College",
          "Beloit College",
          "Cardinal Stritch University",
          "Carroll University",
          "Carthage College",
          "Concordia University-Wisconsin",
          "Edgewood College",
          "Lakeland University",
          "Lawrence University",
          "Maranatha Baptist University",
          "Marian University",
          "Marquette University",
          "Milwaukee Institute of Art & Design",
          "Milwaukee School of Engineering",
          "Mount Mary University",
          "Northland College",
          "Ripon College",
          "Saint Norbert College",
          "Viterbo University",
          "University of Wisconsin-Whitewater",
          "University of Wisconsin-Eau Claire",
          "University of Wisconsin-Green Bay",
          "University of Wisconsin-La Crosse",
          "Wisconsin Lutheran College",
          "University of Wisconsin-Oshkosh",
          "University of Wisconsin-Parkside",
          "Herzing University-Madison",
          "University of Wisconsin-Stout",
          "University of Wisconsin-Superior",
          "University of Wisconsin-Madison",
          "University of Wisconsin-Milwaukee",
          "University of Wisconsin-Platteville",
          "University of Wisconsin-River Falls",
          "University of Wisconsin-Stevens Point",
          "University of Wyoming",
          "University of Guam",
          "Universidad Adventista de las Antillas",
          "Atlantic University College",
          "Universidad Central de Bayamon",
          "Albizu University-San Juan",
          "Caribbean University-Bayamon",
          "Pontifical Catholic University of Puerto Rico-Ponce",
          "Colegio Universitario de San Juan",
          "Universidad Ana G. Mendez-Cupey Campus",
          "Inter American University of Puerto Rico-San German",
          "Inter American University of Puerto Rico-Aguadilla",
          "Inter American University of Puerto Rico-Arecibo",
          "Inter American University of Puerto Rico-Barranquitas",
          "Inter American University of Puerto Rico-Metro",
          "Inter American University of Puerto Rico-Ponce",
          "Inter American University of Puerto Rico-Fajardo",
          "Inter American University of Puerto Rico-Guayama",
          "Inter American University of Puerto Rico-Bayamon",
          "University of Puerto Rico-Aguadilla",
          "University of Puerto Rico-Arecibo",
          "University of Puerto Rico-Bayamon",
          "University of Puerto Rico-Carolina",
          "University of Puerto Rico-Cayey",
          "University of Puerto Rico-Humacao",
          "University of Puerto Rico-Mayaguez",
          "University of Puerto Rico at Ponce",
          "University of Puerto Rico-Rio Piedras",
          "Universidad Ana G. Mendez-Carolina Campus",
          "Universidad del Sagrado Corazon",
          "Universidad Politecnica de Puerto Rico",
          "Pontifical Catholic University of Puerto Rico-Mayaguez",
          "Universidad Ana G. Mendez-Gurabo Campus",
          "University of the Virgin Islands",
          "Stanford University",
          "Purdue University-Main Campus",
          "Mid-America Christian University",
          "UMass Global",
          "New College of Florida",
          "California State University-San Marcos",
          "Hodges University",
          "University of Washington-Bothell Campus",
          "University of Washington-Tacoma Campus",
          "Everglades University",
          "California State University-Monterey Bay",
          "Johnson & Wales University-North Miami",
          "Embry-Riddle Aeronautical University-Worldwide",
          "Western Governors University",
          "Florida Gulf Coast University",
          "Nevada State College",
          "California State University-Channel Islands",
          "University of California-Merced",
          "Central Methodist University-College of Graduate and Extended Studies",
          "Johnson & Wales University-Charlotte",
          "Roseman University of Health Sciences",
          "Ave Maria University",
          "Uta Mesivta of Kiryas Joel",
          "Harrisburg University of Science and Technology",
          "Georgia Gwinnett College",
          "University of Minnesota-Rochester",
          "Herzing University-Kenosha",
          "Texas A&M University-San Antonio",
          "Johnson & Wales University-Online",
          "Los Angeles Pacific University",
          "Be'er Yaakov Talmudic Seminary",
          "Colorado State University-Global Campus",
          "Florida Institute of Technology-Online",
          "Augusta University",
          "Middle Georgia State University",
          "University of North Georgia",
          "Northeastern University Professional Programs",
          "Florida Polytechnic University",
          "Texas A&M University-Central Texas",
          "Arizona State University Digital Immersion",
          "Ana G. Mendez University",
          "University of Florida-Online",
          "University of North Texas at Dallas",
          "Kennesaw State University",
          "Milligan University",
          "Husson University",
          "Northwest University-Center for Online and Extended Education",
          "Indiana Wesleyan University-National & Global",
          "Purdue University Global",
          "Purdue University Northwest",
          "University of Wisconsin-Milwaukee Flex"
         ],
         "legendgroup": "",
         "marker": {
          "color": "#636efa",
          "symbol": "circle"
         },
         "mode": "markers",
         "name": "",
         "showlegend": false,
         "type": "scattergl",
         "x": [
          0.8965,
          0.806,
          0.7711,
          0.9888,
          0.8039,
          null,
          0.9555,
          0.8507,
          0.6045,
          0.7576,
          0.5439,
          0.6369,
          0.9313,
          null,
          0.6657,
          0.6052,
          0.8266,
          0.8881,
          0.8399,
          0.7303,
          0.5416,
          0.5553,
          null,
          0.9243,
          0.6113,
          0.7683,
          0.6701,
          0.8837,
          0.8513,
          0.6685,
          0.8164,
          0.7147,
          0.5604,
          null,
          0.5015,
          0.7767,
          0.5966,
          0.6719,
          0.9766,
          0.9378,
          0.4981,
          0.5507,
          0.749,
          0.7054,
          0.5886,
          0.6177,
          0.559,
          null,
          0.693,
          0.6853,
          null,
          0.7609,
          0.936,
          0.6438,
          0.8018,
          0.8545,
          0.0669,
          0.7439,
          0.3843,
          0.7838,
          0.8932,
          0.7812,
          0.6481,
          0.9017,
          0.812,
          0.9011,
          0.6762,
          0.7328,
          0.4212,
          0.7648,
          0.6581,
          0.8309,
          0.1748,
          0.4635,
          0.2992,
          0.1433,
          0.6578,
          0.3661,
          0.367,
          0.6473,
          0.2742,
          0.8249,
          0.5826,
          0.7818,
          0.1334,
          null,
          0.8574,
          0.6694,
          null,
          0.1796,
          0.8912,
          0.8514,
          0.7625,
          0.8292,
          0.5697,
          null,
          0.5988,
          0.5014,
          null,
          0.6451,
          0.9114,
          0.8933,
          0.8936,
          0.409,
          0.8032,
          0.3829,
          0.5917,
          0.7075,
          0.4185,
          0.1657,
          0.8355,
          0.0862,
          0.6865,
          null,
          0.367,
          0.587,
          0.8409,
          0.703,
          0.6521,
          0.6737,
          0.5072,
          0.3513,
          0.5972,
          0.7731,
          0.8912,
          0.4999,
          0.1611,
          0.7016,
          0.7233,
          0.704,
          0.9988,
          0.663,
          0.8961,
          0.842,
          null,
          0.136,
          0.5497,
          0.8352,
          0.6067,
          0.9151,
          0.7544,
          0.8333,
          0.877,
          0.782,
          0.9431,
          0.885,
          0.8126,
          0.7095,
          0.6485,
          null,
          0.3772,
          0.5609,
          0.697,
          0.5613,
          0.7741,
          0.7422,
          0.911,
          0.8239,
          0.6553,
          0.7802,
          0.7968,
          0.3604,
          0.209,
          0.8072,
          0.0653,
          0.3934,
          0.6599,
          0.5521,
          0.5859,
          null,
          0.3865,
          0.8223,
          null,
          0.6262,
          0.4304,
          0.1681,
          0.3864,
          0.9579,
          0.653,
          0.9773,
          0.7868,
          0.4517,
          0.6858,
          0.5703,
          0.606,
          0.3298,
          0.7478,
          0.5649,
          0.9087,
          0.7037,
          0.5788,
          0.3841,
          0.5037,
          0.3245,
          0.3113,
          0.7774,
          0.3309,
          0.7992,
          0.7624,
          0.9171,
          0.6851,
          0.6081,
          0.73,
          0.4924,
          0.5962,
          0.8149,
          0.4266,
          0.5551,
          0.5412,
          0.3778,
          0.5756,
          0.6752,
          0.3487,
          0.5905,
          0.7722,
          0.9219,
          0.9814,
          0.9594,
          0.6854,
          0.7832,
          0.9755,
          null,
          0.5275,
          0.1917,
          0.7232,
          0.2134,
          0.734,
          0.8594,
          0.9117,
          0.8239,
          0.4838,
          0.5967,
          0.9681,
          0.9247,
          0.7816,
          0.7707,
          0.6693,
          0.7008,
          0.9869,
          0.7792,
          0.4614,
          0.7093,
          0.5258,
          0.3452,
          0.5773,
          0.9729,
          0.7845,
          0.5981,
          0.7762,
          0.6503,
          0.8897,
          0.7383,
          0.8369,
          0.814,
          0.9523,
          0.7749,
          null,
          0.7444,
          0.4835,
          0.9975,
          0.7683,
          0.9701,
          0.7778,
          0.5735,
          0.8395,
          0.7328,
          0.4642,
          0.0731,
          0.8953,
          0.7854,
          0.7024,
          0.5554,
          0.6553,
          0.6136,
          0.4784,
          0.5921,
          0.7263,
          0.6099,
          0.633,
          0.5693,
          0.7524,
          0.6066,
          0.8131,
          0.5701,
          0.7084,
          0.5761,
          0.6606,
          0.6985,
          0.7054,
          0.7008,
          0.875,
          0.7115,
          0.6943,
          0.9751,
          0.9746,
          0.5329,
          0.4396,
          0.5925,
          0.0931,
          0.607,
          0.6657,
          0.6713,
          0.5082,
          0.7652,
          0.7646,
          0.6009,
          0.79,
          0.7733,
          0.9178,
          0.8505,
          0.6366,
          0.8592,
          null,
          0.6696,
          0.8695,
          0.665,
          0.8705,
          0.9279,
          0.7569,
          null,
          0.6849,
          0.591,
          0.643,
          0.7607,
          0.9238,
          0.7465,
          0.6932,
          0.7767,
          0.8278,
          0.7854,
          0.8448,
          0.6307,
          0.9387,
          0.9229,
          0.8271,
          0.8687,
          0.8038,
          0.8168,
          0.8541,
          0.6732,
          0.7038,
          0.6424,
          0.9147,
          0.1899,
          0.6331,
          0.7662,
          0.9905,
          0.7123,
          0.8151,
          0.701,
          0.7894,
          0.8663,
          0.6321,
          null,
          0.5568,
          0.6368,
          0.892,
          0.7986,
          0.8241,
          0.7184,
          0.6792,
          0.7863,
          0.6807,
          0.9702,
          0.1925,
          0.8842,
          0.7119,
          0.8428,
          0.5838,
          0.6429,
          1,
          0.9167,
          0.686,
          0.7621,
          0.7888,
          0.7377,
          0.7384,
          0.8662,
          0.653,
          0.7172,
          0.5503,
          0.9341,
          0.9678,
          0.6832,
          null,
          0.8608,
          0.9135,
          0.5754,
          0.9093,
          0.8308,
          0.9415,
          0.6179,
          0.5216,
          0.6376,
          0.703,
          0.9068,
          0.5956,
          0.5624,
          0.3688,
          0.4639,
          null,
          0.7963,
          0.2115,
          0.7515,
          0.8237,
          0.3296,
          0.4783,
          0.7764,
          0.7208,
          0.8144,
          0.9795,
          0.7216,
          0.8398,
          0.6019,
          0.9636,
          0.2829,
          null,
          0.6512,
          0.7306,
          0.767,
          0.7703,
          0.8703,
          null,
          0.7726,
          0.9343,
          0.9191,
          0.9212,
          0.5733,
          0.9775,
          0.6369,
          0.6531,
          0.9322,
          null,
          0.6354,
          0.7338,
          0.8268,
          0.7116,
          0.6357,
          0.7239,
          0.633,
          0.8291,
          0.9329,
          0.7798,
          0.9485,
          0.5273,
          0.4665,
          0.9737,
          0.4345,
          0.72,
          0.6728,
          0.1111,
          0.8062,
          0.141,
          0.0916,
          0.1027,
          null,
          0.9461,
          0.9983,
          0.9221,
          0.5214,
          0.99,
          0.8726,
          0.8673,
          0.8793,
          null,
          0.9977,
          0.7993,
          0.8121,
          0.9395,
          0.402,
          0.7361,
          0.7941,
          0.7133,
          0.1106,
          0.8024,
          null,
          null,
          0.6948,
          0.5096,
          0.8983,
          0.6203,
          0.7359,
          0.8045,
          0.6229,
          0.7762,
          0.7903,
          0.788,
          0.8918,
          0.8028,
          0.8113,
          0.4515,
          0.6938,
          0.1183,
          0.8607,
          0.8092,
          0.2697,
          0.7831,
          0.8296,
          0.5782,
          0.516,
          0.2638,
          0.2009,
          0.334,
          0.8231,
          null,
          0.4713,
          0.9271,
          0.7052,
          0.6438,
          0.4105,
          0.7552,
          0.704,
          0.7772,
          0.8799,
          0.7853,
          0.6827,
          0.5882,
          0.0501,
          0.3794,
          0.8454,
          0.8381,
          0.752,
          0.6532,
          0.7968,
          0.9112,
          0.7027,
          0.0726,
          0.9248,
          0.8164,
          0.5247,
          0.8037,
          0.8768,
          0.2048,
          0.6978,
          0.8408,
          0.8675,
          0.8255,
          0.3652,
          0.6341,
          0.7618,
          0.6896,
          0.859,
          0.163,
          0.2041,
          0.9354,
          0.8943,
          0.9244,
          0.7709,
          0.1512,
          0.5905,
          0.8103,
          0.6121,
          0.7444,
          0.6673,
          0.4878,
          0.7091,
          0.5376,
          0.7321,
          0.6867,
          0.6526,
          0.6096,
          0.5538,
          0.9256,
          0.795,
          0.7518,
          0.8246,
          0.7413,
          0.8697,
          0.8752,
          0.7783,
          0.7433,
          0.695,
          0.8246,
          0.6837,
          0.9943,
          0.2611,
          0.7631,
          0.7036,
          0.6751,
          0.7742,
          0.6689,
          0.768,
          0.811,
          0.6031,
          0.8946,
          0.7443,
          0.633,
          null,
          0.6901,
          0.8494,
          0.7312,
          0.6944,
          0.6451,
          0.8663,
          0.2118,
          0.5808,
          0.686,
          0.8731,
          0.7061,
          0.6895,
          0.3869,
          0.6726,
          0.6189,
          0.6964,
          0.7215,
          0.5468,
          0.9206,
          0.7855,
          0.6465,
          0.6605,
          0.9299,
          0.9222,
          0.8401,
          0.7322,
          0.8138,
          0.841,
          0.5081,
          0.4689,
          0.7331,
          0.874,
          0.7615,
          0.806,
          0.7518,
          0.3772,
          0.4954,
          0.9912,
          0.9961,
          0.8998,
          0.6981,
          0.8802,
          0.9903,
          0.8272,
          0.2876,
          0.8004,
          0.2947,
          0.9633,
          0.712,
          0.5528,
          0.4198,
          1,
          0.9534,
          0.6359,
          null,
          0.9833,
          0.7068,
          0.9542,
          0.8536,
          0.6463,
          null,
          null,
          0.591,
          null,
          0.9213,
          0.9489,
          0.97,
          0.6484,
          0.9833,
          0.6218,
          null,
          0.8178,
          0.6301,
          0.8146,
          0.5759,
          0.721,
          0.8011,
          0.9818,
          0.1428,
          null,
          0.7289,
          0.5554,
          0.7335,
          0.9333,
          0.8657,
          0.1602,
          0.5312,
          0.9743,
          0.364,
          0.6254,
          0.7302,
          null,
          0.9853,
          0.9727,
          0.8077,
          0.9578,
          null,
          0.7117,
          0.5186,
          null,
          0.5686,
          0.5777,
          null,
          0.7583,
          0.6402,
          0.688,
          0.6595,
          0.8841,
          0.9186,
          0.5079,
          0.8229,
          null,
          0.6953,
          0.7774,
          null,
          0.5,
          0.976,
          null,
          0.8102,
          0.873,
          0.91,
          0.0922,
          0.8468,
          0.9625,
          0.9354,
          0.8481,
          0.9066,
          0.8528,
          0.8937,
          0.7571,
          0.7615,
          null,
          null,
          0.8465,
          0.9152,
          0.93,
          0.7315,
          0.8887,
          0.9355,
          0.8632,
          0.809,
          0.7801,
          0.9633,
          0.7805,
          0.7893,
          0.8266,
          0.6603,
          0.0563,
          0.6684,
          0.7566,
          0.7628,
          0.6693,
          0.7409,
          0.8464,
          0.7823,
          0.7538,
          0.5306,
          0.7731,
          null,
          0.5125,
          0.8062,
          0.506,
          null,
          0.9658,
          0.9634,
          0.6267,
          null,
          null,
          0.7461,
          0.7519,
          0.6411,
          0.5695,
          0.136,
          null,
          0.7602,
          0.7218,
          0.9524,
          0.7799,
          0.2747,
          0.4041,
          0.0666,
          0.9529,
          0.1751,
          0.1071,
          0.4071,
          0.4974,
          null,
          0.5054,
          null,
          0.4048,
          0.3743,
          0.4701,
          0.7848,
          0.7907,
          0.5349,
          0.5276,
          0.8307,
          0.6178,
          0.7462,
          0.8313,
          0.5253,
          0.1841,
          0.931,
          0.9171,
          0.6184,
          0.6911,
          0.7998,
          0.8595,
          0.7568,
          0.9091,
          0.7474,
          0.8501,
          0.7765,
          0.8981,
          0.5505,
          0.8818,
          0.718,
          0.8196,
          0.7414,
          0.9017,
          0.9268,
          0.7568,
          0.691,
          0.2109,
          0.9241,
          0.7468,
          0.9732,
          0.8287,
          0.6742,
          0.6594,
          0.5726,
          0.7581,
          0.7386,
          0.3543,
          0.7431,
          0.7631,
          0.8452,
          0.4726,
          0.8188,
          0.8684,
          0.5463,
          0.8066,
          0.3217,
          0.7067,
          0.6841,
          0.7507,
          0.8301,
          0.8,
          0.6016,
          0.5715,
          0.4303,
          0.6695,
          0.4891,
          0.6017,
          0.733,
          0.5811,
          0.8007,
          0.522,
          0.7225,
          0.6136,
          0.6202,
          0.6295,
          0.689,
          0.7166,
          0.737,
          0.5308,
          0.6103,
          null,
          0.7271,
          0.6872,
          0.7598,
          null,
          0.4126,
          null,
          0.2411,
          0.8641,
          0.2454,
          0.7874,
          0.7043,
          0.6741,
          0.8736,
          0.7951,
          0.4244,
          0.801,
          0.4524,
          0.8129,
          0.5212,
          0.6736,
          0.2,
          0.0774,
          0.8792,
          0.7483,
          0.717,
          0.7938,
          0.7795,
          0.7761,
          0.7801,
          0.7705,
          0.492,
          0.7329,
          0.7662,
          0.6895,
          0.6729,
          0.7162,
          0.7588,
          0.712,
          0.6191,
          0.5671,
          0.7942,
          0.25,
          0.7953,
          0.8754,
          0.8742,
          0.3634,
          0.4622,
          0.4759,
          0.6797,
          0.6139,
          0.9138,
          0.7584,
          0.6843,
          0.6733,
          0.7056,
          0.6086,
          0.8243,
          0.3198,
          0.8484,
          0.7327,
          0.7252,
          0.4848,
          0.9862,
          0.719,
          0.7168,
          0.5303,
          0.7733,
          0.8675,
          0.941,
          0.806,
          0.7304,
          0.7435,
          0.6982,
          0.6051,
          0.753,
          0.7406,
          0.3027,
          0.5933,
          0.5804,
          0.7084,
          0.764,
          null,
          0.6718,
          0.936,
          0.9169,
          0.8111,
          0.5492,
          0.2817,
          0.7959,
          null,
          0.8106,
          0.9277,
          0.8784,
          0.8443,
          0.3689,
          0.213,
          0.6395,
          0.7782,
          0.7427,
          0.7391,
          0.3951,
          null,
          null,
          0.9195,
          0.8082,
          0.7741,
          0.7248,
          0.6015,
          0.7966,
          0.8743,
          0.3536,
          0.495,
          0.652,
          null,
          0.6849,
          0.8749,
          0.684,
          0.7606,
          null,
          0.73,
          0.6247,
          0.9468,
          null,
          0.8079,
          0.7656,
          0.7272,
          0.9743,
          0.653,
          0.9564,
          0.9961,
          0.8122,
          0.6993,
          0.8266,
          null,
          null,
          0.8049,
          0.9645,
          null,
          0.9949,
          0.7026,
          0.6121,
          null,
          null,
          0.6709,
          0.5821,
          0.731,
          0.8338,
          0.7839,
          null,
          0.3575,
          0.7859,
          0.932,
          0.6922,
          0.9425,
          0.9091,
          0.7982,
          0.8018,
          0.6819,
          null,
          0.9513,
          0.8221,
          0.8381,
          0.893,
          0.9519,
          0.7722,
          0.4234,
          0.9043,
          0.4834,
          0.8017,
          0.7914,
          0.821,
          0.7315,
          0.8177,
          0.7002,
          0.7363,
          0.8903,
          0.3836,
          0.3753,
          0.6167,
          0.9432,
          0.9446,
          0.1727,
          0.5246,
          0.6619,
          0.7114,
          null,
          0.9423,
          0.9158,
          0.5165,
          0.7719,
          0.7719,
          0.905,
          0.6425,
          0.8503,
          0.8573,
          0.365,
          0.7924,
          0.7314,
          0.4824,
          0.8803,
          0.1823,
          0.777,
          0.8243,
          0.931,
          0.6746,
          0.7874,
          0.8661,
          0.9319,
          0.6891,
          0.7635,
          0.3557,
          0.9668,
          0.778,
          0.4954,
          0.9034,
          0.9308,
          0.6548,
          0.9602,
          0.8203,
          0.8802,
          0.7752,
          0.8455,
          0.8329,
          0.801,
          0.9524,
          0.6218,
          0.8034,
          null,
          0.0898,
          0.7582,
          0.8145,
          0.714,
          0.7919,
          0.9002,
          0.8662,
          0.6388,
          0.6951,
          0.8563,
          0.5935,
          0.8007,
          0.7212,
          0.7873,
          0.7867,
          0.9392,
          0.7398,
          0.7304,
          0.0906,
          0.7142,
          0.8351,
          0.6984,
          0.8044,
          0.3066,
          0.9018,
          0.8996,
          0.8625,
          0.7651,
          0.7458,
          0.9177,
          0.922,
          0.7077,
          0.0767,
          0.7579,
          0.8651,
          0.5386,
          0.8127,
          0.7551,
          0.2712,
          0.8601,
          0.7462,
          0.6458,
          0.592,
          0.5379,
          0.7259,
          null,
          0.5575,
          0.7432,
          0.7995,
          0.6513,
          0.6194,
          0.9306,
          0.5067,
          0.9707,
          0.8244,
          0.6,
          0.7525,
          0.6525,
          0.5703,
          0.6829,
          0.5659,
          0.6533,
          0.7083,
          0.5588,
          0.6694,
          0.6835,
          0.7045,
          0.9409,
          0.5954,
          0.6394,
          0.53,
          0.7138,
          0.9714,
          0.8357,
          0.642,
          0.7843,
          0.7871,
          0.9321,
          0.8555,
          0.8894,
          0.9229,
          0.9095,
          0.9115,
          0.693,
          0.8323,
          0.7612,
          null,
          0.7932,
          0.4994,
          0.5376,
          0.615,
          0.7838,
          0.6646,
          0.8085,
          0.5497,
          0.6018,
          null,
          0.638,
          0.8301,
          0.6853,
          0.9834,
          0.6211,
          0.852,
          0.942,
          0.5136,
          0.5607,
          0.7396,
          0.6092,
          0.8311,
          0.7815,
          0.6495,
          null,
          0.7963,
          0.6283,
          0.6715,
          0.5753,
          0.1162,
          0.634,
          0.7816,
          0.4928,
          0.6847,
          0.9295,
          0.9013,
          0.9858,
          0.5378,
          0.9207,
          0.9646,
          0.6006,
          0.4051,
          0.9051,
          0.7151,
          0.8073,
          0.9282,
          0.6706,
          0.6279,
          0.4853,
          0.5596,
          0.9656,
          null,
          0.8268,
          0.5893,
          0.5611,
          0.9651,
          0.903,
          0.4739,
          0.7096,
          0.8398,
          0.7397,
          0.8239,
          0.7637,
          0.1089,
          0.9131,
          0.9609,
          0.925,
          0.9615,
          0.8543,
          0.5267,
          0.8876,
          0.4937,
          0.7611,
          0.8454,
          0.623,
          0.8083,
          0.5775,
          null,
          null,
          0.8792,
          0.6327,
          0.8775,
          0.3195,
          0.7936,
          0.9997,
          0.9163,
          0.4803,
          null,
          0.593,
          0.879,
          0.8354,
          0.6637,
          0.7003,
          0.4679,
          0.9368,
          0.3362,
          null,
          null,
          0.8144,
          0.5825,
          null,
          0.6925,
          0.7502,
          null,
          0.7556,
          0.9104,
          null,
          0.794,
          0.8745,
          0.5999,
          0.8831,
          0.8515,
          0.7577,
          0.2204,
          0.7417,
          0.8781,
          0.7132,
          0.6938,
          0.7602,
          0.7614,
          0.4216,
          0.5044,
          0.7642,
          0.7541,
          0.7182,
          0.7583,
          0.892,
          0.4701,
          0.36,
          0.8079,
          0.8049,
          0.5013,
          0.8734,
          0.9727,
          0.871,
          0.7549,
          0.8526,
          0.9107,
          0.9541,
          0.7868,
          0.7131,
          0.309,
          0.7813,
          0.7438,
          0.9903,
          0.8257,
          0.6577,
          0.906,
          0.2258,
          0.5988,
          0.9626,
          0.7535,
          0.7399,
          0.2451,
          0.8599,
          null,
          0.7894,
          0.9838,
          0.7289,
          null,
          0.9277,
          0.863,
          0.8685,
          0.9419,
          0.9062,
          0.8323,
          null,
          0.7995,
          0.5586,
          0.9351,
          0.5413,
          0.9101,
          0.5276,
          0.9184,
          0.9003,
          0.6148,
          0.914,
          0.6905,
          0.9434,
          null,
          0.8925,
          0.977,
          0.885,
          0.6844,
          0.5512,
          0.6572,
          0.8389,
          0.7682,
          0.7823,
          0.5834,
          0.769,
          0.7177,
          0.7663,
          0.7053,
          0.912,
          0.9247,
          0.6892,
          0.805,
          0.6767,
          0.8249,
          0.6195,
          0.6009,
          0.5301,
          0.643,
          0.7406,
          0.8425,
          0.7925,
          0.7992,
          0.8436,
          0.8982,
          0.7515,
          0.9562,
          0.7858,
          0.6631,
          0.9191,
          0.901,
          0.8613,
          0.5725,
          0.7869,
          0.8148,
          0.7685,
          0.8654,
          0.9423,
          null,
          1,
          null,
          0.8797,
          0.8,
          null,
          0.912,
          0.875,
          null,
          0.4458,
          0.4271,
          0.3899,
          0.4083,
          0.6163,
          0.3542,
          0.4949,
          0.4204,
          0.4804,
          0.8823,
          0.6102,
          0.9107,
          0.429,
          0.8936,
          0.532,
          0.674,
          0.5029,
          0.4865,
          null,
          0.4331,
          null,
          0.9656,
          null,
          0.9969,
          0.0519,
          0.6715,
          null,
          0.9498,
          0.6997,
          0.7942,
          null,
          0.8793,
          0.8605,
          0.7519,
          0.8562,
          null,
          0.6272,
          null,
          0.7749,
          0.8993,
          0.7943,
          0.848,
          1,
          0.8227,
          null,
          0.9179,
          null,
          null,
          0.9451,
          0.7375,
          0.914,
          0.5985,
          0.3649,
          null,
          null,
          0.9826,
          1,
          0.8288,
          0.9932,
          0.8145,
          null,
          0.5844,
          0.9245,
          0.7258,
          null,
          0.6239,
          0.9299,
          0.8311,
          0.9923,
          0.8466,
          null,
          null,
          null,
          0.3028,
          1
         ],
         "xaxis": "x",
         "y": [
          20483,
          19717,
          19862,
          17559,
          23605,
          null,
          16341,
          26300,
          22268,
          23168,
          24097,
          21277,
          17763,
          19444,
          26549,
          21208,
          15952,
          26240,
          32820,
          21591,
          null,
          22390,
          null,
          16141,
          null,
          15605,
          12552,
          20774,
          20187,
          37389,
          19585,
          32189,
          20416,
          null,
          24791,
          19897,
          16017,
          17614,
          14374,
          19270,
          19856,
          22080,
          15954,
          27119,
          25561,
          22430,
          20237,
          14936,
          18827,
          18434,
          10330,
          54154,
          37078,
          38781,
          34536,
          43404,
          44926,
          37476,
          27740,
          17301,
          15834,
          17818,
          21205,
          24220,
          13579,
          16254,
          16556,
          22007,
          18602,
          13191,
          18714,
          20499,
          33896,
          30357,
          29802,
          30321,
          26234,
          29132,
          31486,
          31701,
          62385,
          26554,
          50348,
          34595,
          43248,
          34253,
          41499,
          24660,
          null,
          50919,
          33563,
          23400,
          null,
          39340,
          29970,
          null,
          34702,
          50830,
          38929,
          33313,
          37997,
          32174,
          null,
          49854,
          51374,
          28643,
          28066,
          39420,
          44598,
          46272,
          39300,
          46130,
          36166,
          null,
          22318,
          43907,
          23493,
          49199,
          29664,
          24588,
          53699,
          50873,
          28565,
          44250,
          25623,
          27742,
          52917,
          36076,
          33931,
          38714,
          19693,
          21504,
          20640,
          28622,
          28030,
          42500,
          33480,
          26666,
          43344,
          20650,
          20086,
          19709,
          20022,
          31199,
          19182,
          21481,
          29120,
          31980,
          21066,
          null,
          45734,
          30060,
          23988,
          40878,
          31697,
          23699,
          37867,
          44432,
          44236,
          27431,
          24689,
          46100,
          49134,
          21587,
          39675,
          14897,
          25409,
          20906,
          29958,
          18524,
          52924,
          38300,
          16288,
          30626,
          47056,
          50627,
          45955,
          22139,
          29709,
          24398,
          39263,
          15399,
          39513,
          14584,
          38689,
          20039,
          17971,
          29183,
          28569,
          35709,
          14410,
          25324,
          29626,
          16126,
          13561,
          30718,
          53640,
          15287,
          30370,
          31871,
          55227,
          35608,
          22866,
          15524,
          26466,
          27498,
          29552,
          34158,
          20191,
          28113,
          13085,
          25899,
          27180,
          39194,
          27383,
          20616,
          21602,
          16175,
          15003,
          15313,
          28897,
          9955,
          25329,
          45706,
          17913,
          18916,
          15221,
          22221,
          18472,
          20927,
          17971,
          26673,
          33085,
          null,
          24894,
          39751,
          24756,
          22748,
          22990,
          47010,
          14509,
          19212,
          47588,
          null,
          25313,
          21080,
          17151,
          16625,
          20069,
          22764,
          23472,
          18769,
          20581,
          32988,
          19498,
          20304,
          20652,
          18861,
          24434,
          15338,
          24569,
          11713,
          50829,
          27627,
          21803,
          32074,
          null,
          46267,
          32511,
          21268,
          36445,
          20021,
          27519,
          24617,
          18907,
          23466,
          23320,
          30275,
          27285,
          41079,
          23317,
          29783,
          26767,
          21602,
          29084,
          30907,
          24454,
          25606,
          40835,
          23377,
          29504,
          24230,
          21995,
          20334,
          20956,
          28343,
          22023,
          20068,
          41660,
          null,
          23493,
          18412,
          27611,
          25997,
          23060,
          20776,
          18818,
          18762,
          21449,
          20589,
          24908,
          23151,
          null,
          21051,
          34916,
          28782,
          21875,
          21904,
          43211,
          16886,
          32624,
          19376,
          25431,
          27699,
          22418,
          25791,
          27375,
          23473,
          16381,
          19108,
          26813,
          22610,
          17776,
          20062,
          15919,
          15876,
          22806,
          12031,
          16845,
          15544,
          23742,
          24360,
          26403,
          44972,
          15814,
          43001,
          23859,
          20962,
          34127,
          30172,
          29208,
          25676,
          29059,
          27381,
          25217,
          23782,
          27557,
          26944,
          27002,
          28244,
          33118,
          35136,
          19849,
          23446,
          38039,
          19491,
          33915,
          22516,
          26065,
          28747,
          20730,
          28768,
          24824,
          27015,
          19089,
          24613,
          28322,
          27485,
          24627,
          26082,
          23257,
          25117,
          28918,
          30798,
          13814,
          16967,
          16083,
          25121,
          24161,
          21863,
          21390,
          25523,
          39585,
          32706,
          31634,
          17477,
          24980,
          29732,
          28381,
          28788,
          16740,
          18129,
          18054,
          26216,
          26527,
          null,
          16150,
          19446,
          28780,
          17694,
          17342,
          21979,
          12740,
          39655,
          23946,
          23955,
          19158,
          22004,
          27879,
          16191,
          15509,
          13235,
          18574,
          null,
          26419,
          23197,
          29037,
          39439,
          15338,
          24312,
          22450,
          22134,
          null,
          8731,
          24316,
          12039,
          17242,
          14306,
          27355,
          13890,
          16209,
          15856,
          13918,
          15754,
          20146,
          21863,
          15560,
          21800,
          null,
          16618,
          50469,
          22893,
          39923,
          40166,
          49197,
          15297,
          19571,
          17039,
          19971,
          21462,
          16920,
          39828,
          31113,
          16470,
          26305,
          30173,
          24521,
          21633,
          22429,
          13637,
          22339,
          34469,
          31485,
          40792,
          39009,
          null,
          null,
          25451,
          26001,
          42907,
          21557,
          21767,
          29641,
          32276,
          23211,
          24557,
          24434,
          40309,
          36079,
          28084,
          39604,
          31696,
          50268,
          28960,
          31932,
          51309,
          30421,
          35674,
          50161,
          59365,
          50368,
          50125,
          51870,
          23059,
          null,
          35695,
          32958,
          35812,
          26769,
          50810,
          32838,
          39607,
          31921,
          21660,
          24987,
          28656,
          46655,
          42312,
          51523,
          30082,
          37362,
          26598,
          29311,
          24842,
          40978,
          27324,
          41635,
          24835,
          37194,
          39400,
          32235,
          19391,
          43276,
          30697,
          39056,
          24305,
          30584,
          46873,
          33501,
          24834,
          38060,
          34508,
          55083,
          48540,
          39178,
          33757,
          23687,
          31982,
          43967,
          46023,
          20181,
          28367,
          27565,
          26198,
          26483,
          22510,
          16503,
          29486,
          18725,
          21033,
          27740,
          39273,
          24991,
          21422,
          19673,
          18975,
          37590,
          23329,
          21248,
          33816,
          29905,
          19000,
          34285,
          21946,
          18834,
          26491,
          27534,
          22086,
          18226,
          17180,
          21644,
          24003,
          20162,
          16301,
          17896,
          23194,
          23847,
          null,
          19796,
          25176,
          30107,
          19860,
          21590,
          33052,
          39882,
          27602,
          19543,
          25070,
          30859,
          27729,
          43202,
          20386,
          22739,
          25369,
          18962,
          34338,
          null,
          23970,
          18267,
          21064,
          27396,
          27205,
          31620,
          18761,
          30928,
          24841,
          35383,
          29417,
          26903,
          32282,
          23382,
          18155,
          20853,
          12830,
          20681,
          13325,
          17343,
          24570,
          28955,
          19846,
          18180,
          6652,
          22080,
          20445,
          10781,
          18602,
          21784,
          16034,
          22907,
          null,
          28812,
          16967,
          23500,
          23322,
          24089,
          23960,
          26980,
          21881,
          16242,
          null,
          31894,
          17501,
          21012,
          30999,
          24661,
          24360,
          13523,
          20441,
          15706,
          22791,
          19932,
          15983,
          16373,
          15966,
          17030,
          19395,
          11564,
          16601,
          23554,
          31815,
          20870,
          17862,
          19206,
          46759,
          27658,
          28205,
          25933,
          28626,
          26629,
          16755,
          25657,
          18214,
          22073,
          18481,
          15933,
          23838,
          15925,
          14705,
          24917,
          30132,
          17671,
          24423,
          34110,
          25835,
          24129,
          20741,
          25715,
          23880,
          18468,
          null,
          28816,
          21462,
          16380,
          20400,
          26298,
          16451,
          16207,
          19631,
          32230,
          52251,
          27837,
          42285,
          35819,
          30023,
          24112,
          22444,
          24003,
          25558,
          36946,
          18834,
          null,
          21989,
          32650,
          25257,
          36385,
          23997,
          27268,
          31266,
          27166,
          32162,
          18837,
          24577,
          37538,
          25010,
          24952,
          41011,
          27713,
          34591,
          25229,
          30616,
          26810,
          24693,
          39128,
          29382,
          44590,
          27657,
          null,
          33697,
          22502,
          12819,
          14860,
          17705,
          19351,
          14399,
          14150,
          41184,
          33219,
          34166,
          31821,
          37172,
          52392,
          null,
          23757,
          26025,
          18478,
          35746,
          45682,
          null,
          44438,
          41275,
          29034,
          52887,
          12274,
          12618,
          14528,
          11458,
          null,
          12093,
          12676,
          13494,
          15360,
          12748,
          12377,
          13600,
          25341,
          24606,
          25154,
          24614,
          45933,
          41317,
          26559,
          22470,
          45782,
          35479,
          24896,
          32132,
          40751,
          30930,
          26182,
          25965,
          32596,
          26576,
          42411,
          44630,
          16354,
          23732,
          31423,
          29381,
          24716,
          34285,
          52120,
          55245,
          25134,
          27064,
          25783,
          34671,
          29341,
          50582,
          43003,
          28012,
          41755,
          45827,
          27753,
          28986,
          19834,
          39183,
          25595,
          25816,
          41475,
          33940,
          44862,
          19951,
          32998,
          31022,
          20755,
          23401,
          16316,
          24733,
          26047,
          24474,
          23730,
          27218,
          19408,
          22075,
          21387,
          23213,
          19721,
          24033,
          24143,
          23604,
          22169,
          19605,
          24176,
          18666,
          21697,
          null,
          24524,
          47284,
          28359,
          null,
          41200,
          null,
          9565,
          28764,
          43674,
          20098,
          36100,
          52585,
          null,
          19368,
          26157,
          24629,
          28536,
          31468,
          23792,
          25664,
          40636,
          49939,
          21665,
          12042,
          44112,
          14264,
          26174,
          23362,
          30723,
          42696,
          26829,
          28806,
          24047,
          23602,
          24281,
          30653,
          36534,
          26927,
          20346,
          16158,
          17631,
          22881,
          22783,
          18763,
          22517,
          20994,
          23050,
          15926,
          23876,
          31151,
          15119,
          34731,
          31271,
          25255,
          29686,
          28688,
          17126,
          52236,
          33253,
          25214,
          19534,
          17857,
          14923,
          21625,
          20597,
          15998,
          14662,
          19054,
          19055,
          14021,
          20842,
          23527,
          29643,
          27462,
          21360,
          19920,
          43692,
          26982,
          19769,
          19681,
          25253,
          23551,
          41432,
          20621,
          31208,
          36375,
          27240,
          39576,
          28452,
          7854,
          25710,
          29041,
          28540,
          22520,
          48306,
          24187,
          25734,
          22480,
          24282,
          25298,
          22784,
          15592,
          14406,
          27948,
          21615,
          26506,
          24118,
          21815,
          23110,
          21809,
          44465,
          22807,
          29509,
          16728,
          24870,
          26687,
          29411,
          26676,
          13306,
          25470,
          27280,
          20514,
          null,
          19499,
          22068,
          23751,
          25677,
          32223,
          19951,
          14835,
          35737,
          16529,
          29298,
          26633,
          14284,
          22837,
          16585,
          18225,
          14079,
          15545,
          16960,
          null,
          12259,
          20939,
          26466,
          30278,
          26061,
          24445,
          18686,
          11472,
          13367,
          17499,
          29385,
          18733,
          36557,
          43640,
          32466,
          24073,
          null,
          19655,
          25384,
          24459,
          38265,
          19523,
          39393,
          43187,
          14528,
          17286,
          42298,
          18235,
          30013,
          30854,
          31598,
          37358,
          33396,
          24283,
          48081,
          55823,
          27074,
          23144,
          27148,
          52564,
          24804,
          31977,
          33087,
          24513,
          23518,
          32116,
          41387,
          43949,
          35603,
          24605,
          28413,
          20994,
          28909,
          48675,
          25304,
          22755,
          40337,
          29343,
          48841,
          18956,
          31747,
          27368,
          29241,
          36700,
          30828,
          27404,
          27377,
          30451,
          49560,
          26193,
          30745,
          61351,
          23427,
          24957,
          26457,
          18701,
          23253,
          30991,
          31843,
          26482,
          29751,
          31367,
          28344,
          39530,
          32359,
          null,
          43447,
          43465,
          30632,
          35166,
          23635,
          22756,
          22081,
          32165,
          26812,
          32340,
          33384,
          37803,
          26022,
          39833,
          26802,
          27982,
          23473,
          30159,
          43586,
          28374,
          26198,
          32470,
          33333,
          53419,
          35134,
          23834,
          25353,
          25232,
          33305,
          34459,
          27038,
          24898,
          44033,
          42547,
          30858,
          48172,
          17066,
          26551,
          59438,
          38029,
          36861,
          15081,
          24837,
          19775,
          13292,
          20296,
          21634,
          23397,
          23308,
          26587,
          24808,
          20125,
          23351,
          23175,
          19858,
          39170,
          16989,
          41195,
          17247,
          28677,
          23777,
          23886,
          27928,
          16500,
          20320,
          24733,
          18628,
          22164,
          19238,
          21651,
          32611,
          26997,
          19151,
          20186,
          20795,
          21015,
          19301,
          23665,
          21141,
          20110,
          24181,
          21079,
          19300,
          14617,
          40240,
          17860,
          16993,
          23584,
          13696,
          23265,
          28522,
          17852,
          35524,
          20557,
          23175,
          24867,
          null,
          null,
          19820,
          34651,
          24635,
          25161,
          18634,
          17222,
          33652,
          39437,
          28363,
          15619,
          17740,
          25256,
          15811,
          17852,
          19950,
          18942,
          18263,
          26749,
          40509,
          32006,
          19541,
          28618,
          43975,
          29423,
          null,
          28591,
          29550,
          24535,
          17719,
          20820,
          14941,
          26584,
          24033,
          23789,
          19307,
          17248,
          21028,
          29533,
          24148,
          26610,
          19182,
          18853,
          9851,
          27387,
          28939,
          32286,
          27259,
          17564,
          20660,
          21518,
          12432,
          23268,
          42730,
          35038,
          26501,
          21338,
          27896,
          22706,
          47781,
          27375,
          33335,
          20586,
          21669,
          26907,
          17508,
          22730,
          null,
          null,
          19886,
          27994,
          21031,
          25888,
          21656,
          15754,
          18435,
          49666,
          17970,
          24433,
          14545,
          17722,
          23173,
          21164,
          24152,
          17017,
          33870,
          null,
          null,
          27697,
          20456,
          16728,
          17864,
          17619,
          17751,
          14974,
          17905,
          13248,
          17289,
          28129,
          39888,
          22133,
          38516,
          21755,
          42583,
          29989,
          33747,
          26502,
          29942,
          24310,
          23279,
          34020,
          30136,
          30067,
          27000,
          26851,
          28442,
          24730,
          35794,
          36916,
          24375,
          27196,
          31193,
          24602,
          26516,
          21704,
          28327,
          25638,
          26439,
          22857,
          22180,
          28789,
          45094,
          32099,
          33883,
          24927,
          16589,
          26368,
          27769,
          31495,
          27394,
          22478,
          21041,
          25456,
          42003,
          22466,
          null,
          18760,
          21781,
          39730,
          null,
          27838,
          28832,
          41005,
          27884,
          35993,
          40015,
          26717,
          23684,
          25264,
          23101,
          47231,
          33240,
          26485,
          10247,
          15707,
          31978,
          12954,
          21312,
          16177,
          21552,
          13981,
          14684,
          19077,
          18460,
          14688,
          27647,
          16972,
          31851,
          26132,
          18666,
          21320,
          25164,
          29677,
          26027,
          28589,
          27129,
          30682,
          24738,
          28212,
          37735,
          29678,
          30042,
          28270,
          24341,
          26820,
          30484,
          25553,
          17815,
          19798,
          16985,
          17059,
          26243,
          18003,
          15945,
          22744,
          18753,
          18085,
          25436,
          21499,
          17555,
          16996,
          17225,
          15858,
          null,
          9027,
          null,
          null,
          null,
          null,
          15770,
          null,
          null,
          null,
          11431,
          null,
          null,
          16095,
          11350,
          null,
          null,
          13100,
          null,
          9821,
          null,
          null,
          11107,
          null,
          15659,
          null,
          null,
          7092,
          18515,
          20565,
          12759,
          8271,
          13035,
          46746,
          20859,
          18963,
          null,
          13862,
          21551,
          24217,
          22404,
          20078,
          34671,
          21728,
          null,
          22574,
          null,
          16804,
          19245,
          24116,
          30123,
          null,
          30296,
          null,
          20335,
          null,
          13704,
          16922,
          23472,
          28529,
          20174,
          null,
          null,
          null,
          null,
          null,
          15414,
          14357,
          13392,
          null,
          17732,
          null,
          null,
          null,
          12428,
          11196,
          21279,
          24563,
          25672,
          27663,
          23078,
          null,
          17408,
          null
         ],
         "yaxis": "y"
        }
       ],
       "layout": {
        "autosize": true,
        "legend": {
         "tracegroupgap": 0
        },
        "margin": {
         "t": 60
        },
        "template": {
         "data": {
          "bar": [
           {
            "error_x": {
             "color": "#2a3f5f"
            },
            "error_y": {
             "color": "#2a3f5f"
            },
            "marker": {
             "line": {
              "color": "#E5ECF6",
              "width": 0.5
             },
             "pattern": {
              "fillmode": "overlay",
              "size": 10,
              "solidity": 0.2
             }
            },
            "type": "bar"
           }
          ],
          "barpolar": [
           {
            "marker": {
             "line": {
              "color": "#E5ECF6",
              "width": 0.5
             },
             "pattern": {
              "fillmode": "overlay",
              "size": 10,
              "solidity": 0.2
             }
            },
            "type": "barpolar"
           }
          ],
          "carpet": [
           {
            "aaxis": {
             "endlinecolor": "#2a3f5f",
             "gridcolor": "white",
             "linecolor": "white",
             "minorgridcolor": "white",
             "startlinecolor": "#2a3f5f"
            },
            "baxis": {
             "endlinecolor": "#2a3f5f",
             "gridcolor": "white",
             "linecolor": "white",
             "minorgridcolor": "white",
             "startlinecolor": "#2a3f5f"
            },
            "type": "carpet"
           }
          ],
          "choropleth": [
           {
            "colorbar": {
             "outlinewidth": 0,
             "ticks": ""
            },
            "type": "choropleth"
           }
          ],
          "contour": [
           {
            "colorbar": {
             "outlinewidth": 0,
             "ticks": ""
            },
            "colorscale": [
             [
              0,
              "#0d0887"
             ],
             [
              0.1111111111111111,
              "#46039f"
             ],
             [
              0.2222222222222222,
              "#7201a8"
             ],
             [
              0.3333333333333333,
              "#9c179e"
             ],
             [
              0.4444444444444444,
              "#bd3786"
             ],
             [
              0.5555555555555556,
              "#d8576b"
             ],
             [
              0.6666666666666666,
              "#ed7953"
             ],
             [
              0.7777777777777778,
              "#fb9f3a"
             ],
             [
              0.8888888888888888,
              "#fdca26"
             ],
             [
              1,
              "#f0f921"
             ]
            ],
            "type": "contour"
           }
          ],
          "contourcarpet": [
           {
            "colorbar": {
             "outlinewidth": 0,
             "ticks": ""
            },
            "type": "contourcarpet"
           }
          ],
          "heatmap": [
           {
            "colorbar": {
             "outlinewidth": 0,
             "ticks": ""
            },
            "colorscale": [
             [
              0,
              "#0d0887"
             ],
             [
              0.1111111111111111,
              "#46039f"
             ],
             [
              0.2222222222222222,
              "#7201a8"
             ],
             [
              0.3333333333333333,
              "#9c179e"
             ],
             [
              0.4444444444444444,
              "#bd3786"
             ],
             [
              0.5555555555555556,
              "#d8576b"
             ],
             [
              0.6666666666666666,
              "#ed7953"
             ],
             [
              0.7777777777777778,
              "#fb9f3a"
             ],
             [
              0.8888888888888888,
              "#fdca26"
             ],
             [
              1,
              "#f0f921"
             ]
            ],
            "type": "heatmap"
           }
          ],
          "heatmapgl": [
           {
            "colorbar": {
             "outlinewidth": 0,
             "ticks": ""
            },
            "colorscale": [
             [
              0,
              "#0d0887"
             ],
             [
              0.1111111111111111,
              "#46039f"
             ],
             [
              0.2222222222222222,
              "#7201a8"
             ],
             [
              0.3333333333333333,
              "#9c179e"
             ],
             [
              0.4444444444444444,
              "#bd3786"
             ],
             [
              0.5555555555555556,
              "#d8576b"
             ],
             [
              0.6666666666666666,
              "#ed7953"
             ],
             [
              0.7777777777777778,
              "#fb9f3a"
             ],
             [
              0.8888888888888888,
              "#fdca26"
             ],
             [
              1,
              "#f0f921"
             ]
            ],
            "type": "heatmapgl"
           }
          ],
          "histogram": [
           {
            "marker": {
             "pattern": {
              "fillmode": "overlay",
              "size": 10,
              "solidity": 0.2
             }
            },
            "type": "histogram"
           }
          ],
          "histogram2d": [
           {
            "colorbar": {
             "outlinewidth": 0,
             "ticks": ""
            },
            "colorscale": [
             [
              0,
              "#0d0887"
             ],
             [
              0.1111111111111111,
              "#46039f"
             ],
             [
              0.2222222222222222,
              "#7201a8"
             ],
             [
              0.3333333333333333,
              "#9c179e"
             ],
             [
              0.4444444444444444,
              "#bd3786"
             ],
             [
              0.5555555555555556,
              "#d8576b"
             ],
             [
              0.6666666666666666,
              "#ed7953"
             ],
             [
              0.7777777777777778,
              "#fb9f3a"
             ],
             [
              0.8888888888888888,
              "#fdca26"
             ],
             [
              1,
              "#f0f921"
             ]
            ],
            "type": "histogram2d"
           }
          ],
          "histogram2dcontour": [
           {
            "colorbar": {
             "outlinewidth": 0,
             "ticks": ""
            },
            "colorscale": [
             [
              0,
              "#0d0887"
             ],
             [
              0.1111111111111111,
              "#46039f"
             ],
             [
              0.2222222222222222,
              "#7201a8"
             ],
             [
              0.3333333333333333,
              "#9c179e"
             ],
             [
              0.4444444444444444,
              "#bd3786"
             ],
             [
              0.5555555555555556,
              "#d8576b"
             ],
             [
              0.6666666666666666,
              "#ed7953"
             ],
             [
              0.7777777777777778,
              "#fb9f3a"
             ],
             [
              0.8888888888888888,
              "#fdca26"
             ],
             [
              1,
              "#f0f921"
             ]
            ],
            "type": "histogram2dcontour"
           }
          ],
          "mesh3d": [
           {
            "colorbar": {
             "outlinewidth": 0,
             "ticks": ""
            },
            "type": "mesh3d"
           }
          ],
          "parcoords": [
           {
            "line": {
             "colorbar": {
              "outlinewidth": 0,
              "ticks": ""
             }
            },
            "type": "parcoords"
           }
          ],
          "pie": [
           {
            "automargin": true,
            "type": "pie"
           }
          ],
          "scatter": [
           {
            "fillpattern": {
             "fillmode": "overlay",
             "size": 10,
             "solidity": 0.2
            },
            "type": "scatter"
           }
          ],
          "scatter3d": [
           {
            "line": {
             "colorbar": {
              "outlinewidth": 0,
              "ticks": ""
             }
            },
            "marker": {
             "colorbar": {
              "outlinewidth": 0,
              "ticks": ""
             }
            },
            "type": "scatter3d"
           }
          ],
          "scattercarpet": [
           {
            "marker": {
             "colorbar": {
              "outlinewidth": 0,
              "ticks": ""
             }
            },
            "type": "scattercarpet"
           }
          ],
          "scattergeo": [
           {
            "marker": {
             "colorbar": {
              "outlinewidth": 0,
              "ticks": ""
             }
            },
            "type": "scattergeo"
           }
          ],
          "scattergl": [
           {
            "marker": {
             "colorbar": {
              "outlinewidth": 0,
              "ticks": ""
             }
            },
            "type": "scattergl"
           }
          ],
          "scattermapbox": [
           {
            "marker": {
             "colorbar": {
              "outlinewidth": 0,
              "ticks": ""
             }
            },
            "type": "scattermapbox"
           }
          ],
          "scatterpolar": [
           {
            "marker": {
             "colorbar": {
              "outlinewidth": 0,
              "ticks": ""
             }
            },
            "type": "scatterpolar"
           }
          ],
          "scatterpolargl": [
           {
            "marker": {
             "colorbar": {
              "outlinewidth": 0,
              "ticks": ""
             }
            },
            "type": "scatterpolargl"
           }
          ],
          "scatterternary": [
           {
            "marker": {
             "colorbar": {
              "outlinewidth": 0,
              "ticks": ""
             }
            },
            "type": "scatterternary"
           }
          ],
          "surface": [
           {
            "colorbar": {
             "outlinewidth": 0,
             "ticks": ""
            },
            "colorscale": [
             [
              0,
              "#0d0887"
             ],
             [
              0.1111111111111111,
              "#46039f"
             ],
             [
              0.2222222222222222,
              "#7201a8"
             ],
             [
              0.3333333333333333,
              "#9c179e"
             ],
             [
              0.4444444444444444,
              "#bd3786"
             ],
             [
              0.5555555555555556,
              "#d8576b"
             ],
             [
              0.6666666666666666,
              "#ed7953"
             ],
             [
              0.7777777777777778,
              "#fb9f3a"
             ],
             [
              0.8888888888888888,
              "#fdca26"
             ],
             [
              1,
              "#f0f921"
             ]
            ],
            "type": "surface"
           }
          ],
          "table": [
           {
            "cells": {
             "fill": {
              "color": "#EBF0F8"
             },
             "line": {
              "color": "white"
             }
            },
            "header": {
             "fill": {
              "color": "#C8D4E3"
             },
             "line": {
              "color": "white"
             }
            },
            "type": "table"
           }
          ]
         },
         "layout": {
          "annotationdefaults": {
           "arrowcolor": "#2a3f5f",
           "arrowhead": 0,
           "arrowwidth": 1
          },
          "autotypenumbers": "strict",
          "coloraxis": {
           "colorbar": {
            "outlinewidth": 0,
            "ticks": ""
           }
          },
          "colorscale": {
           "diverging": [
            [
             0,
             "#8e0152"
            ],
            [
             0.1,
             "#c51b7d"
            ],
            [
             0.2,
             "#de77ae"
            ],
            [
             0.3,
             "#f1b6da"
            ],
            [
             0.4,
             "#fde0ef"
            ],
            [
             0.5,
             "#f7f7f7"
            ],
            [
             0.6,
             "#e6f5d0"
            ],
            [
             0.7,
             "#b8e186"
            ],
            [
             0.8,
             "#7fbc41"
            ],
            [
             0.9,
             "#4d9221"
            ],
            [
             1,
             "#276419"
            ]
           ],
           "sequential": [
            [
             0,
             "#0d0887"
            ],
            [
             0.1111111111111111,
             "#46039f"
            ],
            [
             0.2222222222222222,
             "#7201a8"
            ],
            [
             0.3333333333333333,
             "#9c179e"
            ],
            [
             0.4444444444444444,
             "#bd3786"
            ],
            [
             0.5555555555555556,
             "#d8576b"
            ],
            [
             0.6666666666666666,
             "#ed7953"
            ],
            [
             0.7777777777777778,
             "#fb9f3a"
            ],
            [
             0.8888888888888888,
             "#fdca26"
            ],
            [
             1,
             "#f0f921"
            ]
           ],
           "sequentialminus": [
            [
             0,
             "#0d0887"
            ],
            [
             0.1111111111111111,
             "#46039f"
            ],
            [
             0.2222222222222222,
             "#7201a8"
            ],
            [
             0.3333333333333333,
             "#9c179e"
            ],
            [
             0.4444444444444444,
             "#bd3786"
            ],
            [
             0.5555555555555556,
             "#d8576b"
            ],
            [
             0.6666666666666666,
             "#ed7953"
            ],
            [
             0.7777777777777778,
             "#fb9f3a"
            ],
            [
             0.8888888888888888,
             "#fdca26"
            ],
            [
             1,
             "#f0f921"
            ]
           ]
          },
          "colorway": [
           "#636efa",
           "#EF553B",
           "#00cc96",
           "#ab63fa",
           "#FFA15A",
           "#19d3f3",
           "#FF6692",
           "#B6E880",
           "#FF97FF",
           "#FECB52"
          ],
          "font": {
           "color": "#2a3f5f"
          },
          "geo": {
           "bgcolor": "white",
           "lakecolor": "white",
           "landcolor": "#E5ECF6",
           "showlakes": true,
           "showland": true,
           "subunitcolor": "white"
          },
          "hoverlabel": {
           "align": "left"
          },
          "hovermode": "closest",
          "mapbox": {
           "style": "light"
          },
          "paper_bgcolor": "white",
          "plot_bgcolor": "#E5ECF6",
          "polar": {
           "angularaxis": {
            "gridcolor": "white",
            "linecolor": "white",
            "ticks": ""
           },
           "bgcolor": "#E5ECF6",
           "radialaxis": {
            "gridcolor": "white",
            "linecolor": "white",
            "ticks": ""
           }
          },
          "scene": {
           "xaxis": {
            "backgroundcolor": "#E5ECF6",
            "gridcolor": "white",
            "gridwidth": 2,
            "linecolor": "white",
            "showbackground": true,
            "ticks": "",
            "zerolinecolor": "white"
           },
           "yaxis": {
            "backgroundcolor": "#E5ECF6",
            "gridcolor": "white",
            "gridwidth": 2,
            "linecolor": "white",
            "showbackground": true,
            "ticks": "",
            "zerolinecolor": "white"
           },
           "zaxis": {
            "backgroundcolor": "#E5ECF6",
            "gridcolor": "white",
            "gridwidth": 2,
            "linecolor": "white",
            "showbackground": true,
            "ticks": "",
            "zerolinecolor": "white"
           }
          },
          "shapedefaults": {
           "line": {
            "color": "#2a3f5f"
           }
          },
          "ternary": {
           "aaxis": {
            "gridcolor": "white",
            "linecolor": "white",
            "ticks": ""
           },
           "baxis": {
            "gridcolor": "white",
            "linecolor": "white",
            "ticks": ""
           },
           "bgcolor": "#E5ECF6",
           "caxis": {
            "gridcolor": "white",
            "linecolor": "white",
            "ticks": ""
           }
          },
          "title": {
           "x": 0.05
          },
          "xaxis": {
           "automargin": true,
           "gridcolor": "white",
           "linecolor": "white",
           "ticks": "",
           "title": {
            "standoff": 15
           },
           "zerolinecolor": "white",
           "zerolinewidth": 2
          },
          "yaxis": {
           "automargin": true,
           "gridcolor": "white",
           "linecolor": "white",
           "ticks": "",
           "title": {
            "standoff": 15
           },
           "zerolinecolor": "white",
           "zerolinewidth": 2
          }
         }
        },
        "xaxis": {
         "anchor": "y",
         "autorange": true,
         "domain": [
          0,
          1
         ],
         "range": [
          -0.00805714285714286,
          1.0581571428571428
         ],
         "title": {
          "text": "admission_rate.overall"
         },
         "type": "linear"
        },
        "yaxis": {
         "anchor": "x",
         "autorange": true,
         "domain": [
          0,
          1
         ],
         "range": [
          2336.7152230971133,
          66700.28477690289
         ],
         "title": {
          "text": "net_price.by_income_level.110001-plus"
         },
         "type": "linear"
        }
       }
      },
      "image/png": "[encoded data removed]",
      "text/html": [
       "<div>                            <div id=\"7d4b6ba8-fcbd-4d3e-a291-efe7a228522e\" class=\"plotly-graph-div\" style=\"height:525px; width:100%;\"></div>            <script type=\"text/javascript\">                require([\"plotly\"], function(Plotly) {                    window.PLOTLYENV=window.PLOTLYENV || {};                                    if (document.getElementById(\"7d4b6ba8-fcbd-4d3e-a291-efe7a228522e\")) {                    Plotly.newPlot(                        \"7d4b6ba8-fcbd-4d3e-a291-efe7a228522e\",                        [{\"customdata\":[[23445.0],[25542.0],[24861.0],[21892.0],[30016.0],[null],[20225.0],[32196.0],[32514.0],[34835.0],[37483.0],[21560.0],[22645.0],[22684.0],[36890.0],[26018.0],[21502.0],[37764.0],[49634.0],[21694.0],[55844.0],[27665.0],[24220.0],[21251.0],[40750.0],[18946.0],[19135.0],[27056.0],[27461.0],[54536.0],[27969.0],[44585.0],[20416.0],[null],[41396.0],[23997.0],[19541.0],[23009.0],[19361.0],[23185.0],[26390.0],[31647.0],[23005.0],[64046.0],[40774.0],[40200.0],[34832.0],[26178.0],[30063.0],[23044.0],[17288.0],[66046.0],[56802.0],[58012.0],[48731.0],[68956.0],[74763.0],[60668.0],[28927.0],[18661.0],[17424.0],[19114.0],[22365.0],[25073.0],[15019.0],[17683.0],[17791.0],[23357.0],[19846.0],[15307.0],[19794.0],[21576.0],[39016.0],[35532.0],[34355.0],[35497.0],[30561.0],[33240.0],[36492.0],[35925.0],[74111.0],[28149.0],[74336.0],[53235.0],[76475.0],[35331.0],[67366.0],[43317.0],[null],[79539.0],[57486.0],[24991.0],[60759.0],[50805.0],[45629.0],[null],[40783.0],[70235.0],[51791.0],[62162.0],[48360.0],[57689.0],[26208.0],[76600.0],[66695.0],[46231.0],[44714.0],[64784.0],[75312.0],[75850.0],[53045.0],[74438.0],[68156.0],[null],[23367.0],[70440.0],[24513.0],[69987.0],[50819.0],[25747.0],[74297.0],[77588.0],[46394.0],[69071.0],[26537.0],[48086.0],[77362.0],[64240.0],[61052.0],[55032.0],[22317.0],[22702.0],[22169.0],[31034.0],[46894.0],[74760.0],[36107.0],[27513.0],[69469.0],[23881.0],[22143.0],[19975.0],[23864.0],[51593.0],[21950.0],[24194.0],[49375.0],[53853.0],[22518.0],[16369.0],[74590.0],[33896.0],[27425.0],[67080.0],[57475.0],[48699.0],[58438.0],[66237.0],[61591.0],[50959.0],[25413.0],[76850.0],[75693.0],[23110.0],[76645.0],[23888.0],[28708.0],[39197.0],[40704.0],[18524.0],[66416.0],[65857.0],[22638.0],[38892.0],[74023.0],[76280.0],[45971.0],[32710.0],[47118.0],[30219.0],[55651.0],[21309.0],[63342.0],[26503.0],[54724.0],[23312.0],[21761.0],[35809.0],[33648.0],[59433.0],[19384.0],[28157.0],[52794.0],[22278.0],[21151.0],[54991.0],[69563.0],[19469.0],[50429.0],[49839.0],[69060.0],[66805.0],[38890.0],[21134.0],[46539.0],[63006.0],[39276.0],[46341.0],[34297.0],[42702.0],[17716.0],[55403.0],[34160.0],[39194.0],[52966.0],[44094.0],[31902.0],[18200.0],[18374.0],[19807.0],[49420.0],[11526.0],[31589.0],[72604.0],[20264.0],[29291.0],[19125.0],[28707.0],[22608.0],[27206.0],[27329.0],[46034.0],[37684.0],[29587.0],[52940.0],[48802.0],[55451.0],[40949.0],[39983.0],[58367.0],[16819.0],[34403.0],[54163.0],[27354.0],[37297.0],[33299.0],[20998.0],[34952.0],[23684.0],[44203.0],[38649.0],[20440.0],[23405.0],[47698.0],[19914.0],[21621.0],[20652.0],[21525.0],[45607.0],[16922.0],[42068.0],[12381.0],[68575.0],[55924.0],[35658.0],[48295.0],[21867.0],[81531.0],[45103.0],[42750.0],[57122.0],[24125.0],[48429.0],[37986.0],[21549.0],[40959.0],[25831.0],[46006.0],[30302.0],[63174.0],[44465.0],[64710.0],[31124.0],[40737.0],[60393.0],[62405.0],[43255.0],[31844.0],[60717.0],[44383.0],[30504.0],[49304.0],[51176.0],[29460.0],[23675.0],[52405.0],[39373.0],[26312.0],[78654.0],[24295.0],[48119.0],[41831.0],[43866.0],[44322.0],[43228.0],[42819.0],[41360.0],[24309.0],[29023.0],[24244.0],[42996.0],[47226.0],[null],[26287.0],[50923.0],[44342.0],[24439.0],[40149.0],[61623.0],[26540.0],[66946.0],[61156.0],[50986.0],[46533.0],[44994.0],[36725.0],[52998.0],[38461.0],[19224.0],[21127.0],[44681.0],[40161.0],[20146.0],[22718.0],[16738.0],[16667.0],[25587.0],[13054.0],[17421.0],[16144.0],[45489.0],[49112.0],[39347.0],[74172.0],[37683.0],[70401.0],[40759.0],[42591.0],[58956.0],[48656.0],[47142.0],[53847.0],[58770.0],[45452.0],[48297.0],[53402.0],[48724.0],[58857.0],[58201.0],[46028.0],[57643.0],[47188.0],[43960.0],[39864.0],[70346.0],[21740.0],[45994.0],[24806.0],[46290.0],[57885.0],[28730.0],[29813.0],[45927.0],[48189.0],[21047.0],[45760.0],[46894.0],[53845.0],[45237.0],[55508.0],[38337.0],[44473.0],[46309.0],[49294.0],[30742.0],[19526.0],[18111.0],[39879.0],[26204.0],[41633.0],[24626.0],[44254.0],[44154.0],[48863.0],[47369.0],[18657.0],[42175.0],[46869.0],[40406.0],[44240.0],[20011.0],[20418.0],[25490.0],[42462.0],[56319.0],[54866.0],[36939.0],[38502.0],[56645.0],[23624.0],[23384.0],[53196.0],[16885.0],[40177.0],[30178.0],[34496.0],[38208.0],[28247.0],[41077.0],[22059.0],[21349.0],[17869.0],[33068.0],[null],[38163.0],[42003.0],[53097.0],[39439.0],[21084.0],[55300.0],[33421.0],[24332.0],[null],[14207.0],[32724.0],[19065.0],[27669.0],[21927.0],[54417.0],[19489.0],[20864.0],[21275.0],[20851.0],[22940.0],[23715.0],[26751.0],[21073.0],[23592.0],[16762.0],[22948.0],[75628.0],[36391.0],[73538.0],[73800.0],[73600.0],[16948.0],[22802.0],[18521.0],[24581.0],[28208.0],[17586.0],[56844.0],[52614.0],[19582.0],[40911.0],[42474.0],[24521.0],[22891.0],[33721.0],[17787.0],[24650.0],[62979.0],[56168.0],[74001.0],[67196.0],[19764.0],[null],[25997.0],[27343.0],[66413.0],[24348.0],[23254.0],[57867.0],[52667.0],[25057.0],[30610.0],[25697.0],[53066.0],[65405.0],[58638.0],[62875.0],[51505.0],[76750.0],[52919.0],[57238.0],[72378.0],[48102.0],[55633.0],[71094.0],[66342.0],[75872.0],[74911.0],[76044.0],[23845.0],[null],[58153.0],[57260.0],[59018.0],[41194.0],[72119.0],[58787.0],[52642.0],[48411.0],[22881.0],[25810.0],[51869.0],[67079.0],[75914.0],[71448.0],[54730.0],[47620.0],[29174.0],[31749.0],[28910.0],[54955.0],[29569.0],[73160.0],[28602.0],[59617.0],[69578.0],[52520.0],[24458.0],[73196.0],[50266.0],[61605.0],[26423.0],[60221.0],[75169.0],[55078.0],[28948.0],[62253.0],[57850.0],[76151.0],[75198.0],[52232.0],[52924.0],[24844.0],[70453.0],[75520.0],[69233.0],[21870.0],[54621.0],[62041.0],[55662.0],[40948.0],[43921.0],[19593.0],[50191.0],[25078.0],[35998.0],[45348.0],[57085.0],[31321.0],[38440.0],[24994.0],[23106.0],[58080.0],[35814.0],[24280.0],[48607.0],[63808.0],[23239.0],[49729.0],[35736.0],[33013.0],[30926.0],[28626.0],[29765.0],[21509.0],[21376.0],[23578.0],[41997.0],[23778.0],[42758.0],[22353.0],[39539.0],[41548.0],[null],[24541.0],[26567.0],[54069.0],[20919.0],[38528.0],[52723.0],[74275.0],[53819.0],[32686.0],[27230.0],[59205.0],[51984.0],[71053.0],[20858.0],[22819.0],[27654.0],[23804.0],[53010.0],[28018.0],[25326.0],[24636.0],[22525.0],[37644.0],[43817.0],[60788.0],[19635.0],[59972.0],[49200.0],[62880.0],[41227.0],[50923.0],[57785.0],[50794.0],[20481.0],[22003.0],[24285.0],[35975.0],[25475.0],[20678.0],[24570.0],[57996.0],[25562.0],[20684.0],[20315.0],[34918.0],[25778.0],[16700.0],[24047.0],[22784.0],[23334.0],[30366.0],[null],[42630.0],[19802.0],[37709.0],[40296.0],[40913.0],[37127.0],[40906.0],[36128.0],[17740.0],[null],[54227.0],[18374.0],[30609.0],[46850.0],[24811.0],[40548.0],[15867.0],[35425.0],[18632.0],[26902.0],[22897.0],[23123.0],[24481.0],[21640.0],[20235.0],[22811.0],[30764.0],[21146.0],[53221.0],[61975.0],[35243.0],[20872.0],[21859.0],[76910.0],[44260.0],[44500.0],[49150.0],[41310.0],[50675.0],[16755.0],[40556.0],[21124.0],[22073.0],[19958.0],[15933.0],[40804.0],[17790.0],[22961.0],[24917.0],[30615.0],[22030.0],[45672.0],[56120.0],[50470.0],[44893.0],[23319.0],[31690.0],[45689.0],[19797.0],[null],[48718.0],[24400.0],[20321.0],[31250.0],[36243.0],[19521.0],[18756.0],[23256.0],[61418.0],[77152.0],[56500.0],[57285.0],[50505.0],[33940.0],[28880.0],[25244.0],[28222.0],[46498.0],[61163.0],[18834.0],[null],[43493.0],[50245.0],[44856.0],[58116.0],[51758.0],[49240.0],[59190.0],[45458.0],[34987.0],[25328.0],[25863.0],[55898.0],[26067.0],[31511.0],[74150.0],[29130.0],[61693.0],[29130.0],[32022.0],[27960.0],[47570.0],[60646.0],[51068.0],[70591.0],[30721.0],[null],[35502.0],[25327.0],[17897.0],[18299.0],[22878.0],[19351.0],[19760.0],[17772.0],[46339.0],[53535.0],[50326.0],[50643.0],[74464.0],[77758.0],[22086.0],[39217.0],[51761.0],[23867.0],[69456.0],[75000.0],[34022.0],[79750.0],[44662.0],[61775.0],[75204.0],[13569.0],[13802.0],[15176.0],[13667.0],[null],[13219.0],[13549.0],[13704.0],[15448.0],[13563.0],[13768.0],[13948.0],[38790.0],[40900.0],[43424.0],[48133.0],[71388.0],[72190.0],[60479.0],[31358.0],[74375.0],[62917.0],[44952.0],[54052.0],[64006.0],[50240.0],[49194.0],[50591.0],[57992.0],[51214.0],[60670.0],[59167.0],[36840.0],[29754.0],[46531.0],[47103.0],[51240.0],[51405.0],[71907.0],[73759.0],[47384.0],[49465.0],[38589.0],[63709.0],[47001.0],[69497.0],[73816.0],[45599.0],[61063.0],[75190.0],[46287.0],[50646.0],[32776.0],[73045.0],[48125.0],[47572.0],[74123.0],[58200.0],[74140.0],[35122.0],[49242.0],[55877.0],[23026.0],[25633.0],[16856.0],[26563.0],[28010.0],[26958.0],[26270.0],[29680.0],[23194.0],[24340.0],[23111.0],[25585.0],[23327.0],[26266.0],[25615.0],[25628.0],[24970.0],[23964.0],[27991.0],[19786.0],[25786.0],[19726.0],[26864.0],[72780.0],[33523.0],[null],[69879.0],[23926.0],[9565.0],[34427.0],[75203.0],[30460.0],[61877.0],[64050.0],[18476.0],[19661.0],[46539.0],[31943.0],[43036.0],[51131.0],[44235.0],[37161.0],[70744.0],[77846.0],[22301.0],[12754.0],[52587.0],[16623.0],[45333.0],[30302.0],[53479.0],[54296.0],[33444.0],[43437.0],[50232.0],[28312.0],[45406.0],[50390.0],[55751.0],[40841.0],[32055.0],[18348.0],[20127.0],[24220.0],[23478.0],[19179.0],[24075.0],[21755.0],[24202.0],[44530.0],[24837.0],[47624.0],[15952.0],[44387.0],[49480.0],[32073.0],[29686.0],[44686.0],[18955.0],[74135.0],[52526.0],[49769.0],[20382.0],[18462.0],[17708.0],[34565.0],[30194.0],[18727.0],[16896.0],[23119.0],[22201.0],[18712.0],[24604.0],[33775.0],[48655.0],[48205.0],[24529.0],[47719.0],[69526.0],[42318.0],[19769.0],[24950.0],[26892.0],[32568.0],[59708.0],[24010.0],[49217.0],[60900.0],[46420.0],[69128.0],[47032.0],[23956.0],[44381.0],[50555.0],[57651.0],[25836.0],[74550.0],[25698.0],[45740.0],[37498.0],[44743.0],[49601.0],[22784.0],[16237.0],[15072.0],[33805.0],[21615.0],[44497.0],[43341.0],[39248.0],[41716.0],[43425.0],[77124.0],[42524.0],[49392.0],[17747.0],[27202.0],[29534.0],[62161.0],[45773.0],[16327.0],[39788.0],[41055.0],[25118.0],[31656.0],[44600.0],[42869.0],[38642.0],[53219.0],[66108.0],[23009.0],[15648.0],[58260.0],[18929.0],[40883.0],[38327.0],[15685.0],[24185.0],[16681.0],[20447.0],[17889.0],[17928.0],[37015.0],[null],[15443.0],[23906.0],[42983.0],[44942.0],[29577.0],[44006.0],[20029.0],[18540.0],[16367.0],[21147.0],[58637.0],[22408.0],[51439.0],[68735.0],[58485.0],[43464.0],[null],[23366.0],[27595.0],[27717.0],[62157.0],[20571.0],[64049.0],[75586.0],[17755.0],[45919.0],[66416.0],[22810.0],[40300.0],[64901.0],[54300.0],[49990.0],[59684.0],[25058.0],[73540.0],[75400.0],[46293.0],[25716.0],[44201.0],[74489.0],[52279.0],[52968.0],[54599.0],[24513.0],[26294.0],[56828.0],[73650.0],[69397.0],[56199.0],[24870.0],[48828.0],[22036.0],[44978.0],[75720.0],[46867.0],[38941.0],[71850.0],[47646.0],[76384.0],[37020.0],[44036.0],[28442.0],[61807.0],[39200.0],[52647.0],[28414.0],[43073.0],[45298.0],[74016.0],[36544.0],[59255.0],[71310.0],[26008.0],[25916.0],[57132.0],[24278.0],[49609.0],[56266.0],[49864.0],[27526.0],[48844.0],[59553.0],[36886.0],[69413.0],[50640.0],[18260.0],[78186.0],[65881.0],[41762.0],[43968.0],[28132.0],[27461.0],[27031.0],[33964.0],[45350.0],[47724.0],[54101.0],[63223.0],[50140.0],[62380.0],[50395.0],[29182.0],[24600.0],[64760.0],[73932.0],[33226.0],[48566.0],[60290.0],[69604.0],[73042.0],[62814.0],[37431.0],[26114.0],[49932.0],[62831.0],[54085.0],[37019.0],[32801.0],[77490.0],[62855.0],[51167.0],[69407.0],[17761.0],[30339.0],[72571.0],[54865.0],[61072.0],[24695.0],[44481.0],[40177.0],[28000.0],[28498.0],[35949.0],[29545.0],[30022.0],[33777.0],[32254.0],[42395.0],[36979.0],[33178.0],[33858.0],[52411.0],[21888.0],[67299.0],[24474.0],[42137.0],[42320.0],[37771.0],[53720.0],[20735.0],[24235.0],[28602.0],[24313.0],[30015.0],[23660.0],[29266.0],[62262.0],[47710.0],[20937.0],[22365.0],[38617.0],[41044.0],[21388.0],[35087.0],[25078.0],[22230.0],[30472.0],[23016.0],[23931.0],[20485.0],[54595.0],[30992.0],[38061.0],[40422.0],[43939.0],[38392.0],[49074.0],[22323.0],[37482.0],[35099.0],[27168.0],[42662.0],[23551.0],[18056.0],[31522.0],[36365.0],[40576.0],[49603.0],[24139.0],[21241.0],[64249.0],[62647.0],[35820.0],[33219.0],[23436.0],[32010.0],[21200.0],[22509.0],[24458.0],[34473.0],[39440.0],[54324.0],[73148.0],[51577.0],[19810.0],[56377.0],[65222.0],[47251.0],[22459.0],[42855.0],[58050.0],[38749.0],[19447.0],[22575.0],[null],[42530.0],[43638.0],[25567.0],[20995.0],[19441.0],[23361.0],[41336.0],[24148.0],[45532.0],[25082.0],[20362.0],[13408.0],[44629.0],[37198.0],[42812.0],[41764.0],[19972.0],[23770.0],[40753.0],[14250.0],[25164.0],[67102.0],[61707.0],[42652.0],[22885.0],[41896.0],[42354.0],[76346.0],[34268.0],[57825.0],[22178.0],[23453.0],[31865.0],[20332.0],[22730.0],[null],[null],[22645.0],[29920.0],[23902.0],[27397.0],[27120.0],[18291.0],[20730.0],[68072.0],[21620.0],[42208.0],[17323.0],[18923.0],[23173.0],[23191.0],[47135.0],[19418.0],[60664.0],[null],[null],[35240.0],[20456.0],[23938.0],[18936.0],[19641.0],[17802.0],[19854.0],[19886.0],[13597.0],[20303.0],[49060.0],[75972.0],[24841.0],[60478.0],[25051.0],[74248.0],[59627.0],[61892.0],[34707.0],[47321.0],[39307.0],[51725.0],[39595.0],[30136.0],[31733.0],[50310.0],[51275.0],[50084.0],[25717.0],[63310.0],[44252.0],[55893.0],[27996.0],[40567.0],[28821.0],[54119.0],[43427.0],[28327.0],[47495.0],[26439.0],[25722.0],[24234.0],[56509.0],[69606.0],[61545.0],[47850.0],[29875.0],[22795.0],[27283.0],[31983.0],[34094.0],[32420.0],[23673.0],[32082.0],[50408.0],[73900.0],[24008.0],[null],[20480.0],[24371.0],[61761.0],[25478.0],[45095.0],[56830.0],[68072.0],[52603.0],[60834.0],[63439.0],[39354.0],[26068.0],[26825.0],[24465.0],[69532.0],[60359.0],[42676.0],[45570.0],[18685.0],[43829.0],[16824.0],[42233.0],[17639.0],[22507.0],[19586.0],[17759.0],[19144.0],[22361.0],[17464.0],[46187.0],[22680.0],[41651.0],[40724.0],[63398.0],[44172.0],[45227.0],[59175.0],[45936.0],[44826.0],[43694.0],[62166.0],[27793.0],[38372.0],[59725.0],[49204.0],[53885.0],[44284.0],[50029.0],[56059.0],[51383.0],[40825.0],[18252.0],[20174.0],[17509.0],[17514.0],[43118.0],[18125.0],[16320.0],[29140.0],[19704.0],[18731.0],[26393.0],[21984.0],[18670.0],[17971.0],[18217.0],[20258.0],[13661.0],[14166.0],[9708.0],[12314.0],[19215.0],[9136.0],[15895.0],[5663.0],[13286.0],[14069.0],[13424.0],[13419.0],[13560.0],[16965.0],[13488.0],[13992.0],[13925.0],[13670.0],[11704.0],[16016.0],[9732.0],[14816.0],[12618.0],[14817.0],[16727.0],[13272.0],[14035.0],[13136.0],[19185.0],[20820.0],[14135.0],[13136.0],[16381.0],[74570.0],[22645.0],[28755.0],[32504.0],[20563.0],[22531.0],[25637.0],[23189.0],[21705.0],[35979.0],[23389.0],[null],[24124.0],[13790.0],[18151.0],[20132.0],[25150.0],[35005.0],[18200.0],[50200.0],[null],[37423.0],[20447.0],[33717.0],[18387.0],[25495.0],[28529.0],[21104.0],[25224.0],[26995.0],[17120.0],[18869.0],[29005.0],[20115.0],[15822.0],[16816.0],[null],[21119.0],[11669.0],[null],[19627.0],[17148.0],[18930.0],[25059.0],[46072.0],[31303.0],[29793.0],[23591.0],[null],[17408.0],[23560.0]],\"hovertemplate\":\"<b>%{hovertext}</b><br><br>admission_rate.overall=%{x}<br>net_price.by_income_level.110001-plus=%{y}<br>attendance.academic_year=%{customdata[0]}<extra></extra>\",\"hovertext\":[\"Alabama A & M University\",\"University of Alabama at Birmingham\",\"University of Alabama in Huntsville\",\"Alabama State University\",\"The University of Alabama\",\"Athens State University\",\"Auburn University at Montgomery\",\"Auburn University\",\"Birmingham-Southern College\",\"Faulkner University\",\"Huntingdon College\",\"Jacksonville State University\",\"University of West Alabama\",\"Miles College\",\"University of Mobile\",\"University of Montevallo\",\"University of North Alabama\",\"Oakwood University\",\"Samford University\",\"University of South Alabama\",\"Spring Hill College\",\"Stillman College\",\"Talladega College\",\"Troy University\",\"Tuskegee University\",\"University of Alaska Anchorage\",\"University of Alaska Fairbanks\",\"Arizona State University Campus Immersion\",\"University of Arizona\",\"Embry-Riddle Aeronautical University-Prescott\",\"Northern Arizona University\",\"Arizona Christian University\",\"University of Arkansas at Little Rock\",\"University of Arkansas for Medical Sciences\",\"Lyon College\",\"University of Arkansas\",\"University of Arkansas at Pine Bluff\",\"Arkansas State University\",\"Arkansas Tech University\",\"University of Central Arkansas\",\"Central Baptist College\",\"Harding University\",\"Henderson State University\",\"Hendrix College\",\"John Brown University\",\"Ouachita Baptist University\",\"University of the Ozarks\",\"Philander Smith College\",\"Williams Baptist University\",\"Southern Arkansas University Main Campus\",\"University of Arkansas-Fort Smith\",\"Art Center College of Design\",\"Azusa Pacific University\",\"Biola University\",\"California Baptist University\",\"California College of the Arts\",\"California Institute of Technology\",\"California Lutheran University\",\"California Polytechnic State University-San Luis Obispo\",\"California State University-Bakersfield\",\"California State University-Stanislaus\",\"California State University-San Bernardino\",\"California State Polytechnic University-Pomona\",\"California State University-Chico\",\"California State University-Dominguez Hills\",\"California State University-Fresno\",\"California State University-Fullerton\",\"California State University-East Bay\",\"California State University-Long Beach\",\"California State University-Los Angeles\",\"California State University-Northridge\",\"California State University-Sacramento\",\"University of California-Berkeley\",\"University of California-Davis\",\"University of California-Irvine\",\"University of California-Los Angeles\",\"University of California-Riverside\",\"University of California-San Diego\",\"University of California-Santa Barbara\",\"University of California-Santa Cruz\",\"California Institute of the Arts\",\"California State University Maritime Academy\",\"Chapman University\",\"Concordia University-Irvine\",\"Claremont McKenna College\",\"Columbia College Hollywood\",\"Dominican University of California\",\"Fresno Pacific University\",\"Golden Gate University\",\"Harvey Mudd College\",\"Holy Names University\",\"Humboldt State University\",\"University of La Verne\",\"Laguna College of Art and Design\",\"La Sierra University\",\"Loma Linda University\",\"The Master's University and Seminary\",\"Loyola Marymount University\",\"Marymount California University\",\"Menlo College\",\"Mills College\",\"Mount Saint Mary's University\",\"National University\",\"Occidental College\",\"Otis College of Art and Design\",\"Hope International University\",\"Pacific Union College\",\"University of the Pacific\",\"Pepperdine University\",\"Pitzer College\",\"Point Loma Nazarene University\",\"Pomona College\",\"University of Redlands\",\"Samuel Merritt University\",\"San Diego State University\",\"University of San Diego\",\"San Francisco State University\",\"University of San Francisco\",\"William Jessup University\",\"San Jose State University\",\"Santa Clara University\",\"Scripps College\",\"Simpson University\",\"Saint Mary's College of California\",\"Sonoma State University\",\"Vanguard University of Southern California\",\"University of Southern California\",\"Westmont College\",\"Whittier College\",\"Woodbury University\",\"Adams State University\",\"University of Colorado Denver/Anschutz Medical Campus\",\"University of Colorado Colorado Springs\",\"University of Colorado Boulder\",\"Colorado Christian University\",\"Colorado College\",\"Colorado School of Mines\",\"Colorado State University-Fort Collins\",\"University of Denver\",\"Fort Lewis College\",\"Colorado Mesa University\",\"Metropolitan State University of Denver\",\"University of Northern Colorado\",\"Regis University\",\"Colorado State University Pueblo\",\"Western Colorado University\",\"Albertus Magnus College\",\"University of Bridgeport\",\"Central Connecticut State University\",\"Charter Oak State College\",\"Connecticut College\",\"University of Connecticut\",\"Eastern Connecticut State University\",\"Fairfield University\",\"University of Hartford\",\"Mitchell College\",\"University of New Haven\",\"Quinnipiac University\",\"Sacred Heart University\",\"University of Saint Joseph\",\"Southern Connecticut State University\",\"Trinity College\",\"Wesleyan University\",\"Western Connecticut State University\",\"Yale University\",\"Delaware State University\",\"University of Delaware\",\"Goldey-Beacom College\",\"Wesley College\",\"Wilmington University\",\"American University\",\"The Catholic University of America\",\"University of the District of Columbia\",\"Gallaudet University\",\"George Washington University\",\"Georgetown University\",\"Howard University\",\"Trinity Washington University\",\"Barry University\",\"Bethune-Cookman University\",\"Lynn University\",\"University of Central Florida\",\"Eckerd College\",\"Edward Waters University\",\"Embry-Riddle Aeronautical University-Daytona Beach\",\"Florida Agricultural and Mechanical University\",\"Florida Atlantic University\",\"Flagler College\",\"AdventHealth University\",\"Florida Institute of Technology\",\"Florida International University\",\"Florida Memorial University\",\"Florida Southern College\",\"Florida State University\",\"University of Florida\",\"Jacksonville University\",\"University of Miami\",\"University of North Florida\",\"Nova Southeastern University\",\"Palm Beach Atlantic University\",\"Ringling College of Art and Design\",\"Rollins College\",\"Saint Leo University\",\"University of South Florida\",\"St. Thomas University\",\"Stetson University\",\"Southeastern University\",\"The University of Tampa\",\"Warner University\",\"Webber International University\",\"The University of West Florida\",\"Agnes Scott College\",\"Point University\",\"Clark Atlanta University\",\"Berry College\",\"Brenau University\",\"Brewton-Parker College\",\"College of Coastal Georgia\",\"Clayton  State University\",\"Columbus State University\",\"Covenant College\",\"Dalton State College\",\"Emmanuel College\",\"Emory University\",\"Fort Valley State University\",\"Georgia Institute of Technology-Main Campus\",\"Georgia Southwestern State University\",\"Georgia College & State University\",\"Georgia Southern University\",\"Georgia State University\",\"University of Georgia\",\"LaGrange College\",\"Life University\",\"Herzing University-Atlanta\",\"Mercer University\",\"Morehouse College\",\"Oglethorpe University\",\"Piedmont University\",\"Reinhardt University\",\"Savannah College of Art and Design\",\"Savannah State University\",\"Shorter University\",\"Spelman College\",\"Thomas University\",\"Toccoa Falls College\",\"Truett McConnell University\",\"Valdosta State University\",\"Wesleyan College\",\"University of West Georgia\",\"Young Harris College\",\"Chaminade University of Honolulu\",\"University of Hawaii at Hilo\",\"University of Hawaii at Manoa\",\"Hawaii Pacific University\",\"University of Hawaii-West Oahu\",\"Boise State University\",\"Idaho State University\",\"University of Idaho\",\"The College of Idaho\",\"Lewis-Clark State College\",\"Northwest Nazarene University\",\"Brigham Young University-Idaho\",\"School of the Art Institute of Chicago\",\"Augustana College\",\"Aurora University\",\"Bradley University\",\"Chicago State University\",\"University of Chicago\",\"Columbia College Chicago\",\"Concordia University-Chicago\",\"DePaul University\",\"Eastern Illinois University\",\"Elmhurst University\",\"Eureka College\",\"Governors State University\",\"Greenville University\",\"University of Illinois Chicago\",\"Benedictine University\",\"University of Illinois Urbana-Champaign\",\"Illinois Wesleyan University\",\"Illinois College\",\"Illinois Institute of Technology\",\"Illinois State University\",\"Judson University\",\"Knox College\",\"Lake Forest College\",\"Lewis University\",\"Lincoln College\",\"Loyola University Chicago\",\"McKendree University\",\"Methodist College\",\"Millikin University\",\"Monmouth College\",\"Moody Bible Institute\",\"National Louis University\",\"North Central College\",\"North Park University\",\"Northern Illinois University\",\"Northwestern University\",\"Northeastern Illinois University\",\"Olivet Nazarene University\",\"Quincy University\",\"Rockford University\",\"Roosevelt University\",\"Dominican University\",\"University of St Francis\",\"Saint Xavier University\",\"University of Illinois Springfield\",\"Southern Illinois University-Carbondale\",\"Southern Illinois University-Edwardsville\",\"Trinity Christian College\",\"Trinity International University-Illinois\",\"Oak Point University\",\"Western Illinois University\",\"Wheaton College\",\"Anderson University\",\"Ball State University\",\"Bethel University\",\"Butler University\",\"Calumet College of Saint Joseph\",\"DePauw University\",\"Earlham College\",\"University of Evansville\",\"Franklin College\",\"Goshen College\",\"Grace College and Theological Seminary\",\"Hanover College\",\"Huntington University\",\"Purdue University Fort Wayne\",\"Indiana University-Purdue University-Indianapolis\",\"University of Indianapolis\",\"Indiana Institute of Technology\",\"University of Southern Indiana\",\"Indiana State University\",\"Indiana University-Kokomo\",\"Indiana University-South Bend\",\"Indiana University-Bloomington\",\"Indiana University-Northwest\",\"Indiana University-Southeast\",\"Indiana University-East\",\"Manchester University\",\"Marian University\",\"Indiana Wesleyan University-Marion\",\"University of Notre Dame\",\"Oakland City University\",\"Rose-Hulman Institute of Technology\",\"University of Saint Francis-Fort Wayne\",\"Saint Mary-of-the-Woods College\",\"Saint Mary's College\",\"Taylor University\",\"Trine University\",\"Valparaiso University\",\"Wabash College\",\"Briar Cliff University\",\"Buena Vista University\",\"Central College\",\"Clarke University\",\"Coe College\",\"Cornell College\",\"Dordt University\",\"Drake University\",\"University of Dubuque\",\"Graceland University-Lamoni\",\"Grand View University\",\"Grinnell College\",\"Iowa State University\",\"Iowa Wesleyan University\",\"University of Iowa\",\"Loras College\",\"Luther College\",\"Maharishi International University\",\"Mercy College of Health Sciences\",\"Morningside University\",\"Mount Mercy University\",\"University of Northern Iowa\",\"Northwestern College\",\"Saint Ambrose University\",\"Simpson College\",\"Upper Iowa University\",\"Wartburg College\",\"William Penn University\",\"Baker University\",\"Benedictine College\",\"Bethany College\",\"Central Christian College of Kansas\",\"Emporia State University\",\"Fort Hays State University\",\"Friends University\",\"University of Kansas\",\"Newman University\",\"Kansas State University\",\"Kansas Wesleyan University\",\"McPherson College\",\"MidAmerica Nazarene University\",\"Ottawa University-Ottawa\",\"Pittsburg State University\",\"University of Saint Mary\",\"Southwestern College\",\"Sterling College\",\"Tabor College\",\"Washburn University\",\"Wichita State University\",\"Alice Lloyd College\",\"Asbury University\",\"Bellarmine University\",\"Berea College\",\"Brescia University\",\"Campbellsville University\",\"Centre College\",\"University of the Cumberlands\",\"Eastern Kentucky University\",\"Georgetown College\",\"Kentucky State University\",\"Kentucky Wesleyan College\",\"University of Kentucky\",\"Kentucky Christian University\",\"Lindsey Wilson College\",\"University of Louisville\",\"Midway University\",\"Morehead State University\",\"Murray State University\",\"Northern Kentucky University\",\"University of Pikeville\",\"The Southern Baptist Theological Seminary\",\"Spalding University\",\"Thomas More University\",\"Transylvania University\",\"Union College\",\"Western Kentucky University\",\"Centenary College of Louisiana\",\"Dillard University\",\"Grambling State University\",\"Louisiana State University Health Sciences Center-New Orleans\",\"Louisiana State University-Alexandria\",\"Louisiana State University and Agricultural & Mechanical College\",\"Louisiana State University-Shreveport\",\"Louisiana College\",\"Louisiana Tech University\",\"Loyola University New Orleans\",\"McNeese State University\",\"University of New Orleans\",\"Nicholls State University\",\"University of Louisiana at Monroe\",\"Northwestern State University of Louisiana\",\"University of Holy Cross\",\"Franciscan Missionaries of Our Lady University\",\"Southeastern Louisiana University\",\"Southern University and A & M College\",\"Southern University at New Orleans\",\"University of Louisiana at Lafayette\",\"Tulane University of Louisiana\",\"Xavier University of Louisiana\",\"Bates College\",\"Bowdoin College\",\"Colby College\",\"University of Maine at Augusta\",\"University of Maine at Farmington\",\"University of Maine at Fort Kent\",\"University of Maine\",\"Maine Maritime Academy\",\"University of Maine at Presque Isle\",\"University of New England\",\"Saint Joseph's College of Maine\",\"University of Southern Maine\",\"Thomas College\",\"Unity College\",\"University of Baltimore\",\"Bowie State University\",\"Washington Adventist University\",\"Coppin State University\",\"Frostburg State University\",\"Goucher College\",\"Hood College\",\"Johns Hopkins University\",\"Loyola University Maryland\",\"University of Maryland Global Campus\",\"University of Maryland Baltimore\",\"University of Maryland-Baltimore County\",\"University of Maryland-College Park\",\"Maryland Institute College of Art\",\"University of Maryland Eastern Shore\",\"Morgan State University\",\"Mount St. Mary's University\",\"Notre Dame of Maryland University\",\"Salisbury University\",\"St. Mary's College of Maryland\",\"Towson University\",\"Stevenson University\",\"Washington College\",\"McDaniel College\",\"Hult International Business School\",\"American International College\",\"Amherst College\",\"Anna Maria College\",\"Assumption University\",\"Babson College\",\"Bay Path University\",\"Becker College\",\"Bentley University\",\"Berklee College of Music\",\"Boston College\",\"Boston University\",\"Brandeis University\",\"Bridgewater State University\",\"Cambridge College\",\"Clark University\",\"Curry College\",\"Dean College\",\"Eastern Nazarene College\",\"Emerson College\",\"Emmanuel College\",\"Endicott College\",\"Fisher College\",\"Fitchburg State University\",\"Framingham State University\",\"Gordon College\",\"Hampshire College\",\"Harvard University\",\"College of the Holy Cross\",\"Lasell University\",\"Lesley University\",\"University of Massachusetts-Lowell\",\"University of Massachusetts-Amherst\",\"University of Massachusetts-Boston\",\"MCPHS University\",\"Massachusetts College of Art and Design\",\"Massachusetts Institute of Technology\",\"Massachusetts Maritime Academy\",\"Merrimack College\",\"Mount Holyoke College\",\"Nichols College\",\"Massachusetts College of Liberal Arts\",\"Northeastern University\",\"College of Our Lady of the Elms\",\"Regis College\",\"Salem State University\",\"Simmons University\",\"Smith College\",\"Springfield College\",\"University of Massachusetts-Dartmouth\",\"Stonehill College\",\"Suffolk University\",\"Tufts University\",\"Wellesley College\",\"Wentworth Institute of Technology\",\"Western New England University\",\"Westfield State University\",\"Wheaton College (Massachusetts)\",\"Williams College\",\"Worcester Polytechnic Institute\",\"Worcester State University\",\"Adrian College\",\"Albion College\",\"Alma College\",\"Andrews University\",\"Aquinas College\",\"Baker College\",\"Calvin University\",\"Central Michigan University\",\"Cleary University\",\"Concordia University Ann Arbor\",\"College for Creative Studies\",\"Davenport University\",\"University of Detroit Mercy\",\"Eastern Michigan University\",\"Ferris State University\",\"Kettering University\",\"Cornerstone University\",\"Grand Valley State University\",\"Hope College\",\"Kalamazoo College\",\"Lake Superior State University\",\"Lawrence Technological University\",\"Madonna University\",\"Rochester University\",\"University of Michigan-Ann Arbor\",\"Michigan State University\",\"Michigan Technological University\",\"University of Michigan-Dearborn\",\"University of Michigan-Flint\",\"Northern Michigan University\",\"Northwood University\",\"Oakland University\",\"Olivet College\",\"Saginaw Valley State University\",\"Siena Heights University\",\"Spring Arbor University\",\"Walsh College\",\"Wayne State University\",\"Western Michigan University\",\"Augsburg University\",\"Bemidji State University\",\"Bethany Lutheran College\",\"Bethel University\",\"Carleton College\",\"Concordia College at Moorhead\",\"Concordia University-Saint Paul\",\"Martin Luther College\",\"Gustavus Adolphus College\",\"Hamline University\",\"Macalester College\",\"Minnesota State University-Mankato\",\"Metropolitan State University\",\"University of Minnesota-Twin Cities\",\"University of Minnesota-Crookston\",\"Minneapolis College of Art and Design\",\"Herzing University-Minneapolis\",\"University of Minnesota-Duluth\",\"University of Minnesota-Morris\",\"Minnesota State University Moorhead\",\"North Central University\",\"University of Northwestern-St Paul\",\"College of Saint Benedict\",\"Saint Cloud State University\",\"Saint Johns University\",\"Saint Mary's University of Minnesota\",\"St Olaf College\",\"Crown College\",\"The College of Saint Scholastica\",\"University of St Thomas\",\"St Catherine University\",\"Southwest Minnesota State University\",\"Winona State University\",\"Alcorn State University\",\"Belhaven University\",\"Blue Mountain College\",\"Delta State University\",\"Jackson State University\",\"Millsaps College\",\"University of Mississippi\",\"Mississippi University for Women\",\"Mississippi Valley State University\",\"Mississippi College\",\"Mississippi State University\",\"Rust College\",\"University of Southern Mississippi\",\"Tougaloo College\",\"William Carey University\",\"Avila University\",\"Cox College\",\"Central Methodist University-College of Liberal Arts and Sciences\",\"University of Central Missouri\",\"Columbia College\",\"Culver-Stockton College\",\"Drury University\",\"Evangel University\",\"Fontbonne University\",\"Hannibal-LaGrange University\",\"Harris-Stowe State University\",\"Barnes-Jewish College Goldfarb School of Nursing\",\"Kansas City Art Institute\",\"Lincoln University\",\"Lindenwood University\",\"Maryville University of Saint Louis\",\"Midwestern Baptist Theological Seminary\",\"Missouri Baptist University\",\"Missouri Southern State University\",\"Missouri Valley College\",\"Missouri Western State University\",\"University of Missouri-Columbia\",\"University of Missouri-Kansas City\",\"Missouri University of Science and Technology\",\"University of Missouri-St Louis\",\"Truman State University\",\"Northwest Missouri State University\",\"Ozark Christian College\",\"College of the Ozarks\",\"Park University\",\"Rockhurst University\",\"Saint Louis University\",\"Southwest Baptist University\",\"Southeast Missouri State University\",\"Missouri State University-Springfield\",\"Washington University in St Louis\",\"Webster University\",\"Westminster College\",\"William Jewell College\",\"William Woods University\",\"Carroll College\",\"Montana State University Billings\",\"University of Providence\",\"Montana Technological University\",\"Montana State University\",\"The University of Montana\",\"Montana State University-Northern\",\"Rocky Mountain College\",\"The University of Montana-Western\",\"Bellevue University\",\"Clarkson College\",\"Bryan College of Health Sciences\",\"Chadron State College\",\"Concordia University-Nebraska\",\"Creighton University\",\"Doane University\",\"Hastings College\",\"University of Nebraska at Kearney\",\"Nebraska Methodist College of Nursing & Allied Health\",\"Midland University\",\"University of Nebraska at Omaha\",\"University of Nebraska Medical Center\",\"Nebraska Wesleyan University\",\"University of Nebraska-Lincoln\",\"Peru State College\",\"College of Saint Mary\",\"Union College\",\"Wayne State College\",\"University of Nevada-Las Vegas\",\"University of Nevada-Reno\",\"Colby-Sawyer College\",\"Dartmouth College\",\"Franklin Pierce University\",\"New England College\",\"Southern New Hampshire University\",\"University of New Hampshire-Main Campus\",\"Keene State College\",\"University of New Hampshire at Manchester\",\"Plymouth State University\",\"Rivier University\",\"Saint Anselm College\",\"Granite State College\",\"Beth Medrash Govoha\",\"Bloomfield College\",\"Caldwell University\",\"Centenary University\",\"Drew University\",\"Fairleigh Dickinson University-Metropolitan Campus\",\"Felician University\",\"Fairleigh Dickinson University-Florham Campus\",\"Georgian Court University\",\"Rowan University\",\"New Jersey City University\",\"Kean University\",\"Monmouth University\",\"Montclair State University\",\"New Jersey Institute of Technology\",\"Princeton University\",\"Ramapo College of New Jersey\",\"Rider University\",\"Rutgers University-Camden\",\"Rutgers University-New Brunswick\",\"Rutgers University-Newark\",\"Saint Peter's University\",\"Seton Hall University\",\"Saint Elizabeth University\",\"Stevens Institute of Technology\",\"Stockton University\",\"Thomas Edison State University\",\"The College of New Jersey\",\"William Paterson University of New Jersey\",\"Eastern New Mexico University-Main Campus\",\"New Mexico Highlands University\",\"New Mexico Institute of Mining and Technology\",\"University of New Mexico-Main Campus\",\"New Mexico State University-Main Campus\",\"Western New Mexico University\",\"Vaughn College of Aeronautics and Technology\",\"Adelphi University\",\"Albany College of Pharmacy and Health Sciences\",\"Alfred University\",\"Bard College\",\"Barnard College\",\"Boricua College\",\"Canisius College\",\"Cazenovia College\",\"Central Yeshiva Tomchei Tmimim Lubavitz\",\"Clarkson University\",\"Colgate University\",\"Metropolitan College of New York\",\"Columbia University in the City of New York\",\"Concordia College\",\"Cooper Union for the Advancement of Science and Art\",\"Cornell University\",\"CUNY Bernard M Baruch College\",\"CUNY Brooklyn College\",\"College of Staten Island CUNY\",\"CUNY City College\",\"CUNY Graduate School and University Center\",\"CUNY Hunter College\",\"CUNY John Jay College of Criminal Justice\",\"CUNY Lehman College\",\"CUNY Medgar Evers College\",\"CUNY New York City College of Technology\",\"CUNY Queens College\",\"CUNY York College\",\"D'Youville College\",\"Daemen College\",\"Dominican College of Blauvelt\",\"Elmira College\",\"Fordham University\",\"Hamilton College\",\"Hartwick College\",\"Hilbert College\",\"Hobart William Smith Colleges\",\"Hofstra University\",\"Houghton College\",\"Iona College\",\"Ithaca College\",\"Keuka College\",\"Le Moyne College\",\"Long Island University\",\"Manhattan College\",\"Manhattanville College\",\"Marist College\",\"Marymount Manhattan College\",\"Medaille College\",\"Mercy College\",\"Molloy College\",\"Mount Saint Mary College\",\"College of Mount Saint Vincent\",\"Nazareth College\",\"The New School\",\"New York University\",\"Niagara University\",\"New York Institute of Technology\",\"Nyack College\",\"Pace University\",\"Paul Smiths College of Arts and Science\",\"Pratt Institute-Main\",\"Rensselaer Polytechnic Institute\",\"Roberts Wesleyan College\",\"Rochester Institute of Technology\",\"University of Rochester\",\"Russell Sage College\",\"St Bonaventure University\",\"St Francis College\",\"St Lawrence University\",\"The College of Saint Rose\",\"St. Thomas Aquinas College\",\"Sarah Lawrence College\",\"Siena College\",\"Skidmore College\",\"St. Joseph's College-New York\",\"Saint John Fisher College\",\"St. John's University-New York\",\"SUNY College of Technology at Canton\",\"SUNY College of Agriculture and Technology at Cobleskill\",\"Farmingdale State College\",\"SUNY at Albany\",\"Binghamton University\",\"University at Buffalo\",\"Stony Brook University\",\"SUNY College of Environmental Science and Forestry\",\"SUNY Polytechnic Institute\",\"SUNY Brockport\",\"SUNY Buffalo State\",\"SUNY Cortland\",\"SUNY at Fredonia\",\"SUNY College at Geneseo\",\"State University of New York at New Paltz\",\"SUNY Oneonta\",\"SUNY College at Oswego\",\"SUNY College at Potsdam\",\"SUNY at Purchase College\",\"SUNY College at Old Westbury\",\"SUNY College at Plattsburgh\",\"SUNY Empire State College\",\"SUNY Maritime College\",\"Syracuse University\",\"Touro College\",\"Excelsior College\",\"Union College\",\"United Talmudical Seminary\",\"United States Merchant Marine Academy\",\"Utica College\",\"Vassar College\",\"Villa Maria College\",\"Wagner College\",\"Yeshiva University\",\"Yeshivath Viznitz\",\"Appalachian State University\",\"Barton College\",\"Belmont Abbey College\",\"Brevard College\",\"Campbell University\",\"Catawba College\",\"Chowan University\",\"Davidson College\",\"Duke University\",\"East Carolina University\",\"Elizabeth City State University\",\"Elon University\",\"Fayetteville State University\",\"Gardner-Webb University\",\"Greensboro College\",\"Guilford College\",\"High Point University\",\"Johnson C Smith University\",\"Lees-McRae College\",\"Lenoir-Rhyne University\",\"Livingstone College\",\"Mars Hill University\",\"Meredith College\",\"Methodist University\",\"Montreat College\",\"University of Mount Olive\",\"North Carolina A & T State University\",\"University of North Carolina at Asheville\",\"University of North Carolina at Chapel Hill\",\"University of North Carolina at Charlotte\",\"University of North Carolina at Greensboro\",\"North Carolina Central University\",\"University of North Carolina School of the Arts\",\"North Carolina State University at Raleigh\",\"North Carolina Wesleyan College\",\"University of North Carolina Wilmington\",\"William Peace University\",\"University of North Carolina at Pembroke\",\"Pfeiffer University\",\"Queens University of Charlotte\",\"Saint Augustine's University\",\"Shaw University\",\"St. Andrews University\",\"Southeastern Baptist Theological Seminary\",\"Wake Forest University\",\"Warren Wilson College\",\"Wingate University\",\"Winston-Salem State University\",\"Western Carolina University\",\"Dickinson State University\",\"University of Jamestown\",\"University of Mary\",\"Mayville State University\",\"Minot State University\",\"University of North Dakota\",\"North Dakota State University-Main Campus\",\"Valley City State University\",\"University of Akron Main Campus\",\"Ashland University\",\"Baldwin Wallace University\",\"Bluffton University\",\"Bowling Green State University-Main Campus\",\"Capital University\",\"Case Western Reserve University\",\"Cedarville University\",\"Central State University\",\"The Christ College of Nursing and Health Sciences\",\"University of Cincinnati-Main Campus\",\"Ohio Christian University\",\"Cleveland Institute of Art\",\"Cleveland State University\",\"Columbus College of Art and Design\",\"University of Dayton\",\"Defiance College\",\"Denison University\",\"The University of Findlay\",\"Franklin University\",\"Heidelberg University\",\"Hiram College\",\"John Carroll University\",\"Kent State University at Kent\",\"Kenyon College\",\"Kettering College\",\"Lake Erie College\",\"Lourdes University\",\"Malone University\",\"Marietta College\",\"Mercy College of Ohio\",\"Miami University-Hamilton\",\"Miami University-Middletown\",\"Miami University-Oxford\",\"Mount Carmel College of Nursing\",\"University of Mount Union\",\"Mount Vernon Nazarene University\",\"Mount Saint Joseph University\",\"Muskingum University\",\"Notre Dame College\",\"Oberlin College\",\"Ohio Dominican University\",\"Ohio Northern University\",\"Ohio State University-Lima Campus\",\"Ohio State University-Main Campus\",\"Ohio University-Main Campus\",\"Ohio Wesleyan University\",\"Otterbein University\",\"Shawnee State University\",\"Franciscan University of Steubenville\",\"Tiffin University\",\"University of Toledo\",\"Union Institute & University\",\"Ursuline College\",\"Walsh University\",\"Wilmington College\",\"Wittenberg University\",\"The College of Wooster\",\"Wright State University-Main Campus\",\"Wright State University-Lake Campus\",\"Xavier University\",\"Youngstown State University\",\"Oklahoma Wesleyan University\",\"Southern Nazarene University\",\"Cameron University\",\"University of Central Oklahoma\",\"East Central University\",\"Langston University\",\"Northeastern State University\",\"Northwestern Oklahoma State University\",\"Oklahoma Christian University\",\"University of Oklahoma-Health Sciences Center\",\"Oklahoma Panhandle State University\",\"Oklahoma State University-Main Campus\",\"Oklahoma Baptist University\",\"Oklahoma City University\",\"University of Oklahoma-Norman Campus\",\"Oral Roberts University\",\"Rogers State University\",\"University of Science and Arts of Oklahoma\",\"Southeastern Oklahoma State University\",\"Southwestern Oklahoma State University\",\"University of Tulsa\",\"Eastern Oregon University\",\"George Fox University\",\"Lewis & Clark College\",\"Linfield University-McMinnville Campus\",\"Bushnell University\",\"Oregon Health & Science University\",\"Oregon Institute of Technology\",\"Oregon State University\",\"University of Oregon\",\"Pacific University\",\"Portland State University\",\"University of Portland\",\"Reed College\",\"Southern Oregon University\",\"Corban University\",\"Willamette University\",\"Western Oregon University\",\"Albright College\",\"Allegheny College\",\"DeSales University\",\"Alvernia University\",\"Arcadia University\",\"Bloomsburg University of Pennsylvania\",\"Bryn Mawr College\",\"Bucknell University\",\"Cabrini University\",\"California University of Pennsylvania\",\"Carlow University\",\"Carnegie Mellon University\",\"Cedar Crest College\",\"Chatham University\",\"Chestnut Hill College\",\"Cheyney University of Pennsylvania\",\"Clarion University of Pennsylvania\",\"Delaware Valley University\",\"Dickinson College\",\"Drexel University\",\"Duquesne University\",\"East Stroudsburg University of Pennsylvania\",\"Eastern University\",\"Edinboro University of Pennsylvania\",\"Elizabethtown College\",\"Franklin and Marshall College\",\"Gannon University\",\"Geneva College\",\"Gettysburg College\",\"Gwynedd Mercy University\",\"Haverford College\",\"Holy Family University\",\"Immaculata University\",\"Indiana University of Pennsylvania-Main Campus\",\"Juniata College\",\"Keystone College\",\"King's College\",\"Kutztown University of Pennsylvania\",\"La Roche University\",\"La Salle University\",\"Lafayette College\",\"Lancaster Bible College\",\"Lebanon Valley College\",\"Lehigh University\",\"Lincoln University\",\"Lock Haven University\",\"Lycoming College\",\"Mansfield University of Pennsylvania\",\"Marywood University\",\"Mercyhurst University\",\"Messiah University\",\"Millersville University of Pennsylvania\",\"Misericordia University\",\"Moravian University\",\"Mount Aloysius College\",\"Muhlenberg College\",\"Neumann University\",\"Peirce College\",\"University of Pennsylvania\",\"The University of the Arts\",\"Cairn University-Langhorne\",\"University of the Sciences\",\"University of Pittsburgh-Bradford\",\"University of Pittsburgh-Greensburg\",\"University of Pittsburgh-Johnstown\",\"University of Pittsburgh-Pittsburgh Campus\",\"Point Park University\",\"Robert Morris University\",\"Saint Francis University\",\"Saint Joseph's University\",\"Saint Vincent College\",\"University of Scranton\",\"Seton Hill University\",\"Shippensburg University of Pennsylvania\",\"Slippery Rock University of Pennsylvania\",\"Susquehanna University\",\"Swarthmore College\",\"Temple University\",\"Thiel College\",\"Thomas Jefferson University\",\"Ursinus College\",\"Villanova University\",\"Washington & Jefferson College\",\"Waynesburg University\",\"West Chester University of Pennsylvania\",\"Westminster College\",\"Widener University\",\"Wilkes University\",\"Wilson College\",\"York College of Pennsylvania\",\"Brown University\",\"Bryant University\",\"Johnson & Wales University-Providence\",\"Providence College\",\"Rhode Island College\",\"University of Rhode Island\",\"Rhode Island School of Design\",\"Roger Williams University\",\"Salve Regina University\",\"Allen University\",\"Anderson University\",\"Charleston Southern University\",\"Benedict College\",\"Bob Jones University\",\"Southern Wesleyan University\",\"College of Charleston\",\"Citadel Military College of South Carolina\",\"Claflin University\",\"Clemson University\",\"Coker University\",\"Columbia International University\",\"Columbia College\",\"Converse University\",\"Erskine College\",\"Francis Marion University\",\"Furman University\",\"Lander University\",\"Limestone University\",\"Newberry College\",\"North Greenville University\",\"Presbyterian College\",\"University of South Carolina Aiken\",\"University of South Carolina Beaufort\",\"University of South Carolina-Columbia\",\"Coastal Carolina University\",\"South Carolina State University\",\"University of South Carolina-Upstate\",\"Winthrop University\",\"Wofford College\",\"Augustana University\",\"Black Hills State University\",\"Dakota State University\",\"Dakota Wesleyan University\",\"Mount Marty University\",\"Northern State University\",\"Presentation College\",\"South Dakota School of Mines and Technology\",\"South Dakota State University\",\"University of Sioux Falls\",\"University of South Dakota\",\"Austin Peay State University\",\"Baptist Health Sciences University\",\"Belmont University\",\"Bethel University\",\"Bryan College-Dayton\",\"Carson-Newman University\",\"Christian Brothers University\",\"Cumberland University\",\"Lipscomb University\",\"East Tennessee State University\",\"Fisk University\",\"Freed-Hardeman University\",\"Johnson University\",\"King University\",\"Lane College\",\"Le Moyne-Owen College\",\"Lee University\",\"Lincoln Memorial University\",\"The University of Tennessee Southern\",\"Maryville College\",\"University of Memphis\",\"Middle Tennessee State University\",\"Rhodes College\",\"The University of the South\",\"Southern Adventist University\",\"Tennessee Wesleyan University\",\"The University of Tennessee-Chattanooga\",\"The University of Tennessee-Knoxville\",\"The University of Tennessee-Martin\",\"Tennessee State University\",\"Tennessee Technological University\",\"Trevecca Nazarene University\",\"Tusculum University\",\"Union University\",\"Vanderbilt University\",\"Abilene Christian University\",\"Angelo State University\",\"Austin College\",\"Baylor University\",\"Concordia University Texas\",\"Texas A & M University-Corpus Christi\",\"Dallas Baptist University\",\"University of Dallas\",\"East Texas Baptist University\",\"Texas A&M University-Texarkana\",\"Texas A & M University-Commerce\",\"Hallmark University\",\"Hardin-Simmons University\",\"Houston Baptist University\",\"University of Houston-Clear Lake\",\"University of Houston-Downtown\",\"University of Houston-Victoria\",\"University of Houston\",\"Howard Payne University\",\"Huston-Tillotson University\",\"University of the Incarnate Word\",\"Jarvis Christian College\",\"Lamar University\",\"Texas A & M International University\",\"LeTourneau University\",\"Lubbock Christian University\",\"University of Mary Hardin-Baylor\",\"McMurry University\",\"Midwestern State University\",\"University of North Texas\",\"Our Lady of the Lake University\",\"The University of Texas Rio Grande Valley\",\"Prairie View A & M University\",\"Rice University\",\"Saint Edward's University\",\"University of St Thomas\",\"Sam Houston State University\",\"Schreiner University\",\"St. Mary's University\",\"Southern Methodist University\",\"Southwestern Assemblies of God University\",\"Southwestern University\",\"Stephen F Austin State University\",\"Texas State University\",\"Southwestern Adventist University\",\"Sul Ross State University\",\"Tarleton State University\",\"The University of Texas Health Science Center at San Antonio\",\"The University of Texas Medical Branch at Galveston\",\"Texas A & M University-Kingsville\",\"Texas A & M University-College Station\",\"The University of Texas at Arlington\",\"The University of Texas at Austin\",\"The University of Texas at Dallas\",\"The University of Texas at El Paso\",\"The University of Texas at Tyler\",\"Texas Christian University\",\"Texas College\",\"Texas Lutheran University\",\"The University of Texas Permian Basin\",\"The University of Texas at San Antonio\",\"Texas Southern University\",\"Texas Tech University\",\"Texas Wesleyan University\",\"Texas Woman's University\",\"Trinity University\",\"The University of Texas Health Science Center at Houston\",\"Texas Tech University Health Sciences Center\",\"Wayland Baptist University\",\"West Texas A & M University\",\"Wiley College\",\"Brigham Young University\",\"Brigham Young University-Hawaii\",\"Dixie State University\",\"Southern Utah University\",\"Utah State University\",\"Utah Valley University\",\"University of Utah\",\"Westminster College\",\"Bennington College\",\"Castleton University\",\"Champlain College\",\"Northern Vermont University\",\"Middlebury College\",\"Norwich University\",\"Saint Michael's College\",\"University of Vermont\",\"Averett University\",\"Bluefield University\",\"Bridgewater College\",\"William & Mary\",\"Regent University\",\"Christopher Newport University\",\"Emory & Henry College\",\"Eastern Mennonite University\",\"Ferrum College\",\"George Mason University\",\"Hampden-Sydney College\",\"Hampton University\",\"Hollins University\",\"James Madison University\",\"Liberty University\",\"Longwood University\",\"University of Lynchburg\",\"Mary Baldwin University\",\"University of Mary Washington\",\"Marymount University\",\"Norfolk State University\",\"Old Dominion University\",\"Radford University\",\"Randolph-Macon College\",\"University of Richmond\",\"Roanoke College\",\"Shenandoah University\",\"Southern Virginia University\",\"University of Virginia's College at Wise\",\"Virginia Polytechnic Institute and State University\",\"Virginia Commonwealth University\",\"University of Virginia-Main Campus\",\"Virginia Military Institute\",\"Virginia State University\",\"Virginia Union University\",\"Virginia Wesleyan University\",\"Washington and Lee University\",\"Central Washington University\",\"City University of Seattle\",\"Eastern Washington University\",\"The Evergreen State College\",\"Gonzaga University\",\"Heritage University\",\"Northwest University\",\"Pacific Lutheran University\",\"University of Puget Sound\",\"Saint Martin's University\",\"Seattle Pacific University\",\"Seattle University\",\"Walla Walla University\",\"Washington State University\",\"University of Washington-Seattle Campus\",\"Western Washington University\",\"Whitman College\",\"Whitworth University\",\"Alderson Broaddus University\",\"Bethany College\",\"Bluefield State College\",\"University of Charleston\",\"Concord University\",\"Davis & Elkins College\",\"Fairmont State University\",\"Glenville State College\",\"Marshall University\",\"Shepherd University\",\"West Virginia State University\",\"West Liberty University\",\"West Virginia University Institute of Technology\",\"West Virginia Wesleyan College\",\"West Virginia University\",\"Wheeling University\",\"Alverno College\",\"Beloit College\",\"Cardinal Stritch University\",\"Carroll University\",\"Carthage College\",\"Concordia University-Wisconsin\",\"Edgewood College\",\"Lakeland University\",\"Lawrence University\",\"Maranatha Baptist University\",\"Marian University\",\"Marquette University\",\"Milwaukee Institute of Art & Design\",\"Milwaukee School of Engineering\",\"Mount Mary University\",\"Northland College\",\"Ripon College\",\"Saint Norbert College\",\"Viterbo University\",\"University of Wisconsin-Whitewater\",\"University of Wisconsin-Eau Claire\",\"University of Wisconsin-Green Bay\",\"University of Wisconsin-La Crosse\",\"Wisconsin Lutheran College\",\"University of Wisconsin-Oshkosh\",\"University of Wisconsin-Parkside\",\"Herzing University-Madison\",\"University of Wisconsin-Stout\",\"University of Wisconsin-Superior\",\"University of Wisconsin-Madison\",\"University of Wisconsin-Milwaukee\",\"University of Wisconsin-Platteville\",\"University of Wisconsin-River Falls\",\"University of Wisconsin-Stevens Point\",\"University of Wyoming\",\"University of Guam\",\"Universidad Adventista de las Antillas\",\"Atlantic University College\",\"Universidad Central de Bayamon\",\"Albizu University-San Juan\",\"Caribbean University-Bayamon\",\"Pontifical Catholic University of Puerto Rico-Ponce\",\"Colegio Universitario de San Juan\",\"Universidad Ana G. Mendez-Cupey Campus\",\"Inter American University of Puerto Rico-San German\",\"Inter American University of Puerto Rico-Aguadilla\",\"Inter American University of Puerto Rico-Arecibo\",\"Inter American University of Puerto Rico-Barranquitas\",\"Inter American University of Puerto Rico-Metro\",\"Inter American University of Puerto Rico-Ponce\",\"Inter American University of Puerto Rico-Fajardo\",\"Inter American University of Puerto Rico-Guayama\",\"Inter American University of Puerto Rico-Bayamon\",\"University of Puerto Rico-Aguadilla\",\"University of Puerto Rico-Arecibo\",\"University of Puerto Rico-Bayamon\",\"University of Puerto Rico-Carolina\",\"University of Puerto Rico-Cayey\",\"University of Puerto Rico-Humacao\",\"University of Puerto Rico-Mayaguez\",\"University of Puerto Rico at Ponce\",\"University of Puerto Rico-Rio Piedras\",\"Universidad Ana G. Mendez-Carolina Campus\",\"Universidad del Sagrado Corazon\",\"Universidad Politecnica de Puerto Rico\",\"Pontifical Catholic University of Puerto Rico-Mayaguez\",\"Universidad Ana G. Mendez-Gurabo Campus\",\"University of the Virgin Islands\",\"Stanford University\",\"Purdue University-Main Campus\",\"Mid-America Christian University\",\"UMass Global\",\"New College of Florida\",\"California State University-San Marcos\",\"Hodges University\",\"University of Washington-Bothell Campus\",\"University of Washington-Tacoma Campus\",\"Everglades University\",\"California State University-Monterey Bay\",\"Johnson & Wales University-North Miami\",\"Embry-Riddle Aeronautical University-Worldwide\",\"Western Governors University\",\"Florida Gulf Coast University\",\"Nevada State College\",\"California State University-Channel Islands\",\"University of California-Merced\",\"Central Methodist University-College of Graduate and Extended Studies\",\"Johnson & Wales University-Charlotte\",\"Roseman University of Health Sciences\",\"Ave Maria University\",\"Uta Mesivta of Kiryas Joel\",\"Harrisburg University of Science and Technology\",\"Georgia Gwinnett College\",\"University of Minnesota-Rochester\",\"Herzing University-Kenosha\",\"Texas A&M University-San Antonio\",\"Johnson & Wales University-Online\",\"Los Angeles Pacific University\",\"Be'er Yaakov Talmudic Seminary\",\"Colorado State University-Global Campus\",\"Florida Institute of Technology-Online\",\"Augusta University\",\"Middle Georgia State University\",\"University of North Georgia\",\"Northeastern University Professional Programs\",\"Florida Polytechnic University\",\"Texas A&M University-Central Texas\",\"Arizona State University Digital Immersion\",\"Ana G. Mendez University\",\"University of Florida-Online\",\"University of North Texas at Dallas\",\"Kennesaw State University\",\"Milligan University\",\"Husson University\",\"Northwest University-Center for Online and Extended Education\",\"Indiana Wesleyan University-National & Global\",\"Purdue University Global\",\"Purdue University Northwest\",\"University of Wisconsin-Milwaukee Flex\"],\"legendgroup\":\"\",\"marker\":{\"color\":\"#636efa\",\"symbol\":\"circle\"},\"mode\":\"markers\",\"name\":\"\",\"showlegend\":false,\"x\":[0.8965,0.806,0.7711,0.9888,0.8039,null,0.9555,0.8507,0.6045,0.7576,0.5439,0.6369,0.9313,null,0.6657,0.6052,0.8266,0.8881,0.8399,0.7303,0.5416,0.5553,null,0.9243,0.6113,0.7683,0.6701,0.8837,0.8513,0.6685,0.8164,0.7147,0.5604,null,0.5015,0.7767,0.5966,0.6719,0.9766,0.9378,0.4981,0.5507,0.749,0.7054,0.5886,0.6177,0.559,null,0.693,0.6853,null,0.7609,0.936,0.6438,0.8018,0.8545,0.0669,0.7439,0.3843,0.7838,0.8932,0.7812,0.6481,0.9017,0.812,0.9011,0.6762,0.7328,0.4212,0.7648,0.6581,0.8309,0.1748,0.4635,0.2992,0.1433,0.6578,0.3661,0.367,0.6473,0.2742,0.8249,0.5826,0.7818,0.1334,null,0.8574,0.6694,null,0.1796,0.8912,0.8514,0.7625,0.8292,0.5697,null,0.5988,0.5014,null,0.6451,0.9114,0.8933,0.8936,0.409,0.8032,0.3829,0.5917,0.7075,0.4185,0.1657,0.8355,0.0862,0.6865,null,0.367,0.587,0.8409,0.703,0.6521,0.6737,0.5072,0.3513,0.5972,0.7731,0.8912,0.4999,0.1611,0.7016,0.7233,0.704,0.9988,0.663,0.8961,0.842,null,0.136,0.5497,0.8352,0.6067,0.9151,0.7544,0.8333,0.877,0.782,0.9431,0.885,0.8126,0.7095,0.6485,null,0.3772,0.5609,0.697,0.5613,0.7741,0.7422,0.911,0.8239,0.6553,0.7802,0.7968,0.3604,0.209,0.8072,0.0653,0.3934,0.6599,0.5521,0.5859,null,0.3865,0.8223,null,0.6262,0.4304,0.1681,0.3864,0.9579,0.653,0.9773,0.7868,0.4517,0.6858,0.5703,0.606,0.3298,0.7478,0.5649,0.9087,0.7037,0.5788,0.3841,0.5037,0.3245,0.3113,0.7774,0.3309,0.7992,0.7624,0.9171,0.6851,0.6081,0.73,0.4924,0.5962,0.8149,0.4266,0.5551,0.5412,0.3778,0.5756,0.6752,0.3487,0.5905,0.7722,0.9219,0.9814,0.9594,0.6854,0.7832,0.9755,null,0.5275,0.1917,0.7232,0.2134,0.734,0.8594,0.9117,0.8239,0.4838,0.5967,0.9681,0.9247,0.7816,0.7707,0.6693,0.7008,0.9869,0.7792,0.4614,0.7093,0.5258,0.3452,0.5773,0.9729,0.7845,0.5981,0.7762,0.6503,0.8897,0.7383,0.8369,0.814,0.9523,0.7749,null,0.7444,0.4835,0.9975,0.7683,0.9701,0.7778,0.5735,0.8395,0.7328,0.4642,0.0731,0.8953,0.7854,0.7024,0.5554,0.6553,0.6136,0.4784,0.5921,0.7263,0.6099,0.633,0.5693,0.7524,0.6066,0.8131,0.5701,0.7084,0.5761,0.6606,0.6985,0.7054,0.7008,0.875,0.7115,0.6943,0.9751,0.9746,0.5329,0.4396,0.5925,0.0931,0.607,0.6657,0.6713,0.5082,0.7652,0.7646,0.6009,0.79,0.7733,0.9178,0.8505,0.6366,0.8592,null,0.6696,0.8695,0.665,0.8705,0.9279,0.7569,null,0.6849,0.591,0.643,0.7607,0.9238,0.7465,0.6932,0.7767,0.8278,0.7854,0.8448,0.6307,0.9387,0.9229,0.8271,0.8687,0.8038,0.8168,0.8541,0.6732,0.7038,0.6424,0.9147,0.1899,0.6331,0.7662,0.9905,0.7123,0.8151,0.701,0.7894,0.8663,0.6321,null,0.5568,0.6368,0.892,0.7986,0.8241,0.7184,0.6792,0.7863,0.6807,0.9702,0.1925,0.8842,0.7119,0.8428,0.5838,0.6429,1.0,0.9167,0.686,0.7621,0.7888,0.7377,0.7384,0.8662,0.653,0.7172,0.5503,0.9341,0.9678,0.6832,null,0.8608,0.9135,0.5754,0.9093,0.8308,0.9415,0.6179,0.5216,0.6376,0.703,0.9068,0.5956,0.5624,0.3688,0.4639,null,0.7963,0.2115,0.7515,0.8237,0.3296,0.4783,0.7764,0.7208,0.8144,0.9795,0.7216,0.8398,0.6019,0.9636,0.2829,null,0.6512,0.7306,0.767,0.7703,0.8703,null,0.7726,0.9343,0.9191,0.9212,0.5733,0.9775,0.6369,0.6531,0.9322,null,0.6354,0.7338,0.8268,0.7116,0.6357,0.7239,0.633,0.8291,0.9329,0.7798,0.9485,0.5273,0.4665,0.9737,0.4345,0.72,0.6728,0.1111,0.8062,0.141,0.0916,0.1027,null,0.9461,0.9983,0.9221,0.5214,0.99,0.8726,0.8673,0.8793,null,0.9977,0.7993,0.8121,0.9395,0.402,0.7361,0.7941,0.7133,0.1106,0.8024,null,null,0.6948,0.5096,0.8983,0.6203,0.7359,0.8045,0.6229,0.7762,0.7903,0.788,0.8918,0.8028,0.8113,0.4515,0.6938,0.1183,0.8607,0.8092,0.2697,0.7831,0.8296,0.5782,0.516,0.2638,0.2009,0.334,0.8231,null,0.4713,0.9271,0.7052,0.6438,0.4105,0.7552,0.704,0.7772,0.8799,0.7853,0.6827,0.5882,0.0501,0.3794,0.8454,0.8381,0.752,0.6532,0.7968,0.9112,0.7027,0.0726,0.9248,0.8164,0.5247,0.8037,0.8768,0.2048,0.6978,0.8408,0.8675,0.8255,0.3652,0.6341,0.7618,0.6896,0.859,0.163,0.2041,0.9354,0.8943,0.9244,0.7709,0.1512,0.5905,0.8103,0.6121,0.7444,0.6673,0.4878,0.7091,0.5376,0.7321,0.6867,0.6526,0.6096,0.5538,0.9256,0.795,0.7518,0.8246,0.7413,0.8697,0.8752,0.7783,0.7433,0.695,0.8246,0.6837,0.9943,0.2611,0.7631,0.7036,0.6751,0.7742,0.6689,0.768,0.811,0.6031,0.8946,0.7443,0.633,null,0.6901,0.8494,0.7312,0.6944,0.6451,0.8663,0.2118,0.5808,0.686,0.8731,0.7061,0.6895,0.3869,0.6726,0.6189,0.6964,0.7215,0.5468,0.9206,0.7855,0.6465,0.6605,0.9299,0.9222,0.8401,0.7322,0.8138,0.841,0.5081,0.4689,0.7331,0.874,0.7615,0.806,0.7518,0.3772,0.4954,0.9912,0.9961,0.8998,0.6981,0.8802,0.9903,0.8272,0.2876,0.8004,0.2947,0.9633,0.712,0.5528,0.4198,1.0,0.9534,0.6359,null,0.9833,0.7068,0.9542,0.8536,0.6463,null,null,0.591,null,0.9213,0.9489,0.97,0.6484,0.9833,0.6218,null,0.8178,0.6301,0.8146,0.5759,0.721,0.8011,0.9818,0.1428,null,0.7289,0.5554,0.7335,0.9333,0.8657,0.1602,0.5312,0.9743,0.364,0.6254,0.7302,null,0.9853,0.9727,0.8077,0.9578,null,0.7117,0.5186,null,0.5686,0.5777,null,0.7583,0.6402,0.688,0.6595,0.8841,0.9186,0.5079,0.8229,null,0.6953,0.7774,null,0.5,0.976,null,0.8102,0.873,0.91,0.0922,0.8468,0.9625,0.9354,0.8481,0.9066,0.8528,0.8937,0.7571,0.7615,null,null,0.8465,0.9152,0.93,0.7315,0.8887,0.9355,0.8632,0.809,0.7801,0.9633,0.7805,0.7893,0.8266,0.6603,0.0563,0.6684,0.7566,0.7628,0.6693,0.7409,0.8464,0.7823,0.7538,0.5306,0.7731,null,0.5125,0.8062,0.506,null,0.9658,0.9634,0.6267,null,null,0.7461,0.7519,0.6411,0.5695,0.136,null,0.7602,0.7218,0.9524,0.7799,0.2747,0.4041,0.0666,0.9529,0.1751,0.1071,0.4071,0.4974,null,0.5054,null,0.4048,0.3743,0.4701,0.7848,0.7907,0.5349,0.5276,0.8307,0.6178,0.7462,0.8313,0.5253,0.1841,0.931,0.9171,0.6184,0.6911,0.7998,0.8595,0.7568,0.9091,0.7474,0.8501,0.7765,0.8981,0.5505,0.8818,0.718,0.8196,0.7414,0.9017,0.9268,0.7568,0.691,0.2109,0.9241,0.7468,0.9732,0.8287,0.6742,0.6594,0.5726,0.7581,0.7386,0.3543,0.7431,0.7631,0.8452,0.4726,0.8188,0.8684,0.5463,0.8066,0.3217,0.7067,0.6841,0.7507,0.8301,0.8,0.6016,0.5715,0.4303,0.6695,0.4891,0.6017,0.733,0.5811,0.8007,0.522,0.7225,0.6136,0.6202,0.6295,0.689,0.7166,0.737,0.5308,0.6103,null,0.7271,0.6872,0.7598,null,0.4126,null,0.2411,0.8641,0.2454,0.7874,0.7043,0.6741,0.8736,0.7951,0.4244,0.801,0.4524,0.8129,0.5212,0.6736,0.2,0.0774,0.8792,0.7483,0.717,0.7938,0.7795,0.7761,0.7801,0.7705,0.492,0.7329,0.7662,0.6895,0.6729,0.7162,0.7588,0.712,0.6191,0.5671,0.7942,0.25,0.7953,0.8754,0.8742,0.3634,0.4622,0.4759,0.6797,0.6139,0.9138,0.7584,0.6843,0.6733,0.7056,0.6086,0.8243,0.3198,0.8484,0.7327,0.7252,0.4848,0.9862,0.719,0.7168,0.5303,0.7733,0.8675,0.941,0.806,0.7304,0.7435,0.6982,0.6051,0.753,0.7406,0.3027,0.5933,0.5804,0.7084,0.764,null,0.6718,0.936,0.9169,0.8111,0.5492,0.2817,0.7959,null,0.8106,0.9277,0.8784,0.8443,0.3689,0.213,0.6395,0.7782,0.7427,0.7391,0.3951,null,null,0.9195,0.8082,0.7741,0.7248,0.6015,0.7966,0.8743,0.3536,0.495,0.652,null,0.6849,0.8749,0.684,0.7606,null,0.73,0.6247,0.9468,null,0.8079,0.7656,0.7272,0.9743,0.653,0.9564,0.9961,0.8122,0.6993,0.8266,null,null,0.8049,0.9645,null,0.9949,0.7026,0.6121,null,null,0.6709,0.5821,0.731,0.8338,0.7839,null,0.3575,0.7859,0.932,0.6922,0.9425,0.9091,0.7982,0.8018,0.6819,null,0.9513,0.8221,0.8381,0.893,0.9519,0.7722,0.4234,0.9043,0.4834,0.8017,0.7914,0.821,0.7315,0.8177,0.7002,0.7363,0.8903,0.3836,0.3753,0.6167,0.9432,0.9446,0.1727,0.5246,0.6619,0.7114,null,0.9423,0.9158,0.5165,0.7719,0.7719,0.905,0.6425,0.8503,0.8573,0.365,0.7924,0.7314,0.4824,0.8803,0.1823,0.777,0.8243,0.931,0.6746,0.7874,0.8661,0.9319,0.6891,0.7635,0.3557,0.9668,0.778,0.4954,0.9034,0.9308,0.6548,0.9602,0.8203,0.8802,0.7752,0.8455,0.8329,0.801,0.9524,0.6218,0.8034,null,0.0898,0.7582,0.8145,0.714,0.7919,0.9002,0.8662,0.6388,0.6951,0.8563,0.5935,0.8007,0.7212,0.7873,0.7867,0.9392,0.7398,0.7304,0.0906,0.7142,0.8351,0.6984,0.8044,0.3066,0.9018,0.8996,0.8625,0.7651,0.7458,0.9177,0.922,0.7077,0.0767,0.7579,0.8651,0.5386,0.8127,0.7551,0.2712,0.8601,0.7462,0.6458,0.592,0.5379,0.7259,null,0.5575,0.7432,0.7995,0.6513,0.6194,0.9306,0.5067,0.9707,0.8244,0.6,0.7525,0.6525,0.5703,0.6829,0.5659,0.6533,0.7083,0.5588,0.6694,0.6835,0.7045,0.9409,0.5954,0.6394,0.53,0.7138,0.9714,0.8357,0.642,0.7843,0.7871,0.9321,0.8555,0.8894,0.9229,0.9095,0.9115,0.693,0.8323,0.7612,null,0.7932,0.4994,0.5376,0.615,0.7838,0.6646,0.8085,0.5497,0.6018,null,0.638,0.8301,0.6853,0.9834,0.6211,0.852,0.942,0.5136,0.5607,0.7396,0.6092,0.8311,0.7815,0.6495,null,0.7963,0.6283,0.6715,0.5753,0.1162,0.634,0.7816,0.4928,0.6847,0.9295,0.9013,0.9858,0.5378,0.9207,0.9646,0.6006,0.4051,0.9051,0.7151,0.8073,0.9282,0.6706,0.6279,0.4853,0.5596,0.9656,null,0.8268,0.5893,0.5611,0.9651,0.903,0.4739,0.7096,0.8398,0.7397,0.8239,0.7637,0.1089,0.9131,0.9609,0.925,0.9615,0.8543,0.5267,0.8876,0.4937,0.7611,0.8454,0.623,0.8083,0.5775,null,null,0.8792,0.6327,0.8775,0.3195,0.7936,0.9997,0.9163,0.4803,null,0.593,0.879,0.8354,0.6637,0.7003,0.4679,0.9368,0.3362,null,null,0.8144,0.5825,null,0.6925,0.7502,null,0.7556,0.9104,null,0.794,0.8745,0.5999,0.8831,0.8515,0.7577,0.2204,0.7417,0.8781,0.7132,0.6938,0.7602,0.7614,0.4216,0.5044,0.7642,0.7541,0.7182,0.7583,0.892,0.4701,0.36,0.8079,0.8049,0.5013,0.8734,0.9727,0.871,0.7549,0.8526,0.9107,0.9541,0.7868,0.7131,0.309,0.7813,0.7438,0.9903,0.8257,0.6577,0.906,0.2258,0.5988,0.9626,0.7535,0.7399,0.2451,0.8599,null,0.7894,0.9838,0.7289,null,0.9277,0.863,0.8685,0.9419,0.9062,0.8323,null,0.7995,0.5586,0.9351,0.5413,0.9101,0.5276,0.9184,0.9003,0.6148,0.914,0.6905,0.9434,null,0.8925,0.977,0.885,0.6844,0.5512,0.6572,0.8389,0.7682,0.7823,0.5834,0.769,0.7177,0.7663,0.7053,0.912,0.9247,0.6892,0.805,0.6767,0.8249,0.6195,0.6009,0.5301,0.643,0.7406,0.8425,0.7925,0.7992,0.8436,0.8982,0.7515,0.9562,0.7858,0.6631,0.9191,0.901,0.8613,0.5725,0.7869,0.8148,0.7685,0.8654,0.9423,null,1.0,null,0.8797,0.8,null,0.912,0.875,null,0.4458,0.4271,0.3899,0.4083,0.6163,0.3542,0.4949,0.4204,0.4804,0.8823,0.6102,0.9107,0.429,0.8936,0.532,0.674,0.5029,0.4865,null,0.4331,null,0.9656,null,0.9969,0.0519,0.6715,null,0.9498,0.6997,0.7942,null,0.8793,0.8605,0.7519,0.8562,null,0.6272,null,0.7749,0.8993,0.7943,0.848,1.0,0.8227,null,0.9179,null,null,0.9451,0.7375,0.914,0.5985,0.3649,null,null,0.9826,1.0,0.8288,0.9932,0.8145,null,0.5844,0.9245,0.7258,null,0.6239,0.9299,0.8311,0.9923,0.8466,null,null,null,0.3028,1.0],\"xaxis\":\"x\",\"y\":[20483.0,19717.0,19862.0,17559.0,23605.0,null,16341.0,26300.0,22268.0,23168.0,24097.0,21277.0,17763.0,19444.0,26549.0,21208.0,15952.0,26240.0,32820.0,21591.0,null,22390.0,null,16141.0,null,15605.0,12552.0,20774.0,20187.0,37389.0,19585.0,32189.0,20416.0,null,24791.0,19897.0,16017.0,17614.0,14374.0,19270.0,19856.0,22080.0,15954.0,27119.0,25561.0,22430.0,20237.0,14936.0,18827.0,18434.0,10330.0,54154.0,37078.0,38781.0,34536.0,43404.0,44926.0,37476.0,27740.0,17301.0,15834.0,17818.0,21205.0,24220.0,13579.0,16254.0,16556.0,22007.0,18602.0,13191.0,18714.0,20499.0,33896.0,30357.0,29802.0,30321.0,26234.0,29132.0,31486.0,31701.0,62385.0,26554.0,50348.0,34595.0,43248.0,34253.0,41499.0,24660.0,null,50919.0,33563.0,23400.0,null,39340.0,29970.0,null,34702.0,50830.0,38929.0,33313.0,37997.0,32174.0,null,49854.0,51374.0,28643.0,28066.0,39420.0,44598.0,46272.0,39300.0,46130.0,36166.0,null,22318.0,43907.0,23493.0,49199.0,29664.0,24588.0,53699.0,50873.0,28565.0,44250.0,25623.0,27742.0,52917.0,36076.0,33931.0,38714.0,19693.0,21504.0,20640.0,28622.0,28030.0,42500.0,33480.0,26666.0,43344.0,20650.0,20086.0,19709.0,20022.0,31199.0,19182.0,21481.0,29120.0,31980.0,21066.0,null,45734.0,30060.0,23988.0,40878.0,31697.0,23699.0,37867.0,44432.0,44236.0,27431.0,24689.0,46100.0,49134.0,21587.0,39675.0,14897.0,25409.0,20906.0,29958.0,18524.0,52924.0,38300.0,16288.0,30626.0,47056.0,50627.0,45955.0,22139.0,29709.0,24398.0,39263.0,15399.0,39513.0,14584.0,38689.0,20039.0,17971.0,29183.0,28569.0,35709.0,14410.0,25324.0,29626.0,16126.0,13561.0,30718.0,53640.0,15287.0,30370.0,31871.0,55227.0,35608.0,22866.0,15524.0,26466.0,27498.0,29552.0,34158.0,20191.0,28113.0,13085.0,25899.0,27180.0,39194.0,27383.0,20616.0,21602.0,16175.0,15003.0,15313.0,28897.0,9955.0,25329.0,45706.0,17913.0,18916.0,15221.0,22221.0,18472.0,20927.0,17971.0,26673.0,33085.0,null,24894.0,39751.0,24756.0,22748.0,22990.0,47010.0,14509.0,19212.0,47588.0,null,25313.0,21080.0,17151.0,16625.0,20069.0,22764.0,23472.0,18769.0,20581.0,32988.0,19498.0,20304.0,20652.0,18861.0,24434.0,15338.0,24569.0,11713.0,50829.0,27627.0,21803.0,32074.0,null,46267.0,32511.0,21268.0,36445.0,20021.0,27519.0,24617.0,18907.0,23466.0,23320.0,30275.0,27285.0,41079.0,23317.0,29783.0,26767.0,21602.0,29084.0,30907.0,24454.0,25606.0,40835.0,23377.0,29504.0,24230.0,21995.0,20334.0,20956.0,28343.0,22023.0,20068.0,41660.0,null,23493.0,18412.0,27611.0,25997.0,23060.0,20776.0,18818.0,18762.0,21449.0,20589.0,24908.0,23151.0,null,21051.0,34916.0,28782.0,21875.0,21904.0,43211.0,16886.0,32624.0,19376.0,25431.0,27699.0,22418.0,25791.0,27375.0,23473.0,16381.0,19108.0,26813.0,22610.0,17776.0,20062.0,15919.0,15876.0,22806.0,12031.0,16845.0,15544.0,23742.0,24360.0,26403.0,44972.0,15814.0,43001.0,23859.0,20962.0,34127.0,30172.0,29208.0,25676.0,29059.0,27381.0,25217.0,23782.0,27557.0,26944.0,27002.0,28244.0,33118.0,35136.0,19849.0,23446.0,38039.0,19491.0,33915.0,22516.0,26065.0,28747.0,20730.0,28768.0,24824.0,27015.0,19089.0,24613.0,28322.0,27485.0,24627.0,26082.0,23257.0,25117.0,28918.0,30798.0,13814.0,16967.0,16083.0,25121.0,24161.0,21863.0,21390.0,25523.0,39585.0,32706.0,31634.0,17477.0,24980.0,29732.0,28381.0,28788.0,16740.0,18129.0,18054.0,26216.0,26527.0,null,16150.0,19446.0,28780.0,17694.0,17342.0,21979.0,12740.0,39655.0,23946.0,23955.0,19158.0,22004.0,27879.0,16191.0,15509.0,13235.0,18574.0,null,26419.0,23197.0,29037.0,39439.0,15338.0,24312.0,22450.0,22134.0,null,8731.0,24316.0,12039.0,17242.0,14306.0,27355.0,13890.0,16209.0,15856.0,13918.0,15754.0,20146.0,21863.0,15560.0,21800.0,null,16618.0,50469.0,22893.0,39923.0,40166.0,49197.0,15297.0,19571.0,17039.0,19971.0,21462.0,16920.0,39828.0,31113.0,16470.0,26305.0,30173.0,24521.0,21633.0,22429.0,13637.0,22339.0,34469.0,31485.0,40792.0,39009.0,null,null,25451.0,26001.0,42907.0,21557.0,21767.0,29641.0,32276.0,23211.0,24557.0,24434.0,40309.0,36079.0,28084.0,39604.0,31696.0,50268.0,28960.0,31932.0,51309.0,30421.0,35674.0,50161.0,59365.0,50368.0,50125.0,51870.0,23059.0,null,35695.0,32958.0,35812.0,26769.0,50810.0,32838.0,39607.0,31921.0,21660.0,24987.0,28656.0,46655.0,42312.0,51523.0,30082.0,37362.0,26598.0,29311.0,24842.0,40978.0,27324.0,41635.0,24835.0,37194.0,39400.0,32235.0,19391.0,43276.0,30697.0,39056.0,24305.0,30584.0,46873.0,33501.0,24834.0,38060.0,34508.0,55083.0,48540.0,39178.0,33757.0,23687.0,31982.0,43967.0,46023.0,20181.0,28367.0,27565.0,26198.0,26483.0,22510.0,16503.0,29486.0,18725.0,21033.0,27740.0,39273.0,24991.0,21422.0,19673.0,18975.0,37590.0,23329.0,21248.0,33816.0,29905.0,19000.0,34285.0,21946.0,18834.0,26491.0,27534.0,22086.0,18226.0,17180.0,21644.0,24003.0,20162.0,16301.0,17896.0,23194.0,23847.0,null,19796.0,25176.0,30107.0,19860.0,21590.0,33052.0,39882.0,27602.0,19543.0,25070.0,30859.0,27729.0,43202.0,20386.0,22739.0,25369.0,18962.0,34338.0,null,23970.0,18267.0,21064.0,27396.0,27205.0,31620.0,18761.0,30928.0,24841.0,35383.0,29417.0,26903.0,32282.0,23382.0,18155.0,20853.0,12830.0,20681.0,13325.0,17343.0,24570.0,28955.0,19846.0,18180.0,6652.0,22080.0,20445.0,10781.0,18602.0,21784.0,16034.0,22907.0,null,28812.0,16967.0,23500.0,23322.0,24089.0,23960.0,26980.0,21881.0,16242.0,null,31894.0,17501.0,21012.0,30999.0,24661.0,24360.0,13523.0,20441.0,15706.0,22791.0,19932.0,15983.0,16373.0,15966.0,17030.0,19395.0,11564.0,16601.0,23554.0,31815.0,20870.0,17862.0,19206.0,46759.0,27658.0,28205.0,25933.0,28626.0,26629.0,16755.0,25657.0,18214.0,22073.0,18481.0,15933.0,23838.0,15925.0,14705.0,24917.0,30132.0,17671.0,24423.0,34110.0,25835.0,24129.0,20741.0,25715.0,23880.0,18468.0,null,28816.0,21462.0,16380.0,20400.0,26298.0,16451.0,16207.0,19631.0,32230.0,52251.0,27837.0,42285.0,35819.0,30023.0,24112.0,22444.0,24003.0,25558.0,36946.0,18834.0,null,21989.0,32650.0,25257.0,36385.0,23997.0,27268.0,31266.0,27166.0,32162.0,18837.0,24577.0,37538.0,25010.0,24952.0,41011.0,27713.0,34591.0,25229.0,30616.0,26810.0,24693.0,39128.0,29382.0,44590.0,27657.0,null,33697.0,22502.0,12819.0,14860.0,17705.0,19351.0,14399.0,14150.0,41184.0,33219.0,34166.0,31821.0,37172.0,52392.0,null,23757.0,26025.0,18478.0,35746.0,45682.0,null,44438.0,41275.0,29034.0,52887.0,12274.0,12618.0,14528.0,11458.0,null,12093.0,12676.0,13494.0,15360.0,12748.0,12377.0,13600.0,25341.0,24606.0,25154.0,24614.0,45933.0,41317.0,26559.0,22470.0,45782.0,35479.0,24896.0,32132.0,40751.0,30930.0,26182.0,25965.0,32596.0,26576.0,42411.0,44630.0,16354.0,23732.0,31423.0,29381.0,24716.0,34285.0,52120.0,55245.0,25134.0,27064.0,25783.0,34671.0,29341.0,50582.0,43003.0,28012.0,41755.0,45827.0,27753.0,28986.0,19834.0,39183.0,25595.0,25816.0,41475.0,33940.0,44862.0,19951.0,32998.0,31022.0,20755.0,23401.0,16316.0,24733.0,26047.0,24474.0,23730.0,27218.0,19408.0,22075.0,21387.0,23213.0,19721.0,24033.0,24143.0,23604.0,22169.0,19605.0,24176.0,18666.0,21697.0,null,24524.0,47284.0,28359.0,null,41200.0,null,9565.0,28764.0,43674.0,20098.0,36100.0,52585.0,null,19368.0,26157.0,24629.0,28536.0,31468.0,23792.0,25664.0,40636.0,49939.0,21665.0,12042.0,44112.0,14264.0,26174.0,23362.0,30723.0,42696.0,26829.0,28806.0,24047.0,23602.0,24281.0,30653.0,36534.0,26927.0,20346.0,16158.0,17631.0,22881.0,22783.0,18763.0,22517.0,20994.0,23050.0,15926.0,23876.0,31151.0,15119.0,34731.0,31271.0,25255.0,29686.0,28688.0,17126.0,52236.0,33253.0,25214.0,19534.0,17857.0,14923.0,21625.0,20597.0,15998.0,14662.0,19054.0,19055.0,14021.0,20842.0,23527.0,29643.0,27462.0,21360.0,19920.0,43692.0,26982.0,19769.0,19681.0,25253.0,23551.0,41432.0,20621.0,31208.0,36375.0,27240.0,39576.0,28452.0,7854.0,25710.0,29041.0,28540.0,22520.0,48306.0,24187.0,25734.0,22480.0,24282.0,25298.0,22784.0,15592.0,14406.0,27948.0,21615.0,26506.0,24118.0,21815.0,23110.0,21809.0,44465.0,22807.0,29509.0,16728.0,24870.0,26687.0,29411.0,26676.0,13306.0,25470.0,27280.0,20514.0,null,19499.0,22068.0,23751.0,25677.0,32223.0,19951.0,14835.0,35737.0,16529.0,29298.0,26633.0,14284.0,22837.0,16585.0,18225.0,14079.0,15545.0,16960.0,null,12259.0,20939.0,26466.0,30278.0,26061.0,24445.0,18686.0,11472.0,13367.0,17499.0,29385.0,18733.0,36557.0,43640.0,32466.0,24073.0,null,19655.0,25384.0,24459.0,38265.0,19523.0,39393.0,43187.0,14528.0,17286.0,42298.0,18235.0,30013.0,30854.0,31598.0,37358.0,33396.0,24283.0,48081.0,55823.0,27074.0,23144.0,27148.0,52564.0,24804.0,31977.0,33087.0,24513.0,23518.0,32116.0,41387.0,43949.0,35603.0,24605.0,28413.0,20994.0,28909.0,48675.0,25304.0,22755.0,40337.0,29343.0,48841.0,18956.0,31747.0,27368.0,29241.0,36700.0,30828.0,27404.0,27377.0,30451.0,49560.0,26193.0,30745.0,61351.0,23427.0,24957.0,26457.0,18701.0,23253.0,30991.0,31843.0,26482.0,29751.0,31367.0,28344.0,39530.0,32359.0,null,43447.0,43465.0,30632.0,35166.0,23635.0,22756.0,22081.0,32165.0,26812.0,32340.0,33384.0,37803.0,26022.0,39833.0,26802.0,27982.0,23473.0,30159.0,43586.0,28374.0,26198.0,32470.0,33333.0,53419.0,35134.0,23834.0,25353.0,25232.0,33305.0,34459.0,27038.0,24898.0,44033.0,42547.0,30858.0,48172.0,17066.0,26551.0,59438.0,38029.0,36861.0,15081.0,24837.0,19775.0,13292.0,20296.0,21634.0,23397.0,23308.0,26587.0,24808.0,20125.0,23351.0,23175.0,19858.0,39170.0,16989.0,41195.0,17247.0,28677.0,23777.0,23886.0,27928.0,16500.0,20320.0,24733.0,18628.0,22164.0,19238.0,21651.0,32611.0,26997.0,19151.0,20186.0,20795.0,21015.0,19301.0,23665.0,21141.0,20110.0,24181.0,21079.0,19300.0,14617.0,40240.0,17860.0,16993.0,23584.0,13696.0,23265.0,28522.0,17852.0,35524.0,20557.0,23175.0,24867.0,null,null,19820.0,34651.0,24635.0,25161.0,18634.0,17222.0,33652.0,39437.0,28363.0,15619.0,17740.0,25256.0,15811.0,17852.0,19950.0,18942.0,18263.0,26749.0,40509.0,32006.0,19541.0,28618.0,43975.0,29423.0,null,28591.0,29550.0,24535.0,17719.0,20820.0,14941.0,26584.0,24033.0,23789.0,19307.0,17248.0,21028.0,29533.0,24148.0,26610.0,19182.0,18853.0,9851.0,27387.0,28939.0,32286.0,27259.0,17564.0,20660.0,21518.0,12432.0,23268.0,42730.0,35038.0,26501.0,21338.0,27896.0,22706.0,47781.0,27375.0,33335.0,20586.0,21669.0,26907.0,17508.0,22730.0,null,null,19886.0,27994.0,21031.0,25888.0,21656.0,15754.0,18435.0,49666.0,17970.0,24433.0,14545.0,17722.0,23173.0,21164.0,24152.0,17017.0,33870.0,null,null,27697.0,20456.0,16728.0,17864.0,17619.0,17751.0,14974.0,17905.0,13248.0,17289.0,28129.0,39888.0,22133.0,38516.0,21755.0,42583.0,29989.0,33747.0,26502.0,29942.0,24310.0,23279.0,34020.0,30136.0,30067.0,27000.0,26851.0,28442.0,24730.0,35794.0,36916.0,24375.0,27196.0,31193.0,24602.0,26516.0,21704.0,28327.0,25638.0,26439.0,22857.0,22180.0,28789.0,45094.0,32099.0,33883.0,24927.0,16589.0,26368.0,27769.0,31495.0,27394.0,22478.0,21041.0,25456.0,42003.0,22466.0,null,18760.0,21781.0,39730.0,null,27838.0,28832.0,41005.0,27884.0,35993.0,40015.0,26717.0,23684.0,25264.0,23101.0,47231.0,33240.0,26485.0,10247.0,15707.0,31978.0,12954.0,21312.0,16177.0,21552.0,13981.0,14684.0,19077.0,18460.0,14688.0,27647.0,16972.0,31851.0,26132.0,18666.0,21320.0,25164.0,29677.0,26027.0,28589.0,27129.0,30682.0,24738.0,28212.0,37735.0,29678.0,30042.0,28270.0,24341.0,26820.0,30484.0,25553.0,17815.0,19798.0,16985.0,17059.0,26243.0,18003.0,15945.0,22744.0,18753.0,18085.0,25436.0,21499.0,17555.0,16996.0,17225.0,15858.0,null,9027.0,null,null,null,null,15770.0,null,null,null,11431.0,null,null,16095.0,11350.0,null,null,13100.0,null,9821.0,null,null,11107.0,null,15659.0,null,null,7092.0,18515.0,20565.0,12759.0,8271.0,13035.0,46746.0,20859.0,18963.0,null,13862.0,21551.0,24217.0,22404.0,20078.0,34671.0,21728.0,null,22574.0,null,16804.0,19245.0,24116.0,30123.0,null,30296.0,null,20335.0,null,13704.0,16922.0,23472.0,28529.0,20174.0,null,null,null,null,null,15414.0,14357.0,13392.0,null,17732.0,null,null,null,12428.0,11196.0,21279.0,24563.0,25672.0,27663.0,23078.0,null,17408.0,null],\"yaxis\":\"y\",\"type\":\"scattergl\"}],                        {\"template\":{\"data\":{\"histogram2dcontour\":[{\"type\":\"histogram2dcontour\",\"colorbar\":{\"outlinewidth\":0,\"ticks\":\"\"},\"colorscale\":[[0.0,\"#0d0887\"],[0.1111111111111111,\"#46039f\"],[0.2222222222222222,\"#7201a8\"],[0.3333333333333333,\"#9c179e\"],[0.4444444444444444,\"#bd3786\"],[0.5555555555555556,\"#d8576b\"],[0.6666666666666666,\"#ed7953\"],[0.7777777777777778,\"#fb9f3a\"],[0.8888888888888888,\"#fdca26\"],[1.0,\"#f0f921\"]]}],\"choropleth\":[{\"type\":\"choropleth\",\"colorbar\":{\"outlinewidth\":0,\"ticks\":\"\"}}],\"histogram2d\":[{\"type\":\"histogram2d\",\"colorbar\":{\"outlinewidth\":0,\"ticks\":\"\"},\"colorscale\":[[0.0,\"#0d0887\"],[0.1111111111111111,\"#46039f\"],[0.2222222222222222,\"#7201a8\"],[0.3333333333333333,\"#9c179e\"],[0.4444444444444444,\"#bd3786\"],[0.5555555555555556,\"#d8576b\"],[0.6666666666666666,\"#ed7953\"],[0.7777777777777778,\"#fb9f3a\"],[0.8888888888888888,\"#fdca26\"],[1.0,\"#f0f921\"]]}],\"heatmap\":[{\"type\":\"heatmap\",\"colorbar\":{\"outlinewidth\":0,\"ticks\":\"\"},\"colorscale\":[[0.0,\"#0d0887\"],[0.1111111111111111,\"#46039f\"],[0.2222222222222222,\"#7201a8\"],[0.3333333333333333,\"#9c179e\"],[0.4444444444444444,\"#bd3786\"],[0.5555555555555556,\"#d8576b\"],[0.6666666666666666,\"#ed7953\"],[0.7777777777777778,\"#fb9f3a\"],[0.8888888888888888,\"#fdca26\"],[1.0,\"#f0f921\"]]}],\"heatmapgl\":[{\"type\":\"heatmapgl\",\"colorbar\":{\"outlinewidth\":0,\"ticks\":\"\"},\"colorscale\":[[0.0,\"#0d0887\"],[0.1111111111111111,\"#46039f\"],[0.2222222222222222,\"#7201a8\"],[0.3333333333333333,\"#9c179e\"],[0.4444444444444444,\"#bd3786\"],[0.5555555555555556,\"#d8576b\"],[0.6666666666666666,\"#ed7953\"],[0.7777777777777778,\"#fb9f3a\"],[0.8888888888888888,\"#fdca26\"],[1.0,\"#f0f921\"]]}],\"contourcarpet\":[{\"type\":\"contourcarpet\",\"colorbar\":{\"outlinewidth\":0,\"ticks\":\"\"}}],\"contour\":[{\"type\":\"contour\",\"colorbar\":{\"outlinewidth\":0,\"ticks\":\"\"},\"colorscale\":[[0.0,\"#0d0887\"],[0.1111111111111111,\"#46039f\"],[0.2222222222222222,\"#7201a8\"],[0.3333333333333333,\"#9c179e\"],[0.4444444444444444,\"#bd3786\"],[0.5555555555555556,\"#d8576b\"],[0.6666666666666666,\"#ed7953\"],[0.7777777777777778,\"#fb9f3a\"],[0.8888888888888888,\"#fdca26\"],[1.0,\"#f0f921\"]]}],\"surface\":[{\"type\":\"surface\",\"colorbar\":{\"outlinewidth\":0,\"ticks\":\"\"},\"colorscale\":[[0.0,\"#0d0887\"],[0.1111111111111111,\"#46039f\"],[0.2222222222222222,\"#7201a8\"],[0.3333333333333333,\"#9c179e\"],[0.4444444444444444,\"#bd3786\"],[0.5555555555555556,\"#d8576b\"],[0.6666666666666666,\"#ed7953\"],[0.7777777777777778,\"#fb9f3a\"],[0.8888888888888888,\"#fdca26\"],[1.0,\"#f0f921\"]]}],\"mesh3d\":[{\"type\":\"mesh3d\",\"colorbar\":{\"outlinewidth\":0,\"ticks\":\"\"}}],\"scatter\":[{\"fillpattern\":{\"fillmode\":\"overlay\",\"size\":10,\"solidity\":0.2},\"type\":\"scatter\"}],\"parcoords\":[{\"type\":\"parcoords\",\"line\":{\"colorbar\":{\"outlinewidth\":0,\"ticks\":\"\"}}}],\"scatterpolargl\":[{\"type\":\"scatterpolargl\",\"marker\":{\"colorbar\":{\"outlinewidth\":0,\"ticks\":\"\"}}}],\"bar\":[{\"error_x\":{\"color\":\"#2a3f5f\"},\"error_y\":{\"color\":\"#2a3f5f\"},\"marker\":{\"line\":{\"color\":\"#E5ECF6\",\"width\":0.5},\"pattern\":{\"fillmode\":\"overlay\",\"size\":10,\"solidity\":0.2}},\"type\":\"bar\"}],\"scattergeo\":[{\"type\":\"scattergeo\",\"marker\":{\"colorbar\":{\"outlinewidth\":0,\"ticks\":\"\"}}}],\"scatterpolar\":[{\"type\":\"scatterpolar\",\"marker\":{\"colorbar\":{\"outlinewidth\":0,\"ticks\":\"\"}}}],\"histogram\":[{\"marker\":{\"pattern\":{\"fillmode\":\"overlay\",\"size\":10,\"solidity\":0.2}},\"type\":\"histogram\"}],\"scattergl\":[{\"type\":\"scattergl\",\"marker\":{\"colorbar\":{\"outlinewidth\":0,\"ticks\":\"\"}}}],\"scatter3d\":[{\"type\":\"scatter3d\",\"line\":{\"colorbar\":{\"outlinewidth\":0,\"ticks\":\"\"}},\"marker\":{\"colorbar\":{\"outlinewidth\":0,\"ticks\":\"\"}}}],\"scattermapbox\":[{\"type\":\"scattermapbox\",\"marker\":{\"colorbar\":{\"outlinewidth\":0,\"ticks\":\"\"}}}],\"scatterternary\":[{\"type\":\"scatterternary\",\"marker\":{\"colorbar\":{\"outlinewidth\":0,\"ticks\":\"\"}}}],\"scattercarpet\":[{\"type\":\"scattercarpet\",\"marker\":{\"colorbar\":{\"outlinewidth\":0,\"ticks\":\"\"}}}],\"carpet\":[{\"aaxis\":{\"endlinecolor\":\"#2a3f5f\",\"gridcolor\":\"white\",\"linecolor\":\"white\",\"minorgridcolor\":\"white\",\"startlinecolor\":\"#2a3f5f\"},\"baxis\":{\"endlinecolor\":\"#2a3f5f\",\"gridcolor\":\"white\",\"linecolor\":\"white\",\"minorgridcolor\":\"white\",\"startlinecolor\":\"#2a3f5f\"},\"type\":\"carpet\"}],\"table\":[{\"cells\":{\"fill\":{\"color\":\"#EBF0F8\"},\"line\":{\"color\":\"white\"}},\"header\":{\"fill\":{\"color\":\"#C8D4E3\"},\"line\":{\"color\":\"white\"}},\"type\":\"table\"}],\"barpolar\":[{\"marker\":{\"line\":{\"color\":\"#E5ECF6\",\"width\":0.5},\"pattern\":{\"fillmode\":\"overlay\",\"size\":10,\"solidity\":0.2}},\"type\":\"barpolar\"}],\"pie\":[{\"automargin\":true,\"type\":\"pie\"}]},\"layout\":{\"autotypenumbers\":\"strict\",\"colorway\":[\"#636efa\",\"#EF553B\",\"#00cc96\",\"#ab63fa\",\"#FFA15A\",\"#19d3f3\",\"#FF6692\",\"#B6E880\",\"#FF97FF\",\"#FECB52\"],\"font\":{\"color\":\"#2a3f5f\"},\"hovermode\":\"closest\",\"hoverlabel\":{\"align\":\"left\"},\"paper_bgcolor\":\"white\",\"plot_bgcolor\":\"#E5ECF6\",\"polar\":{\"bgcolor\":\"#E5ECF6\",\"angularaxis\":{\"gridcolor\":\"white\",\"linecolor\":\"white\",\"ticks\":\"\"},\"radialaxis\":{\"gridcolor\":\"white\",\"linecolor\":\"white\",\"ticks\":\"\"}},\"ternary\":{\"bgcolor\":\"#E5ECF6\",\"aaxis\":{\"gridcolor\":\"white\",\"linecolor\":\"white\",\"ticks\":\"\"},\"baxis\":{\"gridcolor\":\"white\",\"linecolor\":\"white\",\"ticks\":\"\"},\"caxis\":{\"gridcolor\":\"white\",\"linecolor\":\"white\",\"ticks\":\"\"}},\"coloraxis\":{\"colorbar\":{\"outlinewidth\":0,\"ticks\":\"\"}},\"colorscale\":{\"sequential\":[[0.0,\"#0d0887\"],[0.1111111111111111,\"#46039f\"],[0.2222222222222222,\"#7201a8\"],[0.3333333333333333,\"#9c179e\"],[0.4444444444444444,\"#bd3786\"],[0.5555555555555556,\"#d8576b\"],[0.6666666666666666,\"#ed7953\"],[0.7777777777777778,\"#fb9f3a\"],[0.8888888888888888,\"#fdca26\"],[1.0,\"#f0f921\"]],\"sequentialminus\":[[0.0,\"#0d0887\"],[0.1111111111111111,\"#46039f\"],[0.2222222222222222,\"#7201a8\"],[0.3333333333333333,\"#9c179e\"],[0.4444444444444444,\"#bd3786\"],[0.5555555555555556,\"#d8576b\"],[0.6666666666666666,\"#ed7953\"],[0.7777777777777778,\"#fb9f3a\"],[0.8888888888888888,\"#fdca26\"],[1.0,\"#f0f921\"]],\"diverging\":[[0,\"#8e0152\"],[0.1,\"#c51b7d\"],[0.2,\"#de77ae\"],[0.3,\"#f1b6da\"],[0.4,\"#fde0ef\"],[0.5,\"#f7f7f7\"],[0.6,\"#e6f5d0\"],[0.7,\"#b8e186\"],[0.8,\"#7fbc41\"],[0.9,\"#4d9221\"],[1,\"#276419\"]]},\"xaxis\":{\"gridcolor\":\"white\",\"linecolor\":\"white\",\"ticks\":\"\",\"title\":{\"standoff\":15},\"zerolinecolor\":\"white\",\"automargin\":true,\"zerolinewidth\":2},\"yaxis\":{\"gridcolor\":\"white\",\"linecolor\":\"white\",\"ticks\":\"\",\"title\":{\"standoff\":15},\"zerolinecolor\":\"white\",\"automargin\":true,\"zerolinewidth\":2},\"scene\":{\"xaxis\":{\"backgroundcolor\":\"#E5ECF6\",\"gridcolor\":\"white\",\"linecolor\":\"white\",\"showbackground\":true,\"ticks\":\"\",\"zerolinecolor\":\"white\",\"gridwidth\":2},\"yaxis\":{\"backgroundcolor\":\"#E5ECF6\",\"gridcolor\":\"white\",\"linecolor\":\"white\",\"showbackground\":true,\"ticks\":\"\",\"zerolinecolor\":\"white\",\"gridwidth\":2},\"zaxis\":{\"backgroundcolor\":\"#E5ECF6\",\"gridcolor\":\"white\",\"linecolor\":\"white\",\"showbackground\":true,\"ticks\":\"\",\"zerolinecolor\":\"white\",\"gridwidth\":2}},\"shapedefaults\":{\"line\":{\"color\":\"#2a3f5f\"}},\"annotationdefaults\":{\"arrowcolor\":\"#2a3f5f\",\"arrowhead\":0,\"arrowwidth\":1},\"geo\":{\"bgcolor\":\"white\",\"landcolor\":\"#E5ECF6\",\"subunitcolor\":\"white\",\"showland\":true,\"showlakes\":true,\"lakecolor\":\"white\"},\"title\":{\"x\":0.05},\"mapbox\":{\"style\":\"light\"}}},\"xaxis\":{\"anchor\":\"y\",\"domain\":[0.0,1.0],\"title\":{\"text\":\"admission_rate.overall\"}},\"yaxis\":{\"anchor\":\"x\",\"domain\":[0.0,1.0],\"title\":{\"text\":\"net_price.by_income_level.110001-plus\"}},\"legend\":{\"tracegroupgap\":0},\"margin\":{\"t\":60}},                        {\"responsive\": true}                    ).then(function(){\n",
       "                            \n",
       "var gd = document.getElementById('7d4b6ba8-fcbd-4d3e-a291-efe7a228522e');\n",
       "var x = new MutationObserver(function (mutations, observer) {{\n",
       "        var display = window.getComputedStyle(gd).display;\n",
       "        if (!display || display === 'none') {{\n",
       "            console.log([gd, 'removed!']);\n",
       "            Plotly.purge(gd);\n",
       "            observer.disconnect();\n",
       "        }}\n",
       "}});\n",
       "\n",
       "// Listen for the removal of the full notebook cells\n",
       "var notebookContainer = gd.closest('#notebook-container');\n",
       "if (notebookContainer) {{\n",
       "    x.observe(notebookContainer, {childList: true});\n",
       "}}\n",
       "\n",
       "// Listen for the clearing of the current output cell\n",
       "var outputEl = gd.closest('.output');\n",
       "if (outputEl) {{\n",
       "    x.observe(outputEl, {childList: true});\n",
       "}}\n",
       "\n",
       "                        })                };                });            </script>        </div>"
      ]
     },
     "metadata": {},
     "output_type": "display_data"
    }
   ],
   "source": [
    "import plotly.express as px\n",
    "fig = px.scatter(df, x=\"admission_rate.overall\", y=\"net_price.by_income_level.110001-plus\",hover_name=\"name\", hover_data=['admission_rate.overall','net_price.by_income_level.110001-plus','attendance.academic_year'])\n",
    "fig.show()"
   ]
  },
  {
   "cell_type": "code",
   "execution_count": 68,
   "id": "a7dcf445-72f8-4f3b-b477-1afa00609c9b",
   "metadata": {},
   "outputs": [
    {
     "data": {
      "text/html": [
       "<style>.itables table td {\n",
       "    text-overflow: ellipsis;\n",
       "    overflow: hidden;\n",
       "}\n",
       "\n",
       ".itables table th {\n",
       "    text-overflow: ellipsis;\n",
       "    overflow: hidden;\n",
       "}\n",
       "\n",
       ".itables thead input {\n",
       "    width: 100%;\n",
       "    padding: 3px;\n",
       "    box-sizing: border-box;\n",
       "}\n",
       "\n",
       ".itables tfoot input {\n",
       "    width: 100%;\n",
       "    padding: 3px;\n",
       "    box-sizing: border-box;\n",
       "}\n",
       "</style>\n",
       "<div class=\"itables\">\n",
       "<table id=\"eab0fa85-20ef-4b0a-b2a6-477cd8356ba2\" class=\"display nowrap\"style=\"table-layout:auto;width:auto;margin:auto;caption-side:bottom\"><thead>\n",
       "    <tr style=\"text-align: right;\">\n",
       "      \n",
       "      <th>name</th>\n",
       "      <th>region_id</th>\n",
       "      <th>locale</th>\n",
       "    </tr>\n",
       "  </thead><tbody><tr><td>Loading... (need <a href=https://mwouts.github.io/itables/troubleshooting.html>help</a>?)</td></tr></tbody></table>\n",
       "<script>\n",
       "    // We use a namespace per table (= the next curly bracket)\n",
       "    // to avoid conflicts between the various tables' data & dt_args\n",
       "    {\n",
       "        // Define the table data\n",
       "        const data = [[\"Alabama A & M University\", \"Southeast\", \"Midsize City\"], [\"University of Alabama at Birmingham\", \"Southeast\", \"Midsize City\"], [\"University of Alabama in Huntsville\", \"Southeast\", \"Midsize City\"], [\"Alabama State University\", \"Southeast\", \"Midsize City\"], [\"The University of Alabama\", \"Southeast\", \"Midsize City\"], [\"Athens State University\", \"Southeast\", \"Fringe Town\"], [\"Auburn University at Montgomery\", \"Southeast\", \"Midsize City\"], [\"Auburn University\", \"Southeast\", \"Small City\"], [\"Birmingham-Southern College\", \"Southeast\", \"Midsize City\"], [\"Faulkner University\", \"Southeast\", \"Midsize City\"], [\"Huntingdon College\", \"Southeast\", \"Midsize City\"], [\"Jacksonville State University\", \"Southeast\", \"Small Suburb\"], [\"University of West Alabama\", \"Southeast\", \"Remote Rural\"], [\"Miles College\", \"Southeast\", \"Large Suburb\"], [\"University of Mobile\", \"Southeast\", \"Fringe Rural\"], [\"University of Montevallo\", \"Southeast\", \"Large Suburb\"], [\"University of North Alabama\", \"Southeast\", \"Small City\"], [\"Oakwood University\", \"Southeast\", \"Midsize City\"], [\"Samford University\", \"Southeast\", \"Large Suburb\"], [\"University of South Alabama\", \"Southeast\", \"Midsize City\"], [\"Spring Hill College\", \"Southeast\", \"Midsize City\"], [\"Stillman College\", \"Southeast\", \"Midsize City\"], [\"Talladega College\", \"Southeast\", \"Distant Town\"], [\"Troy University\", \"Southeast\", \"Remote Town\"], [\"Tuskegee University\", \"Southeast\", \"Distant Town\"], [\"University of Alaska Anchorage\", \"Far West\", \"Large City\"], [\"University of Alaska Fairbanks\", \"Far West\", \"Small Suburb\"], [\"Arizona State University Campus Immersion\", \"Southwest\", \"Midsize City\"], [\"University of Arizona\", \"Southwest\", \"Large City\"], [\"Embry-Riddle Aeronautical University-Prescott\", \"Southwest\", \"Fringe Rural\"], [\"Northern Arizona University\", \"Southwest\", \"Small City\"], [\"Arizona Christian University\", \"Southwest\", \"Large Suburb\"], [\"University of Arkansas at Little Rock\", \"Southeast\", \"Midsize City\"], [\"University of Arkansas for Medical Sciences\", \"Southeast\", \"Midsize City\"], [\"Lyon College\", \"Southeast\", \"Remote Town\"], [\"University of Arkansas\", \"Southeast\", \"Small City\"], [\"University of Arkansas at Pine Bluff\", \"Southeast\", \"Small City\"], [\"Arkansas State University\", \"Southeast\", \"Small City\"], [\"Arkansas Tech University\", \"Southeast\", \"Remote Town\"], [\"University of Central Arkansas\", \"Southeast\", \"Small City\"], [\"Central Baptist College\", \"Southeast\", \"Small City\"], [\"Harding University\", \"Southeast\", \"Distant Town\"], [\"Henderson State University\", \"Southeast\", \"Distant Town\"], [\"Hendrix College\", \"Southeast\", \"Small City\"], [\"John Brown University\", \"Southeast\", \"Distant Town\"], [\"Ouachita Baptist University\", \"Southeast\", \"Distant Town\"], [\"University of the Ozarks\", \"Southeast\", \"Remote Town\"], [\"Philander Smith College\", \"Southeast\", \"Midsize City\"], [\"Williams Baptist University\", \"Southeast\", \"Distant Rural\"], [\"Southern Arkansas University Main Campus\", \"Southeast\", \"Remote Town\"], [\"University of Arkansas-Fort Smith\", \"Southeast\", \"Small City\"], [\"Art Center College of Design\", \"Far West\", \"Midsize City\"], [\"Azusa Pacific University\", \"Far West\", \"Large Suburb\"], [\"Biola University\", \"Far West\", \"Large Suburb\"], [\"California Baptist University\", \"Far West\", \"Large City\"], [\"California College of the Arts\", \"Far West\", \"Large City\"], [\"California Institute of Technology\", \"Far West\", \"Midsize City\"], [\"California Lutheran University\", \"Far West\", \"Midsize City\"], [\"California Polytechnic State University-San Luis Obispo\", \"Far West\", \"Small Suburb\"], [\"California State University-Bakersfield\", \"Far West\", \"Large City\"], [\"California State University-Stanislaus\", \"Far West\", \"Small Suburb\"], [\"California State University-San Bernardino\", \"Far West\", \"Midsize City\"], [\"California State Polytechnic University-Pomona\", \"Far West\", \"Large Suburb\"], [\"California State University-Chico\", \"Far West\", \"Midsize City\"], [\"California State University-Dominguez Hills\", \"Far West\", \"Small City\"], [\"California State University-Fresno\", \"Far West\", \"Large City\"], [\"California State University-Fullerton\", \"Far West\", \"Large Suburb\"], [\"California State University-East Bay\", \"Far West\", \"Large Suburb\"], [\"California State University-Long Beach\", \"Far West\", \"Large City\"], [\"California State University-Los Angeles\", \"Far West\", \"Large City\"], [\"California State University-Northridge\", \"Far West\", \"Large City\"], [\"California State University-Sacramento\", \"Far West\", \"Large City\"], [\"University of California-Berkeley\", \"Far West\", \"Midsize City\"], [\"University of California-Davis\", \"Far West\", \"Small Suburb\"], [\"University of California-Irvine\", \"Far West\", \"Large City\"], [\"University of California-Los Angeles\", \"Far West\", \"Large City\"], [\"University of California-Riverside\", \"Far West\", \"Large City\"], [\"University of California-San Diego\", \"Far West\", \"Large City\"], [\"University of California-Santa Barbara\", \"Far West\", \"Midsize Suburb\"], [\"University of California-Santa Cruz\", \"Far West\", \"Small City\"], [\"California Institute of the Arts\", \"Far West\", \"Large Suburb\"], [\"California State University Maritime Academy\", \"Far West\", \"Midsize City\"], [\"Chapman University\", \"Far West\", \"Midsize City\"], [\"Concordia University-Irvine\", \"Far West\", \"Large City\"], [\"Claremont McKenna College\", \"Far West\", \"Large Suburb\"], [\"Columbia College Hollywood\", \"Far West\", \"Large City\"], [\"Dominican University of California\", \"Far West\", \"Small City\"], [\"Fresno Pacific University\", \"Far West\", \"Large City\"], [\"Golden Gate University\", \"Far West\", \"Large City\"], [\"Harvey Mudd College\", \"Far West\", \"Large Suburb\"], [\"Holy Names University\", \"Far West\", \"Large City\"], [\"Humboldt State University\", \"Far West\", \"Remote Town\"], [\"University of La Verne\", \"Far West\", \"Large Suburb\"], [\"Laguna College of Art and Design\", \"Far West\", \"Fringe Rural\"], [\"La Sierra University\", \"Far West\", \"Large City\"], [\"Loma Linda University\", \"Far West\", \"Large Suburb\"], [\"The Master's University and Seminary\", \"Far West\", \"Large Suburb\"], [\"Loyola Marymount University\", \"Far West\", \"Large City\"], [\"Marymount California University\", \"Far West\", \"Large Suburb\"], [\"Menlo College\", \"Far West\", \"Large Suburb\"], [\"Mills College\", \"Far West\", \"Large City\"], [\"Mount Saint Mary's University\", \"Far West\", \"Large City\"], [\"National University\", \"Far West\", \"Large City\"], [\"Occidental College\", \"Far West\", \"Large City\"], [\"Otis College of Art and Design\", \"Far West\", \"Large City\"], [\"Hope International University\", \"Far West\", \"Large Suburb\"], [\"Pacific Union College\", \"Far West\", \"Fringe Rural\"], [\"University of the Pacific\", \"Far West\", \"Large City\"], [\"Pepperdine University\", \"Far West\", \"Large Suburb\"], [\"Pitzer College\", \"Far West\", \"Large Suburb\"], [\"Point Loma Nazarene University\", \"Far West\", \"Large City\"], [\"Pomona College\", \"Far West\", \"Large Suburb\"], [\"University of Redlands\", \"Far West\", \"Small City\"], [\"Samuel Merritt University\", \"Far West\", \"Large City\"], [\"San Diego State University\", \"Far West\", \"Large City\"], [\"University of San Diego\", \"Far West\", \"Large City\"], [\"San Francisco State University\", \"Far West\", \"Large City\"], [\"University of San Francisco\", \"Far West\", \"Large City\"], [\"William Jessup University\", \"Far West\", \"Fringe Rural\"], [\"San Jose State University\", \"Far West\", \"Large City\"], [\"Santa Clara University\", \"Far West\", \"Midsize City\"], [\"Scripps College\", \"Far West\", \"Large Suburb\"], [\"Simpson University\", \"Far West\", \"Small City\"], [\"Saint Mary's College of California\", \"Far West\", \"Large Suburb\"], [\"Sonoma State University\", \"Far West\", \"Large Suburb\"], [\"Vanguard University of Southern California\", \"Far West\", \"Midsize City\"], [\"University of Southern California\", \"Far West\", \"Large City\"], [\"Westmont College\", \"Far West\", \"Midsize Suburb\"], [\"Whittier College\", \"Far West\", \"Large Suburb\"], [\"Woodbury University\", \"Far West\", \"Large City\"], [\"Adams State University\", \"Rocky Mountains\", \"Remote Town\"], [\"University of Colorado Denver/Anschutz Medical Campus\", \"Rocky Mountains\", \"Large City\"], [\"University of Colorado Colorado Springs\", \"Rocky Mountains\", \"Large City\"], [\"University of Colorado Boulder\", \"Rocky Mountains\", \"Midsize City\"], [\"Colorado Christian University\", \"Rocky Mountains\", \"Midsize City\"], [\"Colorado College\", \"Rocky Mountains\", \"Large City\"], [\"Colorado School of Mines\", \"Rocky Mountains\", \"Large Suburb\"], [\"Colorado State University-Fort Collins\", \"Rocky Mountains\", \"Midsize City\"], [\"University of Denver\", \"Rocky Mountains\", \"Large City\"], [\"Fort Lewis College\", \"Rocky Mountains\", \"Distant Town\"], [\"Colorado Mesa University\", \"Rocky Mountains\", \"Small City\"], [\"Metropolitan State University of Denver\", \"Rocky Mountains\", \"Large City\"], [\"University of Northern Colorado\", \"Rocky Mountains\", \"Midsize City\"], [\"Regis University\", \"Rocky Mountains\", \"Large City\"], [\"Colorado State University Pueblo\", \"Rocky Mountains\", \"Midsize City\"], [\"Western Colorado University\", \"Rocky Mountains\", \"Remote Town\"], [\"Albertus Magnus College\", \"New Englend\", \"Midsize City\"], [\"University of Bridgeport\", \"New Englend\", \"Midsize City\"], [\"Central Connecticut State University\", \"New Englend\", \"Large Suburb\"], [\"Charter Oak State College\", \"New Englend\", \"Large Suburb\"], [\"Connecticut College\", \"New Englend\", \"Small City\"], [\"University of Connecticut\", \"New Englend\", \"Large Suburb\"], [\"Eastern Connecticut State University\", \"New Englend\", \"Fringe Town\"], [\"Fairfield University\", \"New Englend\", \"Large Suburb\"], [\"University of Hartford\", \"New Englend\", \"Midsize City\"], [\"Mitchell College\", \"New Englend\", \"Small City\"], [\"University of New Haven\", \"New Englend\", \"Large Suburb\"], [\"Quinnipiac University\", \"New Englend\", \"Large Suburb\"], [\"Sacred Heart University\", \"New Englend\", \"Large Suburb\"], [\"University of Saint Joseph\", \"New Englend\", \"Large Suburb\"], [\"Southern Connecticut State University\", \"New Englend\", \"Midsize City\"], [\"Trinity College\", \"New Englend\", \"Midsize City\"], [\"Wesleyan University\", \"New Englend\", \"Small City\"], [\"Western Connecticut State University\", \"New Englend\", \"Small City\"], [\"Yale University\", \"New Englend\", \"Midsize City\"], [\"Delaware State University\", \"Mid East\", \"Small City\"], [\"University of Delaware\", \"Mid East\", \"Large Suburb\"], [\"Goldey-Beacom College\", \"Mid East\", \"Large Suburb\"], [\"Wesley College\", \"Mid East\", \"Small City\"], [\"Wilmington University\", \"Mid East\", \"Large Suburb\"], [\"American University\", \"Mid East\", \"Large City\"], [\"The Catholic University of America\", \"Mid East\", \"Large City\"], [\"University of the District of Columbia\", \"Mid East\", \"Large City\"], [\"Gallaudet University\", \"Mid East\", \"Large City\"], [\"George Washington University\", \"Mid East\", \"Large City\"], [\"Georgetown University\", \"Mid East\", \"Large City\"], [\"Howard University\", \"Mid East\", \"Large City\"], [\"Trinity Washington University\", \"Mid East\", \"Large City\"], [\"Barry University\", \"Southeast\", \"Large Suburb\"], [\"Bethune-Cookman University\", \"Southeast\", \"Small City\"], [\"Lynn University\", \"Southeast\", \"Small City\"], [\"University of Central Florida\", \"Southeast\", \"Large Suburb\"], [\"Eckerd College\", \"Southeast\", \"Large City\"], [\"Edward Waters University\", \"Southeast\", \"Large City\"], [\"Embry-Riddle Aeronautical University-Daytona Beach\", \"Southeast\", \"Small City\"], [\"Florida Agricultural and Mechanical University\", \"Southeast\", \"Midsize City\"], [\"Florida Atlantic University\", \"Southeast\", \"Small City\"], [\"Flagler College\", \"Southeast\", \"Small Suburb\"], [\"AdventHealth University\", \"Southeast\", \"Large City\"], [\"Florida Institute of Technology\", \"Southeast\", \"Small City\"], [\"Florida International University\", \"Southeast\", \"Large Suburb\"], [\"Florida Memorial University\", \"Southeast\", \"Large Suburb\"], [\"Florida Southern College\", \"Southeast\", \"Midsize City\"], [\"Florida State University\", \"Southeast\", \"Midsize City\"], [\"University of Florida\", \"Southeast\", \"Midsize City\"], [\"Jacksonville University\", \"Southeast\", \"Large City\"], [\"University of Miami\", \"Southeast\", \"Small City\"], [\"University of North Florida\", \"Southeast\", \"Large City\"], [\"Nova Southeastern University\", \"Southeast\", \"Large Suburb\"], [\"Palm Beach Atlantic University\", \"Southeast\", \"Midsize City\"], [\"Ringling College of Art and Design\", \"Southeast\", \"Small City\"], [\"Rollins College\", \"Southeast\", \"Large Suburb\"], [\"Saint Leo University\", \"Southeast\", \"Small Suburb\"], [\"University of South Florida\", \"Southeast\", \"Large City\"], [\"St. Thomas University\", \"Southeast\", \"Large Suburb\"], [\"Stetson University\", \"Southeast\", \"Small City\"], [\"Southeastern University\", \"Southeast\", \"Midsize City\"], [\"The University of Tampa\", \"Southeast\", \"Large City\"], [\"Warner University\", \"Southeast\", \"Fringe Rural\"], [\"Webber International University\", \"Southeast\", \"Fringe Town\"], [\"The University of West Florida\", \"Southeast\", \"Small City\"], [\"Agnes Scott College\", \"Southeast\", \"Large Suburb\"], [\"Point University\", \"Southeast\", \"Distant Town\"], [\"Clark Atlanta University\", \"Southeast\", \"Large City\"], [\"Berry College\", \"Southeast\", \"Small Suburb\"], [\"Brenau University\", \"Southeast\", \"Small City\"], [\"Brewton-Parker College\", \"Southeast\", \"Distant Rural\"], [\"College of Coastal Georgia\", \"Southeast\", \"Small City\"], [\"Clayton  State University\", \"Southeast\", \"Large Suburb\"], [\"Columbus State University\", \"Southeast\", \"Midsize City\"], [\"Covenant College\", \"Southeast\", \"Fringe Rural\"], [\"Dalton State College\", \"Southeast\", \"Small City\"], [\"Emmanuel College\", \"Southeast\", \"Distant Town\"], [\"Emory University\", \"Southeast\", \"Large City\"], [\"Fort Valley State University\", \"Southeast\", \"Fringe Town\"], [\"Georgia Institute of Technology-Main Campus\", \"Southeast\", \"Large City\"], [\"Georgia Southwestern State University\", \"Southeast\", \"Distant Town\"], [\"Georgia College & State University\", \"Southeast\", \"Distant Town\"], [\"Georgia Southern University\", \"Southeast\", \"Distant Town\"], [\"Georgia State University\", \"Southeast\", \"Large City\"], [\"University of Georgia\", \"Southeast\", \"Midsize City\"], [\"LaGrange College\", \"Southeast\", \"Distant Town\"], [\"Life University\", \"Southeast\", \"Small City\"], [\"Herzing University-Atlanta\", \"Southeast\", \"Large City\"], [\"Mercer University\", \"Southeast\", \"Midsize City\"], [\"Morehouse College\", \"Southeast\", \"Large City\"], [\"Oglethorpe University\", \"Southeast\", \"Large Suburb\"], [\"Piedmont University\", \"Southeast\", \"Distant Town\"], [\"Reinhardt University\", \"Southeast\", \"Fringe Rural\"], [\"Savannah College of Art and Design\", \"Southeast\", \"Midsize City\"], [\"Savannah State University\", \"Southeast\", \"Midsize City\"], [\"Shorter University\", \"Southeast\", \"Small City\"], [\"Spelman College\", \"Southeast\", \"Large City\"], [\"Thomas University\", \"Southeast\", \"Distant Town\"], [\"Toccoa Falls College\", \"Southeast\", \"Distant Town\"], [\"Truett McConnell University\", \"Southeast\", \"Distant Town\"], [\"Valdosta State University\", \"Southeast\", \"Small City\"], [\"Wesleyan College\", \"Southeast\", \"Midsize City\"], [\"University of West Georgia\", \"Southeast\", \"Fringe Town\"], [\"Young Harris College\", \"Southeast\", \"Remote Rural\"], [\"Chaminade University of Honolulu\", \"Far West\", \"Large City\"], [\"University of Hawaii at Hilo\", \"Far West\", \"Remote Town\"], [\"University of Hawaii at Manoa\", \"Far West\", \"Large City\"], [\"Hawaii Pacific University\", \"Far West\", \"Large City\"], [\"University of Hawaii-West Oahu\", \"Far West\", \"Large Suburb\"], [\"Boise State University\", \"Rocky Mountains\", \"Midsize City\"], [\"Idaho State University\", \"Rocky Mountains\", \"Small City\"], [\"University of Idaho\", \"Rocky Mountains\", \"Distant Town\"], [\"The College of Idaho\", \"Rocky Mountains\", \"Midsize Suburb\"], [\"Lewis-Clark State College\", \"Rocky Mountains\", \"Small City\"], [\"Northwest Nazarene University\", \"Rocky Mountains\", \"Midsize Suburb\"], [\"Brigham Young University-Idaho\", \"Rocky Mountains\", \"Distant Town\"], [\"School of the Art Institute of Chicago\", \"Great Lakes\", \"Large City\"], [\"Augustana College\", \"Great Lakes\", \"Small City\"], [\"Aurora University\", \"Great Lakes\", \"Large Suburb\"], [\"Bradley University\", \"Great Lakes\", \"Midsize City\"], [\"Chicago State University\", \"Great Lakes\", \"Large City\"], [\"University of Chicago\", \"Great Lakes\", \"Large City\"], [\"Columbia College Chicago\", \"Great Lakes\", \"Large City\"], [\"Concordia University-Chicago\", \"Great Lakes\", \"Large Suburb\"], [\"DePaul University\", \"Great Lakes\", \"Large City\"], [\"Eastern Illinois University\", \"Great Lakes\", \"Distant Town\"], [\"Elmhurst University\", \"Great Lakes\", \"Large Suburb\"], [\"Eureka College\", \"Great Lakes\", \"Fringe Town\"], [\"Governors State University\", \"Great Lakes\", \"Fringe Rural\"], [\"Greenville University\", \"Great Lakes\", \"Distant Town\"], [\"University of Illinois Chicago\", \"Great Lakes\", \"Large City\"], [\"Benedictine University\", \"Great Lakes\", \"Large Suburb\"], [\"University of Illinois Urbana-Champaign\", \"Great Lakes\", \"Small City\"], [\"Illinois Wesleyan University\", \"Great Lakes\", \"Small City\"], [\"Illinois College\", \"Great Lakes\", \"Distant Town\"], [\"Illinois Institute of Technology\", \"Great Lakes\", \"Large City\"], [\"Illinois State University\", \"Great Lakes\", \"Midsize Suburb\"], [\"Judson University\", \"Great Lakes\", \"Midsize City\"], [\"Knox College\", \"Great Lakes\", \"Distant Town\"], [\"Lake Forest College\", \"Great Lakes\", \"Large Suburb\"], [\"Lewis University\", \"Great Lakes\", \"Large Suburb\"], [\"Lincoln College\", \"Great Lakes\", \"Distant Town\"], [\"Loyola University Chicago\", \"Great Lakes\", \"Large City\"], [\"McKendree University\", \"Great Lakes\", \"Large Suburb\"], [\"Methodist College\", \"Great Lakes\", \"Midsize City\"], [\"Millikin University\", \"Great Lakes\", \"Small City\"], [\"Monmouth College\", \"Great Lakes\", \"Distant Town\"], [\"Moody Bible Institute\", \"Great Lakes\", \"Large City\"], [\"National Louis University\", \"Great Lakes\", \"Large City\"], [\"North Central College\", \"Great Lakes\", \"Midsize City\"], [\"North Park University\", \"Great Lakes\", \"Large City\"], [\"Northern Illinois University\", \"Great Lakes\", \"Small Suburb\"], [\"Northwestern University\", \"Great Lakes\", \"Small City\"], [\"Northeastern Illinois University\", \"Great Lakes\", \"Large City\"], [\"Olivet Nazarene University\", \"Great Lakes\", \"Small Suburb\"], [\"Quincy University\", \"Great Lakes\", \"Remote Town\"], [\"Rockford University\", \"Great Lakes\", \"Midsize City\"], [\"Roosevelt University\", \"Great Lakes\", \"Large City\"], [\"Dominican University\", \"Great Lakes\", \"Large Suburb\"], [\"University of St Francis\", \"Great Lakes\", \"Large Suburb\"], [\"Saint Xavier University\", \"Great Lakes\", \"Large City\"], [\"University of Illinois Springfield\", \"Great Lakes\", \"Midsize City\"], [\"Southern Illinois University-Carbondale\", \"Great Lakes\", \"Small City\"], [\"Southern Illinois University-Edwardsville\", \"Great Lakes\", \"Large Suburb\"], [\"Trinity Christian College\", \"Great Lakes\", \"Large Suburb\"], [\"Trinity International University-Illinois\", \"Great Lakes\", \"Large Suburb\"], [\"Oak Point University\", \"Great Lakes\", \"Large City\"], [\"Western Illinois University\", \"Great Lakes\", \"Remote Town\"], [\"Wheaton College\", \"Great Lakes\", \"Large Suburb\"], [\"Anderson University\", \"Great Lakes\", \"Small City\"], [\"Ball State University\", \"Great Lakes\", \"Small City\"], [\"Bethel University\", \"Great Lakes\", \"Small City\"], [\"Butler University\", \"Great Lakes\", \"Large City\"], [\"Calumet College of Saint Joseph\", \"Great Lakes\", \"Large Suburb\"], [\"DePauw University\", \"Great Lakes\", \"Distant Town\"], [\"Earlham College\", \"Great Lakes\", \"Distant Town\"], [\"University of Evansville\", \"Great Lakes\", \"Midsize City\"], [\"Franklin College\", \"Great Lakes\", \"Large Suburb\"], [\"Goshen College\", \"Great Lakes\", \"Small City\"], [\"Grace College and Theological Seminary\", \"Great Lakes\", \"Distant Town\"], [\"Hanover College\", \"Great Lakes\", \"Distant Town\"], [\"Huntington University\", \"Great Lakes\", \"Distant Town\"], [\"Purdue University Fort Wayne\", \"Great Lakes\", \"Large City\"], [\"Indiana University-Purdue University-Indianapolis\", \"Great Lakes\", \"Large City\"], [\"University of Indianapolis\", \"Great Lakes\", \"Large City\"], [\"Indiana Institute of Technology\", \"Great Lakes\", \"Large City\"], [\"University of Southern Indiana\", \"Great Lakes\", \"Midsize Suburb\"], [\"Indiana State University\", \"Great Lakes\", \"Small City\"], [\"Indiana University-Kokomo\", \"Great Lakes\", \"Small City\"], [\"Indiana University-South Bend\", \"Great Lakes\", \"Midsize City\"], [\"Indiana University-Bloomington\", \"Great Lakes\", \"Small City\"], [\"Indiana University-Northwest\", \"Great Lakes\", \"Small City\"], [\"Indiana University-Southeast\", \"Great Lakes\", \"Large Suburb\"], [\"Indiana University-East\", \"Great Lakes\", \"Fringe Rural\"], [\"Manchester University\", \"Great Lakes\", \"Distant Town\"], [\"Marian University\", \"Great Lakes\", \"Large City\"], [\"Indiana Wesleyan University-Marion\", \"Great Lakes\", \"Distant Town\"], [\"University of Notre Dame\", \"Great Lakes\", \"Large Suburb\"], [\"Oakland City University\", \"Great Lakes\", \"Distant Town\"], [\"Rose-Hulman Institute of Technology\", \"Great Lakes\", \"Small City\"], [\"University of Saint Francis-Fort Wayne\", \"Great Lakes\", \"Large City\"], [\"Saint Mary-of-the-Woods College\", \"Great Lakes\", \"Fringe Rural\"], [\"Saint Mary's College\", \"Great Lakes\", \"Large Suburb\"], [\"Taylor University\", \"Great Lakes\", \"Distant Town\"], [\"Trine University\", \"Great Lakes\", \"Distant Town\"], [\"Valparaiso University\", \"Great Lakes\", \"Large Suburb\"], [\"Wabash College\", \"Great Lakes\", \"Distant Town\"], [\"Briar Cliff University\", \"Plains\", \"Small City\"], [\"Buena Vista University\", \"Plains\", \"Remote Town\"], [\"Central College\", \"Plains\", \"Distant Town\"], [\"Clarke University\", \"Plains\", \"Small City\"], [\"Coe College\", \"Plains\", \"Midsize City\"], [\"Cornell College\", \"Plains\", \"Fringe Town\"], [\"Dordt University\", \"Plains\", \"Remote Town\"], [\"Drake University\", \"Plains\", \"Midsize City\"], [\"University of Dubuque\", \"Plains\", \"Small City\"], [\"Graceland University-Lamoni\", \"Plains\", \"Remote Rural\"], [\"Grand View University\", \"Plains\", \"Midsize City\"], [\"Grinnell College\", \"Plains\", \"Remote Town\"], [\"Iowa State University\", \"Plains\", \"Small City\"], [\"Iowa Wesleyan University\", \"Plains\", \"Remote Town\"], [\"University of Iowa\", \"Plains\", \"Small City\"], [\"Loras College\", \"Plains\", \"Small City\"], [\"Luther College\", \"Plains\", \"Remote Town\"], [\"Maharishi International University\", \"Plains\", \"Remote Town\"], [\"Mercy College of Health Sciences\", \"Plains\", \"Midsize City\"], [\"Morningside University\", \"Plains\", \"Small City\"], [\"Mount Mercy University\", \"Plains\", \"Midsize City\"], [\"University of Northern Iowa\", \"Plains\", \"Small City\"], [\"Northwestern College\", \"Plains\", \"Distant Town\"], [\"Saint Ambrose University\", \"Plains\", \"Midsize City\"], [\"Simpson College\", \"Plains\", \"Fringe Town\"], [\"Upper Iowa University\", \"Plains\", \"Remote Rural\"], [\"Wartburg College\", \"Plains\", \"Distant Town\"], [\"William Penn University\", \"Plains\", \"Remote Town\"], [\"Baker University\", \"Plains\", \"Fringe Town\"], [\"Benedictine College\", \"Plains\", \"Distant Town\"], [\"Bethany College\", \"Plains\", \"Remote Town\"], [\"Central Christian College of Kansas\", \"Plains\", \"Remote Town\"], [\"Emporia State University\", \"Plains\", \"Remote Town\"], [\"Fort Hays State University\", \"Plains\", \"Remote Town\"], [\"Friends University\", \"Plains\", \"Large City\"], [\"University of Kansas\", \"Plains\", \"Small City\"], [\"Newman University\", \"Plains\", \"Large City\"], [\"Kansas State University\", \"Plains\", \"Small City\"], [\"Kansas Wesleyan University\", \"Plains\", \"Remote Town\"], [\"McPherson College\", \"Plains\", \"Remote Town\"], [\"MidAmerica Nazarene University\", \"Plains\", \"Large Suburb\"], [\"Ottawa University-Ottawa\", \"Plains\", \"Distant Town\"], [\"Pittsburg State University\", \"Plains\", \"Distant Town\"], [\"University of Saint Mary\", \"Plains\", \"Fringe Town\"], [\"Southwestern College\", \"Plains\", \"Distant Town\"], [\"Sterling College\", \"Plains\", \"Distant Rural\"], [\"Tabor College\", \"Plains\", \"Remote Town\"], [\"Washburn University\", \"Plains\", \"Midsize City\"], [\"Wichita State University\", \"Plains\", \"Large City\"], [\"Alice Lloyd College\", \"Southeast\", \"Remote Rural\"], [\"Asbury University\", \"Southeast\", \"Fringe Town\"], [\"Bellarmine University\", \"Southeast\", \"Large City\"], [\"Berea College\", \"Southeast\", \"Distant Town\"], [\"Brescia University\", \"Southeast\", \"Small City\"], [\"Campbellsville University\", \"Southeast\", \"Distant Town\"], [\"Centre College\", \"Southeast\", \"Distant Town\"], [\"University of the Cumberlands\", \"Southeast\", \"Remote Town\"], [\"Eastern Kentucky University\", \"Southeast\", \"Distant Town\"], [\"Georgetown College\", \"Southeast\", \"Fringe Town\"], [\"Kentucky State University\", \"Southeast\", \"Distant Town\"], [\"Kentucky Wesleyan College\", \"Southeast\", \"Small City\"], [\"University of Kentucky\", \"Southeast\", \"Large City\"], [\"Kentucky Christian University\", \"Southeast\", \"Distant Town\"], [\"Lindsey Wilson College\", \"Southeast\", \"Remote Town\"], [\"University of Louisville\", \"Southeast\", \"Large City\"], [\"Midway University\", \"Southeast\", \"Distant Rural\"], [\"Morehead State University\", \"Southeast\", \"Remote Town\"], [\"Murray State University\", \"Southeast\", \"Remote Town\"], [\"Northern Kentucky University\", \"Southeast\", \"Large Suburb\"], [\"University of Pikeville\", \"Southeast\", \"Remote Town\"], [\"The Southern Baptist Theological Seminary\", \"Southeast\", \"Large City\"], [\"Spalding University\", \"Southeast\", \"Large City\"], [\"Thomas More University\", \"Southeast\", \"Large Suburb\"], [\"Transylvania University\", \"Southeast\", \"Large City\"], [\"Union College\", \"Southeast\", \"Remote Town\"], [\"Western Kentucky University\", \"Southeast\", \"Small City\"], [\"Centenary College of Louisiana\", \"Southeast\", \"Midsize City\"], [\"Dillard University\", \"Southeast\", \"Large City\"], [\"Grambling State University\", \"Southeast\", \"Distant Town\"], [\"Louisiana State University Health Sciences Center-New Orleans\", \"Southeast\", \"Large City\"], [\"Louisiana State University-Alexandria\", \"Southeast\", \"Fringe Rural\"], [\"Louisiana State University and Agricultural & Mechanical College\", \"Southeast\", \"Midsize City\"], [\"Louisiana State University-Shreveport\", \"Southeast\", \"Midsize City\"], [\"Louisiana College\", \"Southeast\", \"Small Suburb\"], [\"Louisiana Tech University\", \"Southeast\", \"Distant Town\"], [\"Loyola University New Orleans\", \"Southeast\", \"Large City\"], [\"McNeese State University\", \"Southeast\", \"Small City\"], [\"University of New Orleans\", \"Southeast\", \"Large City\"], [\"Nicholls State University\", \"Southeast\", \"Small City\"], [\"University of Louisiana at Monroe\", \"Southeast\", \"Small City\"], [\"Northwestern State University of Louisiana\", \"Southeast\", \"Remote Town\"], [\"University of Holy Cross\", \"Southeast\", \"Large City\"], [\"Franciscan Missionaries of Our Lady University\", \"Southeast\", \"Midsize City\"], [\"Southeastern Louisiana University\", \"Southeast\", \"Small City\"], [\"Southern University and A & M College\", \"Southeast\", \"Midsize City\"], [\"Southern University at New Orleans\", \"Southeast\", \"Large City\"], [\"University of Louisiana at Lafayette\", \"Southeast\", \"Midsize City\"], [\"Tulane University of Louisiana\", \"Southeast\", \"Large City\"], [\"Xavier University of Louisiana\", \"Southeast\", \"Large City\"], [\"Bates College\", \"New Englend\", \"Small City\"], [\"Bowdoin College\", \"New Englend\", \"Fringe Town\"], [\"Colby College\", \"New Englend\", \"Remote Town\"], [\"University of Maine at Augusta\", \"New Englend\", \"Distant Town\"], [\"University of Maine at Farmington\", \"New Englend\", \"Remote Town\"], [\"University of Maine at Fort Kent\", \"New Englend\", \"Remote Rural\"], [\"University of Maine\", \"New Englend\", \"Small Suburb\"], [\"Maine Maritime Academy\", \"New Englend\", \"Distant Rural\"], [\"University of Maine at Presque Isle\", \"New Englend\", \"Fringe Rural\"], [\"University of New England\", \"New Englend\", \"Midsize Suburb\"], [\"Saint Joseph's College of Maine\", \"New Englend\", \"Fringe Rural\"], [\"University of Southern Maine\", \"New Englend\", \"Small City\"], [\"Thomas College\", \"New Englend\", \"Fringe Rural\"], [\"Unity College\", \"New Englend\", \"Remote Rural\"], [\"University of Baltimore\", \"Mid East\", \"Large City\"], [\"Bowie State University\", \"Mid East\", \"Large Suburb\"], [\"Washington Adventist University\", \"Mid East\", \"Large Suburb\"], [\"Coppin State University\", \"Mid East\", \"Large City\"], [\"Frostburg State University\", \"Mid East\", \"Small Suburb\"], [\"Goucher College\", \"Mid East\", \"Small City\"], [\"Hood College\", \"Mid East\", \"Small City\"], [\"Johns Hopkins University\", \"Mid East\", \"Large City\"], [\"Loyola University Maryland\", \"Mid East\", \"Large City\"], [\"University of Maryland Global Campus\", \"Mid East\", \"Large Suburb\"], [\"University of Maryland Baltimore\", \"Mid East\", \"Large City\"], [\"University of Maryland-Baltimore County\", \"Mid East\", \"Large Suburb\"], [\"University of Maryland-College Park\", \"Mid East\", \"Large Suburb\"], [\"Maryland Institute College of Art\", \"Mid East\", \"Large City\"], [\"University of Maryland Eastern Shore\", \"Mid East\", \"Fringe Town\"], [\"Morgan State University\", \"Mid East\", \"Large City\"], [\"Mount St. Mary's University\", \"Mid East\", \"Fringe Town\"], [\"Notre Dame of Maryland University\", \"Mid East\", \"Large City\"], [\"Salisbury University\", \"Mid East\", \"Small Suburb\"], [\"St. Mary's College of Maryland\", \"Mid East\", \"Small Suburb\"], [\"Towson University\", \"Mid East\", \"Small City\"], [\"Stevenson University\", \"Mid East\", \"Fringe Rural\"], [\"Washington College\", \"Mid East\", \"Distant Town\"], [\"McDaniel College\", \"Mid East\", \"Small Suburb\"], [\"Hult International Business School\", \"New Englend\", \"Midsize City\"], [\"American International College\", \"New Englend\", \"Midsize City\"], [\"Amherst College\", \"New Englend\", \"Large Suburb\"], [\"Anna Maria College\", \"New Englend\", \"Fringe Rural\"], [\"Assumption University\", \"New Englend\", \"Midsize City\"], [\"Babson College\", \"New Englend\", \"Large Suburb\"], [\"Bay Path University\", \"New Englend\", \"Large Suburb\"], [\"Becker College\", \"New Englend\", \"Midsize City\"], [\"Bentley University\", \"New Englend\", \"Small City\"], [\"Berklee College of Music\", \"New Englend\", \"Large City\"], [\"Boston College\", \"New Englend\", \"Small City\"], [\"Boston University\", \"New Englend\", \"Large City\"], [\"Brandeis University\", \"New Englend\", \"Small City\"], [\"Bridgewater State University\", \"New Englend\", \"Large Suburb\"], [\"Cambridge College\", \"New Englend\", \"Large City\"], [\"Clark University\", \"New Englend\", \"Midsize City\"], [\"Curry College\", \"New Englend\", \"Large Suburb\"], [\"Dean College\", \"New Englend\", \"Large Suburb\"], [\"Eastern Nazarene College\", \"New Englend\", \"Large Suburb\"], [\"Emerson College\", \"New Englend\", \"Large City\"], [\"Emmanuel College\", \"New Englend\", \"Large City\"], [\"Endicott College\", \"New Englend\", \"Large Suburb\"], [\"Fisher College\", \"New Englend\", \"Large City\"], [\"Fitchburg State University\", \"New Englend\", \"Midsize Suburb\"], [\"Framingham State University\", \"New Englend\", \"Small City\"], [\"Gordon College\", \"New Englend\", \"Large Suburb\"], [\"Hampshire College\", \"New Englend\", \"Large Suburb\"], [\"Harvard University\", \"New Englend\", \"Midsize City\"], [\"College of the Holy Cross\", \"New Englend\", \"Midsize City\"], [\"Lasell University\", \"New Englend\", \"Small City\"], [\"Lesley University\", \"New Englend\", \"Midsize City\"], [\"University of Massachusetts-Lowell\", \"New Englend\", \"Large Suburb\"], [\"University of Massachusetts-Amherst\", \"New Englend\", \"Large Suburb\"], [\"University of Massachusetts-Boston\", \"New Englend\", \"Large City\"], [\"MCPHS University\", \"New Englend\", \"Large City\"], [\"Massachusetts College of Art and Design\", \"New Englend\", \"Large City\"], [\"Massachusetts Institute of Technology\", \"New Englend\", \"Midsize City\"], [\"Massachusetts Maritime Academy\", \"New Englend\", \"Midsize Suburb\"], [\"Merrimack College\", \"New Englend\", \"Large Suburb\"], [\"Mount Holyoke College\", \"New Englend\", \"Large Suburb\"], [\"Nichols College\", \"New Englend\", \"Large Suburb\"], [\"Massachusetts College of Liberal Arts\", \"New Englend\", \"Fringe Town\"], [\"Northeastern University\", \"New Englend\", \"Large City\"], [\"College of Our Lady of the Elms\", \"New Englend\", \"Large Suburb\"], [\"Regis College\", \"New Englend\", \"Large Suburb\"], [\"Salem State University\", \"New Englend\", \"Large Suburb\"], [\"Simmons University\", \"New Englend\", \"Large City\"], [\"Smith College\", \"New Englend\", \"Large Suburb\"], [\"Springfield College\", \"New Englend\", \"Midsize City\"], [\"University of Massachusetts-Dartmouth\", \"New Englend\", \"Midsize Suburb\"], [\"Stonehill College\", \"New Englend\", \"Large Suburb\"], [\"Suffolk University\", \"New Englend\", \"Large City\"], [\"Tufts University\", \"New Englend\", \"Large Suburb\"], [\"Wellesley College\", \"New Englend\", \"Large Suburb\"], [\"Wentworth Institute of Technology\", \"New Englend\", \"Large City\"], [\"Western New England University\", \"New Englend\", \"Midsize City\"], [\"Westfield State University\", \"New Englend\", \"Large Suburb\"], [\"Wheaton College (Massachusetts)\", \"New Englend\", \"Large Suburb\"], [\"Williams College\", \"New Englend\", \"Fringe Town\"], [\"Worcester Polytechnic Institute\", \"New Englend\", \"Midsize City\"], [\"Worcester State University\", \"New Englend\", \"Midsize City\"], [\"Adrian College\", \"Great Lakes\", \"Distant Town\"], [\"Albion College\", \"Great Lakes\", \"Fringe Town\"], [\"Alma College\", \"Great Lakes\", \"Distant Town\"], [\"Andrews University\", \"Great Lakes\", \"Fringe Town\"], [\"Aquinas College\", \"Great Lakes\", \"Midsize City\"], [\"Baker College\", \"Great Lakes\", \"Distant Town\"], [\"Calvin University\", \"Great Lakes\", \"Midsize City\"], [\"Central Michigan University\", \"Great Lakes\", \"Distant Town\"], [\"Cleary University\", \"Great Lakes\", \"Midsize Suburb\"], [\"Concordia University Ann Arbor\", \"Great Lakes\", \"Midsize City\"], [\"College for Creative Studies\", \"Great Lakes\", \"Large City\"], [\"Davenport University\", \"Great Lakes\", \"Large Suburb\"], [\"University of Detroit Mercy\", \"Great Lakes\", \"Large City\"], [\"Eastern Michigan University\", \"Great Lakes\", \"Large Suburb\"], [\"Ferris State University\", \"Great Lakes\", \"Distant Town\"], [\"Kettering University\", \"Great Lakes\", \"Small City\"], [\"Cornerstone University\", \"Great Lakes\", \"Midsize City\"], [\"Grand Valley State University\", \"Great Lakes\", \"Large Suburb\"], [\"Hope College\", \"Great Lakes\", \"Small City\"], [\"Kalamazoo College\", \"Great Lakes\", \"Small City\"], [\"Lake Superior State University\", \"Great Lakes\", \"Remote Town\"], [\"Lawrence Technological University\", \"Great Lakes\", \"Small City\"], [\"Madonna University\", \"Great Lakes\", \"Small City\"], [\"Rochester University\", \"Great Lakes\", \"Large Suburb\"], [\"University of Michigan-Ann Arbor\", \"Great Lakes\", \"Midsize City\"], [\"Michigan State University\", \"Great Lakes\", \"Small City\"], [\"Michigan Technological University\", \"Great Lakes\", \"Remote Town\"], [\"University of Michigan-Dearborn\", \"Great Lakes\", \"Small City\"], [\"University of Michigan-Flint\", \"Great Lakes\", \"Small City\"], [\"Northern Michigan University\", \"Great Lakes\", \"Remote Town\"], [\"Northwood University\", \"Great Lakes\", \"Small City\"], [\"Oakland University\", \"Great Lakes\", \"Large Suburb\"], [\"Olivet College\", \"Great Lakes\", \"Distant Rural\"], [\"Saginaw Valley State University\", \"Great Lakes\", \"Midsize Suburb\"], [\"Siena Heights University\", \"Great Lakes\", \"Distant Town\"], [\"Spring Arbor University\", \"Great Lakes\", \"Small Suburb\"], [\"Walsh College\", \"Great Lakes\", \"Small City\"], [\"Wayne State University\", \"Great Lakes\", \"Large City\"], [\"Western Michigan University\", \"Great Lakes\", \"Small City\"], [\"Augsburg University\", \"Plains\", \"Large City\"], [\"Bemidji State University\", \"Plains\", \"Remote Town\"], [\"Bethany Lutheran College\", \"Plains\", \"Small City\"], [\"Bethel University\", \"Plains\", \"Large Suburb\"], [\"Carleton College\", \"Plains\", \"Distant Town\"], [\"Concordia College at Moorhead\", \"Plains\", \"Midsize Suburb\"], [\"Concordia University-Saint Paul\", \"Plains\", \"Large City\"], [\"Martin Luther College\", \"Plains\", \"Distant Town\"], [\"Gustavus Adolphus College\", \"Plains\", \"Fringe Town\"], [\"Hamline University\", \"Plains\", \"Large City\"], [\"Macalester College\", \"Plains\", \"Large City\"], [\"Minnesota State University-Mankato\", \"Plains\", \"Small City\"], [\"Metropolitan State University\", \"Plains\", \"Large City\"], [\"University of Minnesota-Twin Cities\", \"Plains\", \"Large City\"], [\"University of Minnesota-Crookston\", \"Plains\", \"Distant Town\"], [\"Minneapolis College of Art and Design\", \"Plains\", \"Large City\"], [\"Herzing University-Minneapolis\", \"Plains\", \"Large Suburb\"], [\"University of Minnesota-Duluth\", \"Plains\", \"Small City\"], [\"University of Minnesota-Morris\", \"Plains\", \"Remote Town\"], [\"Minnesota State University Moorhead\", \"Plains\", \"Midsize Suburb\"], [\"North Central University\", \"Plains\", \"Large City\"], [\"University of Northwestern-St Paul\", \"Plains\", \"Large Suburb\"], [\"College of Saint Benedict\", \"Plains\", \"Midsize Suburb\"], [\"Saint Cloud State University\", \"Plains\", \"Small City\"], [\"Saint Johns University\", \"Plains\", \"Fringe Rural\"], [\"Saint Mary's University of Minnesota\", \"Plains\", \"Distant Town\"], [\"St Olaf College\", \"Plains\", \"Distant Town\"], [\"Crown College\", \"Plains\", \"Fringe Rural\"], [\"The College of Saint Scholastica\", \"Plains\", \"Small City\"], [\"University of St Thomas\", \"Plains\", \"Large City\"], [\"St Catherine University\", \"Plains\", \"Large City\"], [\"Southwest Minnesota State University\", \"Plains\", \"Remote Town\"], [\"Winona State University\", \"Plains\", \"Distant Town\"], [\"Alcorn State University\", \"Southeast\", \"Remote Rural\"], [\"Belhaven University\", \"Southeast\", \"Midsize City\"], [\"Blue Mountain College\", \"Southeast\", \"Distant Rural\"], [\"Delta State University\", \"Southeast\", \"Remote Town\"], [\"Jackson State University\", \"Southeast\", \"Midsize City\"], [\"Millsaps College\", \"Southeast\", \"Midsize City\"], [\"University of Mississippi\", \"Southeast\", \"Remote Town\"], [\"Mississippi University for Women\", \"Southeast\", \"Remote Town\"], [\"Mississippi Valley State University\", \"Southeast\", \"Remote Town\"], [\"Mississippi College\", \"Southeast\", \"Large Suburb\"], [\"Mississippi State University\", \"Southeast\", \"Remote Town\"], [\"Rust College\", \"Southeast\", \"Distant Town\"], [\"University of Southern Mississippi\", \"Southeast\", \"Small City\"], [\"Tougaloo College\", \"Southeast\", \"Midsize City\"], [\"William Carey University\", \"Southeast\", \"Small City\"], [\"Avila University\", \"Plains\", \"Large City\"], [\"Cox College\", \"Plains\", \"Midsize City\"], [\"Central Methodist University-College of Liberal Arts and Sciences\", \"Plains\", \"Distant Town\"], [\"University of Central Missouri\", \"Plains\", \"Distant Town\"], [\"Columbia College\", \"Plains\", \"Midsize City\"], [\"Culver-Stockton College\", \"Plains\", \"Remote Rural\"], [\"Drury University\", \"Plains\", \"Midsize City\"], [\"Evangel University\", \"Plains\", \"Midsize City\"], [\"Fontbonne University\", \"Plains\", \"Large Suburb\"], [\"Hannibal-LaGrange University\", \"Plains\", \"Remote Town\"], [\"Harris-Stowe State University\", \"Plains\", \"Large City\"], [\"Barnes-Jewish College Goldfarb School of Nursing\", \"Plains\", \"Large City\"], [\"Kansas City Art Institute\", \"Plains\", \"Large City\"], [\"Lincoln University\", \"Plains\", \"Small City\"], [\"Lindenwood University\", \"Plains\", \"Small City\"], [\"Maryville University of Saint Louis\", \"Plains\", \"Large Suburb\"], [\"Midwestern Baptist Theological Seminary\", \"Plains\", \"Large City\"], [\"Missouri Baptist University\", \"Plains\", \"Large Suburb\"], [\"Missouri Southern State University\", \"Plains\", \"Small City\"], [\"Missouri Valley College\", \"Plains\", \"Remote Town\"], [\"Missouri Western State University\", \"Plains\", \"Small City\"], [\"University of Missouri-Columbia\", \"Plains\", \"Midsize City\"], [\"University of Missouri-Kansas City\", \"Plains\", \"Large City\"], [\"Missouri University of Science and Technology\", \"Plains\", \"Remote Town\"], [\"University of Missouri-St Louis\", \"Plains\", \"Large Suburb\"], [\"Truman State University\", \"Plains\", \"Remote Town\"], [\"Northwest Missouri State University\", \"Plains\", \"Remote Town\"], [\"Ozark Christian College\", \"Plains\", \"Small City\"], [\"College of the Ozarks\", \"Plains\", \"Distant Town\"], [\"Park University\", \"Plains\", \"Large Suburb\"], [\"Rockhurst University\", \"Plains\", \"Large City\"], [\"Saint Louis University\", \"Plains\", \"Large City\"], [\"Southwest Baptist University\", \"Plains\", \"Distant Town\"], [\"Southeast Missouri State University\", \"Plains\", \"Small City\"], [\"Missouri State University-Springfield\", \"Plains\", \"Midsize City\"], [\"Washington University in St Louis\", \"Plains\", \"Large Suburb\"], [\"Webster University\", \"Plains\", \"Large Suburb\"], [\"Westminster College\", \"Plains\", \"Distant Town\"], [\"William Jewell College\", \"Plains\", \"Large Suburb\"], [\"William Woods University\", \"Plains\", \"Distant Town\"], [\"Carroll College\", \"Rocky Mountains\", \"Remote Town\"], [\"Montana State University Billings\", \"Rocky Mountains\", \"Midsize City\"], [\"University of Providence\", \"Rocky Mountains\", \"Small City\"], [\"Montana Technological University\", \"Rocky Mountains\", \"Remote Town\"], [\"Montana State University\", \"Rocky Mountains\", \"Remote Town\"], [\"The University of Montana\", \"Rocky Mountains\", \"Small City\"], [\"Montana State University-Northern\", \"Rocky Mountains\", \"Remote Town\"], [\"Rocky Mountain College\", \"Rocky Mountains\", \"Midsize City\"], [\"The University of Montana-Western\", \"Rocky Mountains\", \"Remote Town\"], [\"Bellevue University\", \"Plains\", \"Large Suburb\"], [\"Clarkson College\", \"Plains\", \"Large City\"], [\"Bryan College of Health Sciences\", \"Plains\", \"Large City\"], [\"Chadron State College\", \"Plains\", \"Remote Town\"], [\"Concordia University-Nebraska\", \"Plains\", \"Distant Town\"], [\"Creighton University\", \"Plains\", \"Large City\"], [\"Doane University\", \"Plains\", \"Distant Town\"], [\"Hastings College\", \"Plains\", \"Distant Town\"], [\"University of Nebraska at Kearney\", \"Plains\", \"Distant Town\"], [\"Nebraska Methodist College of Nursing & Allied Health\", \"Plains\", \"Large City\"], [\"Midland University\", \"Plains\", \"Distant Town\"], [\"University of Nebraska at Omaha\", \"Plains\", \"Large City\"], [\"University of Nebraska Medical Center\", \"Plains\", \"Large City\"], [\"Nebraska Wesleyan University\", \"Plains\", \"Large City\"], [\"University of Nebraska-Lincoln\", \"Plains\", \"Large City\"], [\"Peru State College\", \"Plains\", \"Distant Rural\"], [\"College of Saint Mary\", \"Plains\", \"Large City\"], [\"Union College\", \"Plains\", \"Large City\"], [\"Wayne State College\", \"Plains\", \"Distant Town\"], [\"University of Nevada-Las Vegas\", \"Far West\", \"Midsize City\"], [\"University of Nevada-Reno\", \"Far West\", \"Large City\"], [\"Colby-Sawyer College\", \"New Englend\", \"Distant Rural\"], [\"Dartmouth College\", \"New Englend\", \"Remote Town\"], [\"Franklin Pierce University\", \"New Englend\", \"Fringe Rural\"], [\"New England College\", \"New Englend\", \"Distant Rural\"], [\"Southern New Hampshire University\", \"New Englend\", \"Midsize Suburb\"], [\"University of New Hampshire-Main Campus\", \"New Englend\", \"Small Suburb\"], [\"Keene State College\", \"New Englend\", \"Distant Town\"], [\"University of New Hampshire at Manchester\", \"New Englend\", \"Midsize City\"], [\"Plymouth State University\", \"New Englend\", \"Remote Town\"], [\"Rivier University\", \"New Englend\", \"Small City\"], [\"Saint Anselm College\", \"New Englend\", \"Midsize Suburb\"], [\"Granite State College\", \"New Englend\", \"Fringe Town\"], [\"Beth Medrash Govoha\", \"Mid East\", \"Small City\"], [\"Bloomfield College\", \"Mid East\", \"Large Suburb\"], [\"Caldwell University\", \"Mid East\", \"Large Suburb\"], [\"Centenary University\", \"Mid East\", \"Large Suburb\"], [\"Drew University\", \"Mid East\", \"Large Suburb\"], [\"Fairleigh Dickinson University-Metropolitan Campus\", \"Mid East\", \"Large Suburb\"], [\"Felician University\", \"Mid East\", \"Large Suburb\"], [\"Fairleigh Dickinson University-Florham Campus\", \"Mid East\", \"Large Suburb\"], [\"Georgian Court University\", \"Mid East\", \"Small City\"], [\"Rowan University\", \"Mid East\", \"Large Suburb\"], [\"New Jersey City University\", \"Mid East\", \"Large City\"], [\"Kean University\", \"Mid East\", \"Large Suburb\"], [\"Monmouth University\", \"Mid East\", \"Large Suburb\"], [\"Montclair State University\", \"Mid East\", \"Large Suburb\"], [\"New Jersey Institute of Technology\", \"Mid East\", \"Large City\"], [\"Princeton University\", \"Mid East\", \"Small City\"], [\"Ramapo College of New Jersey\", \"Mid East\", \"Large Suburb\"], [\"Rider University\", \"Mid East\", \"Large Suburb\"], [\"Rutgers University-Camden\", \"Mid East\", \"Small City\"], [\"Rutgers University-New Brunswick\", \"Mid East\", \"Small City\"], [\"Rutgers University-Newark\", \"Mid East\", \"Large City\"], [\"Saint Peter's University\", \"Mid East\", \"Large City\"], [\"Seton Hall University\", \"Mid East\", \"Large Suburb\"], [\"Saint Elizabeth University\", \"Mid East\", \"Large Suburb\"], [\"Stevens Institute of Technology\", \"Mid East\", \"Large Suburb\"], [\"Stockton University\", \"Mid East\", \"Midsize Suburb\"], [\"Thomas Edison State University\", \"Mid East\", \"Small City\"], [\"The College of New Jersey\", \"Mid East\", \"Large Suburb\"], [\"William Paterson University of New Jersey\", \"Mid East\", \"Large Suburb\"], [\"Eastern New Mexico University-Main Campus\", \"Southwest\", \"Remote Town\"], [\"New Mexico Highlands University\", \"Southwest\", \"Remote Town\"], [\"New Mexico Institute of Mining and Technology\", \"Southwest\", \"Remote Town\"], [\"University of New Mexico-Main Campus\", \"Southwest\", \"Large City\"], [\"New Mexico State University-Main Campus\", \"Southwest\", \"Midsize Suburb\"], [\"Western New Mexico University\", \"Southwest\", \"Remote Town\"], [\"Vaughn College of Aeronautics and Technology\", \"Mid East\", \"Large City\"], [\"Adelphi University\", \"Mid East\", \"Large Suburb\"], [\"Albany College of Pharmacy and Health Sciences\", \"Mid East\", \"Small City\"], [\"Alfred University\", \"Mid East\", \"Remote Town\"], [\"Bard College\", \"Mid East\", \"Fringe Town\"], [\"Barnard College\", \"Mid East\", \"Large City\"], [\"Boricua College\", \"Mid East\", \"Large City\"], [\"Canisius College\", \"Mid East\", \"Large City\"], [\"Cazenovia College\", \"Mid East\", \"Fringe Town\"], [\"Central Yeshiva Tomchei Tmimim Lubavitz\", \"Mid East\", \"Large City\"], [\"Clarkson University\", \"Mid East\", \"Remote Town\"], [\"Colgate University\", \"Mid East\", \"Distant Town\"], [\"Metropolitan College of New York\", \"Mid East\", \"Large City\"], [\"Columbia University in the City of New York\", \"Mid East\", \"Large City\"], [\"Concordia College\", \"Mid East\", \"Large Suburb\"], [\"Cooper Union for the Advancement of Science and Art\", \"Mid East\", \"Large City\"], [\"Cornell University\", \"Mid East\", \"Small City\"], [\"CUNY Bernard M Baruch College\", \"Mid East\", \"Large City\"], [\"CUNY Brooklyn College\", \"Mid East\", \"Large City\"], [\"College of Staten Island CUNY\", \"Mid East\", \"Large City\"], [\"CUNY City College\", \"Mid East\", \"Large City\"], [\"CUNY Graduate School and University Center\", \"Mid East\", \"Large City\"], [\"CUNY Hunter College\", \"Mid East\", \"Large City\"], [\"CUNY John Jay College of Criminal Justice\", \"Mid East\", \"Large City\"], [\"CUNY Lehman College\", \"Mid East\", \"Large City\"], [\"CUNY Medgar Evers College\", \"Mid East\", \"Large City\"], [\"CUNY New York City College of Technology\", \"Mid East\", \"Large City\"], [\"CUNY Queens College\", \"Mid East\", \"Large City\"], [\"CUNY York College\", \"Mid East\", \"Large City\"], [\"D'Youville College\", \"Mid East\", \"Large City\"], [\"Daemen College\", \"Mid East\", \"Large Suburb\"], [\"Dominican College of Blauvelt\", \"Mid East\", \"Large Suburb\"], [\"Elmira College\", \"Mid East\", \"Small City\"], [\"Fordham University\", \"Mid East\", \"Large City\"], [\"Hamilton College\", \"Mid East\", \"Midsize Suburb\"], [\"Hartwick College\", \"Mid East\", \"Remote Town\"], [\"Hilbert College\", \"Mid East\", \"Large Suburb\"], [\"Hobart William Smith Colleges\", \"Mid East\", \"Distant Town\"], [\"Hofstra University\", \"Mid East\", \"Large Suburb\"], [\"Houghton College\", \"Mid East\", \"Remote Rural\"], [\"Iona College\", \"Mid East\", \"Large Suburb\"], [\"Ithaca College\", \"Mid East\", \"Small Suburb\"], [\"Keuka College\", \"Mid East\", \"Distant Town\"], [\"Le Moyne College\", \"Mid East\", \"Large Suburb\"], [\"Long Island University\", \"Mid East\", \"Large Suburb\"], [\"Manhattan College\", \"Mid East\", \"Large City\"], [\"Manhattanville College\", \"Mid East\", \"Large Suburb\"], [\"Marist College\", \"Mid East\", \"Large Suburb\"], [\"Marymount Manhattan College\", \"Mid East\", \"Large City\"], [\"Medaille College\", \"Mid East\", \"Large City\"], [\"Mercy College\", \"Mid East\", \"Large Suburb\"], [\"Molloy College\", \"Mid East\", \"Large Suburb\"], [\"Mount Saint Mary College\", \"Mid East\", \"Small City\"], [\"College of Mount Saint Vincent\", \"Mid East\", \"Large City\"], [\"Nazareth College\", \"Mid East\", \"Large Suburb\"], [\"The New School\", \"Mid East\", \"Large City\"], [\"New York University\", \"Mid East\", \"Large City\"], [\"Niagara University\", \"Mid East\", \"Large Suburb\"], [\"New York Institute of Technology\", \"Mid East\", \"Large Suburb\"], [\"Nyack College\", \"Mid East\", \"Large City\"], [\"Pace University\", \"Mid East\", \"Large City\"], [\"Paul Smiths College of Arts and Science\", \"Mid East\", \"Distant Rural\"], [\"Pratt Institute-Main\", \"Mid East\", \"Large City\"], [\"Rensselaer Polytechnic Institute\", \"Mid East\", \"Small City\"], [\"Roberts Wesleyan College\", \"Mid East\", \"Large Suburb\"], [\"Rochester Institute of Technology\", \"Mid East\", \"Large Suburb\"], [\"University of Rochester\", \"Mid East\", \"Midsize City\"], [\"Russell Sage College\", \"Mid East\", \"Small City\"], [\"St Bonaventure University\", \"Mid East\", \"Remote Town\"], [\"St Francis College\", \"Mid East\", \"Large City\"], [\"St Lawrence University\", \"Mid East\", \"Remote Town\"], [\"The College of Saint Rose\", \"Mid East\", \"Small City\"], [\"St. Thomas Aquinas College\", \"Mid East\", \"Large Suburb\"], [\"Sarah Lawrence College\", \"Mid East\", \"Large Suburb\"], [\"Siena College\", \"Mid East\", \"Large Suburb\"], [\"Skidmore College\", \"Mid East\", \"Small Suburb\"], [\"St. Joseph's College-New York\", \"Mid East\", \"Large City\"], [\"Saint John Fisher College\", \"Mid East\", \"Large Suburb\"], [\"St. John's University-New York\", \"Mid East\", \"Large City\"], [\"SUNY College of Technology at Canton\", \"Mid East\", \"Remote Town\"], [\"SUNY College of Agriculture and Technology at Cobleskill\", \"Mid East\", \"Distant Town\"], [\"Farmingdale State College\", \"Mid East\", \"Large Suburb\"], [\"SUNY at Albany\", \"Mid East\", \"Small City\"], [\"Binghamton University\", \"Mid East\", \"Midsize Suburb\"], [\"University at Buffalo\", \"Mid East\", \"Large Suburb\"], [\"Stony Brook University\", \"Mid East\", \"Large Suburb\"], [\"SUNY College of Environmental Science and Forestry\", \"Mid East\", \"Midsize City\"], [\"SUNY Polytechnic Institute\", \"Mid East\", \"Midsize Suburb\"], [\"SUNY Brockport\", \"Mid East\", \"Fringe Town\"], [\"SUNY Buffalo State\", \"Mid East\", \"Large City\"], [\"SUNY Cortland\", \"Mid East\", \"Distant Town\"], [\"SUNY at Fredonia\", \"Mid East\", \"Distant Town\"], [\"SUNY College at Geneseo\", \"Mid East\", \"Distant Town\"], [\"State University of New York at New Paltz\", \"Mid East\", \"Large Suburb\"], [\"SUNY Oneonta\", \"Mid East\", \"Remote Town\"], [\"SUNY College at Oswego\", \"Mid East\", \"Distant Town\"], [\"SUNY College at Potsdam\", \"Mid East\", \"Remote Town\"], [\"SUNY at Purchase College\", \"Mid East\", \"Large Suburb\"], [\"SUNY College at Old Westbury\", \"Mid East\", \"Large Suburb\"], [\"SUNY College at Plattsburgh\", \"Mid East\", \"Distant Town\"], [\"SUNY Empire State College\", \"Mid East\", \"Small Suburb\"], [\"SUNY Maritime College\", \"Mid East\", \"Large City\"], [\"Syracuse University\", \"Mid East\", \"Midsize City\"], [\"Touro College\", \"Mid East\", \"Large City\"], [\"Excelsior College\", \"Mid East\", \"Small City\"], [\"Union College\", \"Mid East\", \"Small City\"], [\"United Talmudical Seminary\", \"Mid East\", \"Large City\"], [\"United States Merchant Marine Academy\", \"U.S. Service Schools\", \"Large Suburb\"], [\"Utica College\", \"Mid East\", \"Small City\"], [\"Vassar College\", \"Mid East\", \"Large Suburb\"], [\"Villa Maria College\", \"Mid East\", \"Small City\"], [\"Wagner College\", \"Mid East\", \"Large City\"], [\"Yeshiva University\", \"Mid East\", \"Large City\"], [\"Yeshivath Viznitz\", \"Mid East\", \"Large Suburb\"], [\"Appalachian State University\", \"Southeast\", \"Distant Town\"], [\"Barton College\", \"Southeast\", \"Fringe Town\"], [\"Belmont Abbey College\", \"Southeast\", \"Midsize Suburb\"], [\"Brevard College\", \"Southeast\", \"Fringe Town\"], [\"Campbell University\", \"Southeast\", \"Fringe Town\"], [\"Catawba College\", \"Southeast\", \"Midsize Suburb\"], [\"Chowan University\", \"Southeast\", \"Distant Town\"], [\"Davidson College\", \"Southeast\", \"Large Suburb\"], [\"Duke University\", \"Southeast\", \"Large City\"], [\"East Carolina University\", \"Southeast\", \"Small City\"], [\"Elizabeth City State University\", \"Southeast\", \"Distant Town\"], [\"Elon University\", \"Southeast\", \"Midsize Suburb\"], [\"Fayetteville State University\", \"Southeast\", \"Midsize City\"], [\"Gardner-Webb University\", \"Southeast\", \"Distant Town\"], [\"Greensboro College\", \"Southeast\", \"Large City\"], [\"Guilford College\", \"Southeast\", \"Large City\"], [\"High Point University\", \"Southeast\", \"Midsize City\"], [\"Johnson C Smith University\", \"Southeast\", \"Large City\"], [\"Lees-McRae College\", \"Southeast\", \"Distant Rural\"], [\"Lenoir-Rhyne University\", \"Southeast\", \"Small City\"], [\"Livingstone College\", \"Southeast\", \"Midsize Suburb\"], [\"Mars Hill University\", \"Southeast\", \"Large Suburb\"], [\"Meredith College\", \"Southeast\", \"Large City\"], [\"Methodist University\", \"Southeast\", \"Midsize City\"], [\"Montreat College\", \"Southeast\", \"Large Suburb\"], [\"University of Mount Olive\", \"Southeast\", \"Fringe Town\"], [\"North Carolina A & T State University\", \"Southeast\", \"Large City\"], [\"University of North Carolina at Asheville\", \"Southeast\", \"Small City\"], [\"University of North Carolina at Chapel Hill\", \"Southeast\", \"Small City\"], [\"University of North Carolina at Charlotte\", \"Southeast\", \"Large City\"], [\"University of North Carolina at Greensboro\", \"Southeast\", \"Large City\"], [\"North Carolina Central University\", \"Southeast\", \"Large City\"], [\"University of North Carolina School of the Arts\", \"Southeast\", \"Midsize City\"], [\"North Carolina State University at Raleigh\", \"Southeast\", \"Large City\"], [\"North Carolina Wesleyan College\", \"Southeast\", \"Small City\"], [\"University of North Carolina Wilmington\", \"Southeast\", \"Midsize City\"], [\"William Peace University\", \"Southeast\", \"Large City\"], [\"University of North Carolina at Pembroke\", \"Southeast\", \"Distant Town\"], [\"Pfeiffer University\", \"Southeast\", \"Distant Rural\"], [\"Queens University of Charlotte\", \"Southeast\", \"Large City\"], [\"Saint Augustine's University\", \"Southeast\", \"Large City\"], [\"Shaw University\", \"Southeast\", \"Large City\"], [\"St. Andrews University\", \"Southeast\", \"Distant Town\"], [\"Southeastern Baptist Theological Seminary\", \"Southeast\", \"Large Suburb\"], [\"Wake Forest University\", \"Southeast\", \"Midsize City\"], [\"Warren Wilson College\", \"Southeast\", \"Large Suburb\"], [\"Wingate University\", \"Southeast\", \"Large Suburb\"], [\"Winston-Salem State University\", \"Southeast\", \"Midsize City\"], [\"Western Carolina University\", \"Southeast\", \"Distant Town\"], [\"Dickinson State University\", \"Plains\", \"Remote Town\"], [\"University of Jamestown\", \"Plains\", \"Remote Town\"], [\"University of Mary\", \"Plains\", \"Fringe Rural\"], [\"Mayville State University\", \"Plains\", \"Remote Rural\"], [\"Minot State University\", \"Plains\", \"Remote Town\"], [\"University of North Dakota\", \"Plains\", \"Small City\"], [\"North Dakota State University-Main Campus\", \"Plains\", \"Midsize City\"], [\"Valley City State University\", \"Plains\", \"Remote Town\"], [\"University of Akron Main Campus\", \"Great Lakes\", \"Midsize City\"], [\"Ashland University\", \"Great Lakes\", \"Fringe Town\"], [\"Baldwin Wallace University\", \"Great Lakes\", \"Large Suburb\"], [\"Bluffton University\", \"Great Lakes\", \"Distant Town\"], [\"Bowling Green State University-Main Campus\", \"Great Lakes\", \"Fringe Town\"], [\"Capital University\", \"Great Lakes\", \"Large Suburb\"], [\"Case Western Reserve University\", \"Great Lakes\", \"Large City\"], [\"Cedarville University\", \"Great Lakes\", \"Fringe Town\"], [\"Central State University\", \"Great Lakes\", \"Fringe Rural\"], [\"The Christ College of Nursing and Health Sciences\", \"Great Lakes\", \"Large City\"], [\"University of Cincinnati-Main Campus\", \"Great Lakes\", \"Large City\"], [\"Ohio Christian University\", \"Great Lakes\", \"Distant Town\"], [\"Cleveland Institute of Art\", \"Great Lakes\", \"Large City\"], [\"Cleveland State University\", \"Great Lakes\", \"Large City\"], [\"Columbus College of Art and Design\", \"Great Lakes\", \"Large City\"], [\"University of Dayton\", \"Great Lakes\", \"Midsize City\"], [\"Defiance College\", \"Great Lakes\", \"Distant Town\"], [\"Denison University\", \"Great Lakes\", \"Small Suburb\"], [\"The University of Findlay\", \"Great Lakes\", \"Distant Town\"], [\"Franklin University\", \"Great Lakes\", \"Large City\"], [\"Heidelberg University\", \"Great Lakes\", \"Distant Town\"], [\"Hiram College\", \"Great Lakes\", \"Fringe Town\"], [\"John Carroll University\", \"Great Lakes\", \"Large Suburb\"], [\"Kent State University at Kent\", \"Great Lakes\", \"Large Suburb\"], [\"Kenyon College\", \"Great Lakes\", \"Distant Town\"], [\"Kettering College\", \"Great Lakes\", \"Small City\"], [\"Lake Erie College\", \"Great Lakes\", \"Large Suburb\"], [\"Lourdes University\", \"Great Lakes\", \"Large Suburb\"], [\"Malone University\", \"Great Lakes\", \"Small City\"], [\"Marietta College\", \"Great Lakes\", \"Fringe Town\"], [\"Mercy College of Ohio\", \"Great Lakes\", \"Large City\"], [\"Miami University-Hamilton\", \"Great Lakes\", \"Large Suburb\"], [\"Miami University-Middletown\", \"Great Lakes\", \"Small Suburb\"], [\"Miami University-Oxford\", \"Great Lakes\", \"Fringe Town\"], [\"Mount Carmel College of Nursing\", \"Great Lakes\", \"Large City\"], [\"University of Mount Union\", \"Great Lakes\", \"Fringe Town\"], [\"Mount Vernon Nazarene University\", \"Great Lakes\", \"Distant Town\"], [\"Mount Saint Joseph University\", \"Great Lakes\", \"Large Suburb\"], [\"Muskingum University\", \"Great Lakes\", \"Distant Town\"], [\"Notre Dame College\", \"Great Lakes\", \"Large Suburb\"], [\"Oberlin College\", \"Great Lakes\", \"Fringe Town\"], [\"Ohio Dominican University\", \"Great Lakes\", \"Large City\"], [\"Ohio Northern University\", \"Great Lakes\", \"Fringe Town\"], [\"Ohio State University-Lima Campus\", \"Great Lakes\", \"Fringe Rural\"], [\"Ohio State University-Main Campus\", \"Great Lakes\", \"Large City\"], [\"Ohio University-Main Campus\", \"Great Lakes\", \"Distant Town\"], [\"Ohio Wesleyan University\", \"Great Lakes\", \"Large Suburb\"], [\"Otterbein University\", \"Great Lakes\", \"Large Suburb\"], [\"Shawnee State University\", \"Great Lakes\", \"Fringe Town\"], [\"Franciscan University of Steubenville\", \"Great Lakes\", \"Small City\"], [\"Tiffin University\", \"Great Lakes\", \"Distant Town\"], [\"University of Toledo\", \"Great Lakes\", \"Large City\"], [\"Union Institute & University\", \"Great Lakes\", \"Large City\"], [\"Ursuline College\", \"Great Lakes\", \"Large Suburb\"], [\"Walsh University\", \"Great Lakes\", \"Large Suburb\"], [\"Wilmington College\", \"Great Lakes\", \"Distant Town\"], [\"Wittenberg University\", \"Great Lakes\", \"Small City\"], [\"The College of Wooster\", \"Great Lakes\", \"Distant Town\"], [\"Wright State University-Main Campus\", \"Great Lakes\", \"Large Suburb\"], [\"Wright State University-Lake Campus\", \"Great Lakes\", \"Fringe Rural\"], [\"Xavier University\", \"Great Lakes\", \"Large City\"], [\"Youngstown State University\", \"Great Lakes\", \"Small City\"], [\"Oklahoma Wesleyan University\", \"Southwest\", \"Distant Town\"], [\"Southern Nazarene University\", \"Southwest\", \"Large Suburb\"], [\"Cameron University\", \"Southwest\", \"Small City\"], [\"University of Central Oklahoma\", \"Southwest\", \"Large Suburb\"], [\"East Central University\", \"Southwest\", \"Remote Town\"], [\"Langston University\", \"Southwest\", \"Distant Rural\"], [\"Northeastern State University\", \"Southwest\", \"Remote Town\"], [\"Northwestern Oklahoma State University\", \"Southwest\", \"Remote Town\"], [\"Oklahoma Christian University\", \"Southwest\", \"Large City\"], [\"University of Oklahoma-Health Sciences Center\", \"Southwest\", \"Large City\"], [\"Oklahoma Panhandle State University\", \"Southwest\", \"Distant Rural\"], [\"Oklahoma State University-Main Campus\", \"Southwest\", \"Distant Town\"], [\"Oklahoma Baptist University\", \"Southwest\", \"Distant Town\"], [\"Oklahoma City University\", \"Southwest\", \"Large City\"], [\"University of Oklahoma-Norman Campus\", \"Southwest\", \"Midsize Suburb\"], [\"Oral Roberts University\", \"Southwest\", \"Large City\"], [\"Rogers State University\", \"Southwest\", \"Fringe Town\"], [\"University of Science and Arts of Oklahoma\", \"Southwest\", \"Distant Town\"], [\"Southeastern Oklahoma State University\", \"Southwest\", \"Distant Town\"], [\"Southwestern Oklahoma State University\", \"Southwest\", \"Remote Town\"], [\"University of Tulsa\", \"Southwest\", \"Large City\"], [\"Eastern Oregon University\", \"Far West\", \"Remote Town\"], [\"George Fox University\", \"Far West\", \"Fringe Town\"], [\"Lewis & Clark College\", \"Far West\", \"Large City\"], [\"Linfield University-McMinnville Campus\", \"Far West\", \"Distant Town\"], [\"Bushnell University\", \"Far West\", \"Midsize City\"], [\"Oregon Health & Science University\", \"Far West\", \"Large City\"], [\"Oregon Institute of Technology\", \"Far West\", \"Remote Town\"], [\"Oregon State University\", \"Far West\", \"Small City\"], [\"University of Oregon\", \"Far West\", \"Midsize City\"], [\"Pacific University\", \"Far West\", \"Large Suburb\"], [\"Portland State University\", \"Far West\", \"Large City\"], [\"University of Portland\", \"Far West\", \"Large City\"], [\"Reed College\", \"Far West\", \"Large City\"], [\"Southern Oregon University\", \"Far West\", \"Midsize Suburb\"], [\"Corban University\", \"Far West\", \"Midsize City\"], [\"Willamette University\", \"Far West\", \"Midsize City\"], [\"Western Oregon University\", \"Far West\", \"Fringe Town\"], [\"Albright College\", \"Mid East\", \"Small City\"], [\"Allegheny College\", \"Mid East\", \"Distant Town\"], [\"DeSales University\", \"Mid East\", \"Fringe Rural\"], [\"Alvernia University\", \"Mid East\", \"Small City\"], [\"Arcadia University\", \"Mid East\", \"Large Suburb\"], [\"Bloomsburg University of Pennsylvania\", \"Mid East\", \"Small City\"], [\"Bryn Mawr College\", \"Mid East\", \"Large Suburb\"], [\"Bucknell University\", \"Mid East\", \"Distant Town\"], [\"Cabrini University\", \"Mid East\", \"Large Suburb\"], [\"California University of Pennsylvania\", \"Mid East\", \"Small Suburb\"], [\"Carlow University\", \"Mid East\", \"Large City\"], [\"Carnegie Mellon University\", \"Mid East\", \"Large City\"], [\"Cedar Crest College\", \"Mid East\", \"Midsize City\"], [\"Chatham University\", \"Mid East\", \"Large City\"], [\"Chestnut Hill College\", \"Mid East\", \"Large City\"], [\"Cheyney University of Pennsylvania\", \"Mid East\", \"Large Suburb\"], [\"Clarion University of Pennsylvania\", \"Mid East\", \"Remote Town\"], [\"Delaware Valley University\", \"Mid East\", \"Large Suburb\"], [\"Dickinson College\", \"Mid East\", \"Small City\"], [\"Drexel University\", \"Mid East\", \"Large City\"], [\"Duquesne University\", \"Mid East\", \"Large City\"], [\"East Stroudsburg University of Pennsylvania\", \"Mid East\", \"Small City\"], [\"Eastern University\", \"Mid East\", \"Large Suburb\"], [\"Edinboro University of Pennsylvania\", \"Mid East\", \"Fringe Town\"], [\"Elizabethtown College\", \"Mid East\", \"Large Suburb\"], [\"Franklin and Marshall College\", \"Mid East\", \"Small City\"], [\"Gannon University\", \"Mid East\", \"Small City\"], [\"Geneva College\", \"Mid East\", \"Large Suburb\"], [\"Gettysburg College\", \"Mid East\", \"Small City\"], [\"Gwynedd Mercy University\", \"Mid East\", \"Large Suburb\"], [\"Haverford College\", \"Mid East\", \"Large Suburb\"], [\"Holy Family University\", \"Mid East\", \"Large City\"], [\"Immaculata University\", \"Mid East\", \"Large Suburb\"], [\"Indiana University of Pennsylvania-Main Campus\", \"Mid East\", \"Distant Town\"], [\"Juniata College\", \"Mid East\", \"Distant Town\"], [\"Keystone College\", \"Mid East\", \"Large Suburb\"], [\"King's College\", \"Mid East\", \"Small City\"], [\"Kutztown University of Pennsylvania\", \"Mid East\", \"Fringe Town\"], [\"La Roche University\", \"Mid East\", \"Large Suburb\"], [\"La Salle University\", \"Mid East\", \"Large City\"], [\"Lafayette College\", \"Mid East\", \"Large Suburb\"], [\"Lancaster Bible College\", \"Mid East\", \"Large Suburb\"], [\"Lebanon Valley College\", \"Mid East\", \"Small Suburb\"], [\"Lehigh University\", \"Mid East\", \"Small City\"], [\"Lincoln University\", \"Mid East\", \"Large Suburb\"], [\"Lock Haven University\", \"Mid East\", \"Distant Town\"], [\"Lycoming College\", \"Mid East\", \"Small City\"], [\"Mansfield University of Pennsylvania\", \"Mid East\", \"Distant Town\"], [\"Marywood University\", \"Mid East\", \"Small City\"], [\"Mercyhurst University\", \"Mid East\", \"Small City\"], [\"Messiah University\", \"Mid East\", \"Large Suburb\"], [\"Millersville University of Pennsylvania\", \"Mid East\", \"Large Suburb\"], [\"Misericordia University\", \"Mid East\", \"Large Suburb\"], [\"Moravian University\", \"Mid East\", \"Small City\"], [\"Mount Aloysius College\", \"Mid East\", \"Fringe Town\"], [\"Muhlenberg College\", \"Mid East\", \"Midsize City\"], [\"Neumann University\", \"Mid East\", \"Large Suburb\"], [\"Peirce College\", \"Mid East\", \"Large City\"], [\"University of Pennsylvania\", \"Mid East\", \"Large City\"], [\"The University of the Arts\", \"Mid East\", \"Large City\"], [\"Cairn University-Langhorne\", \"Mid East\", \"Large Suburb\"], [\"University of the Sciences\", \"Mid East\", \"Large City\"], [\"University of Pittsburgh-Bradford\", \"Mid East\", \"Remote Town\"], [\"University of Pittsburgh-Greensburg\", \"Mid East\", \"Large Suburb\"], [\"University of Pittsburgh-Johnstown\", \"Mid East\", \"Small Suburb\"], [\"University of Pittsburgh-Pittsburgh Campus\", \"Mid East\", \"Large City\"], [\"Point Park University\", \"Mid East\", \"Large City\"], [\"Robert Morris University\", \"Mid East\", \"Large Suburb\"], [\"Saint Francis University\", \"Mid East\", \"Fringe Town\"], [\"Saint Joseph's University\", \"Mid East\", \"Large City\"], [\"Saint Vincent College\", \"Mid East\", \"Large Suburb\"], [\"University of Scranton\", \"Mid East\", \"Small City\"], [\"Seton Hill University\", \"Mid East\", \"Large Suburb\"], [\"Shippensburg University of Pennsylvania\", \"Mid East\", \"Fringe Town\"], [\"Slippery Rock University of Pennsylvania\", \"Mid East\", \"Distant Town\"], [\"Susquehanna University\", \"Mid East\", \"Distant Town\"], [\"Swarthmore College\", \"Mid East\", \"Large Suburb\"], [\"Temple University\", \"Mid East\", \"Large City\"], [\"Thiel College\", \"Mid East\", \"Fringe Town\"], [\"Thomas Jefferson University\", \"Mid East\", \"Large City\"], [\"Ursinus College\", \"Mid East\", \"Large Suburb\"], [\"Villanova University\", \"Mid East\", \"Large Suburb\"], [\"Washington & Jefferson College\", \"Mid East\", \"Large Suburb\"], [\"Waynesburg University\", \"Mid East\", \"Distant Town\"], [\"West Chester University of Pennsylvania\", \"Mid East\", \"Large Suburb\"], [\"Westminster College\", \"Mid East\", \"Fringe Town\"], [\"Widener University\", \"Mid East\", \"Large Suburb\"], [\"Wilkes University\", \"Mid East\", \"Small City\"], [\"Wilson College\", \"Mid East\", \"Small City\"], [\"York College of Pennsylvania\", \"Mid East\", \"Midsize Suburb\"], [\"Brown University\", \"New Englend\", \"Midsize City\"], [\"Bryant University\", \"New Englend\", \"Large Suburb\"], [\"Johnson & Wales University-Providence\", \"New Englend\", \"Midsize City\"], [\"Providence College\", \"New Englend\", \"Midsize City\"], [\"Rhode Island College\", \"New Englend\", \"Large Suburb\"], [\"University of Rhode Island\", \"New Englend\", \"Large Suburb\"], [\"Rhode Island School of Design\", \"New Englend\", \"Midsize City\"], [\"Roger Williams University\", \"New Englend\", \"Large Suburb\"], [\"Salve Regina University\", \"New Englend\", \"Large Suburb\"], [\"Allen University\", \"Southeast\", \"Midsize City\"], [\"Anderson University\", \"Southeast\", \"Small City\"], [\"Charleston Southern University\", \"Southeast\", \"Midsize City\"], [\"Benedict College\", \"Southeast\", \"Midsize City\"], [\"Bob Jones University\", \"Southeast\", \"Small City\"], [\"Southern Wesleyan University\", \"Southeast\", \"Large Suburb\"], [\"College of Charleston\", \"Southeast\", \"Midsize City\"], [\"Citadel Military College of South Carolina\", \"Southeast\", \"Midsize City\"], [\"Claflin University\", \"Southeast\", \"Distant Town\"], [\"Clemson University\", \"Southeast\", \"Large Suburb\"], [\"Coker University\", \"Southeast\", \"Distant Town\"], [\"Columbia International University\", \"Southeast\", \"Midsize City\"], [\"Columbia College\", \"Southeast\", \"Midsize City\"], [\"Converse University\", \"Southeast\", \"Small City\"], [\"Erskine College\", \"Southeast\", \"Distant Rural\"], [\"Francis Marion University\", \"Southeast\", \"Small Suburb\"], [\"Furman University\", \"Southeast\", \"Large Suburb\"], [\"Lander University\", \"Southeast\", \"Distant Town\"], [\"Limestone University\", \"Southeast\", \"Fringe Town\"], [\"Newberry College\", \"Southeast\", \"Distant Town\"], [\"North Greenville University\", \"Southeast\", \"Fringe Rural\"], [\"Presbyterian College\", \"Southeast\", \"Distant Town\"], [\"University of South Carolina Aiken\", \"Southeast\", \"Large Suburb\"], [\"University of South Carolina Beaufort\", \"Southeast\", \"Fringe Town\"], [\"University of South Carolina-Columbia\", \"Southeast\", \"Midsize City\"], [\"Coastal Carolina University\", \"Southeast\", \"Small City\"], [\"South Carolina State University\", \"Southeast\", \"Distant Town\"], [\"University of South Carolina-Upstate\", \"Southeast\", \"Midsize Suburb\"], [\"Winthrop University\", \"Southeast\", \"Small City\"], [\"Wofford College\", \"Southeast\", \"Small City\"], [\"Augustana University\", \"Plains\", \"Midsize City\"], [\"Black Hills State University\", \"Plains\", \"Distant Town\"], [\"Dakota State University\", \"Plains\", \"Distant Town\"], [\"Dakota Wesleyan University\", \"Plains\", \"Remote Town\"], [\"Mount Marty University\", \"Plains\", \"Remote Town\"], [\"Northern State University\", \"Plains\", \"Remote Town\"], [\"Presentation College\", \"Plains\", \"Remote Town\"], [\"South Dakota School of Mines and Technology\", \"Plains\", \"Small City\"], [\"South Dakota State University\", \"Plains\", \"Remote Town\"], [\"University of Sioux Falls\", \"Plains\", \"Midsize City\"], [\"University of South Dakota\", \"Plains\", \"Distant Town\"], [\"Austin Peay State University\", \"Southeast\", \"Midsize City\"], [\"Baptist Health Sciences University\", \"Southeast\", \"Large City\"], [\"Belmont University\", \"Southeast\", \"Large City\"], [\"Bethel University\", \"Southeast\", \"Distant Town\"], [\"Bryan College-Dayton\", \"Southeast\", \"Distant Town\"], [\"Carson-Newman University\", \"Southeast\", \"Small Suburb\"], [\"Christian Brothers University\", \"Southeast\", \"Large City\"], [\"Cumberland University\", \"Southeast\", \"Fringe Town\"], [\"Lipscomb University\", \"Southeast\", \"Large City\"], [\"East Tennessee State University\", \"Southeast\", \"Small City\"], [\"Fisk University\", \"Southeast\", \"Large City\"], [\"Freed-Hardeman University\", \"Southeast\", \"Distant Town\"], [\"Johnson University\", \"Southeast\", \"Fringe Rural\"], [\"King University\", \"Southeast\", \"Small City\"], [\"Lane College\", \"Southeast\", \"Small City\"], [\"Le Moyne-Owen College\", \"Southeast\", \"Large City\"], [\"Lee University\", \"Southeast\", \"Small City\"], [\"Lincoln Memorial University\", \"Southeast\", \"Distant Town\"], [\"The University of Tennessee Southern\", \"Southeast\", \"Distant Town\"], [\"Maryville College\", \"Southeast\", \"Large Suburb\"], [\"University of Memphis\", \"Southeast\", \"Large City\"], [\"Middle Tennessee State University\", \"Southeast\", \"Midsize City\"], [\"Rhodes College\", \"Southeast\", \"Large City\"], [\"The University of the South\", \"Southeast\", \"Distant Rural\"], [\"Southern Adventist University\", \"Southeast\", \"Large Suburb\"], [\"Tennessee Wesleyan University\", \"Southeast\", \"Distant Town\"], [\"The University of Tennessee-Chattanooga\", \"Southeast\", \"Midsize City\"], [\"The University of Tennessee-Knoxville\", \"Southeast\", \"Midsize City\"], [\"The University of Tennessee-Martin\", \"Southeast\", \"Remote Town\"], [\"Tennessee State University\", \"Southeast\", \"Large City\"], [\"Tennessee Technological University\", \"Southeast\", \"Remote Town\"], [\"Trevecca Nazarene University\", \"Southeast\", \"Large City\"], [\"Tusculum University\", \"Southeast\", \"Distant Town\"], [\"Union University\", \"Southeast\", \"Small City\"], [\"Vanderbilt University\", \"Southeast\", \"Large City\"], [\"Abilene Christian University\", \"Southwest\", \"Midsize City\"], [\"Angelo State University\", \"Southwest\", \"Midsize City\"], [\"Austin College\", \"Southwest\", \"Small City\"], [\"Baylor University\", \"Southwest\", \"Midsize City\"], [\"Concordia University Texas\", \"Southwest\", \"Large City\"], [\"Texas A & M University-Corpus Christi\", \"Southwest\", \"Large City\"], [\"Dallas Baptist University\", \"Southwest\", \"Large City\"], [\"University of Dallas\", \"Southwest\", \"Midsize City\"], [\"East Texas Baptist University\", \"Southwest\", \"Distant Town\"], [\"Texas A&M University-Texarkana\", \"Southwest\", \"Fringe Rural\"], [\"Texas A & M University-Commerce\", \"Southwest\", \"Distant Town\"], [\"Hallmark University\", \"Southwest\", \"Large City\"], [\"Hardin-Simmons University\", \"Southwest\", \"Midsize City\"], [\"Houston Baptist University\", \"Southwest\", \"Large City\"], [\"University of Houston-Clear Lake\", \"Southwest\", \"Large Suburb\"], [\"University of Houston-Downtown\", \"Southwest\", \"Large City\"], [\"University of Houston-Victoria\", \"Southwest\", \"Small City\"], [\"University of Houston\", \"Southwest\", \"Large City\"], [\"Howard Payne University\", \"Southwest\", \"Remote Town\"], [\"Huston-Tillotson University\", \"Southwest\", \"Large City\"], [\"University of the Incarnate Word\", \"Southwest\", \"Large City\"], [\"Jarvis Christian College\", \"Southwest\", \"Distant Rural\"], [\"Lamar University\", \"Southwest\", \"Midsize City\"], [\"Texas A & M International University\", \"Southwest\", \"Large City\"], [\"LeTourneau University\", \"Southwest\", \"Small City\"], [\"Lubbock Christian University\", \"Southwest\", \"Large City\"], [\"University of Mary Hardin-Baylor\", \"Southwest\", \"Small Suburb\"], [\"McMurry University\", \"Southwest\", \"Midsize City\"], [\"Midwestern State University\", \"Southwest\", \"Midsize City\"], [\"University of North Texas\", \"Southwest\", \"Midsize City\"], [\"Our Lady of the Lake University\", \"Southwest\", \"Large City\"], [\"The University of Texas Rio Grande Valley\", \"Southwest\", \"Midsize City\"], [\"Prairie View A & M University\", \"Southwest\", \"Distant Town\"], [\"Rice University\", \"Southwest\", \"Large City\"], [\"Saint Edward's University\", \"Southwest\", \"Large City\"], [\"University of St Thomas\", \"Southwest\", \"Large City\"], [\"Sam Houston State University\", \"Southwest\", \"Distant Town\"], [\"Schreiner University\", \"Southwest\", \"Remote Town\"], [\"St. Mary's University\", \"Southwest\", \"Large City\"], [\"Southern Methodist University\", \"Southwest\", \"Large Suburb\"], [\"Southwestern Assemblies of God University\", \"Southwest\", \"Large Suburb\"], [\"Southwestern University\", \"Southwest\", \"Small City\"], [\"Stephen F Austin State University\", \"Southwest\", \"Remote Town\"], [\"Texas State University\", \"Southwest\", \"Small City\"], [\"Southwestern Adventist University\", \"Southwest\", \"Fringe Town\"], [\"Sul Ross State University\", \"Southwest\", \"Remote Town\"], [\"Tarleton State University\", \"Southwest\", \"Remote Town\"], [\"The University of Texas Health Science Center at San Antonio\", \"Southwest\", \"Large City\"], [\"The University of Texas Medical Branch at Galveston\", \"Southwest\", \"Fringe Town\"], [\"Texas A & M University-Kingsville\", \"Southwest\", \"Distant Town\"], [\"Texas A & M University-College Station\", \"Southwest\", \"Midsize City\"], [\"The University of Texas at Arlington\", \"Southwest\", \"Large City\"], [\"The University of Texas at Austin\", \"Southwest\", \"Large City\"], [\"The University of Texas at Dallas\", \"Southwest\", \"Midsize City\"], [\"The University of Texas at El Paso\", \"Southwest\", \"Large City\"], [\"The University of Texas at Tyler\", \"Southwest\", \"Midsize City\"], [\"Texas Christian University\", \"Southwest\", \"Large City\"], [\"Texas College\", \"Southwest\", \"Midsize City\"], [\"Texas Lutheran University\", \"Southwest\", \"Fringe Town\"], [\"The University of Texas Permian Basin\", \"Southwest\", \"Midsize City\"], [\"The University of Texas at San Antonio\", \"Southwest\", \"Large City\"], [\"Texas Southern University\", \"Southwest\", \"Large City\"], [\"Texas Tech University\", \"Southwest\", \"Large City\"], [\"Texas Wesleyan University\", \"Southwest\", \"Large City\"], [\"Texas Woman's University\", \"Southwest\", \"Midsize City\"], [\"Trinity University\", \"Southwest\", \"Large City\"], [\"The University of Texas Health Science Center at Houston\", \"Southwest\", \"Large City\"], [\"Texas Tech University Health Sciences Center\", \"Southwest\", \"Large City\"], [\"Wayland Baptist University\", \"Southwest\", \"Remote Town\"], [\"West Texas A & M University\", \"Southwest\", \"Fringe Town\"], [\"Wiley College\", \"Southwest\", \"Distant Town\"], [\"Brigham Young University\", \"Rocky Mountains\", \"Midsize City\"], [\"Brigham Young University-Hawaii\", \"Far West\", \"Fringe Town\"], [\"Dixie State University\", \"Rocky Mountains\", \"Small City\"], [\"Southern Utah University\", \"Rocky Mountains\", \"Remote Town\"], [\"Utah State University\", \"Rocky Mountains\", \"Small City\"], [\"Utah Valley University\", \"Rocky Mountains\", \"Small City\"], [\"University of Utah\", \"Rocky Mountains\", \"Midsize City\"], [\"Westminster College\", \"Rocky Mountains\", \"Midsize City\"], [\"Bennington College\", \"New Englend\", \"Distant Town\"], [\"Castleton University\", \"New Englend\", \"Distant Town\"], [\"Champlain College\", \"New Englend\", \"Small City\"], [\"Northern Vermont University\", \"New Englend\", \"Distant Rural\"], [\"Middlebury College\", \"New Englend\", \"Distant Town\"], [\"Norwich University\", \"New Englend\", \"Distant Town\"], [\"Saint Michael's College\", \"New Englend\", \"Midsize Suburb\"], [\"University of Vermont\", \"New Englend\", \"Small City\"], [\"Averett University\", \"Southeast\", \"Distant Town\"], [\"Bluefield University\", \"Southeast\", \"Distant Town\"], [\"Bridgewater College\", \"Southeast\", \"Small Suburb\"], [\"William & Mary\", \"Southeast\", \"Small Suburb\"], [\"Regent University\", \"Southeast\", \"Large City\"], [\"Christopher Newport University\", \"Southeast\", \"Midsize City\"], [\"Emory & Henry College\", \"Southeast\", \"Fringe Rural\"], [\"Eastern Mennonite University\", \"Southeast\", \"Small City\"], [\"Ferrum College\", \"Southeast\", \"Distant Rural\"], [\"George Mason University\", \"Southeast\", \"Large Suburb\"], [\"Hampden-Sydney College\", \"Southeast\", \"Distant Rural\"], [\"Hampton University\", \"Southeast\", \"Midsize City\"], [\"Hollins University\", \"Southeast\", \"Midsize Suburb\"], [\"James Madison University\", \"Southeast\", \"Small City\"], [\"Liberty University\", \"Southeast\", \"Small City\"], [\"Longwood University\", \"Southeast\", \"Remote Town\"], [\"University of Lynchburg\", \"Southeast\", \"Small City\"], [\"Mary Baldwin University\", \"Southeast\", \"Small City\"], [\"University of Mary Washington\", \"Southeast\", \"Midsize Suburb\"], [\"Marymount University\", \"Southeast\", \"Midsize City\"], [\"Norfolk State University\", \"Southeast\", \"Midsize City\"], [\"Old Dominion University\", \"Southeast\", \"Midsize City\"], [\"Radford University\", \"Southeast\", \"Small Suburb\"], [\"Randolph-Macon College\", \"Southeast\", \"Large Suburb\"], [\"University of Richmond\", \"Southeast\", \"Midsize City\"], [\"Roanoke College\", \"Southeast\", \"Midsize Suburb\"], [\"Shenandoah University\", \"Southeast\", \"Small City\"], [\"Southern Virginia University\", \"Southeast\", \"Distant Town\"], [\"University of Virginia's College at Wise\", \"Southeast\", \"Distant Town\"], [\"Virginia Polytechnic Institute and State University\", \"Southeast\", \"Small City\"], [\"Virginia Commonwealth University\", \"Southeast\", \"Midsize City\"], [\"University of Virginia-Main Campus\", \"Southeast\", \"Small Suburb\"], [\"Virginia Military Institute\", \"Southeast\", \"Distant Town\"], [\"Virginia State University\", \"Southeast\", \"Large Suburb\"], [\"Virginia Union University\", \"Southeast\", \"Midsize City\"], [\"Virginia Wesleyan University\", \"Southeast\", \"Large City\"], [\"Washington and Lee University\", \"Southeast\", \"Distant Town\"], [\"Central Washington University\", \"Far West\", \"Distant Town\"], [\"City University of Seattle\", \"Far West\", \"Large City\"], [\"Eastern Washington University\", \"Far West\", \"Fringe Town\"], [\"The Evergreen State College\", \"Far West\", \"Midsize Suburb\"], [\"Gonzaga University\", \"Far West\", \"Midsize City\"], [\"Heritage University\", \"Far West\", \"Fringe Rural\"], [\"Northwest University\", \"Far West\", \"Large Suburb\"], [\"Pacific Lutheran University\", \"Far West\", \"Large Suburb\"], [\"University of Puget Sound\", \"Far West\", \"Midsize City\"], [\"Saint Martin's University\", \"Far West\", \"Small City\"], [\"Seattle Pacific University\", \"Far West\", \"Large City\"], [\"Seattle University\", \"Far West\", \"Large City\"], [\"Walla Walla University\", \"Far West\", \"Small Suburb\"], [\"Washington State University\", \"Far West\", \"Distant Town\"], [\"University of Washington-Seattle Campus\", \"Far West\", \"Large City\"], [\"Western Washington University\", \"Far West\", \"Small City\"], [\"Whitman College\", \"Far West\", \"Small City\"], [\"Whitworth University\", \"Far West\", \"Large Suburb\"], [\"Alderson Broaddus University\", \"Southeast\", \"Distant Town\"], [\"Bethany College\", \"Southeast\", \"Fringe Rural\"], [\"Bluefield State College\", \"Southeast\", \"Distant Town\"], [\"University of Charleston\", \"Southeast\", \"Small City\"], [\"Concord University\", \"Southeast\", \"Distant Town\"], [\"Davis & Elkins College\", \"Southeast\", \"Remote Town\"], [\"Fairmont State University\", \"Southeast\", \"Distant Town\"], [\"Glenville State College\", \"Southeast\", \"Remote Town\"], [\"Marshall University\", \"Southeast\", \"Small City\"], [\"Shepherd University\", \"Southeast\", \"Fringe Town\"], [\"West Virginia State University\", \"Southeast\", \"Midsize Suburb\"], [\"West Liberty University\", \"Southeast\", \"Fringe Rural\"], [\"West Virginia University Institute of Technology\", \"Southeast\", \"Small City\"], [\"West Virginia Wesleyan College\", \"Southeast\", \"Remote Town\"], [\"West Virginia University\", \"Southeast\", \"Small City\"], [\"Wheeling University\", \"Southeast\", \"Small City\"], [\"Alverno College\", \"Great Lakes\", \"Large City\"], [\"Beloit College\", \"Great Lakes\", \"Small City\"], [\"Cardinal Stritch University\", \"Great Lakes\", \"Large Suburb\"], [\"Carroll University\", \"Great Lakes\", \"Small City\"], [\"Carthage College\", \"Great Lakes\", \"Midsize Suburb\"], [\"Concordia University-Wisconsin\", \"Great Lakes\", \"Large Suburb\"], [\"Edgewood College\", \"Great Lakes\", \"Large City\"], [\"Lakeland University\", \"Great Lakes\", \"Fringe Rural\"], [\"Lawrence University\", \"Great Lakes\", \"Small City\"], [\"Maranatha Baptist University\", \"Great Lakes\", \"Fringe Town\"], [\"Marian University\", \"Great Lakes\", \"Small City\"], [\"Marquette University\", \"Great Lakes\", \"Large City\"], [\"Milwaukee Institute of Art & Design\", \"Great Lakes\", \"Large City\"], [\"Milwaukee School of Engineering\", \"Great Lakes\", \"Large City\"], [\"Mount Mary University\", \"Great Lakes\", \"Large City\"], [\"Northland College\", \"Great Lakes\", \"Remote Town\"], [\"Ripon College\", \"Great Lakes\", \"Distant Town\"], [\"Saint Norbert College\", \"Great Lakes\", \"Midsize Suburb\"], [\"Viterbo University\", \"Great Lakes\", \"Small City\"], [\"University of Wisconsin-Whitewater\", \"Great Lakes\", \"Distant Town\"], [\"University of Wisconsin-Eau Claire\", \"Great Lakes\", \"Small City\"], [\"University of Wisconsin-Green Bay\", \"Great Lakes\", \"Midsize City\"], [\"University of Wisconsin-La Crosse\", \"Great Lakes\", \"Small City\"], [\"Wisconsin Lutheran College\", \"Great Lakes\", \"Large City\"], [\"University of Wisconsin-Oshkosh\", \"Great Lakes\", \"Small City\"], [\"University of Wisconsin-Parkside\", \"Great Lakes\", \"Midsize Suburb\"], [\"Herzing University-Madison\", \"Great Lakes\", \"Large City\"], [\"University of Wisconsin-Stout\", \"Great Lakes\", \"Distant Town\"], [\"University of Wisconsin-Superior\", \"Great Lakes\", \"Midsize Suburb\"], [\"University of Wisconsin-Madison\", \"Great Lakes\", \"Large City\"], [\"University of Wisconsin-Milwaukee\", \"Great Lakes\", \"Large City\"], [\"University of Wisconsin-Platteville\", \"Great Lakes\", \"Distant Town\"], [\"University of Wisconsin-River Falls\", \"Great Lakes\", \"Distant Town\"], [\"University of Wisconsin-Stevens Point\", \"Great Lakes\", \"Distant Town\"], [\"University of Wyoming\", \"Rocky Mountains\", \"Remote Town\"], [\"University of Guam\", \"Outlying\", \"Remote Town\"], [\"Universidad Adventista de las Antillas\", \"Outlying\", \"Midsize Suburb\"], [\"Atlantic University College\", \"Outlying\", \"Small City\"], [\"Universidad Central de Bayamon\", \"Outlying\", \"Midsize City\"], [\"Albizu University-San Juan\", \"Outlying\", \"Large City\"], [\"Caribbean University-Bayamon\", \"Outlying\", \"Midsize City\"], [\"Pontifical Catholic University of Puerto Rico-Ponce\", \"Outlying\", \"Midsize City\"], [\"Colegio Universitario de San Juan\", \"Outlying\", \"Large City\"], [\"Universidad Ana G. Mendez-Cupey Campus\", \"Outlying\", \"Large City\"], [\"Inter American University of Puerto Rico-San German\", \"Outlying\", \"Small City\"], [\"Inter American University of Puerto Rico-Aguadilla\", \"Outlying\", \"Large Suburb\"], [\"Inter American University of Puerto Rico-Arecibo\", \"Outlying\", \"Small City\"], [\"Inter American University of Puerto Rico-Barranquitas\", \"Outlying\", \"Large Suburb\"], [\"Inter American University of Puerto Rico-Metro\", \"Outlying\", \"Large City\"], [\"Inter American University of Puerto Rico-Ponce\", \"Outlying\", \"Midsize Suburb\"], [\"Inter American University of Puerto Rico-Fajardo\", \"Outlying\", \"Small Suburb\"], [\"Inter American University of Puerto Rico-Guayama\", \"Outlying\", \"Small City\"], [\"Inter American University of Puerto Rico-Bayamon\", \"Outlying\", \"Midsize City\"], [\"University of Puerto Rico-Aguadilla\", \"Outlying\", \"Large Suburb\"], [\"University of Puerto Rico-Arecibo\", \"Outlying\", \"Small City\"], [\"University of Puerto Rico-Bayamon\", \"Outlying\", \"Midsize City\"], [\"University of Puerto Rico-Carolina\", \"Outlying\", \"Large Suburb\"], [\"University of Puerto Rico-Cayey\", \"Outlying\", \"Large Suburb\"], [\"University of Puerto Rico-Humacao\", \"Outlying\", \"Large Suburb\"], [\"University of Puerto Rico-Mayaguez\", \"Outlying\", \"Small City\"], [\"University of Puerto Rico at Ponce\", \"Outlying\", \"Midsize City\"], [\"University of Puerto Rico-Rio Piedras\", \"Outlying\", \"Large City\"], [\"Universidad Ana G. Mendez-Carolina Campus\", \"Outlying\", \"Large Suburb\"], [\"Universidad del Sagrado Corazon\", \"Outlying\", \"Large City\"], [\"Universidad Politecnica de Puerto Rico\", \"Outlying\", \"Large City\"], [\"Pontifical Catholic University of Puerto Rico-Mayaguez\", \"Outlying\", \"Small City\"], [\"Universidad Ana G. Mendez-Gurabo Campus\", \"Outlying\", \"Large Suburb\"], [\"University of the Virgin Islands\", \"Outlying\", \"Remote Town\"], [\"Stanford University\", \"Far West\", \"Large Suburb\"], [\"Purdue University-Main Campus\", \"Great Lakes\", \"Small City\"], [\"Mid-America Christian University\", \"Southwest\", \"Large City\"], [\"UMass Global\", \"Far West\", \"Large City\"], [\"New College of Florida\", \"Southeast\", \"Small City\"], [\"California State University-San Marcos\", \"Far West\", \"Large Suburb\"], [\"Hodges University\", \"Southeast\", \"Small City\"], [\"University of Washington-Bothell Campus\", \"Far West\", \"Large Suburb\"], [\"University of Washington-Tacoma Campus\", \"Far West\", \"Midsize City\"], [\"Everglades University\", \"Southeast\", \"Small City\"], [\"California State University-Monterey Bay\", \"Far West\", \"Midsize Suburb\"], [\"Johnson & Wales University-North Miami\", \"Southeast\", \"Large Suburb\"], [\"Embry-Riddle Aeronautical University-Worldwide\", \"Southeast\", \"Small City\"], [\"Western Governors University\", \"Rocky Mountains\", \"Large Suburb\"], [\"Florida Gulf Coast University\", \"Southeast\", \"Large Suburb\"], [\"Nevada State College\", \"Far West\", \"Fringe Rural\"], [\"California State University-Channel Islands\", \"Far West\", \"Midsize Suburb\"], [\"University of California-Merced\", \"Far West\", \"Fringe Rural\"], [\"Central Methodist University-College of Graduate and Extended Studies\", \"Plains\", \"Distant Town\"], [\"Johnson & Wales University-Charlotte\", \"Southeast\", \"Large City\"], [\"Roseman University of Health Sciences\", \"Far West\", \"Large City\"], [\"Ave Maria University\", \"Southeast\", \"Distant Rural\"], [\"Uta Mesivta of Kiryas Joel\", \"Mid East\", \"Large Suburb\"], [\"Harrisburg University of Science and Technology\", \"Mid East\", \"Small City\"], [\"Georgia Gwinnett College\", \"Southeast\", \"Large Suburb\"], [\"University of Minnesota-Rochester\", \"Plains\", \"Midsize City\"], [\"Herzing University-Kenosha\", \"Great Lakes\", \"Midsize Suburb\"], [\"Texas A&M University-San Antonio\", \"Southwest\", \"Fringe Rural\"], [\"Johnson & Wales University-Online\", \"New Englend\", \"Midsize City\"], [\"Los Angeles Pacific University\", \"Far West\", \"Large Suburb\"], [\"Be'er Yaakov Talmudic Seminary\", \"Mid East\", \"Large Suburb\"], [\"Colorado State University-Global Campus\", \"Rocky Mountains\", \"Large City\"], [\"Florida Institute of Technology-Online\", \"Southeast\", \"Small City\"], [\"Augusta University\", \"Southeast\", \"Midsize City\"], [\"Middle Georgia State University\", \"Southeast\", \"Midsize City\"], [\"University of North Georgia\", \"Southeast\", \"Distant Town\"], [\"Northeastern University Professional Programs\", \"New Englend\", \"Large City\"], [\"Florida Polytechnic University\", \"Southeast\", \"Fringe Rural\"], [\"Texas A&M University-Central Texas\", \"Southwest\", \"Fringe Rural\"], [\"Arizona State University Digital Immersion\", \"Southwest\", \"Large City\"], [\"Ana G. Mendez University\", \"Southeast\", \"Large City\"], [\"University of Florida-Online\", \"Southeast\", \"Midsize City\"], [\"University of North Texas at Dallas\", \"Southwest\", \"Large City\"], [\"Kennesaw State University\", \"Southeast\", \"Large Suburb\"], [\"Milligan University\", \"Southeast\", \"Midsize Suburb\"], [\"Husson University\", \"New Englend\", \"Small City\"], [\"Northwest University-Center for Online and Extended Education\", \"Far West\", \"Large Suburb\"], [\"Indiana Wesleyan University-National & Global\", \"Great Lakes\", \"Fringe Rural\"], [\"Purdue University Global\", \"Great Lakes\", \"Large City\"], [\"Purdue University Northwest\", \"Great Lakes\", \"Large Suburb\"], [\"University of Wisconsin-Milwaukee Flex\", \"Great Lakes\", \"Large City\"]];\n",
       "        // Display the table\n",
       "        $(document).ready(function () {\n",
       "            window.initializeDataTable().then(() => {\n",
       "\n",
       "                // Define the dt_args\n",
       "                let dt_args = {\"order\": []};\n",
       "                dt_args[\"data\"] = data;\n",
       "\n",
       "                \n",
       "                $('#eab0fa85-20ef-4b0a-b2a6-477cd8356ba2').DataTable(dt_args);\n",
       "            });\n",
       "        })\n",
       "    }\n",
       "</script>\n",
       "</div>\n"
      ],
      "text/plain": [
       "                                                               name  \\\n",
       "0                                          Alabama A & M University   \n",
       "1                               University of Alabama at Birmingham   \n",
       "2                               University of Alabama in Huntsville   \n",
       "3                                          Alabama State University   \n",
       "4                                         The University of Alabama   \n",
       "...                                                             ...   \n",
       "1473  Northwest University-Center for Online and Extended Education   \n",
       "1474                  Indiana Wesleyan University-National & Global   \n",
       "1475                                       Purdue University Global   \n",
       "1476                                    Purdue University Northwest   \n",
       "1477                         University of Wisconsin-Milwaukee Flex   \n",
       "\n",
       "        region_id        locale  \n",
       "0       Southeast  Midsize City  \n",
       "1       Southeast  Midsize City  \n",
       "2       Southeast  Midsize City  \n",
       "3       Southeast  Midsize City  \n",
       "4       Southeast  Midsize City  \n",
       "...           ...           ...  \n",
       "1473     Far West  Large Suburb  \n",
       "1474  Great Lakes  Fringe Rural  \n",
       "1475  Great Lakes    Large City  \n",
       "1476  Great Lakes  Large Suburb  \n",
       "1477  Great Lakes    Large City  \n",
       "\n",
       "[1478 rows x 3 columns]"
      ]
     },
     "execution_count": 68,
     "metadata": {},
     "output_type": "execute_result"
    }
   ],
   "source": [
    "regionMap = {0:\"U.S. Service Schools\",1:\"New Englend\",2:\"Mid East\",3:\"Great Lakes\",4:\"Plains\",5:\"Southeast\",6:\"Southwest\",7:\"Rocky Mountains\",8:\"Far West\",9:\"Outlying\"}\n",
    "df['region_id'] = df['region_id'].map(regionMap)\n",
    "localeMap = {11:'Large City',12:'Midsize City',13:'Small City',21:'Large Suburb',22:'Midsize Suburb',23:'Small Suburb',\n",
    "             31:'Fringe Town',32:'Distant Town',33:'Remote Town',41:'Fringe Rural',42:'Distant Rural',43:'Remote Rural'}\n",
    "df['locale'] = df['locale'].map(localeMap)\n",
    "df[['name','region_id','locale']]"
   ]
  },
  {
   "cell_type": "code",
   "execution_count": null,
   "id": "d3059cd1-e220-47a5-8fc2-2a849634c4b0",
   "metadata": {},
   "outputs": [],
   "source": []
  }
 ],
 "metadata": {
  "kernelspec": {
   "display_name": "Python 3 (ipykernel)",
   "language": "python",
   "name": "python3"
  },
  "language_info": {
   "codemirror_mode": {
    "name": "ipython",
    "version": 3
   },
   "file_extension": ".py",
   "mimetype": "text/x-python",
   "name": "python",
   "nbconvert_exporter": "python",
   "pygments_lexer": "ipython3",
   "version": "3.11.4"
  },
  "vscode": {
   "interpreter": {
    "hash": "3247f7d4635bb288d9e06d3deacee818856115b2677ccfdf5a578edab993fe5f"
   }
  }
 },
 "nbformat": 4,
 "nbformat_minor": 5
}
